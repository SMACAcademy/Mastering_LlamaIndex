{
 "cells": [
  {
   "cell_type": "code",
   "execution_count": 94,
   "metadata": {},
   "outputs": [],
   "source": [
    "from llama_index.core import Document"
   ]
  },
  {
   "cell_type": "code",
   "execution_count": 95,
   "metadata": {},
   "outputs": [],
   "source": [
    "document = Document(\n",
    "    text=\"Sample text\",\n",
    "    metadata={\"filename\": \"sample_file.txt\", \"category\": \"research\"}\n",
    ")"
   ]
  },
  {
   "cell_type": "code",
   "execution_count": 96,
   "metadata": {},
   "outputs": [
    {
     "data": {
      "text/plain": [
       "Document(id_='a492b58f-af7a-4244-a21d-c40b9b4ae1a8', embedding=None, metadata={'filename': 'sample_file.txt', 'category': 'research'}, excluded_embed_metadata_keys=[], excluded_llm_metadata_keys=[], relationships={}, text='Sample text', mimetype='text/plain', start_char_idx=None, end_char_idx=None, text_template='{metadata_str}\\n\\n{content}', metadata_template='{key}: {value}', metadata_seperator='\\n')"
      ]
     },
     "execution_count": 96,
     "metadata": {},
     "output_type": "execute_result"
    }
   ],
   "source": [
    "document"
   ]
  },
  {
   "cell_type": "code",
   "execution_count": 97,
   "metadata": {},
   "outputs": [],
   "source": [
    "document.metadata = {\"filename\": \"updated_file.txt\", \"category\": \"finance\"}"
   ]
  },
  {
   "cell_type": "code",
   "execution_count": 98,
   "metadata": {},
   "outputs": [
    {
     "data": {
      "text/plain": [
       "Document(id_='a492b58f-af7a-4244-a21d-c40b9b4ae1a8', embedding=None, metadata={'filename': 'updated_file.txt', 'category': 'finance'}, excluded_embed_metadata_keys=[], excluded_llm_metadata_keys=[], relationships={}, text='Sample text', mimetype='text/plain', start_char_idx=None, end_char_idx=None, text_template='{metadata_str}\\n\\n{content}', metadata_template='{key}: {value}', metadata_seperator='\\n')"
      ]
     },
     "execution_count": 98,
     "metadata": {},
     "output_type": "execute_result"
    }
   ],
   "source": [
    "document"
   ]
  },
  {
   "cell_type": "code",
   "execution_count": 99,
   "metadata": {},
   "outputs": [
    {
     "name": "stderr",
     "output_type": "stream",
     "text": [
      "Loading files: 100%|██████████| 6/6 [00:05<00:00,  1.19file/s]\n"
     ]
    }
   ],
   "source": [
    "from llama_index.core import SimpleDirectoryReader\n",
    "\n",
    "filename_fn = lambda filename: {\"file_name\": filename}\n",
    "filename_documents = SimpleDirectoryReader('../data/',recursive=True,file_metadata=filename_fn).load_data(show_progress=True)"
   ]
  },
  {
   "cell_type": "code",
   "execution_count": 102,
   "metadata": {},
   "outputs": [
    {
     "data": {
      "text/plain": [
       "133"
      ]
     },
     "execution_count": 102,
     "metadata": {},
     "output_type": "execute_result"
    }
   ],
   "source": [
    "len(documents)"
   ]
  },
  {
   "cell_type": "code",
   "execution_count": 100,
   "metadata": {},
   "outputs": [
    {
     "data": {
      "text/plain": [
       "Document(id_='9821c285-db5f-4021-b27e-d63f158b76be', embedding=None, metadata={'page_label': '1', 'file_name': 'e:\\\\Learn2\\\\workspace2\\\\git_area\\\\Mastering_LlamaIndex\\\\2-Stage-Loading\\\\..\\\\data\\\\2022 Q3 AAPL.pdf'}, excluded_embed_metadata_keys=['file_name', 'file_type', 'file_size', 'creation_date', 'last_modified_date', 'last_accessed_date'], excluded_llm_metadata_keys=['file_name', 'file_type', 'file_size', 'creation_date', 'last_modified_date', 'last_accessed_date'], relationships={}, text='UNITED STATES\\nSECURITIES AND EXCHANGE COMMISSION\\nWashington, D.C. 20549\\nFORM 10-Q\\n(Mark One)\\n☒  QUARTERLY REPORT PURSUANT TO SECTION 13 OR 15(d) OF THE SECURITIES EXCHANGE ACT OF 1934\\nFor the quarterly period ended June 25, 2022\\nor\\n☐  TRANSITION REPORT PURSUANT TO SECTION 13 OR 15(d) OF THE SECURITIES EXCHANGE ACT OF 1934\\nFor the transition period from              to             .\\nCommission File Number: 001-36743\\nApple Inc.\\n(Exact name of Registrant as specified in its charter)\\nCalifornia 94-2404110\\n(State or other jurisdictionof incorporation or organization) (I.R.S. Employer Identification No.)\\nOne Apple Park Way\\nCupertino, California 95014\\n(Address of principal executive offices) (Zip Code)\\n(408) 996-1010\\n(Registrant’s telephone number, including area code)\\nSecurities registered pursuant to Section 12(b) of the Act:\\nTitle of each class Trading symbol(s) Name of each exchange on which registered\\nCommon Stock, $0.00001 par value per shareAAPL The Nasdaq Stock Market LLC\\n1.000% Notes due 2022 — The Nasdaq Stock Market LLC\\n1.375% Notes due 2024 — The Nasdaq Stock Market LLC\\n0.000% Notes due 2025 — The Nasdaq Stock Market LLC\\n0.875% Notes due 2025 — The Nasdaq Stock Market LLC\\n1.625% Notes due 2026 — The Nasdaq Stock Market LLC\\n2.000% Notes due 2027 — The Nasdaq Stock Market LLC\\n1.375% Notes due 2029 — The Nasdaq Stock Market LLC\\n3.050% Notes due 2029 — The Nasdaq Stock Market LLC\\n0.500% Notes due 2031 — The Nasdaq Stock Market LLC\\n3.600% Notes due 2042 — The Nasdaq Stock Market LLC\\nIndicate by check mark whether the Registrant (1) has filed all reports required to be filed by Section 13 or 15(d) of the Securities Exchange Act of 1934 during the preceding 12\\nmonths (or for such shorter period that the Registrant was required to file such reports), and (2) has been subject to such filing requirements for the past 90 days.\\nYes  ☒      No  ☐ \\nIndicate by check mark whether the Registrant has submitted electronically every Interactive Data File required to be submitted pursuant to Rule 405 of Regulation S-T (§232.405 of\\nthis chapter) during the preceding 12 months (or for such shorter period that the Registrant was required to submit such files).\\nYes  ☒      No  ☐ \\nIndicate by check mark whether the Registrant is a large accelerated filer, an accelerated filer, a non-accelerated filer, a smaller reporting company, or an emerging growth company.See the definitions of “large accelerated filer,” “accelerated filer,” “smaller reporting company,” and “emerging growth company” in Rule 12b-2 of the Exchange Act.\\nLarge accelerated filer ☒ Accelerated filer ☐ \\nNon-accelerated filer ☐ Smaller reporting company ☐ \\nEmerging growth company ☐ ', mimetype='text/plain', start_char_idx=None, end_char_idx=None, text_template='{metadata_str}\\n\\n{content}', metadata_template='{key}: {value}', metadata_seperator='\\n')"
      ]
     },
     "execution_count": 100,
     "metadata": {},
     "output_type": "execute_result"
    }
   ],
   "source": [
    "filename_documents[0]"
   ]
  },
  {
   "cell_type": "code",
   "execution_count": 101,
   "metadata": {},
   "outputs": [
    {
     "data": {
      "text/plain": [
       "{'page_label': '1',\n",
       " 'file_name': 'e:\\\\Learn2\\\\workspace2\\\\git_area\\\\Mastering_LlamaIndex\\\\2-Stage-Loading\\\\..\\\\data\\\\2022 Q3 AAPL.pdf'}"
      ]
     },
     "execution_count": 101,
     "metadata": {},
     "output_type": "execute_result"
    }
   ],
   "source": [
    "filename_documents[0].metadata"
   ]
  },
  {
   "cell_type": "code",
   "execution_count": 103,
   "metadata": {},
   "outputs": [],
   "source": [
    "from llama_index.core import SimpleDirectoryReader\n",
    "\n",
    "file_as_id_documents = SimpleDirectoryReader(\"../data/\", filename_as_id=True).load_data()"
   ]
  },
  {
   "cell_type": "code",
   "execution_count": 104,
   "metadata": {},
   "outputs": [
    {
     "data": {
      "text/plain": [
       "Document(id_='e:\\\\Learn2\\\\workspace2\\\\git_area\\\\Mastering_LlamaIndex\\\\2-Stage-Loading\\\\..\\\\data\\\\2022 Q3 AAPL.pdf_part_0', embedding=None, metadata={'page_label': '1', 'file_name': '2022 Q3 AAPL.pdf', 'file_path': 'e:\\\\Learn2\\\\workspace2\\\\git_area\\\\Mastering_LlamaIndex\\\\2-Stage-Loading\\\\..\\\\data\\\\2022 Q3 AAPL.pdf', 'file_type': 'application/pdf', 'file_size': 266240, 'creation_date': '2024-11-13', 'last_modified_date': '2024-11-13'}, excluded_embed_metadata_keys=['file_name', 'file_type', 'file_size', 'creation_date', 'last_modified_date', 'last_accessed_date'], excluded_llm_metadata_keys=['file_name', 'file_type', 'file_size', 'creation_date', 'last_modified_date', 'last_accessed_date'], relationships={}, text='UNITED STATES\\nSECURITIES AND EXCHANGE COMMISSION\\nWashington, D.C. 20549\\nFORM 10-Q\\n(Mark One)\\n☒  QUARTERLY REPORT PURSUANT TO SECTION 13 OR 15(d) OF THE SECURITIES EXCHANGE ACT OF 1934\\nFor the quarterly period ended June 25, 2022\\nor\\n☐  TRANSITION REPORT PURSUANT TO SECTION 13 OR 15(d) OF THE SECURITIES EXCHANGE ACT OF 1934\\nFor the transition period from              to             .\\nCommission File Number: 001-36743\\nApple Inc.\\n(Exact name of Registrant as specified in its charter)\\nCalifornia 94-2404110\\n(State or other jurisdictionof incorporation or organization) (I.R.S. Employer Identification No.)\\nOne Apple Park Way\\nCupertino, California 95014\\n(Address of principal executive offices) (Zip Code)\\n(408) 996-1010\\n(Registrant’s telephone number, including area code)\\nSecurities registered pursuant to Section 12(b) of the Act:\\nTitle of each class Trading symbol(s) Name of each exchange on which registered\\nCommon Stock, $0.00001 par value per shareAAPL The Nasdaq Stock Market LLC\\n1.000% Notes due 2022 — The Nasdaq Stock Market LLC\\n1.375% Notes due 2024 — The Nasdaq Stock Market LLC\\n0.000% Notes due 2025 — The Nasdaq Stock Market LLC\\n0.875% Notes due 2025 — The Nasdaq Stock Market LLC\\n1.625% Notes due 2026 — The Nasdaq Stock Market LLC\\n2.000% Notes due 2027 — The Nasdaq Stock Market LLC\\n1.375% Notes due 2029 — The Nasdaq Stock Market LLC\\n3.050% Notes due 2029 — The Nasdaq Stock Market LLC\\n0.500% Notes due 2031 — The Nasdaq Stock Market LLC\\n3.600% Notes due 2042 — The Nasdaq Stock Market LLC\\nIndicate by check mark whether the Registrant (1) has filed all reports required to be filed by Section 13 or 15(d) of the Securities Exchange Act of 1934 during the preceding 12\\nmonths (or for such shorter period that the Registrant was required to file such reports), and (2) has been subject to such filing requirements for the past 90 days.\\nYes  ☒      No  ☐ \\nIndicate by check mark whether the Registrant has submitted electronically every Interactive Data File required to be submitted pursuant to Rule 405 of Regulation S-T (§232.405 of\\nthis chapter) during the preceding 12 months (or for such shorter period that the Registrant was required to submit such files).\\nYes  ☒      No  ☐ \\nIndicate by check mark whether the Registrant is a large accelerated filer, an accelerated filer, a non-accelerated filer, a smaller reporting company, or an emerging growth company.See the definitions of “large accelerated filer,” “accelerated filer,” “smaller reporting company,” and “emerging growth company” in Rule 12b-2 of the Exchange Act.\\nLarge accelerated filer ☒ Accelerated filer ☐ \\nNon-accelerated filer ☐ Smaller reporting company ☐ \\nEmerging growth company ☐ ', mimetype='text/plain', start_char_idx=None, end_char_idx=None, text_template='{metadata_str}\\n\\n{content}', metadata_template='{key}: {value}', metadata_seperator='\\n')"
      ]
     },
     "execution_count": 104,
     "metadata": {},
     "output_type": "execute_result"
    }
   ],
   "source": [
    "file_as_id_documents[0]"
   ]
  },
  {
   "cell_type": "code",
   "execution_count": 105,
   "metadata": {},
   "outputs": [
    {
     "name": "stdout",
     "output_type": "stream",
     "text": [
      "['e:\\\\Learn2\\\\workspace2\\\\git_area\\\\Mastering_LlamaIndex\\\\2-Stage-Loading\\\\..\\\\data\\\\2022 Q3 AAPL.pdf_part_0', 'e:\\\\Learn2\\\\workspace2\\\\git_area\\\\Mastering_LlamaIndex\\\\2-Stage-Loading\\\\..\\\\data\\\\2022 Q3 AAPL.pdf_part_1', 'e:\\\\Learn2\\\\workspace2\\\\git_area\\\\Mastering_LlamaIndex\\\\2-Stage-Loading\\\\..\\\\data\\\\2022 Q3 AAPL.pdf_part_2', 'e:\\\\Learn2\\\\workspace2\\\\git_area\\\\Mastering_LlamaIndex\\\\2-Stage-Loading\\\\..\\\\data\\\\2022 Q3 AAPL.pdf_part_3', 'e:\\\\Learn2\\\\workspace2\\\\git_area\\\\Mastering_LlamaIndex\\\\2-Stage-Loading\\\\..\\\\data\\\\2022 Q3 AAPL.pdf_part_4', 'e:\\\\Learn2\\\\workspace2\\\\git_area\\\\Mastering_LlamaIndex\\\\2-Stage-Loading\\\\..\\\\data\\\\2022 Q3 AAPL.pdf_part_5', 'e:\\\\Learn2\\\\workspace2\\\\git_area\\\\Mastering_LlamaIndex\\\\2-Stage-Loading\\\\..\\\\data\\\\2022 Q3 AAPL.pdf_part_6', 'e:\\\\Learn2\\\\workspace2\\\\git_area\\\\Mastering_LlamaIndex\\\\2-Stage-Loading\\\\..\\\\data\\\\2022 Q3 AAPL.pdf_part_7', 'e:\\\\Learn2\\\\workspace2\\\\git_area\\\\Mastering_LlamaIndex\\\\2-Stage-Loading\\\\..\\\\data\\\\2022 Q3 AAPL.pdf_part_8', 'e:\\\\Learn2\\\\workspace2\\\\git_area\\\\Mastering_LlamaIndex\\\\2-Stage-Loading\\\\..\\\\data\\\\2022 Q3 AAPL.pdf_part_9', 'e:\\\\Learn2\\\\workspace2\\\\git_area\\\\Mastering_LlamaIndex\\\\2-Stage-Loading\\\\..\\\\data\\\\2022 Q3 AAPL.pdf_part_10', 'e:\\\\Learn2\\\\workspace2\\\\git_area\\\\Mastering_LlamaIndex\\\\2-Stage-Loading\\\\..\\\\data\\\\2022 Q3 AAPL.pdf_part_11', 'e:\\\\Learn2\\\\workspace2\\\\git_area\\\\Mastering_LlamaIndex\\\\2-Stage-Loading\\\\..\\\\data\\\\2022 Q3 AAPL.pdf_part_12', 'e:\\\\Learn2\\\\workspace2\\\\git_area\\\\Mastering_LlamaIndex\\\\2-Stage-Loading\\\\..\\\\data\\\\2022 Q3 AAPL.pdf_part_13', 'e:\\\\Learn2\\\\workspace2\\\\git_area\\\\Mastering_LlamaIndex\\\\2-Stage-Loading\\\\..\\\\data\\\\2022 Q3 AAPL.pdf_part_14', 'e:\\\\Learn2\\\\workspace2\\\\git_area\\\\Mastering_LlamaIndex\\\\2-Stage-Loading\\\\..\\\\data\\\\2022 Q3 AAPL.pdf_part_15', 'e:\\\\Learn2\\\\workspace2\\\\git_area\\\\Mastering_LlamaIndex\\\\2-Stage-Loading\\\\..\\\\data\\\\2022 Q3 AAPL.pdf_part_16', 'e:\\\\Learn2\\\\workspace2\\\\git_area\\\\Mastering_LlamaIndex\\\\2-Stage-Loading\\\\..\\\\data\\\\2022 Q3 AAPL.pdf_part_17', 'e:\\\\Learn2\\\\workspace2\\\\git_area\\\\Mastering_LlamaIndex\\\\2-Stage-Loading\\\\..\\\\data\\\\2022 Q3 AAPL.pdf_part_18', 'e:\\\\Learn2\\\\workspace2\\\\git_area\\\\Mastering_LlamaIndex\\\\2-Stage-Loading\\\\..\\\\data\\\\2022 Q3 AAPL.pdf_part_19', 'e:\\\\Learn2\\\\workspace2\\\\git_area\\\\Mastering_LlamaIndex\\\\2-Stage-Loading\\\\..\\\\data\\\\2022 Q3 AAPL.pdf_part_20', 'e:\\\\Learn2\\\\workspace2\\\\git_area\\\\Mastering_LlamaIndex\\\\2-Stage-Loading\\\\..\\\\data\\\\2022 Q3 AAPL.pdf_part_21', 'e:\\\\Learn2\\\\workspace2\\\\git_area\\\\Mastering_LlamaIndex\\\\2-Stage-Loading\\\\..\\\\data\\\\2022 Q3 AAPL.pdf_part_22', 'e:\\\\Learn2\\\\workspace2\\\\git_area\\\\Mastering_LlamaIndex\\\\2-Stage-Loading\\\\..\\\\data\\\\2022 Q3 AAPL.pdf_part_23', 'e:\\\\Learn2\\\\workspace2\\\\git_area\\\\Mastering_LlamaIndex\\\\2-Stage-Loading\\\\..\\\\data\\\\2022 Q3 AAPL.pdf_part_24', 'e:\\\\Learn2\\\\workspace2\\\\git_area\\\\Mastering_LlamaIndex\\\\2-Stage-Loading\\\\..\\\\data\\\\2022 Q3 AAPL.pdf_part_25', 'e:\\\\Learn2\\\\workspace2\\\\git_area\\\\Mastering_LlamaIndex\\\\2-Stage-Loading\\\\..\\\\data\\\\2022 Q3 AAPL.pdf_part_26', 'e:\\\\Learn2\\\\workspace2\\\\git_area\\\\Mastering_LlamaIndex\\\\2-Stage-Loading\\\\..\\\\data\\\\2022 Q3 AAPL.pdf_part_27', 'e:\\\\Learn2\\\\workspace2\\\\git_area\\\\Mastering_LlamaIndex\\\\2-Stage-Loading\\\\..\\\\data\\\\2023 Q1 AAPL.pdf_part_0', 'e:\\\\Learn2\\\\workspace2\\\\git_area\\\\Mastering_LlamaIndex\\\\2-Stage-Loading\\\\..\\\\data\\\\2023 Q1 AAPL.pdf_part_1', 'e:\\\\Learn2\\\\workspace2\\\\git_area\\\\Mastering_LlamaIndex\\\\2-Stage-Loading\\\\..\\\\data\\\\2023 Q1 AAPL.pdf_part_2', 'e:\\\\Learn2\\\\workspace2\\\\git_area\\\\Mastering_LlamaIndex\\\\2-Stage-Loading\\\\..\\\\data\\\\2023 Q1 AAPL.pdf_part_3', 'e:\\\\Learn2\\\\workspace2\\\\git_area\\\\Mastering_LlamaIndex\\\\2-Stage-Loading\\\\..\\\\data\\\\2023 Q1 AAPL.pdf_part_4', 'e:\\\\Learn2\\\\workspace2\\\\git_area\\\\Mastering_LlamaIndex\\\\2-Stage-Loading\\\\..\\\\data\\\\2023 Q1 AAPL.pdf_part_5', 'e:\\\\Learn2\\\\workspace2\\\\git_area\\\\Mastering_LlamaIndex\\\\2-Stage-Loading\\\\..\\\\data\\\\2023 Q1 AAPL.pdf_part_6', 'e:\\\\Learn2\\\\workspace2\\\\git_area\\\\Mastering_LlamaIndex\\\\2-Stage-Loading\\\\..\\\\data\\\\2023 Q1 AAPL.pdf_part_7', 'e:\\\\Learn2\\\\workspace2\\\\git_area\\\\Mastering_LlamaIndex\\\\2-Stage-Loading\\\\..\\\\data\\\\2023 Q1 AAPL.pdf_part_8', 'e:\\\\Learn2\\\\workspace2\\\\git_area\\\\Mastering_LlamaIndex\\\\2-Stage-Loading\\\\..\\\\data\\\\2023 Q1 AAPL.pdf_part_9', 'e:\\\\Learn2\\\\workspace2\\\\git_area\\\\Mastering_LlamaIndex\\\\2-Stage-Loading\\\\..\\\\data\\\\2023 Q1 AAPL.pdf_part_10', 'e:\\\\Learn2\\\\workspace2\\\\git_area\\\\Mastering_LlamaIndex\\\\2-Stage-Loading\\\\..\\\\data\\\\2023 Q1 AAPL.pdf_part_11', 'e:\\\\Learn2\\\\workspace2\\\\git_area\\\\Mastering_LlamaIndex\\\\2-Stage-Loading\\\\..\\\\data\\\\2023 Q1 AAPL.pdf_part_12', 'e:\\\\Learn2\\\\workspace2\\\\git_area\\\\Mastering_LlamaIndex\\\\2-Stage-Loading\\\\..\\\\data\\\\2023 Q1 AAPL.pdf_part_13', 'e:\\\\Learn2\\\\workspace2\\\\git_area\\\\Mastering_LlamaIndex\\\\2-Stage-Loading\\\\..\\\\data\\\\2023 Q1 AAPL.pdf_part_14', 'e:\\\\Learn2\\\\workspace2\\\\git_area\\\\Mastering_LlamaIndex\\\\2-Stage-Loading\\\\..\\\\data\\\\2023 Q1 AAPL.pdf_part_15', 'e:\\\\Learn2\\\\workspace2\\\\git_area\\\\Mastering_LlamaIndex\\\\2-Stage-Loading\\\\..\\\\data\\\\2023 Q1 AAPL.pdf_part_16', 'e:\\\\Learn2\\\\workspace2\\\\git_area\\\\Mastering_LlamaIndex\\\\2-Stage-Loading\\\\..\\\\data\\\\2023 Q1 AAPL.pdf_part_17', 'e:\\\\Learn2\\\\workspace2\\\\git_area\\\\Mastering_LlamaIndex\\\\2-Stage-Loading\\\\..\\\\data\\\\2023 Q1 AAPL.pdf_part_18', 'e:\\\\Learn2\\\\workspace2\\\\git_area\\\\Mastering_LlamaIndex\\\\2-Stage-Loading\\\\..\\\\data\\\\2023 Q1 AAPL.pdf_part_19', 'e:\\\\Learn2\\\\workspace2\\\\git_area\\\\Mastering_LlamaIndex\\\\2-Stage-Loading\\\\..\\\\data\\\\2023 Q1 AAPL.pdf_part_20', 'e:\\\\Learn2\\\\workspace2\\\\git_area\\\\Mastering_LlamaIndex\\\\2-Stage-Loading\\\\..\\\\data\\\\2023 Q1 AAPL.pdf_part_21', 'e:\\\\Learn2\\\\workspace2\\\\git_area\\\\Mastering_LlamaIndex\\\\2-Stage-Loading\\\\..\\\\data\\\\2023 Q1 AAPL.pdf_part_22', 'e:\\\\Learn2\\\\workspace2\\\\git_area\\\\Mastering_LlamaIndex\\\\2-Stage-Loading\\\\..\\\\data\\\\2023 Q1 AAPL.pdf_part_23', 'e:\\\\Learn2\\\\workspace2\\\\git_area\\\\Mastering_LlamaIndex\\\\2-Stage-Loading\\\\..\\\\data\\\\2023 Q1 AAPL.pdf_part_24', 'e:\\\\Learn2\\\\workspace2\\\\git_area\\\\Mastering_LlamaIndex\\\\2-Stage-Loading\\\\..\\\\data\\\\2023 Q1 AAPL.pdf_part_25', 'e:\\\\Learn2\\\\workspace2\\\\git_area\\\\Mastering_LlamaIndex\\\\2-Stage-Loading\\\\..\\\\data\\\\2023 Q1 AAPL.pdf_part_26', 'e:\\\\Learn2\\\\workspace2\\\\git_area\\\\Mastering_LlamaIndex\\\\2-Stage-Loading\\\\..\\\\data\\\\2023 Q1 AAPL.pdf_part_27', 'e:\\\\Learn2\\\\workspace2\\\\git_area\\\\Mastering_LlamaIndex\\\\2-Stage-Loading\\\\..\\\\data\\\\2023 Q1 AAPL.pdf_part_28', 'e:\\\\Learn2\\\\workspace2\\\\git_area\\\\Mastering_LlamaIndex\\\\2-Stage-Loading\\\\..\\\\data\\\\2023 Q1 AAPL.pdf_part_29', 'e:\\\\Learn2\\\\workspace2\\\\git_area\\\\Mastering_LlamaIndex\\\\2-Stage-Loading\\\\..\\\\data\\\\2023 Q1 AAPL.pdf_part_30', 'e:\\\\Learn2\\\\workspace2\\\\git_area\\\\Mastering_LlamaIndex\\\\2-Stage-Loading\\\\..\\\\data\\\\2023 Q1 AAPL.pdf_part_31', 'e:\\\\Learn2\\\\workspace2\\\\git_area\\\\Mastering_LlamaIndex\\\\2-Stage-Loading\\\\..\\\\data\\\\2023 Q1 AAPL.pdf_part_32', 'e:\\\\Learn2\\\\workspace2\\\\git_area\\\\Mastering_LlamaIndex\\\\2-Stage-Loading\\\\..\\\\data\\\\2023 Q1 AAPL.pdf_part_33', 'e:\\\\Learn2\\\\workspace2\\\\git_area\\\\Mastering_LlamaIndex\\\\2-Stage-Loading\\\\..\\\\data\\\\2023 Q1 AAPL.pdf_part_34', 'e:\\\\Learn2\\\\workspace2\\\\git_area\\\\Mastering_LlamaIndex\\\\2-Stage-Loading\\\\..\\\\data\\\\2023 Q1 AAPL.pdf_part_35', 'e:\\\\Learn2\\\\workspace2\\\\git_area\\\\Mastering_LlamaIndex\\\\2-Stage-Loading\\\\..\\\\data\\\\2023 Q1 AAPL.pdf_part_36', 'e:\\\\Learn2\\\\workspace2\\\\git_area\\\\Mastering_LlamaIndex\\\\2-Stage-Loading\\\\..\\\\data\\\\2023 Q1 AAPL.pdf_part_37', 'e:\\\\Learn2\\\\workspace2\\\\git_area\\\\Mastering_LlamaIndex\\\\2-Stage-Loading\\\\..\\\\data\\\\2023 Q1 AAPL.pdf_part_38', 'e:\\\\Learn2\\\\workspace2\\\\git_area\\\\Mastering_LlamaIndex\\\\2-Stage-Loading\\\\..\\\\data\\\\2023 Q1 AAPL.pdf_part_39', 'e:\\\\Learn2\\\\workspace2\\\\git_area\\\\Mastering_LlamaIndex\\\\2-Stage-Loading\\\\..\\\\data\\\\2023 Q1 AAPL.pdf_part_40', 'e:\\\\Learn2\\\\workspace2\\\\git_area\\\\Mastering_LlamaIndex\\\\2-Stage-Loading\\\\..\\\\data\\\\2023 Q1 AAPL.pdf_part_41', 'e:\\\\Learn2\\\\workspace2\\\\git_area\\\\Mastering_LlamaIndex\\\\2-Stage-Loading\\\\..\\\\data\\\\2023 Q1 AAPL.pdf_part_42', 'e:\\\\Learn2\\\\workspace2\\\\git_area\\\\Mastering_LlamaIndex\\\\2-Stage-Loading\\\\..\\\\data\\\\2023 Q1 AAPL.pdf_part_43', 'e:\\\\Learn2\\\\workspace2\\\\git_area\\\\Mastering_LlamaIndex\\\\2-Stage-Loading\\\\..\\\\data\\\\2023 Q1 AAPL.pdf_part_44', 'e:\\\\Learn2\\\\workspace2\\\\git_area\\\\Mastering_LlamaIndex\\\\2-Stage-Loading\\\\..\\\\data\\\\2023 Q1 AAPL.pdf_part_45', 'e:\\\\Learn2\\\\workspace2\\\\git_area\\\\Mastering_LlamaIndex\\\\2-Stage-Loading\\\\..\\\\data\\\\2023 Q2 AAPL.pdf_part_0', 'e:\\\\Learn2\\\\workspace2\\\\git_area\\\\Mastering_LlamaIndex\\\\2-Stage-Loading\\\\..\\\\data\\\\2023 Q2 AAPL.pdf_part_1', 'e:\\\\Learn2\\\\workspace2\\\\git_area\\\\Mastering_LlamaIndex\\\\2-Stage-Loading\\\\..\\\\data\\\\2023 Q2 AAPL.pdf_part_2', 'e:\\\\Learn2\\\\workspace2\\\\git_area\\\\Mastering_LlamaIndex\\\\2-Stage-Loading\\\\..\\\\data\\\\2023 Q2 AAPL.pdf_part_3', 'e:\\\\Learn2\\\\workspace2\\\\git_area\\\\Mastering_LlamaIndex\\\\2-Stage-Loading\\\\..\\\\data\\\\2023 Q2 AAPL.pdf_part_4', 'e:\\\\Learn2\\\\workspace2\\\\git_area\\\\Mastering_LlamaIndex\\\\2-Stage-Loading\\\\..\\\\data\\\\2023 Q2 AAPL.pdf_part_5', 'e:\\\\Learn2\\\\workspace2\\\\git_area\\\\Mastering_LlamaIndex\\\\2-Stage-Loading\\\\..\\\\data\\\\2023 Q2 AAPL.pdf_part_6', 'e:\\\\Learn2\\\\workspace2\\\\git_area\\\\Mastering_LlamaIndex\\\\2-Stage-Loading\\\\..\\\\data\\\\2023 Q2 AAPL.pdf_part_7', 'e:\\\\Learn2\\\\workspace2\\\\git_area\\\\Mastering_LlamaIndex\\\\2-Stage-Loading\\\\..\\\\data\\\\2023 Q2 AAPL.pdf_part_8', 'e:\\\\Learn2\\\\workspace2\\\\git_area\\\\Mastering_LlamaIndex\\\\2-Stage-Loading\\\\..\\\\data\\\\2023 Q2 AAPL.pdf_part_9', 'e:\\\\Learn2\\\\workspace2\\\\git_area\\\\Mastering_LlamaIndex\\\\2-Stage-Loading\\\\..\\\\data\\\\2023 Q2 AAPL.pdf_part_10', 'e:\\\\Learn2\\\\workspace2\\\\git_area\\\\Mastering_LlamaIndex\\\\2-Stage-Loading\\\\..\\\\data\\\\2023 Q2 AAPL.pdf_part_11', 'e:\\\\Learn2\\\\workspace2\\\\git_area\\\\Mastering_LlamaIndex\\\\2-Stage-Loading\\\\..\\\\data\\\\2023 Q2 AAPL.pdf_part_12', 'e:\\\\Learn2\\\\workspace2\\\\git_area\\\\Mastering_LlamaIndex\\\\2-Stage-Loading\\\\..\\\\data\\\\2023 Q2 AAPL.pdf_part_13', 'e:\\\\Learn2\\\\workspace2\\\\git_area\\\\Mastering_LlamaIndex\\\\2-Stage-Loading\\\\..\\\\data\\\\2023 Q2 AAPL.pdf_part_14', 'e:\\\\Learn2\\\\workspace2\\\\git_area\\\\Mastering_LlamaIndex\\\\2-Stage-Loading\\\\..\\\\data\\\\2023 Q2 AAPL.pdf_part_15', 'e:\\\\Learn2\\\\workspace2\\\\git_area\\\\Mastering_LlamaIndex\\\\2-Stage-Loading\\\\..\\\\data\\\\2023 Q2 AAPL.pdf_part_16', 'e:\\\\Learn2\\\\workspace2\\\\git_area\\\\Mastering_LlamaIndex\\\\2-Stage-Loading\\\\..\\\\data\\\\2023 Q2 AAPL.pdf_part_17', 'e:\\\\Learn2\\\\workspace2\\\\git_area\\\\Mastering_LlamaIndex\\\\2-Stage-Loading\\\\..\\\\data\\\\2023 Q2 AAPL.pdf_part_18', 'e:\\\\Learn2\\\\workspace2\\\\git_area\\\\Mastering_LlamaIndex\\\\2-Stage-Loading\\\\..\\\\data\\\\2023 Q2 AAPL.pdf_part_19', 'e:\\\\Learn2\\\\workspace2\\\\git_area\\\\Mastering_LlamaIndex\\\\2-Stage-Loading\\\\..\\\\data\\\\2023 Q2 AAPL.pdf_part_20', 'e:\\\\Learn2\\\\workspace2\\\\git_area\\\\Mastering_LlamaIndex\\\\2-Stage-Loading\\\\..\\\\data\\\\2023 Q2 AAPL.pdf_part_21', 'e:\\\\Learn2\\\\workspace2\\\\git_area\\\\Mastering_LlamaIndex\\\\2-Stage-Loading\\\\..\\\\data\\\\2023 Q2 AAPL.pdf_part_22', 'e:\\\\Learn2\\\\workspace2\\\\git_area\\\\Mastering_LlamaIndex\\\\2-Stage-Loading\\\\..\\\\data\\\\2023 Q2 AAPL.pdf_part_23', 'e:\\\\Learn2\\\\workspace2\\\\git_area\\\\Mastering_LlamaIndex\\\\2-Stage-Loading\\\\..\\\\data\\\\2023 Q2 AAPL.pdf_part_24', 'e:\\\\Learn2\\\\workspace2\\\\git_area\\\\Mastering_LlamaIndex\\\\2-Stage-Loading\\\\..\\\\data\\\\2023 Q2 AAPL.pdf_part_25', 'e:\\\\Learn2\\\\workspace2\\\\git_area\\\\Mastering_LlamaIndex\\\\2-Stage-Loading\\\\..\\\\data\\\\2023 Q2 AAPL.pdf_part_26', 'e:\\\\Learn2\\\\workspace2\\\\git_area\\\\Mastering_LlamaIndex\\\\2-Stage-Loading\\\\..\\\\data\\\\2023 Q2 AAPL.pdf_part_27', 'e:\\\\Learn2\\\\workspace2\\\\git_area\\\\Mastering_LlamaIndex\\\\2-Stage-Loading\\\\..\\\\data\\\\2023 Q3 AAPL.pdf_part_0', 'e:\\\\Learn2\\\\workspace2\\\\git_area\\\\Mastering_LlamaIndex\\\\2-Stage-Loading\\\\..\\\\data\\\\2023 Q3 AAPL.pdf_part_1', 'e:\\\\Learn2\\\\workspace2\\\\git_area\\\\Mastering_LlamaIndex\\\\2-Stage-Loading\\\\..\\\\data\\\\2023 Q3 AAPL.pdf_part_2', 'e:\\\\Learn2\\\\workspace2\\\\git_area\\\\Mastering_LlamaIndex\\\\2-Stage-Loading\\\\..\\\\data\\\\2023 Q3 AAPL.pdf_part_3', 'e:\\\\Learn2\\\\workspace2\\\\git_area\\\\Mastering_LlamaIndex\\\\2-Stage-Loading\\\\..\\\\data\\\\2023 Q3 AAPL.pdf_part_4', 'e:\\\\Learn2\\\\workspace2\\\\git_area\\\\Mastering_LlamaIndex\\\\2-Stage-Loading\\\\..\\\\data\\\\2023 Q3 AAPL.pdf_part_5', 'e:\\\\Learn2\\\\workspace2\\\\git_area\\\\Mastering_LlamaIndex\\\\2-Stage-Loading\\\\..\\\\data\\\\2023 Q3 AAPL.pdf_part_6', 'e:\\\\Learn2\\\\workspace2\\\\git_area\\\\Mastering_LlamaIndex\\\\2-Stage-Loading\\\\..\\\\data\\\\2023 Q3 AAPL.pdf_part_7', 'e:\\\\Learn2\\\\workspace2\\\\git_area\\\\Mastering_LlamaIndex\\\\2-Stage-Loading\\\\..\\\\data\\\\2023 Q3 AAPL.pdf_part_8', 'e:\\\\Learn2\\\\workspace2\\\\git_area\\\\Mastering_LlamaIndex\\\\2-Stage-Loading\\\\..\\\\data\\\\2023 Q3 AAPL.pdf_part_9', 'e:\\\\Learn2\\\\workspace2\\\\git_area\\\\Mastering_LlamaIndex\\\\2-Stage-Loading\\\\..\\\\data\\\\2023 Q3 AAPL.pdf_part_10', 'e:\\\\Learn2\\\\workspace2\\\\git_area\\\\Mastering_LlamaIndex\\\\2-Stage-Loading\\\\..\\\\data\\\\2023 Q3 AAPL.pdf_part_11', 'e:\\\\Learn2\\\\workspace2\\\\git_area\\\\Mastering_LlamaIndex\\\\2-Stage-Loading\\\\..\\\\data\\\\2023 Q3 AAPL.pdf_part_12', 'e:\\\\Learn2\\\\workspace2\\\\git_area\\\\Mastering_LlamaIndex\\\\2-Stage-Loading\\\\..\\\\data\\\\2023 Q3 AAPL.pdf_part_13', 'e:\\\\Learn2\\\\workspace2\\\\git_area\\\\Mastering_LlamaIndex\\\\2-Stage-Loading\\\\..\\\\data\\\\2023 Q3 AAPL.pdf_part_14', 'e:\\\\Learn2\\\\workspace2\\\\git_area\\\\Mastering_LlamaIndex\\\\2-Stage-Loading\\\\..\\\\data\\\\2023 Q3 AAPL.pdf_part_15', 'e:\\\\Learn2\\\\workspace2\\\\git_area\\\\Mastering_LlamaIndex\\\\2-Stage-Loading\\\\..\\\\data\\\\2023 Q3 AAPL.pdf_part_16', 'e:\\\\Learn2\\\\workspace2\\\\git_area\\\\Mastering_LlamaIndex\\\\2-Stage-Loading\\\\..\\\\data\\\\2023 Q3 AAPL.pdf_part_17', 'e:\\\\Learn2\\\\workspace2\\\\git_area\\\\Mastering_LlamaIndex\\\\2-Stage-Loading\\\\..\\\\data\\\\2023 Q3 AAPL.pdf_part_18', 'e:\\\\Learn2\\\\workspace2\\\\git_area\\\\Mastering_LlamaIndex\\\\2-Stage-Loading\\\\..\\\\data\\\\2023 Q3 AAPL.pdf_part_19', 'e:\\\\Learn2\\\\workspace2\\\\git_area\\\\Mastering_LlamaIndex\\\\2-Stage-Loading\\\\..\\\\data\\\\2023 Q3 AAPL.pdf_part_20', 'e:\\\\Learn2\\\\workspace2\\\\git_area\\\\Mastering_LlamaIndex\\\\2-Stage-Loading\\\\..\\\\data\\\\2023 Q3 AAPL.pdf_part_21', 'e:\\\\Learn2\\\\workspace2\\\\git_area\\\\Mastering_LlamaIndex\\\\2-Stage-Loading\\\\..\\\\data\\\\2023 Q3 AAPL.pdf_part_22', 'e:\\\\Learn2\\\\workspace2\\\\git_area\\\\Mastering_LlamaIndex\\\\2-Stage-Loading\\\\..\\\\data\\\\2023 Q3 AAPL.pdf_part_23', 'e:\\\\Learn2\\\\workspace2\\\\git_area\\\\Mastering_LlamaIndex\\\\2-Stage-Loading\\\\..\\\\data\\\\2023 Q3 AAPL.pdf_part_24', 'e:\\\\Learn2\\\\workspace2\\\\git_area\\\\Mastering_LlamaIndex\\\\2-Stage-Loading\\\\..\\\\data\\\\2023 Q3 AAPL.pdf_part_25', 'e:\\\\Learn2\\\\workspace2\\\\git_area\\\\Mastering_LlamaIndex\\\\2-Stage-Loading\\\\..\\\\data\\\\2023 Q3 AAPL.pdf_part_26', 'e:\\\\Learn2\\\\workspace2\\\\git_area\\\\Mastering_LlamaIndex\\\\2-Stage-Loading\\\\..\\\\data\\\\2023 Q3 AAPL.pdf_part_27', 'e:\\\\Learn2\\\\workspace2\\\\git_area\\\\Mastering_LlamaIndex\\\\2-Stage-Loading\\\\..\\\\data\\\\2023 Q3 AAPL.pdf_part_28', 'e:\\\\Learn2\\\\workspace2\\\\git_area\\\\Mastering_LlamaIndex\\\\2-Stage-Loading\\\\..\\\\data\\\\paul_graham_essay3.txt']\n"
     ]
    }
   ],
   "source": [
    "print([doc.doc_id for doc in file_as_id_documents])"
   ]
  },
  {
   "cell_type": "code",
   "execution_count": 106,
   "metadata": {},
   "outputs": [],
   "source": [
    "from llama_index.core.schema import MetadataMode"
   ]
  },
  {
   "cell_type": "code",
   "execution_count": 107,
   "metadata": {},
   "outputs": [
    {
     "name": "stdout",
     "output_type": "stream",
     "text": [
      "LLM View:\n",
      "page_label: 1\n",
      "\n",
      "UNITED STATES\n",
      "SECURITIES AND EXCHANGE COMMISSION\n",
      "Washington, D.C. 20549\n",
      "FORM 10-Q\n",
      "(Mark One)\n",
      "☒  QUARTERLY REPORT PURSUANT TO SECTION 13 OR 15(d) OF THE SECURITIES EXCHANGE ACT OF 1934\n",
      "For the quarterly period ended June 25, 2022\n",
      "or\n",
      "☐  TRANSITION REPORT PURSUANT TO SECTION 13 OR 15(d) OF THE SECURITIES EXCHANGE ACT OF 1934\n",
      "For the transition period from              to             .\n",
      "Commission File Number: 001-36743\n",
      "Apple Inc.\n",
      "(Exact name of Registrant as specified in its charter)\n",
      "California 94-2404110\n",
      "(State or other jurisdictionof incorporation or organization) (I.R.S. Employer Identification No.)\n",
      "One Apple Park Way\n",
      "Cupertino, California 95014\n",
      "(Address of principal executive offices) (Zip Code)\n",
      "(408) 996-1010\n",
      "(Registrant’s telephone number, including area code)\n",
      "Securities registered pursuant to Section 12(b) of the Act:\n",
      "Title of each class Trading symbol(s) Name of each exchange on which registered\n",
      "Common Stock, $0.00001 par value per shareAAPL The Nasdaq Stock Market LLC\n",
      "1.000% Notes due 2022 — The Nasdaq Stock Market LLC\n",
      "1.375% Notes due 2024 — The Nasdaq Stock Market LLC\n",
      "0.000% Notes due 2025 — The Nasdaq Stock Market LLC\n",
      "0.875% Notes due 2025 — The Nasdaq Stock Market LLC\n",
      "1.625% Notes due 2026 — The Nasdaq Stock Market LLC\n",
      "2.000% Notes due 2027 — The Nasdaq Stock Market LLC\n",
      "1.375% Notes due 2029 — The Nasdaq Stock Market LLC\n",
      "3.050% Notes due 2029 — The Nasdaq Stock Market LLC\n",
      "0.500% Notes due 2031 — The Nasdaq Stock Market LLC\n",
      "3.600% Notes due 2042 — The Nasdaq Stock Market LLC\n",
      "Indicate by check mark whether the Registrant (1) has filed all reports required to be filed by Section 13 or 15(d) of the Securities Exchange Act of 1934 during the preceding 12\n",
      "months (or for such shorter period that the Registrant was required to file such reports), and (2) has been subject to such filing requirements for the past 90 days.\n",
      "Yes  ☒      No  ☐ \n",
      "Indicate by check mark whether the Registrant has submitted electronically every Interactive Data File required to be submitted pursuant to Rule 405 of Regulation S-T (§232.405 of\n",
      "this chapter) during the preceding 12 months (or for such shorter period that the Registrant was required to submit such files).\n",
      "Yes  ☒      No  ☐ \n",
      "Indicate by check mark whether the Registrant is a large accelerated filer, an accelerated filer, a non-accelerated filer, a smaller reporting company, or an emerging growth company.See the definitions of “large accelerated filer,” “accelerated filer,” “smaller reporting company,” and “emerging growth company” in Rule 12b-2 of the Exchange Act.\n",
      "Large accelerated filer ☒ Accelerated filer ☐ \n",
      "Non-accelerated filer ☐ Smaller reporting company ☐ \n",
      "Emerging growth company ☐\n"
     ]
    }
   ],
   "source": [
    "\n",
    "print(\"LLM View:\")\n",
    "print(filename_documents[0].get_content(metadata_mode=MetadataMode.LLM))"
   ]
  },
  {
   "cell_type": "code",
   "execution_count": 108,
   "metadata": {},
   "outputs": [
    {
     "name": "stdout",
     "output_type": "stream",
     "text": [
      "Embedding Model View:\n",
      "page_label: 1\n",
      "\n",
      "UNITED STATES\n",
      "SECURITIES AND EXCHANGE COMMISSION\n",
      "Washington, D.C. 20549\n",
      "FORM 10-Q\n",
      "(Mark One)\n",
      "☒  QUARTERLY REPORT PURSUANT TO SECTION 13 OR 15(d) OF THE SECURITIES EXCHANGE ACT OF 1934\n",
      "For the quarterly period ended June 25, 2022\n",
      "or\n",
      "☐  TRANSITION REPORT PURSUANT TO SECTION 13 OR 15(d) OF THE SECURITIES EXCHANGE ACT OF 1934\n",
      "For the transition period from              to             .\n",
      "Commission File Number: 001-36743\n",
      "Apple Inc.\n",
      "(Exact name of Registrant as specified in its charter)\n",
      "California 94-2404110\n",
      "(State or other jurisdictionof incorporation or organization) (I.R.S. Employer Identification No.)\n",
      "One Apple Park Way\n",
      "Cupertino, California 95014\n",
      "(Address of principal executive offices) (Zip Code)\n",
      "(408) 996-1010\n",
      "(Registrant’s telephone number, including area code)\n",
      "Securities registered pursuant to Section 12(b) of the Act:\n",
      "Title of each class Trading symbol(s) Name of each exchange on which registered\n",
      "Common Stock, $0.00001 par value per shareAAPL The Nasdaq Stock Market LLC\n",
      "1.000% Notes due 2022 — The Nasdaq Stock Market LLC\n",
      "1.375% Notes due 2024 — The Nasdaq Stock Market LLC\n",
      "0.000% Notes due 2025 — The Nasdaq Stock Market LLC\n",
      "0.875% Notes due 2025 — The Nasdaq Stock Market LLC\n",
      "1.625% Notes due 2026 — The Nasdaq Stock Market LLC\n",
      "2.000% Notes due 2027 — The Nasdaq Stock Market LLC\n",
      "1.375% Notes due 2029 — The Nasdaq Stock Market LLC\n",
      "3.050% Notes due 2029 — The Nasdaq Stock Market LLC\n",
      "0.500% Notes due 2031 — The Nasdaq Stock Market LLC\n",
      "3.600% Notes due 2042 — The Nasdaq Stock Market LLC\n",
      "Indicate by check mark whether the Registrant (1) has filed all reports required to be filed by Section 13 or 15(d) of the Securities Exchange Act of 1934 during the preceding 12\n",
      "months (or for such shorter period that the Registrant was required to file such reports), and (2) has been subject to such filing requirements for the past 90 days.\n",
      "Yes  ☒      No  ☐ \n",
      "Indicate by check mark whether the Registrant has submitted electronically every Interactive Data File required to be submitted pursuant to Rule 405 of Regulation S-T (§232.405 of\n",
      "this chapter) during the preceding 12 months (or for such shorter period that the Registrant was required to submit such files).\n",
      "Yes  ☒      No  ☐ \n",
      "Indicate by check mark whether the Registrant is a large accelerated filer, an accelerated filer, a non-accelerated filer, a smaller reporting company, or an emerging growth company.See the definitions of “large accelerated filer,” “accelerated filer,” “smaller reporting company,” and “emerging growth company” in Rule 12b-2 of the Exchange Act.\n",
      "Large accelerated filer ☒ Accelerated filer ☐ \n",
      "Non-accelerated filer ☐ Smaller reporting company ☐ \n",
      "Emerging growth company ☐\n"
     ]
    }
   ],
   "source": [
    "print(\"Embedding Model View:\")\n",
    "print(filename_documents[0].get_content(metadata_mode=MetadataMode.EMBED))"
   ]
  },
  {
   "cell_type": "code",
   "execution_count": 109,
   "metadata": {},
   "outputs": [
    {
     "data": {
      "text/plain": [
       "['file_name',\n",
       " 'file_type',\n",
       " 'file_size',\n",
       " 'creation_date',\n",
       " 'last_modified_date',\n",
       " 'last_accessed_date']"
      ]
     },
     "execution_count": 109,
     "metadata": {},
     "output_type": "execute_result"
    }
   ],
   "source": [
    "filename_documents[0].excluded_llm_metadata_keys"
   ]
  },
  {
   "cell_type": "code",
   "execution_count": 110,
   "metadata": {},
   "outputs": [
    {
     "data": {
      "text/plain": [
       "['file_name',\n",
       " 'file_type',\n",
       " 'file_size',\n",
       " 'creation_date',\n",
       " 'last_modified_date',\n",
       " 'last_accessed_date']"
      ]
     },
     "execution_count": 110,
     "metadata": {},
     "output_type": "execute_result"
    }
   ],
   "source": [
    "filename_documents[0].excluded_embed_metadata_keys"
   ]
  },
  {
   "cell_type": "code",
   "execution_count": 111,
   "metadata": {},
   "outputs": [
    {
     "data": {
      "text/plain": [
       "133"
      ]
     },
     "execution_count": 111,
     "metadata": {},
     "output_type": "execute_result"
    }
   ],
   "source": [
    "len(filename_documents)"
   ]
  },
  {
   "cell_type": "code",
   "execution_count": 114,
   "metadata": {},
   "outputs": [],
   "source": [
    "for doc in filename_documents:\n",
    "    doc.metadata[\"category\"] = \"result 2023\" if \"2023\" in doc.metadata[\"file_name\"] else \"Others\"\n",
    "    doc.metadata[\"reviewed\"] = False\n",
    "    doc.metadata_seperator = \"::\"\n",
    "    doc.metadata_template = \"{key}=>{value}\"\n",
    "    doc.text_template = \"Metadata: {metadata_str}\\n-----\\nContent: {content}\"\n",
    "    doc.excluded_llm_metadata_keys = [\"file_name\"]\n",
    "    doc.excluded_embed_metadata_keys = [\"file_name\"]"
   ]
  },
  {
   "cell_type": "code",
   "execution_count": 115,
   "metadata": {},
   "outputs": [
    {
     "data": {
      "text/plain": [
       "['file_name']"
      ]
     },
     "execution_count": 115,
     "metadata": {},
     "output_type": "execute_result"
    }
   ],
   "source": [
    "filename_documents[0].excluded_embed_metadata_keys"
   ]
  },
  {
   "cell_type": "code",
   "execution_count": 116,
   "metadata": {},
   "outputs": [
    {
     "name": "stdout",
     "output_type": "stream",
     "text": [
      "LLM View:\n",
      "Metadata: page_label=>1::category=>Others::reviewed=>False\n",
      "-----\n",
      "Content: UNITED STATES\n",
      "SECURITIES AND EXCHANGE COMMISSION\n",
      "Washington, D.C. 20549\n",
      "FORM 10-Q\n",
      "(Mark One)\n",
      "☒  QUARTERLY REPORT PURSUANT TO SECTION 13 OR 15(d) OF THE SECURITIES EXCHANGE ACT OF 1934\n",
      "For the quarterly period ended June 25, 2022\n",
      "or\n",
      "☐  TRANSITION REPORT PURSUANT TO SECTION 13 OR 15(d) OF THE SECURITIES EXCHANGE ACT OF 1934\n",
      "For the transition period from              to             .\n",
      "Commission File Number: 001-36743\n",
      "Apple Inc.\n",
      "(Exact name of Registrant as specified in its charter)\n",
      "California 94-2404110\n",
      "(State or other jurisdictionof incorporation or organization) (I.R.S. Employer Identification No.)\n",
      "One Apple Park Way\n",
      "Cupertino, California 95014\n",
      "(Address of principal executive offices) (Zip Code)\n",
      "(408) 996-1010\n",
      "(Registrant’s telephone number, including area code)\n",
      "Securities registered pursuant to Section 12(b) of the Act:\n",
      "Title of each class Trading symbol(s) Name of each exchange on which registered\n",
      "Common Stock, $0.00001 par value per shareAAPL The Nasdaq Stock Market LLC\n",
      "1.000% Notes due 2022 — The Nasdaq Stock Market LLC\n",
      "1.375% Notes due 2024 — The Nasdaq Stock Market LLC\n",
      "0.000% Notes due 2025 — The Nasdaq Stock Market LLC\n",
      "0.875% Notes due 2025 — The Nasdaq Stock Market LLC\n",
      "1.625% Notes due 2026 — The Nasdaq Stock Market LLC\n",
      "2.000% Notes due 2027 — The Nasdaq Stock Market LLC\n",
      "1.375% Notes due 2029 — The Nasdaq Stock Market LLC\n",
      "3.050% Notes due 2029 — The Nasdaq Stock Market LLC\n",
      "0.500% Notes due 2031 — The Nasdaq Stock Market LLC\n",
      "3.600% Notes due 2042 — The Nasdaq Stock Market LLC\n",
      "Indicate by check mark whether the Registrant (1) has filed all reports required to be filed by Section 13 or 15(d) of the Securities Exchange Act of 1934 during the preceding 12\n",
      "months (or for such shorter period that the Registrant was required to file such reports), and (2) has been subject to such filing requirements for the past 90 days.\n",
      "Yes  ☒      No  ☐ \n",
      "Indicate by check mark whether the Registrant has submitted electronically every Interactive Data File required to be submitted pursuant to Rule 405 of Regulation S-T (§232.405 of\n",
      "this chapter) during the preceding 12 months (or for such shorter period that the Registrant was required to submit such files).\n",
      "Yes  ☒      No  ☐ \n",
      "Indicate by check mark whether the Registrant is a large accelerated filer, an accelerated filer, a non-accelerated filer, a smaller reporting company, or an emerging growth company.See the definitions of “large accelerated filer,” “accelerated filer,” “smaller reporting company,” and “emerging growth company” in Rule 12b-2 of the Exchange Act.\n",
      "Large accelerated filer ☒ Accelerated filer ☐ \n",
      "Non-accelerated filer ☐ Smaller reporting company ☐ \n",
      "Emerging growth company ☐\n"
     ]
    }
   ],
   "source": [
    "print(\"LLM View:\")\n",
    "print(filename_documents[0].get_content(metadata_mode=MetadataMode.LLM))"
   ]
  },
  {
   "cell_type": "code",
   "execution_count": 117,
   "metadata": {},
   "outputs": [
    {
     "name": "stdout",
     "output_type": "stream",
     "text": [
      "Embedding Model View:\n",
      "Metadata: page_label=>1::category=>Others::reviewed=>False\n",
      "-----\n",
      "Content: UNITED STATES\n",
      "SECURITIES AND EXCHANGE COMMISSION\n",
      "Washington, D.C. 20549\n",
      "FORM 10-Q\n",
      "(Mark One)\n",
      "☒  QUARTERLY REPORT PURSUANT TO SECTION 13 OR 15(d) OF THE SECURITIES EXCHANGE ACT OF 1934\n",
      "For the quarterly period ended June 25, 2022\n",
      "or\n",
      "☐  TRANSITION REPORT PURSUANT TO SECTION 13 OR 15(d) OF THE SECURITIES EXCHANGE ACT OF 1934\n",
      "For the transition period from              to             .\n",
      "Commission File Number: 001-36743\n",
      "Apple Inc.\n",
      "(Exact name of Registrant as specified in its charter)\n",
      "California 94-2404110\n",
      "(State or other jurisdictionof incorporation or organization) (I.R.S. Employer Identification No.)\n",
      "One Apple Park Way\n",
      "Cupertino, California 95014\n",
      "(Address of principal executive offices) (Zip Code)\n",
      "(408) 996-1010\n",
      "(Registrant’s telephone number, including area code)\n",
      "Securities registered pursuant to Section 12(b) of the Act:\n",
      "Title of each class Trading symbol(s) Name of each exchange on which registered\n",
      "Common Stock, $0.00001 par value per shareAAPL The Nasdaq Stock Market LLC\n",
      "1.000% Notes due 2022 — The Nasdaq Stock Market LLC\n",
      "1.375% Notes due 2024 — The Nasdaq Stock Market LLC\n",
      "0.000% Notes due 2025 — The Nasdaq Stock Market LLC\n",
      "0.875% Notes due 2025 — The Nasdaq Stock Market LLC\n",
      "1.625% Notes due 2026 — The Nasdaq Stock Market LLC\n",
      "2.000% Notes due 2027 — The Nasdaq Stock Market LLC\n",
      "1.375% Notes due 2029 — The Nasdaq Stock Market LLC\n",
      "3.050% Notes due 2029 — The Nasdaq Stock Market LLC\n",
      "0.500% Notes due 2031 — The Nasdaq Stock Market LLC\n",
      "3.600% Notes due 2042 — The Nasdaq Stock Market LLC\n",
      "Indicate by check mark whether the Registrant (1) has filed all reports required to be filed by Section 13 or 15(d) of the Securities Exchange Act of 1934 during the preceding 12\n",
      "months (or for such shorter period that the Registrant was required to file such reports), and (2) has been subject to such filing requirements for the past 90 days.\n",
      "Yes  ☒      No  ☐ \n",
      "Indicate by check mark whether the Registrant has submitted electronically every Interactive Data File required to be submitted pursuant to Rule 405 of Regulation S-T (§232.405 of\n",
      "this chapter) during the preceding 12 months (or for such shorter period that the Registrant was required to submit such files).\n",
      "Yes  ☒      No  ☐ \n",
      "Indicate by check mark whether the Registrant is a large accelerated filer, an accelerated filer, a non-accelerated filer, a smaller reporting company, or an emerging growth company.See the definitions of “large accelerated filer,” “accelerated filer,” “smaller reporting company,” and “emerging growth company” in Rule 12b-2 of the Exchange Act.\n",
      "Large accelerated filer ☒ Accelerated filer ☐ \n",
      "Non-accelerated filer ☐ Smaller reporting company ☐ \n",
      "Emerging growth company ☐\n"
     ]
    }
   ],
   "source": [
    "print(\"Embedding Model View:\")\n",
    "print(filename_documents[0].get_content(metadata_mode=MetadataMode.EMBED))"
   ]
  },
  {
   "cell_type": "code",
   "execution_count": 118,
   "metadata": {},
   "outputs": [
    {
     "data": {
      "text/plain": [
       "{'page_label': '1',\n",
       " 'file_name': 'e:\\\\Learn2\\\\workspace2\\\\git_area\\\\Mastering_LlamaIndex\\\\2-Stage-Loading\\\\..\\\\data\\\\2022 Q3 AAPL.pdf',\n",
       " 'category': 'Others',\n",
       " 'reviewed': False}"
      ]
     },
     "execution_count": 118,
     "metadata": {},
     "output_type": "execute_result"
    }
   ],
   "source": [
    "filename_documents[0].metadata"
   ]
  },
  {
   "cell_type": "code",
   "execution_count": 119,
   "metadata": {},
   "outputs": [
    {
     "data": {
      "text/plain": [
       "{'page_label': '18',\n",
       " 'file_name': 'e:\\\\Learn2\\\\workspace2\\\\git_area\\\\Mastering_LlamaIndex\\\\2-Stage-Loading\\\\..\\\\data\\\\2023 Q1 AAPL.pdf',\n",
       " 'category': 'result 2023',\n",
       " 'reviewed': False}"
      ]
     },
     "execution_count": 119,
     "metadata": {},
     "output_type": "execute_result"
    }
   ],
   "source": [
    "filename_documents[45].metadata"
   ]
  }
 ],
 "metadata": {
  "kernelspec": {
   "display_name": "llamaindex",
   "language": "python",
   "name": "python3"
  },
  "language_info": {
   "codemirror_mode": {
    "name": "ipython",
    "version": 3
   },
   "file_extension": ".py",
   "mimetype": "text/x-python",
   "name": "python",
   "nbconvert_exporter": "python",
   "pygments_lexer": "ipython3",
   "version": "3.11.10"
  }
 },
 "nbformat": 4,
 "nbformat_minor": 2
}
