{
 "cells": [
  {
   "cell_type": "markdown",
   "id": "d70938ec",
   "metadata": {},
   "source": [
    "<a href=\"https://colab.research.google.com/github/run-llama/llama_index/blob/main/docs/docs/examples/data_connectors/html_tag_reader.ipynb\" target=\"_parent\"><img src=\"https://colab.research.google.com/assets/colab-badge.svg\" alt=\"Open In Colab\"/></a>"
   ]
  },
  {
   "cell_type": "markdown",
   "id": "8e658683-746c-492c-9aeb-2aaf3ec560b0",
   "metadata": {},
   "source": [
    "# HTML Tag Reader"
   ]
  },
  {
   "cell_type": "markdown",
   "id": "a0899b5e",
   "metadata": {},
   "source": [
    "If you're opening this Notebook on colab, you will probably need to install LlamaIndex 🦙."
   ]
  },
  {
   "cell_type": "code",
   "execution_count": null,
   "id": "753398e9",
   "metadata": {},
   "outputs": [],
   "source": [
    "%pip install llama-index-readers-file"
   ]
  },
  {
   "cell_type": "code",
   "execution_count": null,
   "id": "c4c71498",
   "metadata": {},
   "outputs": [],
   "source": [
    "%pip install llama-index"
   ]
  },
  {
   "cell_type": "markdown",
   "id": "b20aec97-43e5-49da-a57d-7a79bfe1c471",
   "metadata": {},
   "source": [
    "### Download HTML file"
   ]
  },
  {
   "cell_type": "code",
   "execution_count": null,
   "id": "e07f31eb-65bb-4439-a1b1-6de8bfad67dd",
   "metadata": {},
   "outputs": [],
   "source": [
    "%%bash\n",
    "wget -e robots=off --no-clobber --page-requisites \\\n",
    "  --html-extension --convert-links --restrict-file-names=windows \\\n",
    "  --domains docs.ray.io --no-parent --accept=html \\\n",
    "  -P data/ https://docs.ray.io/en/master/ray-overview/installation.html"
   ]
  },
  {
   "cell_type": "code",
   "execution_count": 1,
   "id": "0d63dc1d-0c63-4c89-9693-324a6f026811",
   "metadata": {},
   "outputs": [],
   "source": [
    "from llama_index.readers.file import HTMLTagReader\n",
    "\n",
    "reader = HTMLTagReader(tag=\"section\", ignore_no_id=True)\n",
    "docs = reader.load_data(\n",
    "    \"data/docs.ray.io/en/master/ray-overview/installation.html\"\n",
    ")"
   ]
  },
  {
   "cell_type": "code",
   "execution_count": 2,
   "id": "8790db5c",
   "metadata": {},
   "outputs": [
    {
     "data": {
      "text/plain": [
       "[Document(id_='74fb56f7-6f39-466b-bd79-10e58904ac86', embedding=None, metadata={'tag': 'section', 'tag_id': 'installing-ray', 'file_path': 'data/docs.ray.io/en/master/ray-overview/installation.html'}, excluded_embed_metadata_keys=[], excluded_llm_metadata_keys=[], relationships={}, text='\\nInstalling Ray#\\n\\nRay currently officially supports x86_64, aarch64 (ARM) for Linux, and Apple silicon (M1) hardware.\\nRay on Windows is currently in beta.', mimetype='text/plain', start_char_idx=None, end_char_idx=None, text_template='{metadata_str}\\n\\n{content}', metadata_template='{key}: {value}', metadata_seperator='\\n'),\n",
       " Document(id_='8bae77e4-42fe-48f0-a8ac-dc35391840dd', embedding=None, metadata={'tag': 'section', 'tag_id': 'official-releases', 'file_path': 'data/docs.ray.io/en/master/ray-overview/installation.html'}, excluded_embed_metadata_keys=[], excluded_llm_metadata_keys=[], relationships={}, text='Official Releases#', mimetype='text/plain', start_char_idx=None, end_char_idx=None, text_template='{metadata_str}\\n\\n{content}', metadata_template='{key}: {value}', metadata_seperator='\\n'),\n",
       " Document(id_='92c48284-561b-436b-997f-4ecd8d449a16', embedding=None, metadata={'tag': 'section', 'tag_id': 'from-wheels', 'file_path': 'data/docs.ray.io/en/master/ray-overview/installation.html'}, excluded_embed_metadata_keys=[], excluded_llm_metadata_keys=[], relationships={}, text='From Wheels#\\nYou can install the latest official version of Ray from PyPI on Linux, Windows,\\nand macOS by choosing the option that best matches your use case.\\nRecommended\\nFor machine learning applications\\npip install -U \"ray[data,train,tune,serve]\"\\n\\n# For reinforcement learning support, install RLlib instead.\\n# pip install -U \"ray[rllib]\"\\n\\n\\nFor general Python applications\\npip install -U \"ray[default]\"\\n\\n# If you don\\'t want Ray Dashboard or Cluster Launcher, install Ray with minimal dependencies instead.\\n# pip install -U \"ray\"\\n\\n\\n\\n\\n\\nAdvanced\\n\\n\\n\\n\\n\\n\\nCommand\\nInstalled components\\n\\n\\n\\npip install -U \"ray\"\\nCore\\n\\npip install -U \"ray[default]\"\\nCore, Dashboard, Cluster Launcher\\n\\npip install -U \"ray[data]\"\\nCore, Data\\n\\npip install -U \"ray[train]\"\\nCore, Train\\n\\npip install -U \"ray[tune]\"\\nCore, Tune\\n\\npip install -U \"ray[serve]\"\\nCore, Dashboard, Cluster Launcher, Serve\\n\\npip install -U \"ray[serve-grpc]\"\\nCore, Dashboard, Cluster Launcher, Serve with gRPC support\\n\\npip install -U \"ray[rllib]\"\\nCore, Tune, RLlib\\n\\npip install -U \"ray[all]\"\\nCore, Dashboard, Cluster Launcher, Data, Train, Tune, Serve, RLlib\\n\\n\\n\\n\\nTip\\nYou can combine installation extras.\\nFor example, to install Ray with Dashboard, Cluster Launcher, and Train support, you can run:\\npip install -U \"ray[default,train]\"', mimetype='text/plain', start_char_idx=None, end_char_idx=None, text_template='{metadata_str}\\n\\n{content}', metadata_template='{key}: {value}', metadata_seperator='\\n'),\n",
       " Document(id_='55a1c24e-7503-4410-b55d-fde9041bed89', embedding=None, metadata={'tag': 'section', 'tag_id': 'daily-releases-nightlies', 'file_path': 'data/docs.ray.io/en/master/ray-overview/installation.html'}, excluded_embed_metadata_keys=[], excluded_llm_metadata_keys=[], relationships={}, text='\\nDaily Releases (Nightlies)#\\nYou can install the nightly Ray wheels via the following links. These daily releases are tested via automated tests but do not go through the full release process. To install these wheels, use the following pip command and wheels:\\n# Clean removal of previous install\\npip uninstall -y ray\\n# Install Ray with support for the dashboard + cluster launcher\\npip install -U \"ray[default] @ LINK_TO_WHEEL.whl\"\\n\\n# Install Ray with minimal dependencies\\n# pip install -U LINK_TO_WHEEL.whl\\nLinux\\n\\n\\nLinux (x86_64)\\nLinux (arm64/aarch64)\\n\\n\\n\\nLinux Python 3.9 (x86_64)\\nLinux Python 3.9 (aarch64)\\n\\nLinux Python 3.10 (x86_64)\\nLinux Python 3.10 (aarch64)\\n\\nLinux Python 3.11 (x86_64)\\nLinux Python 3.11 (aarch64)\\n\\nLinux Python 3.12 (x86_64)\\nLinux Python 3.12 (aarch64)\\n\\n\\n\\n\\n\\n\\nMacOS\\n\\n\\nMacOS (x86_64)\\nMacOS (arm64)\\n\\n\\n\\nMacOS Python 3.9 (x86_64)\\nMacOS Python 3.9 (arm64)\\n\\nMacOS Python 3.10 (x86_64)\\nMacOS Python 3.10 (arm64)\\n\\nMacOS Python 3.11 (x86_64)\\nMacOS Python 3.11 (arm64)\\n\\nMacOS Python 3.12 (x86_64)\\nMacOS Python 3.12 (arm64)\\n\\n\\n\\n\\n\\n\\nWindows (beta)\\n\\n\\nWindows (beta)\\n\\n\\n\\nWindows Python 3.9\\n\\nWindows Python 3.10\\n\\nWindows Python 3.11\\n\\nWindows Python 3.12\\nNote\\nOn Windows, support for multi-node Ray clusters is currently experimental and untested.\\nIf you run into issues please file a report at ray-project/ray#issues.\\nNote\\nUsage stats collection is enabled by default (can be disabled) for nightly wheels including both local clusters started via ray.init() and remote clusters via cli.\\nNote', mimetype='text/plain', start_char_idx=None, end_char_idx=None, text_template='{metadata_str}\\n\\n{content}', metadata_template='{key}: {value}', metadata_seperator='\\n'),\n",
       " Document(id_='040e50df-893d-4f79-b627-7be3c291bb52', embedding=None, metadata={'tag': 'section', 'tag_id': 'installing-from-a-specific-commit', 'file_path': 'data/docs.ray.io/en/master/ray-overview/installation.html'}, excluded_embed_metadata_keys=[], excluded_llm_metadata_keys=[], relationships={}, text='Installing from a specific commit#\\nYou can install the Ray wheels of any particular commit on master with the following template. You need to specify the commit hash, Ray version, Operating System, and Python version:\\npip install https://s3-us-west-2.amazonaws.com/ray-wheels/master/{COMMIT_HASH}/ray-{RAY_VERSION}-{PYTHON_VERSION}-{PYTHON_VERSION}-{OS_VERSION}.whl\\nFor example, here are the Ray 3.0.0.dev0 wheels for Python 3.9, MacOS for commit 4f2ec46c3adb6ba9f412f09a9732f436c4a5d0c9:\\npip install https://s3-us-west-2.amazonaws.com/ray-wheels/master/4f2ec46c3adb6ba9f412f09a9732f436c4a5d0c9/ray-3.0.0.dev0-cp39-cp39-macosx_10_15_x86_64.whl\\nThere are minor variations to the format of the wheel filename; it’s best to match against the format in the URLs listed in the Nightlies section.\\nHere’s a summary of the variations:\\nFor MacOS, commits predating August 7, 2021 will have macosx_10_13 in the filename instead of macosx_10_15.', mimetype='text/plain', start_char_idx=None, end_char_idx=None, text_template='{metadata_str}\\n\\n{content}', metadata_template='{key}: {value}', metadata_seperator='\\n'),\n",
       " Document(id_='2474617d-3dc1-4024-b15c-edb67ea1b77d', embedding=None, metadata={'tag': 'section', 'tag_id': 'm1-mac-apple-silicon-support', 'file_path': 'data/docs.ray.io/en/master/ray-overview/installation.html'}, excluded_embed_metadata_keys=[], excluded_llm_metadata_keys=[], relationships={}, text='\\nM1 Mac (Apple Silicon) Support#\\nRay supports machines running Apple Silicon (such as M1 macs).\\nMulti-node clusters are untested. To get started with local Ray development:\\nInstall miniforge.\\n\\nwget https://github.com/conda-forge/miniforge/releases/latest/download/Miniforge3-MacOSX-arm64.sh\\nbash Miniforge3-MacOSX-arm64.sh\\nrm Miniforge3-MacOSX-arm64.sh # Cleanup.\\n\\n\\nEnsure you’re using the miniforge environment (you should see (base) in your terminal).\\n\\nsource ~/.bash_profile\\nconda activate\\n\\n\\nInstall Ray as you normally would.\\n\\npip install ray', mimetype='text/plain', start_char_idx=None, end_char_idx=None, text_template='{metadata_str}\\n\\n{content}', metadata_template='{key}: {value}', metadata_seperator='\\n'),\n",
       " Document(id_='d46b8dd3-e73f-4477-964f-9addfca121eb', embedding=None, metadata={'tag': 'section', 'tag_id': 'windows-support', 'file_path': 'data/docs.ray.io/en/master/ray-overview/installation.html'}, excluded_embed_metadata_keys=[], excluded_llm_metadata_keys=[], relationships={}, text='\\nWindows Support#\\nWindows support is in Beta. Ray supports running on Windows with the following caveats (only the first is\\nRay-specific, the rest are true anywhere Windows is used):\\nMulti-node Ray clusters are untested.\\nFilenames are tricky on Windows and there still may be a few places where Ray\\nassumes UNIX filenames rather than Windows ones. This can be true in downstream\\npackages as well.\\nPerformance on Windows is known to be slower since opening files on Windows\\nis considerably slower than on other operating systems. This can affect logging.\\nWindows does not have a copy-on-write forking model, so spinning up new\\nprocesses can require more memory.\\nSubmit any issues you encounter to\\nGitHub.', mimetype='text/plain', start_char_idx=None, end_char_idx=None, text_template='{metadata_str}\\n\\n{content}', metadata_template='{key}: {value}', metadata_seperator='\\n'),\n",
       " Document(id_='785a5388-9765-4189-bc7a-407f9db763d5', embedding=None, metadata={'tag': 'section', 'tag_id': 'installing-ray-on-arch-linux', 'file_path': 'data/docs.ray.io/en/master/ray-overview/installation.html'}, excluded_embed_metadata_keys=[], excluded_llm_metadata_keys=[], relationships={}, text='Installing Ray on Arch Linux#\\nNote: Installing Ray on Arch Linux is not tested by the Project Ray developers.\\nRay is available on Arch Linux via the Arch User Repository (AUR) as\\npython-ray.\\nYou can manually install the package by following the instructions on the\\nArch Wiki or use an AUR helper like yay (recommended for ease of install)\\nas follows:\\nyay -S python-ray\\nTo discuss any issues related to this package refer to the comments section\\non the AUR page of python-ray here.', mimetype='text/plain', start_char_idx=None, end_char_idx=None, text_template='{metadata_str}\\n\\n{content}', metadata_template='{key}: {value}', metadata_seperator='\\n'),\n",
       " Document(id_='b108b105-b507-43f2-a22f-f362783f1c83', embedding=None, metadata={'tag': 'section', 'tag_id': 'installing-from-conda-forge', 'file_path': 'data/docs.ray.io/en/master/ray-overview/installation.html'}, excluded_embed_metadata_keys=[], excluded_llm_metadata_keys=[], relationships={}, text='\\nInstalling From conda-forge#\\nRay can also be installed as a conda package on Linux and Windows.\\n# also works with mamba\\nconda create -c conda-forge python=3.9 -n ray\\nconda activate ray\\n\\n# Install Ray with support for the dashboard + cluster launcher\\nconda install -c conda-forge \"ray-default\"\\n\\n# Install Ray with minimal dependencies\\n# conda install -c conda-forge ray\\nTo install Ray libraries, use pip as above or conda/mamba.\\nconda install -c conda-forge \"ray-data\"   # installs Ray + dependencies for Ray Data\\nconda install -c conda-forge \"ray-train\"  # installs Ray + dependencies for Ray Train\\nconda install -c conda-forge \"ray-tune\"   # installs Ray + dependencies for Ray Tune\\nconda install -c conda-forge \"ray-serve\"  # installs Ray + dependencies for Ray Serve\\nconda install -c conda-forge \"ray-rllib\"  # installs Ray + dependencies for Ray RLlib\\nFor a complete list of available ray libraries on Conda-forge, have a look\\nat https://anaconda.org/conda-forge/ray-default\\nNote\\nRay conda packages are maintained by the community, not the Ray team. While\\nusing a conda environment, it is recommended to install Ray from PyPi using\\npip install ray in the newly created environment.', mimetype='text/plain', start_char_idx=None, end_char_idx=None, text_template='{metadata_str}\\n\\n{content}', metadata_template='{key}: {value}', metadata_seperator='\\n'),\n",
       " Document(id_='47a4a77e-8746-476c-91cc-774c59de8b84', embedding=None, metadata={'tag': 'section', 'tag_id': 'building-ray-from-source', 'file_path': 'data/docs.ray.io/en/master/ray-overview/installation.html'}, excluded_embed_metadata_keys=[], excluded_llm_metadata_keys=[], relationships={}, text='Building Ray from Source#\\nInstalling from pip should be sufficient for most Ray users.\\nHowever, should you need to build from source, follow these instructions for building Ray.', mimetype='text/plain', start_char_idx=None, end_char_idx=None, text_template='{metadata_str}\\n\\n{content}', metadata_template='{key}: {value}', metadata_seperator='\\n'),\n",
       " Document(id_='a54d379f-b576-4935-9d4e-394d5bc85376', embedding=None, metadata={'tag': 'section', 'tag_id': 'docker-source-images', 'file_path': 'data/docs.ray.io/en/master/ray-overview/installation.html'}, excluded_embed_metadata_keys=[], excluded_llm_metadata_keys=[], relationships={}, text='\\nDocker Source Images#\\nUsers can pull a Docker image from the rayproject/ray Docker Hub repository.\\nThe images include Ray and all required dependencies. It comes with anaconda and various versions of Python.\\nImages are tagged with the format {Ray version}[-{Python version}][-{Platform}]. Ray version tag can be one of the following:\\nRay version tag\\nDescription\\n\\n\\n\\nlatest\\nThe most recent Ray release.\\n\\nx.y.z\\nA specific Ray release, e.g. 2.31.0\\n\\nnightly\\nThe most recent Ray development build (a recent commit from Github master)\\nThe optional Python version tag specifies the Python version in the image. All Python versions supported by Ray are available, e.g. py39, py310 and py311. If unspecified, the tag points to an image of the lowest Python version that the Ray version supports.\\nThe optional Platform tag specifies the platform where the image is intended for:\\nPlatform tag\\nDescription\\n\\n\\n\\n-cpu\\nThese are based off of an Ubuntu image.\\n\\n-cuXX\\nThese are based off of an NVIDIA CUDA image with the specified CUDA version. They require the Nvidia Docker Runtime.\\n\\n-gpu\\nAliases to a specific -cuXX tagged image.\\n\\n<no tag>\\nAliases to -cpu tagged images.\\nExample: for the nightly image based on Python 3.9 and without GPU support, the tag is nightly-py39-cpu.\\nIf you want to tweak some aspects of these images and build them locally, refer to the following script:\\ncd ray\\n./build-docker.sh\\nReview images by listing them:\\ndocker images\\nOutput should look something like the following:\\nREPOSITORY                          TAG                 IMAGE ID            CREATED             SIZE\\nrayproject/ray                      dev                 7243a11ac068        2 days ago          1.11 GB\\nrayproject/base-deps                latest              5606591eeab9        8 days ago          512  MB\\nubuntu                              22.04               1e4467b07108        3 weeks ago         73.9 MB', mimetype='text/plain', start_char_idx=None, end_char_idx=None, text_template='{metadata_str}\\n\\n{content}', metadata_template='{key}: {value}', metadata_seperator='\\n'),\n",
       " Document(id_='79b0ace9-2805-48b6-8603-f24a4c4bbd1c', embedding=None, metadata={'tag': 'section', 'tag_id': 'launch-ray-in-docker', 'file_path': 'data/docs.ray.io/en/master/ray-overview/installation.html'}, excluded_embed_metadata_keys=[], excluded_llm_metadata_keys=[], relationships={}, text='Launch Ray in Docker#\\nStart out by launching the deployment container.\\ndocker run --shm-size=<shm-size> -t -i rayproject/ray\\nReplace <shm-size> with a limit appropriate for your system, for example\\n512M or 2G. A good estimate for this is to use roughly 30% of your available memory (this is\\nwhat Ray uses internally for its Object Store). The -t and -i options here are required to support\\ninteractive use of the container.\\nIf you use a GPU version Docker image, remember to add --gpus all option. Replace <ray-version> with your target ray version in the following command:\\ndocker run --shm-size=<shm-size> -t -i --gpus all rayproject/ray:<ray-version>-gpu\\nNote: Ray requires a large amount of shared memory because each object\\nstore keeps all of its objects in shared memory, so the amount of shared memory\\nwill limit the size of the object store.\\nYou should now see a prompt that looks something like:\\nroot@ebc78f68d100:/ray#', mimetype='text/plain', start_char_idx=None, end_char_idx=None, text_template='{metadata_str}\\n\\n{content}', metadata_template='{key}: {value}', metadata_seperator='\\n'),\n",
       " Document(id_='610d0ec2-7f61-4b67-b8fa-458c254212f8', embedding=None, metadata={'tag': 'section', 'tag_id': 'test-if-the-installation-succeeded', 'file_path': 'data/docs.ray.io/en/master/ray-overview/installation.html'}, excluded_embed_metadata_keys=[], excluded_llm_metadata_keys=[], relationships={}, text='Test if the installation succeeded#\\nTo test if the installation was successful, try running some tests. This assumes\\nthat you’ve cloned the git repository.\\npython -m pytest -v python/ray/tests/test_mini.py', mimetype='text/plain', start_char_idx=None, end_char_idx=None, text_template='{metadata_str}\\n\\n{content}', metadata_template='{key}: {value}', metadata_seperator='\\n'),\n",
       " Document(id_='d48362aa-c083-4b0f-85cf-ab801ecf747c', embedding=None, metadata={'tag': 'section', 'tag_id': 'installed-python-dependencies', 'file_path': 'data/docs.ray.io/en/master/ray-overview/installation.html'}, excluded_embed_metadata_keys=[], excluded_llm_metadata_keys=[], relationships={}, text='Installed Python dependencies#\\nOur docker images are shipped with pre-installed Python dependencies\\nrequired for Ray and its libraries.\\nWe publish the dependencies that are installed in our ray Docker images for Python 3.9.\\nray (Python 3.9)\\nRay version: nightly (e393a71)\\nadal==1.2.7\\naiohttp==3.9.5\\naiohttp-cors==0.7.0\\naiosignal==1.3.1\\nanaconda-anon-usage @ file:///croot/anaconda-anon-usage_1710965072196/work\\nannotated-types==0.6.0\\nanyio==3.7.1\\napplicationinsights==0.11.10\\narchspec @ file:///croot/archspec_1709217642129/work\\nargcomplete==1.12.3\\nasync-timeout==4.0.3\\nattrs==21.4.0\\nazure-cli-core==2.40.0\\nazure-cli-telemetry==1.0.8\\nazure-common==1.1.28\\nazure-core==1.32.0\\nazure-identity==1.10.0\\nazure-mgmt-compute==23.1.0\\nazure-mgmt-core==1.5.0\\nazure-mgmt-network==19.0.0\\nazure-mgmt-resource==20.0.0\\nbackoff==1.10.0\\nbcrypt==4.2.0\\nboltons @ file:///croot/boltons_1677628692245/work\\nboto3==1.26.76\\nbotocore==1.29.165\\nBrotli @ file:///croot/brotli-split_1714483155106/work\\ncachetools==5.3.2\\ncertifi==2023.11.17\\ncffi==1.16.0\\ncharset-normalizer==3.3.2\\nclick==8.1.7\\ncloudpickle==2.2.0\\ncolorful==0.5.5\\nconda @ file:///home/conda/feedstock_root/build_artifacts/conda_1729155160301/work\\nconda-content-trust @ file:///croot/conda-content-trust_1714483159009/work\\nconda-libmamba-solver @ file:///croot/conda-libmamba-solver_1706733287605/work/src\\nconda-package-handling @ file:///croot/conda-package-handling_1718138267740/work\\nconda_package_streaming @ file:///croot/conda-package-streaming_1718136078615/work\\ncryptography==38.0.1\\ncupy-cuda12x==13.1.0\\nCython==0.29.37\\ndistlib==0.3.7\\ndistro @ file:///croot/distro_1714488253808/work\\ndm-tree==0.1.8\\nexceptiongroup==1.2.2\\nFarama-Notifications==0.0.4\\nfastapi==0.109.2\\nfastrlock==0.8.2\\nfilelock==3.13.1\\nflatbuffers==24.3.25\\nfrozendict @ file:///croot/frozendict_1713194832637/work\\nfrozenlist==1.4.1\\nfsspec==2023.5.0\\ngoogle-api-core==1.34.0\\ngoogle-api-python-client==1.7.8\\ngoogle-auth==2.23.4\\ngoogle-auth-httplib2==0.2.0\\ngoogle-oauth==1.0.1\\ngoogleapis-common-protos==1.61.0\\ngrpcio==1.66.2\\ngymnasium==1.0.0\\nh11==0.12.0\\nhttplib2==0.22.0\\nhttptools==0.6.4\\nhumanfriendly==10.0\\nidna @ file:///croot/idna_1714398848350/work\\nimageio==2.34.2\\nimportlib-metadata==6.11.0\\nisodate==0.7.2\\nJinja2==3.1.2\\njmespath==1.0.1\\njsonpatch @ file:///croot/jsonpatch_1714483231291/work\\njsonpointer==2.1\\njsonschema==4.17.3\\nknack==0.10.1\\nlazy_loader==0.4\\nlibmambapy @ file:///croot/mamba-split_1714483352891/work/libmambapy\\nlz4==4.3.3\\nmarkdown-it-py==2.2.0\\nMarkupSafe==2.1.3\\nmdurl==0.1.2\\nmemray==1.10.0\\nmenuinst @ file:///croot/menuinst_1723567589013/work\\nmsal==1.18.0b1\\nmsal-extensions==1.0.0\\nmsgpack==1.0.7\\nmsrest==0.7.1\\nmsrestazure==0.6.4\\nmultidict==6.0.5\\nnetworkx==3.2.1\\nnumpy==1.26.4\\noauthlib==3.2.2\\nopencensus==0.11.3\\nopencensus-context==0.1.3\\nopentelemetry-api==1.1.0\\nopentelemetry-exporter-otlp==1.1.0\\nopentelemetry-exporter-otlp-proto-grpc==1.1.0\\nopentelemetry-proto==1.1.0\\nopentelemetry-sdk==1.1.0\\nopentelemetry-semantic-conventions==0.20b0\\npackaging==23.0\\npandas==1.5.3\\nparamiko==2.12.0\\npillow==10.3.0\\npkginfo==1.11.2\\nplatformdirs==3.11.0\\npluggy @ file:///tmp/build/80754af9/pluggy_1648024445381/work\\nportalocker==2.10.1\\nprometheus-client==0.19.0\\nprotobuf==3.20.3\\npsutil==5.9.8\\npy-spy==0.3.14\\npyarrow==14.0.2\\npyasn1==0.5.1\\npyasn1-modules==0.3.0\\npycosat @ file:///croot/pycosat_1714510623388/work\\npycparser @ file:///tmp/build/80754af9/pycparser_1636541352034/work\\npydantic==2.5.0\\npydantic_core==2.14.1\\nPygments==2.18.0\\nPyJWT==2.9.0\\nPyNaCl==1.5.0\\npyOpenSSL==23.0.0\\npyparsing==3.2.0\\npyrsistent==0.20.0\\nPySocks @ file:///tmp/build/80754af9/pysocks_1605305812635/work\\npython-dateutil==2.8.2\\npython-dotenv==1.0.1\\npytz==2022.7.1\\nPyYAML==6.0.1\\nray @ file:///home/ray/ray-3.0.0.dev0-cp39-cp39-manylinux2014_x86_64.whl#sha256=51dff03e70d4cb811226c482302b7c73c6b9a9b73177f4d49e3c85d05b555803\\nredis==3.5.3\\nrequests==2.31.0\\nrequests-oauthlib==2.0.0\\nrich==13.3.2\\nrsa==4.7.2\\nruamel.yaml @ file:///croot/ruamel.yaml_1727980156079/work\\nruamel.yaml.clib @ file:///croot/ruamel.yaml.clib_1727769819935/work\\ns3transfer==0.6.2\\nscikit-image==0.24.0\\nscipy==1.11.4\\nshellingham==1.5.4\\nsix==1.16.0\\nsmart-open==6.2.0\\nsniffio==1.3.1\\nstarlette==0.36.3\\ntabulate==0.9.0\\ntensorboardX==2.6.2.2\\ntifffile==2024.7.21\\ntqdm @ file:///croot/tqdm_1724853939799/work\\ntyper==0.12.3\\ntyping_extensions==4.8.0\\nuritemplate==3.0.1\\nurllib3==1.26.19\\nuvicorn==0.22.0\\nuvloop==0.19.0\\nvirtualenv==20.25.3\\nwatchfiles==0.19.0\\nwebsockets==11.0.3\\nyarl==1.9.4\\nzipp==3.19.2\\nzstandard @ file:///croot/zstandard_1728569189425/work', mimetype='text/plain', start_char_idx=None, end_char_idx=None, text_template='{metadata_str}\\n\\n{content}', metadata_template='{key}: {value}', metadata_seperator='\\n'),\n",
       " Document(id_='ba601698-3931-4dfb-9e15-da35f7f08261', embedding=None, metadata={'tag': 'section', 'tag_id': 'install-ray-java-with-maven', 'file_path': 'data/docs.ray.io/en/master/ray-overview/installation.html'}, excluded_embed_metadata_keys=[], excluded_llm_metadata_keys=[], relationships={}, text='\\nInstall Ray Java with Maven#\\nNote\\nAll Ray Java APIs are experimental and only supported by the community.\\nBefore installing Ray Java with Maven, you should install Ray Python with pip install -U ray . Note that the versions of Ray Java and Ray Python must match.\\nNote that nightly Ray python wheels are also required if you want to install Ray Java snapshot version.\\nFind the latest Ray Java release in the central repository. To use the latest Ray Java release in your application, add the following entries in your pom.xml:\\n<dependency>\\n  <groupId>io.ray</groupId>\\n  <artifactId>ray-api</artifactId>\\n  <version>${ray.version}</version>\\n</dependency>\\n<dependency>\\n  <groupId>io.ray</groupId>\\n  <artifactId>ray-runtime</artifactId>\\n  <version>${ray.version}</version>\\n</dependency>\\nThe latest Ray Java snapshot can be found in sonatype repository. To use the latest Ray Java snapshot in your application, add the following entries in your pom.xml:\\n<!-- only needed for snapshot version of ray -->\\n<repositories>\\n  <repository>\\n    <id>sonatype</id>\\n    <url>https://oss.sonatype.org/content/repositories/snapshots/</url>\\n    <releases>\\n      <enabled>false</enabled>\\n    </releases>\\n    <snapshots>\\n      <enabled>true</enabled>\\n    </snapshots>\\n  </repository>\\n</repositories>\\n\\n<dependencies>\\n  <dependency>\\n    <groupId>io.ray</groupId>\\n    <artifactId>ray-api</artifactId>\\n    <version>${ray.version}</version>\\n  </dependency>\\n  <dependency>\\n    <groupId>io.ray</groupId>\\n    <artifactId>ray-runtime</artifactId>\\n    <version>${ray.version}</version>\\n  </dependency>\\n</dependencies>\\nNote\\nWhen you run pip install to install Ray, Java jars are installed as well. The above dependencies are only used to build your Java code and to run your code in local mode.\\nIf you want to run your Java code in a multi-node Ray cluster, it’s better to exclude Ray jars when packaging your code to avoid jar conficts if the versions (installed Ray with pip install and maven dependencies) don’t match.', mimetype='text/plain', start_char_idx=None, end_char_idx=None, text_template='{metadata_str}\\n\\n{content}', metadata_template='{key}: {value}', metadata_seperator='\\n'),\n",
       " Document(id_='ecea82f3-8788-4dce-b60d-846fb10d9ffd', embedding=None, metadata={'tag': 'section', 'tag_id': 'install-ray-c', 'file_path': 'data/docs.ray.io/en/master/ray-overview/installation.html'}, excluded_embed_metadata_keys=[], excluded_llm_metadata_keys=[], relationships={}, text='\\nInstall Ray C++#\\nNote\\nAll Ray C++ APIs are experimental and only supported by the community.\\nYou can install and use Ray C++ API as follows.\\npip install -U ray[cpp]\\n\\n# Create a Ray C++ project template to start with.\\nray cpp --generate-bazel-project-template-to ray-template\\nNote\\nIf you build Ray from source, remove the build option build --cxxopt=\"-D_GLIBCXX_USE_CXX11_ABI=0\" from the file cpp/example/.bazelrc before running your application. The related issue is this.', mimetype='text/plain', start_char_idx=None, end_char_idx=None, text_template='{metadata_str}\\n\\n{content}', metadata_template='{key}: {value}', metadata_seperator='\\n')]"
      ]
     },
     "execution_count": 2,
     "metadata": {},
     "output_type": "execute_result"
    }
   ],
   "source": [
    "docs"
   ]
  },
  {
   "cell_type": "code",
   "execution_count": 3,
   "id": "79869054-0200-4642-a47e-c4b94c2164c4",
   "metadata": {},
   "outputs": [
    {
     "name": "stdout",
     "output_type": "stream",
     "text": [
      "{'tag': 'section', 'tag_id': 'installing-ray', 'file_path': 'data/docs.ray.io/en/master/ray-overview/installation.html'}\n",
      "{'tag': 'section', 'tag_id': 'official-releases', 'file_path': 'data/docs.ray.io/en/master/ray-overview/installation.html'}\n",
      "{'tag': 'section', 'tag_id': 'from-wheels', 'file_path': 'data/docs.ray.io/en/master/ray-overview/installation.html'}\n",
      "{'tag': 'section', 'tag_id': 'daily-releases-nightlies', 'file_path': 'data/docs.ray.io/en/master/ray-overview/installation.html'}\n",
      "{'tag': 'section', 'tag_id': 'installing-from-a-specific-commit', 'file_path': 'data/docs.ray.io/en/master/ray-overview/installation.html'}\n",
      "{'tag': 'section', 'tag_id': 'm1-mac-apple-silicon-support', 'file_path': 'data/docs.ray.io/en/master/ray-overview/installation.html'}\n",
      "{'tag': 'section', 'tag_id': 'windows-support', 'file_path': 'data/docs.ray.io/en/master/ray-overview/installation.html'}\n",
      "{'tag': 'section', 'tag_id': 'installing-ray-on-arch-linux', 'file_path': 'data/docs.ray.io/en/master/ray-overview/installation.html'}\n",
      "{'tag': 'section', 'tag_id': 'installing-from-conda-forge', 'file_path': 'data/docs.ray.io/en/master/ray-overview/installation.html'}\n",
      "{'tag': 'section', 'tag_id': 'building-ray-from-source', 'file_path': 'data/docs.ray.io/en/master/ray-overview/installation.html'}\n",
      "{'tag': 'section', 'tag_id': 'docker-source-images', 'file_path': 'data/docs.ray.io/en/master/ray-overview/installation.html'}\n",
      "{'tag': 'section', 'tag_id': 'launch-ray-in-docker', 'file_path': 'data/docs.ray.io/en/master/ray-overview/installation.html'}\n",
      "{'tag': 'section', 'tag_id': 'test-if-the-installation-succeeded', 'file_path': 'data/docs.ray.io/en/master/ray-overview/installation.html'}\n",
      "{'tag': 'section', 'tag_id': 'installed-python-dependencies', 'file_path': 'data/docs.ray.io/en/master/ray-overview/installation.html'}\n",
      "{'tag': 'section', 'tag_id': 'install-ray-java-with-maven', 'file_path': 'data/docs.ray.io/en/master/ray-overview/installation.html'}\n",
      "{'tag': 'section', 'tag_id': 'install-ray-c', 'file_path': 'data/docs.ray.io/en/master/ray-overview/installation.html'}\n"
     ]
    }
   ],
   "source": [
    "for doc in docs:\n",
    "    print(doc.metadata)"
   ]
  }
 ],
 "metadata": {
  "kernelspec": {
   "display_name": "llamaindex",
   "language": "python",
   "name": "python3"
  },
  "language_info": {
   "codemirror_mode": {
    "name": "ipython",
    "version": 3
   },
   "file_extension": ".py",
   "mimetype": "text/x-python",
   "name": "python",
   "nbconvert_exporter": "python",
   "pygments_lexer": "ipython3",
   "version": "3.11.10"
  }
 },
 "nbformat": 4,
 "nbformat_minor": 5
}
