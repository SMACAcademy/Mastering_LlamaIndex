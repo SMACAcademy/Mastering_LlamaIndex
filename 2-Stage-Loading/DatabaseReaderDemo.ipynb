{
 "cells": [
  {
   "cell_type": "markdown",
   "metadata": {},
   "source": [
    "<a href=\"https://colab.research.google.com/github/run-llama/llama_index/blob/main/docs/docs/examples/data_connectors/DatabaseReaderDemo.ipynb\" target=\"_parent\"><img src=\"https://colab.research.google.com/assets/colab-badge.svg\" alt=\"Open In Colab\"/></a>"
   ]
  },
  {
   "attachments": {},
   "cell_type": "markdown",
   "metadata": {},
   "source": [
    "# Database Reader"
   ]
  },
  {
   "cell_type": "markdown",
   "metadata": {},
   "source": [
    "If you're opening this Notebook on colab, you will probably need to install LlamaIndex 🦙."
   ]
  },
  {
   "cell_type": "code",
   "execution_count": null,
   "metadata": {},
   "outputs": [],
   "source": [
    "%pip install llama-index-readers-database"
   ]
  },
  {
   "cell_type": "code",
   "execution_count": null,
   "metadata": {},
   "outputs": [],
   "source": [
    "!pip install llama-index"
   ]
  },
  {
   "cell_type": "code",
   "execution_count": null,
   "metadata": {},
   "outputs": [],
   "source": [
    "import logging\n",
    "import sys\n",
    "\n",
    "logging.basicConfig(stream=sys.stdout, level=logging.INFO)\n",
    "logging.getLogger().addHandler(logging.StreamHandler(stream=sys.stdout))"
   ]
  },
  {
   "cell_type": "code",
   "execution_count": null,
   "metadata": {},
   "outputs": [],
   "source": [
    "from __future__ import absolute_import\n",
    "\n",
    "# My OpenAI Key\n",
    "import getpass\n",
    "import os\n",
    "\n",
    "os.environ[\"OPENAI_API_KEY\"] = getpass.getpass(\"open ai api key: \")\n",
    "\n",
    "from llama_index.readers.database import DatabaseReader\n",
    "from llama_index.core import VectorStoreIndex"
   ]
  },
  {
   "cell_type": "code",
   "execution_count": null,
   "metadata": {},
   "outputs": [],
   "source": [
    "!docker run --name my_postgres -e POSTGRES_USER=postgres -e POSTGRES_PASSWORD=FakeExamplePassword -e POSTGRES_DB=postgres -p 5432:5432 -d postgres\n"
   ]
  },
  {
   "cell_type": "code",
   "execution_count": 44,
   "metadata": {},
   "outputs": [],
   "source": [
    "# Initialize DatabaseReader object with the following parameters:\n",
    "\n",
    "db = DatabaseReader(\n",
    "    scheme=\"postgresql\",  # Database Scheme\n",
    "    host=\"localhost\",  # Database Host\n",
    "    port=\"5432\",  # Database Port\n",
    "    user=\"postgres\",  # Database User\n",
    "    password=\"FakeExamplePassword\",  # Database Password\n",
    "    dbname=\"postgres\",  # Database Name\n",
    ")"
   ]
  },
  {
   "cell_type": "code",
   "execution_count": null,
   "metadata": {},
   "outputs": [],
   "source": [
    "### DatabaseReader class ###\n",
    "# db is an instance of DatabaseReader:\n",
    "print(type(db))\n",
    "# DatabaseReader available method:\n",
    "print(type(db.load_data))\n",
    "\n",
    "### SQLDatabase class ###\n",
    "# db.sql is an instance of SQLDatabase:\n",
    "print(type(db.sql_database))\n",
    "# SQLDatabase available methods:\n",
    "print(type(db.sql_database.from_uri))\n",
    "print(type(db.sql_database.get_single_table_info))\n",
    "print(type(db.sql_database.get_table_columns))\n",
    "print(type(db.sql_database.get_usable_table_names))\n",
    "print(type(db.sql_database.insert_into_table))\n",
    "print(type(db.sql_database.run_sql))\n",
    "# SQLDatabase available properties:\n",
    "print(type(db.sql_database.dialect))\n",
    "print(type(db.sql_database.engine))"
   ]
  },
  {
   "cell_type": "code",
   "execution_count": null,
   "metadata": {},
   "outputs": [],
   "source": [
    "### Testing DatabaseReader\n",
    "### from SQLDatabase, SQLAlchemy engine and Database URI:\n",
    "\n",
    "# From SQLDatabase instance:\n",
    "print(type(db.sql_database))\n",
    "db_from_sql_database = DatabaseReader(sql_database=db.sql_database)\n",
    "print(type(db_from_sql_database))\n",
    "\n",
    "# From SQLAlchemy engine:\n",
    "print(type(db.sql_database.engine))\n",
    "db_from_engine = DatabaseReader(engine=db.sql_database.engine)\n",
    "print(type(db_from_engine))\n",
    "\n",
    "# From Database URI:\n",
    "print(type(db.uri))\n",
    "db_from_uri = DatabaseReader(uri=db.uri)\n",
    "print(type(db_from_uri))"
   ]
  },
  {
   "cell_type": "code",
   "execution_count": 45,
   "metadata": {},
   "outputs": [
    {
     "name": "stdout",
     "output_type": "stream",
     "text": [
      "Users table created.\n"
     ]
    }
   ],
   "source": [
    "from sqlalchemy import Table, Column, Integer, String, MetaData\n",
    "\n",
    "metadata = MetaData()\n",
    "users_table = Table(\n",
    "    \"users\", metadata,\n",
    "    Column(\"id\", Integer, primary_key=True),\n",
    "    Column(\"name\", String, nullable=False),\n",
    "    Column(\"age\", Integer, nullable=False)\n",
    ")\n",
    "\n",
    "# Create the table\n",
    "metadata.create_all(engine)\n",
    "print(\"Users table created.\")\n"
   ]
  },
  {
   "cell_type": "code",
   "execution_count": 46,
   "metadata": {},
   "outputs": [
    {
     "name": "stdout",
     "output_type": "stream",
     "text": [
      "All tables in the public schema:\n",
      "('postgres', 'public', 'users', 'BASE TABLE', None, None, None, None, None, 'YES', 'NO', None)\n"
     ]
    }
   ],
   "source": [
    "with engine.connect() as conn:\n",
    "    result = conn.execute(text(\n",
    "        \"SELECT * FROM information_schema.tables WHERE table_schema = 'public';\"\n",
    "    ))\n",
    "    print(\"All tables in the public schema:\")\n",
    "    for row in result:\n",
    "        print(row)\n"
   ]
  },
  {
   "cell_type": "code",
   "execution_count": 47,
   "metadata": {},
   "outputs": [
    {
     "name": "stdout",
     "output_type": "stream",
     "text": [
      "Sample data inserted into the users table.\n"
     ]
    }
   ],
   "source": [
    "with engine.connect() as conn:\n",
    "    # Start a transaction\n",
    "    trans = conn.begin()\n",
    "    try:\n",
    "        conn.execute(users_table.insert(), [\n",
    "            {\"name\": \"Alice\", \"age\": 25},\n",
    "            {\"name\": \"Bob\", \"age\": 30},\n",
    "            {\"name\": \"Charlie\", \"age\": 17},\n",
    "            {\"name\": \"Diana\", \"age\": 22}\n",
    "        ])\n",
    "        # Commit the transaction\n",
    "        trans.commit()\n",
    "        print(\"Sample data inserted into the users table.\")\n",
    "    except Exception as e:\n",
    "        trans.rollback()  # Rollback in case of an error\n",
    "        print(f\"Error: {e}\")\n"
   ]
  },
  {
   "cell_type": "code",
   "execution_count": 48,
   "metadata": {},
   "outputs": [
    {
     "name": "stdout",
     "output_type": "stream",
     "text": [
      "Number of rows in users table: 8\n"
     ]
    }
   ],
   "source": [
    "with engine.connect() as conn:\n",
    "    result = conn.execute(text(\"SELECT COUNT(*) FROM users;\"))\n",
    "    print(\"Number of rows in users table:\", result.scalar())\n"
   ]
  },
  {
   "cell_type": "code",
   "execution_count": 49,
   "metadata": {},
   "outputs": [
    {
     "name": "stdout",
     "output_type": "stream",
     "text": [
      "(21, 'Alice', 25)\n",
      "(22, 'Bob', 30)\n",
      "(23, 'Charlie', 17)\n",
      "(24, 'Diana', 22)\n",
      "(25, 'Alice', 25)\n",
      "(26, 'Bob', 30)\n",
      "(27, 'Charlie', 17)\n",
      "(28, 'Diana', 22)\n"
     ]
    }
   ],
   "source": [
    "from sqlalchemy import text\n",
    "\n",
    "# Execute the query using sqlalchemy.text\n",
    "with engine.connect() as conn:\n",
    "    result = conn.execute(text(\"SELECT * FROM users;\"))\n",
    "    for row in result:\n",
    "        print(row)\n"
   ]
  },
  {
   "cell_type": "code",
   "execution_count": 50,
   "metadata": {},
   "outputs": [],
   "source": [
    "# The below SQL Query example returns a list values of each row\n",
    "# with concatenated text from the name and age columns\n",
    "# from the users table where the age is greater than or equal to 18\n",
    "\n",
    "query = f\"\"\"\n",
    "    SELECT\n",
    "        CONCAT(name, ' is ', age, ' years old.') AS text\n",
    "    FROM public.users\n",
    "    WHERE age >= 18\n",
    "    \"\"\""
   ]
  },
  {
   "cell_type": "code",
   "execution_count": 51,
   "metadata": {},
   "outputs": [
    {
     "name": "stdout",
     "output_type": "stream",
     "text": [
      "<class 'tuple'>\n",
      "(\"[('Alice is 25 years old.',), ('Bob is 30 years old.',), ('Diana is 22 years old.',), ('Alice is 25 years old.',), ('Bob is 30 years old.',), ('Diana is 22 years old.',)]\", {'result': [('Alice is 25 years old.',), ('Bob is 30 years old.',), ('Diana is 22 years old.',), ('Alice is 25 years old.',), ('Bob is 30 years old.',), ('Diana is 22 years old.',)], 'col_keys': ['text']})\n"
     ]
    }
   ],
   "source": [
    "# Please refer to llama_index.utilities.sql_wrapper\n",
    "# SQLDatabase.run_sql method\n",
    "texts = db.sql_database.run_sql(command=query)\n",
    "\n",
    "# Display type(texts) and texts\n",
    "# type(texts) must return <class 'list'>\n",
    "print(type(texts))\n",
    "\n",
    "# Documents must return a list of Tuple objects\n",
    "print(texts)"
   ]
  },
  {
   "cell_type": "code",
   "execution_count": 52,
   "metadata": {},
   "outputs": [
    {
     "data": {
      "text/plain": [
       "(\"[('Alice is 25 years old.',), ('Bob is 30 years old.',), ('Diana is 22 years old.',), ('Alice is 25 years old.',), ('Bob is 30 years old.',), ('Diana is 22 years old.',)]\",\n",
       " {'result': [('Alice is 25 years old.',),\n",
       "   ('Bob is 30 years old.',),\n",
       "   ('Diana is 22 years old.',),\n",
       "   ('Alice is 25 years old.',),\n",
       "   ('Bob is 30 years old.',),\n",
       "   ('Diana is 22 years old.',)],\n",
       "  'col_keys': ['text']})"
      ]
     },
     "execution_count": 52,
     "metadata": {},
     "output_type": "execute_result"
    }
   ],
   "source": [
    "texts"
   ]
  },
  {
   "cell_type": "code",
   "execution_count": 53,
   "metadata": {},
   "outputs": [
    {
     "name": "stdout",
     "output_type": "stream",
     "text": [
      "<class 'list'>\n",
      "[Document(id_='3647add4-7fae-4624-9139-dfdf6caea0ad', embedding=None, metadata={}, excluded_embed_metadata_keys=[], excluded_llm_metadata_keys=[], relationships={}, text='text: Alice is 25 years old.', mimetype='text/plain', start_char_idx=None, end_char_idx=None, text_template='{metadata_str}\\n\\n{content}', metadata_template='{key}: {value}', metadata_seperator='\\n'), Document(id_='7a92217b-946b-4b78-896d-2534000254f2', embedding=None, metadata={}, excluded_embed_metadata_keys=[], excluded_llm_metadata_keys=[], relationships={}, text='text: Bob is 30 years old.', mimetype='text/plain', start_char_idx=None, end_char_idx=None, text_template='{metadata_str}\\n\\n{content}', metadata_template='{key}: {value}', metadata_seperator='\\n'), Document(id_='3820c036-b111-413a-9bb4-bd5115d2b00f', embedding=None, metadata={}, excluded_embed_metadata_keys=[], excluded_llm_metadata_keys=[], relationships={}, text='text: Diana is 22 years old.', mimetype='text/plain', start_char_idx=None, end_char_idx=None, text_template='{metadata_str}\\n\\n{content}', metadata_template='{key}: {value}', metadata_seperator='\\n'), Document(id_='32121d78-2a37-4687-81f4-ca97debf135e', embedding=None, metadata={}, excluded_embed_metadata_keys=[], excluded_llm_metadata_keys=[], relationships={}, text='text: Alice is 25 years old.', mimetype='text/plain', start_char_idx=None, end_char_idx=None, text_template='{metadata_str}\\n\\n{content}', metadata_template='{key}: {value}', metadata_seperator='\\n'), Document(id_='4d9fd5f5-82b3-4879-a656-bb127282e987', embedding=None, metadata={}, excluded_embed_metadata_keys=[], excluded_llm_metadata_keys=[], relationships={}, text='text: Bob is 30 years old.', mimetype='text/plain', start_char_idx=None, end_char_idx=None, text_template='{metadata_str}\\n\\n{content}', metadata_template='{key}: {value}', metadata_seperator='\\n'), Document(id_='e6dc300f-6e37-49a1-be63-267eb4f859b3', embedding=None, metadata={}, excluded_embed_metadata_keys=[], excluded_llm_metadata_keys=[], relationships={}, text='text: Diana is 22 years old.', mimetype='text/plain', start_char_idx=None, end_char_idx=None, text_template='{metadata_str}\\n\\n{content}', metadata_template='{key}: {value}', metadata_seperator='\\n')]\n"
     ]
    }
   ],
   "source": [
    "# Please refer to llama_index.readers.database.DatabaseReader.load_data\n",
    "# DatabaseReader.load_data method\n",
    "documents = db.load_data(query=query)\n",
    "\n",
    "# Display type(documents) and documents\n",
    "# type(documents) must return <class 'list'>\n",
    "print(type(documents))\n",
    "\n",
    "# Documents must return a list of Document objects\n",
    "print(documents)"
   ]
  },
  {
   "cell_type": "code",
   "execution_count": 54,
   "metadata": {},
   "outputs": [],
   "source": [
    "index = VectorStoreIndex.from_documents(documents)"
   ]
  },
  {
   "cell_type": "code",
   "execution_count": 55,
   "metadata": {},
   "outputs": [
    {
     "data": {
      "text/plain": [
       "<llama_index.core.indices.vector_store.base.VectorStoreIndex at 0x18df71a4f50>"
      ]
     },
     "execution_count": 55,
     "metadata": {},
     "output_type": "execute_result"
    }
   ],
   "source": [
    "index"
   ]
  }
 ],
 "metadata": {
  "kernelspec": {
   "display_name": "llamaindex",
   "language": "python",
   "name": "python3"
  },
  "language_info": {
   "codemirror_mode": {
    "name": "ipython",
    "version": 3
   },
   "file_extension": ".py",
   "mimetype": "text/x-python",
   "name": "python",
   "nbconvert_exporter": "python",
   "pygments_lexer": "ipython3",
   "version": "3.11.10"
  }
 },
 "nbformat": 4,
 "nbformat_minor": 2
}
