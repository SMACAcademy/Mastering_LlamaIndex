{
 "cells": [
  {
   "cell_type": "code",
   "execution_count": 7,
   "metadata": {},
   "outputs": [
    {
     "name": "stdout",
     "output_type": "stream",
     "text": [
      "Node ID: b9a9039b-4513-4919-a039-1f14c83a12a7, Text: LlamaIndex helps you build custom retrieval systems. It simplifies document indexing.\n",
      "Node ID: ffd02532-c6c9-4910-9956-4eb8e05b4842, Text: Nodes are essential components in any index structure.\n"
     ]
    }
   ],
   "source": [
    "from llama_index.core.node_parser import SentenceSplitter\n",
    "from llama_index.core import Document\n",
    "# Initialize the parser\n",
    "parser = SentenceSplitter()\n",
    "\n",
    "# Wrap your text in Document objects\n",
    "documents = [\n",
    "    Document(text=\"LlamaIndex helps you build custom retrieval systems. It simplifies document indexing.\"),\n",
    "    Document(text=\"Nodes are essential components in any index structure.\")\n",
    "]\n",
    "\n",
    "# Parse the documents into nodes\n",
    "nodes = parser.get_nodes_from_documents(documents)\n",
    "\n",
    "# Display the parsed nodes\n",
    "for node in nodes:\n",
    "    print(f\"Node ID: {node.node_id}, Text: {node.text}\")\n"
   ]
  },
  {
   "cell_type": "code",
   "execution_count": 8,
   "metadata": {},
   "outputs": [
    {
     "name": "stdout",
     "output_type": "stream",
     "text": [
      "Node 1 NEXT Relationship: node_002\n",
      "Node 2 PREVIOUS Relationship: node_001\n"
     ]
    }
   ],
   "source": [
    "from llama_index.core.schema import TextNode, NodeRelationship, RelatedNodeInfo\n",
    "\n",
    "# Manually create TextNode instances\n",
    "node1 = TextNode(text=\"LlamaIndex is a tool for custom retrieval systems.\", id_=\"node_001\")\n",
    "node2 = TextNode(text=\"Nodes help structure documents in an index.\", id_=\"node_002\")\n",
    "\n",
    "# Define relationships between nodes\n",
    "node1.relationships[NodeRelationship.NEXT] = RelatedNodeInfo(\n",
    "    node_id=node2.node_id\n",
    ")\n",
    "node2.relationships[NodeRelationship.PREVIOUS] = RelatedNodeInfo(\n",
    "    node_id=node1.node_id\n",
    ")\n",
    "\n",
    "# Create a list of nodes\n",
    "nodes = [node1, node2]\n",
    "\n",
    "# Display the relationships\n",
    "print(f\"Node 1 NEXT Relationship: {node1.relationships[NodeRelationship.NEXT].node_id}\")\n",
    "print(f\"Node 2 PREVIOUS Relationship: {node2.relationships[NodeRelationship.PREVIOUS].node_id}\")\n"
   ]
  },
  {
   "cell_type": "code",
   "execution_count": 9,
   "metadata": {},
   "outputs": [
    {
     "name": "stdout",
     "output_type": "stream",
     "text": [
      "Parent Relationship Metadata: {'description': 'Overview of nodes in LlamaIndex'}\n"
     ]
    }
   ],
   "source": [
    "node2.relationships[NodeRelationship.PARENT] = RelatedNodeInfo(\n",
    "    node_id=node1.node_id, metadata={\"description\": \"Overview of nodes in LlamaIndex\"}\n",
    ")\n",
    "\n",
    "# Display the metadata\n",
    "print(f\"Parent Relationship Metadata: {node2.relationships[NodeRelationship.PARENT].metadata}\")\n"
   ]
  },
  {
   "cell_type": "code",
   "execution_count": 10,
   "metadata": {},
   "outputs": [
    {
     "name": "stdout",
     "output_type": "stream",
     "text": [
      "Original Node ID: node_001\n",
      "Updated Node ID: custom_node_id_001\n"
     ]
    }
   ],
   "source": [
    "print(f\"Original Node ID: {node1.node_id}\")\n",
    "\n",
    "# Update the node ID\n",
    "node1.node_id = \"custom_node_id_001\"\n",
    "print(f\"Updated Node ID: {node1.node_id}\")\n"
   ]
  }
 ],
 "metadata": {
  "kernelspec": {
   "display_name": "llamaindex",
   "language": "python",
   "name": "python3"
  },
  "language_info": {
   "codemirror_mode": {
    "name": "ipython",
    "version": 3
   },
   "file_extension": ".py",
   "mimetype": "text/x-python",
   "name": "python",
   "nbconvert_exporter": "python",
   "pygments_lexer": "ipython3",
   "version": "3.11.10"
  }
 },
 "nbformat": 4,
 "nbformat_minor": 2
}
