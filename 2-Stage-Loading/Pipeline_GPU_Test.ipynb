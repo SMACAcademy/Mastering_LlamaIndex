{
 "cells": [
  {
   "cell_type": "code",
   "execution_count": null,
   "metadata": {},
   "outputs": [],
   "source": [
    "import nest_asyncio\n",
    "nest_asyncio.apply()"
   ]
  },
  {
   "cell_type": "code",
   "execution_count": null,
   "metadata": {},
   "outputs": [],
   "source": [
    "from llama_index.core.node_parser import SentenceSplitter\n",
    "from llama_index.core.extractors import (\n",
    "    SummaryExtractor,\n",
    "    QuestionsAnsweredExtractor,\n",
    "    TitleExtractor,\n",
    "    KeywordExtractor,\n",
    ")\n",
    "from llama_index.extractors.entity import EntityExtractor\n"
   ]
  },
  {
   "cell_type": "code",
   "execution_count": null,
   "metadata": {},
   "outputs": [],
   "source": [
    "from llama_index.core import Settings\n",
    "from llama_index.llms.ollama import Ollama\n",
    "\n",
    "Settings.llm = Ollama(\n",
    "    model='llama3.2:latest',\n",
    "    base_url='http://localhost:11434',\n",
    "    # temperature=0.1,\n",
    "    #mean_resizing=False,\n",
    ")"
   ]
  },
  {
   "cell_type": "code",
   "execution_count": null,
   "metadata": {},
   "outputs": [],
   "source": [
    "\n",
    "from span_marker import SpanMarkerModel\n",
    "\n",
    "# Load the pretrained SpanMarker model\n",
    "model = SpanMarkerModel.from_pretrained(\"tomaarsen/span-marker-mbert-base-multinerd\")\n"
   ]
  },
  {
   "cell_type": "code",
   "execution_count": null,
   "metadata": {},
   "outputs": [],
   "source": [
    "entity_extractor = EntityExtractor(\n",
    "    prediction_threshold=0.5,\n",
    "    label_entities=False,  # include the entity label in the metadata (can be erroneous)\n",
    "    device=\"cpu\",  # set to \"cuda\" if you have a GPU or \"cpu\" if you have CPU alone\n",
    "    model_name=\"tomaarsen/span-marker-mbert-base-multinerd\",  # Local model name\n",
    "    entity_types=[\"PERSON\", \"ORG\", \"GPE\"],\n",
    "    batch_size=1,\n",
    ")\n",
    "\n"
   ]
  },
  {
   "cell_type": "code",
   "execution_count": null,
   "metadata": {},
   "outputs": [],
   "source": [
    "transformations = [\n",
    "    SentenceSplitter(),\n",
    "    #TitleExtractor(nodes=5),  # Extracts up to 5 titles.\n",
    "    #QuestionsAnsweredExtractor(questions=3),  # Extracts up to 3 questions.\n",
    "    SummaryExtractor(summaries=[\"prev\", \"self\"]),  # Summarizes previous and current sections.\n",
    "    KeywordExtractor(keywords=10),  # Extracts up to 10 keywords.\n",
    "    entity_extractor,  \n",
    "]\n"
   ]
  },
  {
   "cell_type": "code",
   "execution_count": null,
   "metadata": {},
   "outputs": [],
   "source": [
    "%pip install nest_asyncio"
   ]
  },
  {
   "cell_type": "code",
   "execution_count": null,
   "metadata": {},
   "outputs": [],
   "source": []
  },
  {
   "cell_type": "code",
   "execution_count": null,
   "metadata": {},
   "outputs": [],
   "source": [
    "from llama_index.core.ingestion import IngestionPipeline\n",
    "\n",
    "pipeline = IngestionPipeline(transformations=transformations)\n"
   ]
  },
  {
   "cell_type": "code",
   "execution_count": null,
   "metadata": {},
   "outputs": [],
   "source": [
    "from llama_index.core import SimpleDirectoryReader\n",
    "\n",
    "documents = SimpleDirectoryReader(input_files=['../data/paul_graham_essay3.txt']).load_data()\n",
    "\n",
    "#documents = SimpleDirectoryReader(input_files=['../data/paul_graham_short.txt']).load_data()\n"
   ]
  },
  {
   "cell_type": "code",
   "execution_count": null,
   "metadata": {},
   "outputs": [],
   "source": [
    "def batch_documents(documents, batch_size):\n",
    "    \"\"\"Splits documents into smaller batches.\"\"\"\n",
    "    for i in range(0, len(documents), batch_size):\n",
    "        yield documents[i:i + batch_size]\n"
   ]
  },
  {
   "cell_type": "code",
   "execution_count": null,
   "metadata": {},
   "outputs": [],
   "source": [
    "nodes = pipeline.run(documents=documents)"
   ]
  },
  {
   "cell_type": "code",
   "execution_count": null,
   "metadata": {},
   "outputs": [],
   "source": [
    "#\n",
    "\n",
    "# Process documents in batches\n",
    "batch_size = 5  # Adjust the batch size as needed\n",
    "for doc_batch in batch_documents(documents, batch_size):\n",
    "    nodes = pipeline.run(doc_batch)  # Process only the current batch\n",
    "    # Handle the nodes, e.g., save or print metadata\n",
    "    for node in nodes:\n",
    "        print(node.metadata)\n"
   ]
  },
  {
   "cell_type": "code",
   "execution_count": null,
   "metadata": {},
   "outputs": [],
   "source": [
    "len(documents)"
   ]
  },
  {
   "cell_type": "code",
   "execution_count": null,
   "metadata": {},
   "outputs": [],
   "source": [
    "nodes"
   ]
  },
  {
   "cell_type": "code",
   "execution_count": null,
   "metadata": {},
   "outputs": [],
   "source": [
    "nodes[2].metadata"
   ]
  },
  {
   "cell_type": "code",
   "execution_count": null,
   "metadata": {},
   "outputs": [],
   "source": [
    "for node in nodes:\n",
    "    print(f\"Node ID: {node.node_id}\")\n",
    "    print(\"-------------------------------------------------------------\")\n",
    "    print(f\"Document Title: {node.metadata.get('document_title', 'N/A')}\")\n",
    "    print(\"-------------------------------------------------------------\")\n",
    "    print(f\"Questions Answered: {node.metadata.get('questions_this_excerpt_can_answer', 'N/A')}\")\n",
    "    print(\"-------------------------------------------------------------\")\n",
    "    print(f\"Section Summary: {node.metadata.get('section_summary', 'N/A')}\")\n",
    "    print(\"-------------------------------------------------------------\")\n",
    "    print(f\"Excerpt Keywords: {node.metadata.get('excerpt_keywords', 'N/A')}\")\n",
    "    print(\"-------------------------------------------------------------\")\n",
    "    print(f\"Entities: {node.metadata.get('entities', 'N/A')}\")\n",
    "    print(\"======================================================\")\n",
    "    print(\"======================================================\")\n"
   ]
  },
  {
   "cell_type": "code",
   "execution_count": null,
   "metadata": {},
   "outputs": [],
   "source": [
    "from llama_index.core.extractors import BaseExtractor\n",
    "\n",
    "class CustomExtractor(BaseExtractor):\n",
    "    async def aextract(self, nodes) -> list:\n",
    "        metadata_list = [\n",
    "            {\n",
    "                \"custom_metadata\": node.metadata.get(\"document_title\", \"N/A\") +\n",
    "                \"\\nKeywords: \" + node.metadata.get(\"excerpt_keywords\", \"N/A\")\n",
    "            }\n",
    "            for node in nodes\n",
    "        ]\n",
    "        return metadata_list\n"
   ]
  },
  {
   "cell_type": "code",
   "execution_count": null,
   "metadata": {},
   "outputs": [],
   "source": [
    "custom_extractor = CustomExtractor()\n",
    "\n",
    "pipeline = IngestionPipeline(\n",
    "    transformations=[\n",
    "        SentenceSplitter(),\n",
    "        custom_extractor,\n",
    "    ]\n",
    ")\n"
   ]
  }
 ],
 "metadata": {
  "kernelspec": {
   "display_name": "llamaindex",
   "language": "python",
   "name": "python3"
  },
  "language_info": {
   "codemirror_mode": {
    "name": "ipython",
    "version": 3
   },
   "file_extension": ".py",
   "mimetype": "text/x-python",
   "name": "python",
   "nbconvert_exporter": "python",
   "pygments_lexer": "ipython3",
   "version": "3.11.10"
  }
 },
 "nbformat": 4,
 "nbformat_minor": 2
}
