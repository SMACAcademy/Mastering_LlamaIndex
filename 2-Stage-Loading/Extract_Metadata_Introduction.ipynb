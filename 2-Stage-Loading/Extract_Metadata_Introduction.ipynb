{
 "cells": [
  {
   "cell_type": "code",
   "execution_count": null,
   "metadata": {},
   "outputs": [],
   "source": [
    "%pip install nest_asyncio\n"
   ]
  },
  {
   "cell_type": "code",
   "execution_count": null,
   "metadata": {},
   "outputs": [],
   "source": [
    "from llama_index.core.extractors import (\n",
    "    TitleExtractor,\n",
    "    QuestionsAnsweredExtractor,\n",
    ")\n",
    "from llama_index.core.node_parser import TokenTextSplitter\n",
    "from llama_index.core import Document\n",
    "import getpass\n",
    "import os\n",
    "\n",
    "\n",
    "\n",
    "os.environ[\"OPENAI_API_KEY\"] = getpass.getpass(\"open ai api key: \")\n",
    "\n",
    "\n",
    "import nest_asyncio\n",
    "nest_asyncio.apply()\n",
    "\n",
    "# Initialize a text splitter\n",
    "text_splitter = TokenTextSplitter(\n",
    "    separator=\" \", chunk_size=512, chunk_overlap=128\n",
    ")\n",
    "\n",
    "# Set up metadata extractors\n",
    "title_extractor = TitleExtractor(nodes=5)  # Extract titles for 5 nodes\n",
    "qa_extractor = QuestionsAnsweredExtractor(questions=3)  # Extract 3 questions per node\n",
    "\n",
    "# Assume 'documents' is a list of text or Document objects\n",
    "documents = [\n",
    "    Document(text=\"LlamaIndex is a tool for building retrieval systems. It simplifies indexing and metadata extraction.\"),\n",
    "    Document(text=\"Metadata extraction helps identify key information such as titles, summaries, and entities.\")\n",
    "]\n",
    "\n",
    "# Chain transformations\n",
    "from llama_index.core.ingestion import IngestionPipeline\n",
    "\n",
    "pipeline = IngestionPipeline(\n",
    "    transformations=[text_splitter, title_extractor, qa_extractor]\n",
    ")\n",
    "\n",
    "# Run the pipeline to extract nodes\n",
    "nodes = pipeline.run(\n",
    "    documents=documents,\n",
    "    in_place=True,\n",
    "    show_progress=True,\n",
    ")\n",
    "\n"
   ]
  },
  {
   "cell_type": "code",
   "execution_count": null,
   "metadata": {},
   "outputs": [],
   "source": [
    "# Display the extracted metadata\n",
    "for node in nodes:\n",
    "    print(f\"Node ID: {node.node_id}, Metadata: {node.metadata['document_title']}\")\n"
   ]
  },
  {
   "cell_type": "code",
   "execution_count": null,
   "metadata": {},
   "outputs": [],
   "source": [
    "# Display the extracted metadata\n",
    "for node in nodes:\n",
    "    print(f\"Questions this excerpt can answer: \\n{node.metadata['questions_this_excerpt_can_answer']}\")"
   ]
  },
  {
   "cell_type": "code",
   "execution_count": null,
   "metadata": {},
   "outputs": [],
   "source": [
    "nodes"
   ]
  }
 ],
 "metadata": {
  "kernelspec": {
   "display_name": "llamaindex",
   "language": "python",
   "name": "python3"
  },
  "language_info": {
   "codemirror_mode": {
    "name": "ipython",
    "version": 3
   },
   "file_extension": ".py",
   "mimetype": "text/x-python",
   "name": "python",
   "nbconvert_exporter": "python",
   "pygments_lexer": "ipython3",
   "version": "3.11.10"
  }
 },
 "nbformat": 4,
 "nbformat_minor": 2
}
