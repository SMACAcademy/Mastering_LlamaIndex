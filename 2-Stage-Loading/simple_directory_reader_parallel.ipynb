{
 "cells": [
  {
   "cell_type": "markdown",
   "id": "f72b2f98-a4d1-4024-b402-a15c39a19de9",
   "metadata": {},
   "source": [
    "# Parallel Processing SimpleDirectoryReader"
   ]
  },
  {
   "cell_type": "markdown",
   "id": "f0457c81-2894-4d87-9a0d-2f83deeb567f",
   "metadata": {},
   "source": [
    "In this notebook, we demonstrate how to use parallel processing when loading data with `SimpleDirectoryReader`. Parallel processing can be useful with heavier workloads i.e., loading from a directory consisting of many files. (NOTE: if using Windows, you may see less gains when using parallel processing for loading data. This has to do with the differences between how multiprocess works in linux/mac and windows e.g., see [here](https://pythonforthelab.com/blog/differences-between-multiprocessing-windows-and-linux/) or [here](https://stackoverflow.com/questions/52465237/multiprocessing-slower-than-serial-processing-in-windows-but-not-in-linux))"
   ]
  },
  {
   "cell_type": "code",
   "execution_count": 1,
   "id": "a8a5f90f-0a56-40e5-a8b6-07ecc57e0b95",
   "metadata": {},
   "outputs": [],
   "source": [
    "import cProfile, pstats\n",
    "from pstats import SortKey"
   ]
  },
  {
   "cell_type": "markdown",
   "id": "4113f2b2-ae63-408d-9c92-72e920332013",
   "metadata": {},
   "source": [
    "In this demo, we'll use the `PatronusAIFinanceBenchDataset` llama-dataset from [llamahub](https://llamahub.ai). This dataset is based off of a set of 32 PDF files which are included in the download from llamahub. "
   ]
  },
  {
   "cell_type": "code",
   "execution_count": 2,
   "id": "9d8049d6-c312-49f6-9c60-07edc5a5c284",
   "metadata": {},
   "outputs": [
    {
     "name": "stdout",
     "output_type": "stream",
     "text": [
      "Successfully downloaded PatronusAIFinanceBenchDataset to ./data_parallel\n"
     ]
    },
    {
     "name": "stderr",
     "output_type": "stream",
     "text": [
      "\n",
      "  0%|          | 0/32 [00:00<?, ?it/s]\n",
      "  3%|▎         | 1/32 [00:00<00:24,  1.28it/s]\n",
      "  6%|▋         | 2/32 [00:01<00:21,  1.38it/s]\n",
      "  9%|▉         | 3/32 [00:01<00:17,  1.66it/s]\n",
      " 12%|█▎        | 4/32 [00:02<00:18,  1.51it/s]\n",
      " 16%|█▌        | 5/32 [00:03<00:17,  1.54it/s]\n",
      " 19%|█▉        | 6/32 [00:04<00:21,  1.23it/s]\n",
      " 22%|██▏       | 7/32 [00:05<00:18,  1.34it/s]\n",
      " 25%|██▌       | 8/32 [00:05<00:17,  1.39it/s]\n",
      " 28%|██▊       | 9/32 [00:07<00:23,  1.01s/it]\n",
      " 31%|███▏      | 10/32 [00:08<00:19,  1.11it/s]\n",
      " 34%|███▍      | 11/32 [00:08<00:18,  1.16it/s]\n",
      " 38%|███▊      | 12/32 [00:09<00:16,  1.20it/s]\n",
      " 41%|████      | 13/32 [00:10<00:15,  1.26it/s]\n",
      " 44%|████▍     | 14/32 [00:11<00:16,  1.11it/s]\n",
      " 47%|████▋     | 15/32 [00:12<00:16,  1.03it/s]\n",
      " 50%|█████     | 16/32 [00:13<00:13,  1.16it/s]\n",
      " 53%|█████▎    | 17/32 [00:13<00:12,  1.20it/s]\n",
      " 56%|█████▋    | 18/32 [00:14<00:10,  1.28it/s]\n",
      " 59%|█████▉    | 19/32 [00:15<00:10,  1.21it/s]\n",
      " 62%|██████▎   | 20/32 [00:16<00:09,  1.27it/s]\n",
      " 66%|██████▌   | 21/32 [00:17<00:09,  1.16it/s]\n",
      " 69%|██████▉   | 22/32 [00:17<00:08,  1.23it/s]\n",
      " 72%|███████▏  | 23/32 [00:18<00:07,  1.21it/s]\n",
      " 75%|███████▌  | 24/32 [00:19<00:07,  1.09it/s]\n",
      " 78%|███████▊  | 25/32 [00:20<00:05,  1.21it/s]\n",
      " 81%|████████▏ | 26/32 [00:21<00:04,  1.35it/s]\n",
      " 84%|████████▍ | 27/32 [00:21<00:03,  1.36it/s]\n",
      " 88%|████████▊ | 28/32 [00:22<00:02,  1.39it/s]\n",
      " 91%|█████████ | 29/32 [00:23<00:02,  1.49it/s]\n",
      " 94%|█████████▍| 30/32 [00:23<00:01,  1.54it/s]\n",
      " 97%|█████████▋| 31/32 [00:24<00:00,  1.56it/s]\n",
      "100%|██████████| 32/32 [00:25<00:00,  1.32it/s]\n",
      "100%|██████████| 32/32 [00:25<00:00,  1.26it/s]\n"
     ]
    }
   ],
   "source": [
    "!llamaindex-cli download-llamadataset PatronusAIFinanceBenchDataset --download-dir ./data_parallel"
   ]
  },
  {
   "cell_type": "code",
   "execution_count": 1,
   "id": "63eba1de-a23f-49fa-85e6-a6709e563a14",
   "metadata": {},
   "outputs": [],
   "source": [
    "from llama_index.core import SimpleDirectoryReader\n",
    "\n",
    "# define our reader with the directory containing the 32 pdf files\n",
    "reader = SimpleDirectoryReader(input_dir=\"./data_parallel/source_files\")"
   ]
  },
  {
   "cell_type": "markdown",
   "id": "4f9fe429-693f-4993-ab37-488e67009368",
   "metadata": {},
   "source": [
    "### Sequential Load"
   ]
  },
  {
   "cell_type": "markdown",
   "id": "002dbc1f-64cc-4f23-85aa-bb73ccf554b8",
   "metadata": {},
   "source": [
    "Sequential loading is the default behaviour and can be executed via the `load_data()` method."
   ]
  },
  {
   "cell_type": "code",
   "execution_count": 5,
   "id": "f0d003c3-df06-47f1-a15b-51dfa4177bd9",
   "metadata": {},
   "outputs": [
    {
     "name": "stderr",
     "output_type": "stream",
     "text": [
      "Loading files: 100%|██████████| 32/32 [05:26<00:00, 10.21s/file]\n"
     ]
    },
    {
     "data": {
      "text/plain": [
       "4306"
      ]
     },
     "execution_count": 5,
     "metadata": {},
     "output_type": "execute_result"
    }
   ],
   "source": [
    "documents = reader.load_data(show_progress=True)\n",
    "len(documents)"
   ]
  },
  {
   "cell_type": "code",
   "execution_count": 6,
   "id": "8226dd40-d940-4061-824a-d6cb536fb1de",
   "metadata": {},
   "outputs": [
    {
     "name": "stdout",
     "output_type": "stream",
     "text": [
      "Thu Nov 21 23:19:25 2024    oldstats\n",
      "\n",
      "         1875499942 function calls (1872026563 primitive calls) in 795.273 seconds\n",
      "\n",
      "   Ordered by: cumulative time\n",
      "   List reduced from 370 to 15 due to restriction <15>\n",
      "\n",
      "   ncalls  tottime  percall  cumtime  percall filename:lineno(function)\n",
      "        1    0.000    0.000  795.273  795.273 {built-in method builtins.exec}\n",
      "        1    0.007    0.007  795.273  795.273 <string>:1(<module>)\n",
      "        1    0.000    0.000  795.266  795.266 base.py:645(load_data)\n",
      "       32    0.000    0.000  795.262   24.852 base.py:474(load_file)\n",
      "       32    0.000    0.000  795.254   24.852 __init__.py:328(wrapped_f)\n",
      "       32    0.000    0.000  795.253   24.852 __init__.py:465(__call__)\n",
      "       32    0.057    0.002  795.250   24.852 base.py:36(load_data)\n",
      "     4306    3.372    0.001  786.607    0.183 _page.py:2268(extract_text)\n",
      "4444/4306   16.172    0.004  783.233    0.182 _page.py:1825(_extract_text)\n",
      "     4444    0.013    0.000  505.669    0.114 _data_structures.py:1401(operations)\n",
      "     4444   62.645    0.014  505.656    0.114 _data_structures.py:1281(_parse_content_stream)\n",
      "36491086/33454613   58.674    0.000  351.542    0.000 _data_structures.py:1429(read_object)\n",
      " 23484923   41.632    0.000  243.860    0.000 _page.py:1911(process_operation)\n",
      " 48259931   79.781    0.000  140.653    0.000 _utils.py:217(read_until_regex)\n",
      " 25209768   22.840    0.000  128.349    0.000 _base.py:565(read_from_stream)\n",
      "\n",
      "\n"
     ]
    },
    {
     "data": {
      "text/plain": [
       "<pstats.Stats at 0x1a2231ebb10>"
      ]
     },
     "execution_count": 6,
     "metadata": {},
     "output_type": "execute_result"
    }
   ],
   "source": [
    "cProfile.run(\"reader.load_data()\", \"oldstats\")\n",
    "p = pstats.Stats(\"oldstats\")\n",
    "p.strip_dirs().sort_stats(SortKey.CUMULATIVE).print_stats(15)"
   ]
  },
  {
   "cell_type": "markdown",
   "id": "3e818f66-ddd9-4901-9645-3a52f9883c0e",
   "metadata": {},
   "source": [
    "### Parallel Load"
   ]
  },
  {
   "cell_type": "markdown",
   "id": "c7a3bc0a-a42c-4fd7-8f4e-7e9110b4f4fc",
   "metadata": {},
   "source": [
    "To load using parallel processes, we set `num_workers` to a positive integer value."
   ]
  },
  {
   "cell_type": "code",
   "execution_count": null,
   "id": "ef51423f-6921-4956-a00f-c26783ba8f32",
   "metadata": {},
   "outputs": [],
   "source": [
    "documents = reader.load_data(num_workers=10, show_progress=True)"
   ]
  },
  {
   "cell_type": "code",
   "execution_count": null,
   "id": "e984faa7-b849-4d45-aa84-53df67a8e39f",
   "metadata": {},
   "outputs": [
    {
     "data": {
      "text/plain": [
       "4306"
      ]
     },
     "execution_count": null,
     "metadata": {},
     "output_type": "execute_result"
    }
   ],
   "source": [
    "len(documents)"
   ]
  },
  {
   "cell_type": "code",
   "execution_count": null,
   "id": "7b545306-ff91-4fe5-952e-b497f8da1efe",
   "metadata": {},
   "outputs": [
    {
     "name": "stdout",
     "output_type": "stream",
     "text": [
      "Wed Jan 10 13:05:13 2024    newstats\n",
      "\n",
      "         12539 function calls in 31.319 seconds\n",
      "\n",
      "   Ordered by: cumulative time\n",
      "   List reduced from 212 to 15 due to restriction <15>\n",
      "\n",
      "   ncalls  tottime  percall  cumtime  percall filename:lineno(function)\n",
      "        1    0.000    0.000   31.319   31.319 {built-in method builtins.exec}\n",
      "        1    0.003    0.003   31.319   31.319 <string>:1(<module>)\n",
      "        1    0.000    0.000   31.316   31.316 base.py:367(load_data)\n",
      "       24    0.000    0.000   31.139    1.297 threading.py:589(wait)\n",
      "       23    0.000    0.000   31.139    1.354 threading.py:288(wait)\n",
      "      155   31.138    0.201   31.138    0.201 {method 'acquire' of '_thread.lock' objects}\n",
      "        1    0.000    0.000   31.133   31.133 pool.py:369(starmap)\n",
      "        1    0.000    0.000   31.133   31.133 pool.py:767(get)\n",
      "        1    0.000    0.000   31.133   31.133 pool.py:764(wait)\n",
      "        1    0.000    0.000    0.155    0.155 context.py:115(Pool)\n",
      "        1    0.000    0.000    0.155    0.155 pool.py:183(__init__)\n",
      "        1    0.000    0.000    0.153    0.153 pool.py:305(_repopulate_pool)\n",
      "        1    0.001    0.001    0.153    0.153 pool.py:314(_repopulate_pool_static)\n",
      "       10    0.001    0.000    0.152    0.015 process.py:110(start)\n",
      "       10    0.001    0.000    0.150    0.015 context.py:285(_Popen)\n",
      "\n",
      "\n"
     ]
    },
    {
     "data": {
      "text/plain": [
       "<pstats.Stats at 0x29408ab30>"
      ]
     },
     "execution_count": null,
     "metadata": {},
     "output_type": "execute_result"
    }
   ],
   "source": [
    "cProfile.run(\"reader.load_data(num_workers=10)\", \"newstats\")\n",
    "p = pstats.Stats(\"newstats\")\n",
    "p.strip_dirs().sort_stats(SortKey.CUMULATIVE).print_stats(15)"
   ]
  },
  {
   "cell_type": "markdown",
   "id": "e3e40fd1-1012-47e1-ab23-3f3159cbb4f2",
   "metadata": {},
   "source": [
    "### In Conclusion"
   ]
  },
  {
   "cell_type": "code",
   "execution_count": null,
   "id": "df1cb9ba-7c83-4721-8b1b-799baa65c0dd",
   "metadata": {},
   "outputs": [
    {
     "data": {
      "text/plain": [
       "13.033333333333333"
      ]
     },
     "execution_count": null,
     "metadata": {},
     "output_type": "execute_result"
    }
   ],
   "source": [
    "391 / 30"
   ]
  },
  {
   "cell_type": "markdown",
   "id": "653d7018-70a1-4efa-bb82-64d7b3ce8aae",
   "metadata": {},
   "source": [
    "As one can observe from the results above, there is a ~13x speed up (or 1200% speed increase) when using parallel processing when loading from a directory with many files."
   ]
  }
 ],
 "metadata": {
  "kernelspec": {
   "display_name": "llamaindex",
   "language": "python",
   "name": "python3"
  },
  "language_info": {
   "codemirror_mode": {
    "name": "ipython",
    "version": 3
   },
   "file_extension": ".py",
   "mimetype": "text/x-python",
   "name": "python",
   "nbconvert_exporter": "python",
   "pygments_lexer": "ipython3",
   "version": "3.11.10"
  }
 },
 "nbformat": 4,
 "nbformat_minor": 5
}
