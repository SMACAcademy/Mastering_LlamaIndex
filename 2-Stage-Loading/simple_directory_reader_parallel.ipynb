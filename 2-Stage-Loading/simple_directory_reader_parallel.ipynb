{
 "cells": [
  {
   "cell_type": "markdown",
   "id": "f72b2f98-a4d1-4024-b402-a15c39a19de9",
   "metadata": {},
   "source": [
    "# Parallel Processing SimpleDirectoryReader"
   ]
  },
  {
   "cell_type": "markdown",
   "id": "f0457c81-2894-4d87-9a0d-2f83deeb567f",
   "metadata": {},
   "source": [
    "In this notebook, we demonstrate how to use parallel processing when loading data with `SimpleDirectoryReader`. Parallel processing can be useful with heavier workloads i.e., loading from a directory consisting of many files. (NOTE: if using Windows, you may see less gains when using parallel processing for loading data. This has to do with the differences between how multiprocess works in linux/mac and windows e.g., see [here](https://pythonforthelab.com/blog/differences-between-multiprocessing-windows-and-linux/) or [here](https://stackoverflow.com/questions/52465237/multiprocessing-slower-than-serial-processing-in-windows-but-not-in-linux))"
   ]
  },
  {
   "cell_type": "code",
   "execution_count": null,
   "id": "a8a5f90f-0a56-40e5-a8b6-07ecc57e0b95",
   "metadata": {},
   "outputs": [],
   "source": [
    "import cProfile, pstats\n",
    "from pstats import SortKey"
   ]
  },
  {
   "cell_type": "markdown",
   "id": "4113f2b2-ae63-408d-9c92-72e920332013",
   "metadata": {},
   "source": [
    "In this demo, we'll use the `PatronusAIFinanceBenchDataset` llama-dataset from [llamahub](https://llamahub.ai). This dataset is based off of a set of 32 PDF files which are included in the download from llamahub. "
   ]
  },
  {
   "cell_type": "code",
   "execution_count": null,
   "id": "9d8049d6-c312-49f6-9c60-07edc5a5c284",
   "metadata": {},
   "outputs": [],
   "source": [
    "!llamaindex-cli download-llamadataset PatronusAIFinanceBenchDataset --download-dir ./data_parallel"
   ]
  },
  {
   "cell_type": "code",
   "execution_count": null,
   "id": "63eba1de-a23f-49fa-85e6-a6709e563a14",
   "metadata": {},
   "outputs": [],
   "source": [
    "from llama_index.core import SimpleDirectoryReader\n",
    "\n",
    "# define our reader with the directory containing the 32 pdf files\n",
    "reader = SimpleDirectoryReader(input_dir=\"./data_parallel/source_files\")"
   ]
  },
  {
   "cell_type": "markdown",
   "id": "4f9fe429-693f-4993-ab37-488e67009368",
   "metadata": {},
   "source": [
    "### Sequential Load"
   ]
  },
  {
   "cell_type": "markdown",
   "id": "002dbc1f-64cc-4f23-85aa-bb73ccf554b8",
   "metadata": {},
   "source": [
    "Sequential loading is the default behaviour and can be executed via the `load_data()` method."
   ]
  },
  {
   "cell_type": "code",
   "execution_count": null,
   "id": "f0d003c3-df06-47f1-a15b-51dfa4177bd9",
   "metadata": {},
   "outputs": [],
   "source": [
    "documents = reader.load_data(show_progress=True)\n",
    "len(documents)"
   ]
  },
  {
   "cell_type": "code",
   "execution_count": null,
   "id": "8226dd40-d940-4061-824a-d6cb536fb1de",
   "metadata": {},
   "outputs": [],
   "source": [
    "cProfile.run(\"reader.load_data()\", \"oldstats\")\n",
    "p = pstats.Stats(\"oldstats\")\n",
    "p.strip_dirs().sort_stats(SortKey.CUMULATIVE).print_stats(15)"
   ]
  },
  {
   "cell_type": "markdown",
   "id": "3e818f66-ddd9-4901-9645-3a52f9883c0e",
   "metadata": {},
   "source": [
    "### Parallel Load"
   ]
  },
  {
   "cell_type": "markdown",
   "id": "c7a3bc0a-a42c-4fd7-8f4e-7e9110b4f4fc",
   "metadata": {},
   "source": [
    "To load using parallel processes, we set `num_workers` to a positive integer value."
   ]
  },
  {
   "cell_type": "code",
   "execution_count": null,
   "id": "ef51423f-6921-4956-a00f-c26783ba8f32",
   "metadata": {},
   "outputs": [],
   "source": [
    "documents = reader.load_data(num_workers=10, show_progress=True)"
   ]
  },
  {
   "cell_type": "code",
   "execution_count": null,
   "id": "e984faa7-b849-4d45-aa84-53df67a8e39f",
   "metadata": {},
   "outputs": [],
   "source": [
    "len(documents)"
   ]
  },
  {
   "cell_type": "code",
   "execution_count": null,
   "id": "7b545306-ff91-4fe5-952e-b497f8da1efe",
   "metadata": {},
   "outputs": [],
   "source": [
    "cProfile.run(\"reader.load_data(num_workers=30)\", \"newstats\")\n",
    "p = pstats.Stats(\"newstats\")\n",
    "p.strip_dirs().sort_stats(SortKey.CUMULATIVE).print_stats(15)"
   ]
  },
  {
   "cell_type": "markdown",
   "id": "e3e40fd1-1012-47e1-ab23-3f3159cbb4f2",
   "metadata": {},
   "source": [
    "### In Conclusion"
   ]
  },
  {
   "cell_type": "code",
   "execution_count": null,
   "id": "df1cb9ba-7c83-4721-8b1b-799baa65c0dd",
   "metadata": {},
   "outputs": [],
   "source": [
    "821 / 51"
   ]
  }
 ],
 "metadata": {
  "kernelspec": {
   "display_name": "llamaindex",
   "language": "python",
   "name": "python3"
  },
  "language_info": {
   "codemirror_mode": {
    "name": "ipython",
    "version": 3
   },
   "file_extension": ".py",
   "mimetype": "text/x-python",
   "name": "python",
   "nbconvert_exporter": "python",
   "pygments_lexer": "ipython3",
   "version": "3.11.10"
  }
 },
 "nbformat": 4,
 "nbformat_minor": 5
}
