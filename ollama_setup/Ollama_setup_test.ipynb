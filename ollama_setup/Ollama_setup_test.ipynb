{
 "cells": [
  {
   "cell_type": "code",
   "execution_count": 1,
   "metadata": {},
   "outputs": [],
   "source": [
    "from llama_index.llms.ollama import Ollama\n"
   ]
  },
  {
   "cell_type": "code",
   "execution_count": 2,
   "metadata": {},
   "outputs": [],
   "source": [
    "llm = Ollama(model=\"llama3.2:latest\", request_timeout=60.0)\n"
   ]
  },
  {
   "cell_type": "code",
   "execution_count": 3,
   "metadata": {},
   "outputs": [
    {
     "name": "stdout",
     "output_type": "stream",
     "text": [
      "The median of a triangle is a line segment joining a vertex to the midpoint of the opposite side. In this explanation, we'll explore the concept of medians in triangles and their properties.\n",
      "\n",
      "**Definition:**\n",
      "\n",
      "Given a triangle ABC, a median is a line segment from a vertex (say A) to the midpoint of the opposite side (BC). The median is denoted as m_a (or am), where 'a' represents the vertex.\n",
      "\n",
      "**Properties of Medians:**\n",
      "\n",
      "1. **Median divides the opposite side into two equal parts**: The median bisects the opposite side, dividing it into two segments of equal length.\n",
      "2. **Medians intersect at a point called the centroid**: In any triangle, all three medians intersect at a single point called the centroid (G). This means that each median passes through the same point, regardless of which vertex is used as the starting point.\n",
      "3. **Centroid divides each median into two segments with a 2:1 ratio**: The centroid divides each median into two segments, one of which is twice as long as the other. The longer segment (from the vertex to the centroid) has a length equal to two-thirds of the entire median.\n",
      "4. **Medians are concurrent**: As mentioned earlier, medians intersect at a single point called the centroid.\n",
      "\n",
      "**Types of Medians:**\n",
      "\n",
      "1. **Apex Median:** A median that joins a vertex to the midpoint of the opposite side is called an apex median.\n",
      "2. **Breadth Median:** A breadth median is a median that joins the midpoints of the sides of the triangle, rather than just one side.\n",
      "\n",
      "**Significance of Medians:**\n",
      "\n",
      "1. **Stability**: The centroid (point where medians intersect) divides each median into segments with a 2:1 ratio, indicating that it provides a more stable point than any other vertex in terms of balancing forces.\n",
      "2. **Area calculation**: The area of a triangle can be calculated using the length of its medians and the distance between them.\n",
      "\n",
      "**Real-world Applications:**\n",
      "\n",
      "Medians are used in various real-world applications, such as:\n",
      "\n",
      "1. **Agriculture:** Farmers use median lines to divide fields into equal areas for better crop management.\n",
      "2. **Architecture:** Designers use medians to determine the optimal placement of supports and loads on buildings.\n",
      "3. **Physics:** Medians are used in physics to calculate the center of mass, which helps in determining the stability of objects.\n",
      "\n",
      "In conclusion, medians play a crucial role in understanding the properties and behavior of triangles, and their significance extends beyond mathematics to various real-world applications.\n"
     ]
    }
   ],
   "source": [
    "response = llm.complete(\"Explain Median in Triangles\")\n",
    "print(response)"
   ]
  }
 ],
 "metadata": {
  "kernelspec": {
   "display_name": "llamaindex",
   "language": "python",
   "name": "python3"
  },
  "language_info": {
   "codemirror_mode": {
    "name": "ipython",
    "version": 3
   },
   "file_extension": ".py",
   "mimetype": "text/x-python",
   "name": "python",
   "nbconvert_exporter": "python",
   "pygments_lexer": "ipython3",
   "version": "3.11.10"
  }
 },
 "nbformat": 4,
 "nbformat_minor": 2
}
