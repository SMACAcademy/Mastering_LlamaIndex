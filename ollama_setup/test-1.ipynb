{
 "cells": [
  {
   "cell_type": "code",
   "execution_count": 1,
   "metadata": {},
   "outputs": [],
   "source": [
    "from llama_index.llms.ollama import Ollama\n"
   ]
  },
  {
   "cell_type": "code",
   "execution_count": 2,
   "metadata": {},
   "outputs": [],
   "source": [
    "llm = Ollama(model=\"llama3.2:latest\", request_timeout=60.0)\n"
   ]
  },
  {
   "cell_type": "code",
   "execution_count": 5,
   "metadata": {},
   "outputs": [
    {
     "name": "stdout",
     "output_type": "stream",
     "text": [
      "**Insurance Process for Vehicles**\n",
      "\n",
      "**Step 1: Purchase or Acquire a Vehicle**\n",
      "\n",
      "* Buy a new vehicle from a dealership\n",
      "* Leasing a vehicle can also be an option\n",
      "* Register the vehicle with the local authorities\n",
      "\n",
      "**Step 2: Choose an Insurance Provider**\n",
      "\n",
      "* Research and compare insurance policies from various providers\n",
      "* Consider factors such as coverage limits, deductibles, and premiums\n",
      "* Compare quotes from different insurance companies\n",
      "\n",
      "**Step 3: Purchase an Insurance Policy**\n",
      "\n",
      "* Buy a comprehensive insurance policy that covers:\n",
      " + Liability (collision, bodily injury, property damage)\n",
      " + Collision (damage to the vehicle)\n",
      " + Comprehensive (theft, vandalism, natural disasters)\n",
      " + Personal Injury Protection (PIP)\n",
      "* Review and understand the terms and conditions of the policy\n",
      "* Pay the premium and receive the policy documents\n",
      "\n",
      "**Step 4: File a Claim**\n",
      "\n",
      "* In the event of an accident or damage to the vehicle\n",
      "* Report the incident to the insurance provider within the required timeframe (usually 30 days)\n",
      "* Provide necessary documentation, such as police reports, repair estimates, and medical records\n",
      "* Complete the claim form and submit it to the insurance provider\n",
      "\n",
      "**Step 5: Receive Compensation**\n",
      "\n",
      "* The insurance provider assesses the damage or loss\n",
      "* Pays out compensation according to the policy terms and conditions\n",
      "* Ensures that the payment covers all eligible expenses\n",
      "\n",
      "**Step 6: Renewal and Update Policy**\n",
      "\n",
      "* Review and update the insurance policy annually\n",
      "* Increase coverage limits or deductibles as needed\n",
      "* Shop around for better rates if desired\n",
      "* Pay premium for the renewed policy\n",
      "\n",
      "**Key Insurance Concepts**\n",
      "\n",
      "* **Deductible**: The amount paid by the vehicle owner before the insurance kicks in.\n",
      "* **Coverage Limits**: The maximum amount of compensation provided by the insurance policy.\n",
      "* **Premium**: The amount paid to maintain the insurance policy.\n",
      "* **Exclusions**: Items or events not covered under the insurance policy.\n",
      "\n",
      "**Best Practices**\n",
      "\n",
      "* Always read and understand the policy documents\n",
      "* Keep records of maintenance, repairs, and maintenance receipts\n",
      "* Report any claims promptly\n",
      "* Shop around for better rates regularly\n",
      "* Review and update the policy annually\n",
      "\n",
      "By following these steps and understanding key concepts, you can protect your vehicle from financial loss and ensure a smooth insurance process.\n"
     ]
    }
   ],
   "source": [
    "response = llm.complete(\"Write a notes on Insurance process for Vehicles\")\n",
    "print(response)"
   ]
  }
 ],
 "metadata": {
  "kernelspec": {
   "display_name": "llamaindex",
   "language": "python",
   "name": "python3"
  },
  "language_info": {
   "codemirror_mode": {
    "name": "ipython",
    "version": 3
   },
   "file_extension": ".py",
   "mimetype": "text/x-python",
   "name": "python",
   "nbconvert_exporter": "python",
   "pygments_lexer": "ipython3",
   "version": "3.11.10"
  }
 },
 "nbformat": 4,
 "nbformat_minor": 2
}
