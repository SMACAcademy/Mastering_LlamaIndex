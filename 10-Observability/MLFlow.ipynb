{
 "cells": [
  {
   "cell_type": "code",
   "execution_count": null,
   "metadata": {},
   "outputs": [],
   "source": [
    "%pip install mlflow>=2.15 llama-index>=0.10.44 -q\n"
   ]
  },
  {
   "cell_type": "code",
   "execution_count": 2,
   "metadata": {},
   "outputs": [],
   "source": [
    "import os\n",
    "from getpass import getpass\n",
    "\n",
    "from llama_index.core import Document, VectorStoreIndex\n",
    "from llama_index.core.llms import ChatMessage\n",
    "\n",
    "import mlflow"
   ]
  },
  {
   "cell_type": "code",
   "execution_count": 3,
   "metadata": {},
   "outputs": [],
   "source": [
    "import os\n",
    "from llama_index.core import Settings\n",
    "from llama_index.llms.ollama import Ollama\n",
    "from llama_index.embeddings.ollama import OllamaEmbedding\n",
    "\n",
    "# Configure Ollama LLM\n",
    "ollama_llm = Ollama(\n",
    "    #model=\"llama3.2:latest\",\n",
    "    model=\"mistral:7b\",\n",
    "    base_url=\"http://localhost:11434\",\n",
    "    temperature=0.1\n",
    ")\n",
    "\n",
    "# Configure embedding model\n",
    "ollama_embedding = OllamaEmbedding(\n",
    "    model_name=\"nomic-embed-text:latest\",\n",
    "    base_url=\"http://localhost:11434\",\n",
    "    ollama_additional_kwargs={\"mirostat\": 0}\n",
    ")\n",
    "\n",
    "Settings.llm = ollama_llm\n",
    "Settings.embed_model = ollama_embedding"
   ]
  },
  {
   "cell_type": "code",
   "execution_count": 4,
   "metadata": {},
   "outputs": [],
   "source": [
    "import nest_asyncio\n",
    "nest_asyncio.apply()"
   ]
  },
  {
   "cell_type": "code",
   "execution_count": null,
   "metadata": {},
   "outputs": [],
   "source": [
    "print(\n",
    "    \"------------- Example Document used to Enrich LLM Context -------------\"\n",
    ")\n",
    "llama_index_example_document = Document.example()\n",
    "print(llama_index_example_document)\n",
    "index = VectorStoreIndex.from_documents([llama_index_example_document])\n",
    "\n",
    "print(\"\\n------------- Example Query Engine -------------\")\n",
    "query_response = index.as_query_engine().query(\"What is llama_index?\")\n",
    "print(query_response)\n",
    "\n",
    "print(\"\\n------------- Example Retriever   -------------\")\n",
    "retriever_response = index.as_retriever().retrieve(\"What is llama_index?\")\n",
    "print(retriever_response)"
   ]
  },
  {
   "cell_type": "code",
   "execution_count": null,
   "metadata": {},
   "outputs": [],
   "source": [
    "mlflow.llama_index.autolog()  # This is for enabling tracing\n",
    "\n",
    "with mlflow.start_run() as run:\n",
    "    mlflow.llama_index.log_model(\n",
    "        index,\n",
    "        artifact_path=\"llama_index\",\n",
    "        engine_type=\"query\",  # Defines the pyfunc and spark_udf inference type\n",
    "        input_example=\"hi\",  # Infers signature\n",
    "        registered_model_name=\"my_llama_index_vector_store\",  # Stores an instance in the model registry\n",
    "    )\n",
    "\n",
    "    run_id = run.info.run_id\n",
    "    model_uri = f\"runs:/{run_id}/llama_index\"\n",
    "    print(f\"Unique identifier for the model location for loading: {model_uri}\")"
   ]
  },
  {
   "cell_type": "code",
   "execution_count": null,
   "metadata": {},
   "outputs": [],
   "source": [
    "print(\"\\n------------- Inference via Llama Index   -------------\")\n",
    "index = mlflow.llama_index.load_model(model_uri)\n",
    "query_response = index.as_query_engine().query(\"hi\")\n",
    "print(query_response)\n",
    "\n",
    "print(\"\\n------------- Inference via MLflow PyFunc -------------\")\n",
    "index = mlflow.pyfunc.load_model(model_uri)\n",
    "query_response = index.predict(\"hi\")\n",
    "print(query_response)"
   ]
  },
  {
   "cell_type": "code",
   "execution_count": 9,
   "metadata": {},
   "outputs": [],
   "source": [
    "import os\n",
    "import subprocess\n",
    "from IPython.display import IFrame\n",
    "\n",
    "# Start the MLflow UI in a background process\n",
    "mlflow_ui_command = [\"mlflow\", \"ui\", \"--port\", \"5000\"]\n",
    "\n",
    "# Use subprocess.Popen without preexec_fn for Windows compatibility\n",
    "process = subprocess.Popen(\n",
    "    mlflow_ui_command,\n",
    "    stdout=subprocess.PIPE,\n",
    "    stderr=subprocess.PIPE,\n",
    "    creationflags=subprocess.CREATE_NEW_PROCESS_GROUP,  # Windows equivalent for new process group\n",
    ")\n"
   ]
  }
 ],
 "metadata": {
  "kernelspec": {
   "display_name": "llamaindex",
   "language": "python",
   "name": "python3"
  },
  "language_info": {
   "codemirror_mode": {
    "name": "ipython",
    "version": 3
   },
   "file_extension": ".py",
   "mimetype": "text/x-python",
   "name": "python",
   "nbconvert_exporter": "python",
   "pygments_lexer": "ipython3",
   "version": "3.11.10"
  }
 },
 "nbformat": 4,
 "nbformat_minor": 2
}
