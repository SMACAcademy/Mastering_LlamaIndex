{
 "cells": [
  {
   "cell_type": "code",
   "execution_count": 1,
   "metadata": {},
   "outputs": [
    {
     "name": "stdout",
     "output_type": "stream",
     "text": [
      "Requirement already satisfied: arize-phoenix-otel in c:\\users\\muthu\\.conda\\envs\\llamaindex\\lib\\site-packages (0.6.1)\n",
      "Requirement already satisfied: openinference-semantic-conventions>=0.1.9 in c:\\users\\muthu\\.conda\\envs\\llamaindex\\lib\\site-packages (from arize-phoenix-otel) (0.1.12)\n",
      "Requirement already satisfied: opentelemetry-exporter-otlp in c:\\users\\muthu\\.conda\\envs\\llamaindex\\lib\\site-packages (from arize-phoenix-otel) (1.29.0)\n",
      "Requirement already satisfied: opentelemetry-proto>=1.12.0 in c:\\users\\muthu\\.conda\\envs\\llamaindex\\lib\\site-packages (from arize-phoenix-otel) (1.29.0)\n",
      "Requirement already satisfied: opentelemetry-sdk in c:\\users\\muthu\\.conda\\envs\\llamaindex\\lib\\site-packages (from arize-phoenix-otel) (1.29.0)\n",
      "Requirement already satisfied: opentelemetry-semantic-conventions in c:\\users\\muthu\\.conda\\envs\\llamaindex\\lib\\site-packages (from arize-phoenix-otel) (0.50b0)\n",
      "Requirement already satisfied: typing-extensions<5,>=4.5 in c:\\users\\muthu\\.conda\\envs\\llamaindex\\lib\\site-packages (from arize-phoenix-otel) (4.11.0)\n",
      "Requirement already satisfied: protobuf<6.0,>=5.0 in c:\\users\\muthu\\.conda\\envs\\llamaindex\\lib\\site-packages (from opentelemetry-proto>=1.12.0->arize-phoenix-otel) (5.29.2)\n",
      "Requirement already satisfied: opentelemetry-exporter-otlp-proto-grpc==1.29.0 in c:\\users\\muthu\\.conda\\envs\\llamaindex\\lib\\site-packages (from opentelemetry-exporter-otlp->arize-phoenix-otel) (1.29.0)\n",
      "Requirement already satisfied: opentelemetry-exporter-otlp-proto-http==1.29.0 in c:\\users\\muthu\\.conda\\envs\\llamaindex\\lib\\site-packages (from opentelemetry-exporter-otlp->arize-phoenix-otel) (1.29.0)\n",
      "Requirement already satisfied: deprecated>=1.2.6 in c:\\users\\muthu\\.conda\\envs\\llamaindex\\lib\\site-packages (from opentelemetry-exporter-otlp-proto-grpc==1.29.0->opentelemetry-exporter-otlp->arize-phoenix-otel) (1.2.14)\n",
      "Requirement already satisfied: googleapis-common-protos~=1.52 in c:\\users\\muthu\\.conda\\envs\\llamaindex\\lib\\site-packages (from opentelemetry-exporter-otlp-proto-grpc==1.29.0->opentelemetry-exporter-otlp->arize-phoenix-otel) (1.63.2)\n",
      "Requirement already satisfied: grpcio<2.0.0,>=1.63.2 in c:\\users\\muthu\\.conda\\envs\\llamaindex\\lib\\site-packages (from opentelemetry-exporter-otlp-proto-grpc==1.29.0->opentelemetry-exporter-otlp->arize-phoenix-otel) (1.67.1)\n",
      "Requirement already satisfied: opentelemetry-api~=1.15 in c:\\users\\muthu\\.conda\\envs\\llamaindex\\lib\\site-packages (from opentelemetry-exporter-otlp-proto-grpc==1.29.0->opentelemetry-exporter-otlp->arize-phoenix-otel) (1.29.0)\n",
      "Requirement already satisfied: opentelemetry-exporter-otlp-proto-common==1.29.0 in c:\\users\\muthu\\.conda\\envs\\llamaindex\\lib\\site-packages (from opentelemetry-exporter-otlp-proto-grpc==1.29.0->opentelemetry-exporter-otlp->arize-phoenix-otel) (1.29.0)\n",
      "Requirement already satisfied: requests~=2.7 in c:\\users\\muthu\\.conda\\envs\\llamaindex\\lib\\site-packages (from opentelemetry-exporter-otlp-proto-http==1.29.0->opentelemetry-exporter-otlp->arize-phoenix-otel) (2.32.3)\n",
      "Requirement already satisfied: importlib-metadata<=8.5.0,>=6.0 in c:\\users\\muthu\\.conda\\envs\\llamaindex\\lib\\site-packages (from opentelemetry-api~=1.15->opentelemetry-exporter-otlp-proto-grpc==1.29.0->opentelemetry-exporter-otlp->arize-phoenix-otel) (8.4.0)\n",
      "Requirement already satisfied: wrapt<2,>=1.10 in c:\\users\\muthu\\.conda\\envs\\llamaindex\\lib\\site-packages (from deprecated>=1.2.6->opentelemetry-exporter-otlp-proto-grpc==1.29.0->opentelemetry-exporter-otlp->arize-phoenix-otel) (1.17.0)\n",
      "Requirement already satisfied: zipp>=0.5 in c:\\users\\muthu\\.conda\\envs\\llamaindex\\lib\\site-packages (from importlib-metadata<=8.5.0,>=6.0->opentelemetry-api~=1.15->opentelemetry-exporter-otlp-proto-grpc==1.29.0->opentelemetry-exporter-otlp->arize-phoenix-otel) (3.21.0)\n",
      "Requirement already satisfied: charset-normalizer<4,>=2 in c:\\users\\muthu\\.conda\\envs\\llamaindex\\lib\\site-packages (from requests~=2.7->opentelemetry-exporter-otlp-proto-http==1.29.0->opentelemetry-exporter-otlp->arize-phoenix-otel) (3.4.0)\n",
      "Requirement already satisfied: idna<4,>=2.5 in c:\\users\\muthu\\.conda\\envs\\llamaindex\\lib\\site-packages (from requests~=2.7->opentelemetry-exporter-otlp-proto-http==1.29.0->opentelemetry-exporter-otlp->arize-phoenix-otel) (3.10)\n",
      "Requirement already satisfied: urllib3<3,>=1.21.1 in c:\\users\\muthu\\.conda\\envs\\llamaindex\\lib\\site-packages (from requests~=2.7->opentelemetry-exporter-otlp-proto-http==1.29.0->opentelemetry-exporter-otlp->arize-phoenix-otel) (2.2.3)\n",
      "Requirement already satisfied: certifi>=2017.4.17 in c:\\users\\muthu\\.conda\\envs\\llamaindex\\lib\\site-packages (from requests~=2.7->opentelemetry-exporter-otlp-proto-http==1.29.0->opentelemetry-exporter-otlp->arize-phoenix-otel) (2024.8.30)\n",
      "Note: you may need to restart the kernel to use updated packages.\n"
     ]
    }
   ],
   "source": [
    "%pip install arize-phoenix-otel"
   ]
  },
  {
   "cell_type": "code",
   "execution_count": 2,
   "metadata": {},
   "outputs": [],
   "source": [
    "import os\n",
    "from llama_index.core import Settings\n",
    "from llama_index.llms.ollama import Ollama\n",
    "from llama_index.embeddings.ollama import OllamaEmbedding\n",
    "\n",
    "# Configure Ollama LLM\n",
    "ollama_llm = Ollama(\n",
    "    #model=\"llama3.2:latest\",\n",
    "    model=\"mistral:7b\",\n",
    "    base_url=\"http://localhost:11434\",\n",
    "    temperature=0.1\n",
    ")\n",
    "\n",
    "# Configure embedding model\n",
    "ollama_embedding = OllamaEmbedding(\n",
    "    model_name=\"nomic-embed-text:latest\",\n",
    "    base_url=\"http://localhost:11434\",\n",
    "    ollama_additional_kwargs={\"mirostat\": 0}\n",
    ")\n",
    "\n",
    "Settings.llm = ollama_llm\n",
    "Settings.embed_model = ollama_embedding"
   ]
  },
  {
   "cell_type": "code",
   "execution_count": 4,
   "metadata": {},
   "outputs": [],
   "source": [
    "import os\n",
    "from getpass import getpass\n",
    "\n",
    "# Add Phoenix API Key for tracing\n",
    "\n",
    "if not (phoenix_api_key := os.getenv(\"PHOENIX_API_KEY\")):\n",
    "    phoenix_api_key = getpass(\"🔑 Enter your Phoenix API key: \")\n",
    "\n",
    "os.environ[\"PHOENIX_API_KEY\"] = phoenix_api_key"
   ]
  },
  {
   "cell_type": "code",
   "execution_count": 5,
   "metadata": {},
   "outputs": [
    {
     "name": "stdout",
     "output_type": "stream",
     "text": [
      "OpenTelemetry Tracing Details\n",
      "|  Phoenix Project: default\n",
      "|  Span Processor: SimpleSpanProcessor\n",
      "|  Collector Endpoint: https://app.phoenix.arize.com/v1/traces\n",
      "|  Transport: HTTP\n",
      "|  Transport Headers: {'api_key': '****', 'authorization': '****'}\n",
      "|  \n",
      "|  Using a default SpanProcessor. `add_span_processor` will overwrite this default.\n",
      "|  \n",
      "|  `register` has set this TracerProvider as the global OpenTelemetry default.\n",
      "|  To disable this behavior, call `register` with `set_global_tracer_provider=False`.\n",
      "\n"
     ]
    }
   ],
   "source": [
    "# setup Arize Phoenix for logging/observability\n",
    "import os\n",
    "\n",
    "from openinference.instrumentation.llama_index import LlamaIndexInstrumentor\n",
    "\n",
    "from phoenix.otel import register\n",
    "\n",
    "os.environ[\"PHOENIX_CLIENT_HEADERS\"] = f\"api_key={os.environ['PHOENIX_API_KEY']}\"\n",
    "os.environ[\"PHOENIX_COLLECTOR_ENDPOINT\"] = \"https://app.phoenix.arize.com\"\n",
    "\n",
    "# Configuration is picked up from your environment variables\n",
    "tracer_provider = register()\n",
    "\n",
    "# Instrument LlamaIndex. This allows Phoenix to collect traces from LlamaIndex queries.\n",
    "LlamaIndexInstrumentor().instrument(tracer_provider=tracer_provider, skip_dep_check=True)"
   ]
  },
  {
   "cell_type": "code",
   "execution_count": 6,
   "metadata": {},
   "outputs": [],
   "source": [
    "from llama_index.core import SimpleDirectoryReader\n",
    "\n",
    "#documents = SimpleDirectoryReader(input_files=['../data/2022 Q3 AAPL.pdf']).load_data()\n",
    "documents = SimpleDirectoryReader(input_files=['../data/paul_graham_essay3.txt']).load_data()"
   ]
  },
  {
   "cell_type": "code",
   "execution_count": 7,
   "metadata": {},
   "outputs": [
    {
     "name": "stdout",
     "output_type": "stream",
     "text": [
      " The author, Paul Graham, grew up working on two main things outside of school: writing short stories and programming. He started programming in 9th grade using an early version of Fortran on an IBM 1401 computer. Later, he got a microcomputer, a TRS-80, in about 1980 and wrote simple games, programs to predict the flight of his model rockets, and a word processor for his father. He also studied philosophy in college but later switched to AI due to his interest in artificial intelligence, particularly after reading a novel by Heinlein called The Moon is a Harsh Mistress and watching Terry Winograd using SHRDLU.\n"
     ]
    }
   ],
   "source": [
    "from llama_index.core import VectorStoreIndex\n",
    "\n",
    "index = VectorStoreIndex.from_documents(documents)\n",
    "query_engine = index.as_query_engine()\n",
    "response = query_engine.query(\"What did the author do growing up?\")\n",
    "print(response)"
   ]
  }
 ],
 "metadata": {
  "kernelspec": {
   "display_name": "llamaindex",
   "language": "python",
   "name": "python3"
  },
  "language_info": {
   "codemirror_mode": {
    "name": "ipython",
    "version": 3
   },
   "file_extension": ".py",
   "mimetype": "text/x-python",
   "name": "python",
   "nbconvert_exporter": "python",
   "pygments_lexer": "ipython3",
   "version": "3.11.10"
  }
 },
 "nbformat": 4,
 "nbformat_minor": 2
}
