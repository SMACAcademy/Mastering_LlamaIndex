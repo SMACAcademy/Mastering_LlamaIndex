{
 "cells": [
  {
   "cell_type": "code",
   "execution_count": null,
   "metadata": {},
   "outputs": [],
   "source": [
    "%pip install llama-index-llms-openai\n",
    "!pip install llama-index\n",
    "\n",
    "import logging\n",
    "import sys\n",
    "\n",
    "logging.basicConfig(stream=sys.stdout, level=logging.ERROR)\n",
    "logging.getLogger().addHandler(logging.StreamHandler(stream=sys.stdout))\n"
   ]
  },
  {
   "cell_type": "code",
   "execution_count": null,
   "metadata": {},
   "outputs": [],
   "source": [
    "import os\n",
    "from llama_index.core import Settings\n",
    "from llama_index.llms.ollama import Ollama\n",
    "from llama_index.embeddings.ollama import OllamaEmbedding\n",
    "\n",
    "# Configure Ollama LLM\n",
    "ollama_llm = Ollama(\n",
    "    model=\"llama3.2:latest\",\n",
    "    base_url=\"http://localhost:11434\",\n",
    "    temperature=0.1\n",
    ")\n",
    "\n",
    "# Configure embedding model\n",
    "ollama_embedding = OllamaEmbedding(\n",
    "    model_name=\"nomic-embed-text:latest\",\n",
    "    base_url=\"http://localhost:11434\",\n",
    "    ollama_additional_kwargs={\"mirostat\": 0}\n",
    ")\n",
    "\n",
    "Settings.llm = ollama_llm\n",
    "Settings.embed_model = ollama_embedding"
   ]
  },
  {
   "cell_type": "code",
   "execution_count": null,
   "metadata": {},
   "outputs": [],
   "source": [
    "from llama_index.core import SimpleDirectoryReader\n",
    "\n",
    "# documents = SimpleDirectoryReader(input_files=['../data/paul_graham_essay3.txt']).load_data()\n",
    "documents = SimpleDirectoryReader(input_files=['../data/2022 Q3 AAPL.pdf']).load_data()"
   ]
  },
  {
   "cell_type": "code",
   "execution_count": null,
   "metadata": {},
   "outputs": [],
   "source": [
    "import nest_asyncio\n",
    "nest_asyncio.apply()"
   ]
  },
  {
   "cell_type": "code",
   "execution_count": null,
   "metadata": {},
   "outputs": [],
   "source": [
    "from llama_index.core import VectorStoreIndex\n",
    "\n",
    "vector_index = VectorStoreIndex.from_documents(documents, embed_model=ollama_embedding)\n"
   ]
  },
  {
   "cell_type": "code",
   "execution_count": 11,
   "metadata": {},
   "outputs": [],
   "source": [
    "query_engine = vector_index.as_query_engine()\n"
   ]
  },
  {
   "cell_type": "code",
   "execution_count": 12,
   "metadata": {},
   "outputs": [],
   "source": [
    "response = query_engine.query(\"How much of profit and sales growth?\")\n"
   ]
  },
  {
   "cell_type": "code",
   "execution_count": 13,
   "metadata": {},
   "outputs": [
    {
     "name": "stdout",
     "output_type": "stream",
     "text": [
      "The net sales increased by 2% for both three months and nine months periods compared to the same periods in 2021. \n",
      "\n",
      "However, iPhone net sales increased by 3%, Mac net sales decreased by 10%, iPad net sales decreased by 2%, Wearables, Home and Accessories net sales decreased by 8%, and Services net sales increased by 12%.\n"
     ]
    }
   ],
   "source": [
    "print(response)"
   ]
  },
  {
   "cell_type": "code",
   "execution_count": null,
   "metadata": {},
   "outputs": [
    {
     "name": "stdout",
     "output_type": "stream",
     "text": [
      "Tree Summarize Response:\n",
      "The net sales increased by 2% for both three months and nine months periods. However, the profit figures are not explicitly provided in the given context. Therefore, it is not possible to determine the exact amount of profit growth based on the information provided.\n"
     ]
    }
   ],
   "source": [
    "tree_summarize_query_engine = vector_index.as_query_engine(response_mode=\"tree_summarize\")\n",
    "response = tree_summarize_query_engine.query(\"How much of profit and sales growth?\")\n",
    "print(\"Tree Summarize Response:\")\n",
    "print(response)"
   ]
  },
  {
   "cell_type": "code",
   "execution_count": 35,
   "metadata": {},
   "outputs": [
    {
     "name": "stdout",
     "output_type": "stream",
     "text": [
      "Tree Summarize Response:\n",
      "The net sales increased by 2% for the three months ended June 25, 2022, compared to the same period in 2021. \n",
      "\n",
      "For the nine months ended June 25, 2022, the net sales increased by 8%. \n",
      "\n",
      "As for profit growth, there is no specific information provided about the company's profits during this time period. However, it can be inferred that the company's overall financial condition and results of operations may have been impacted by the COVID-19 pandemic, but a specific percentage or amount of profit growth cannot be determined from the given context.\n",
      "\n",
      "Note: The page label is 10, indicating that the information provided is related to the third quarter (Q3) of 2022.\n"
     ]
    }
   ],
   "source": [
    "from llama_index.core.response_synthesizers.type import ResponseMode\n",
    "# tree_summarize_query_engine = vector_index.as_query_engine(response_mode=\"simple_summarize\", verbose=True)\n",
    "tree_summarize_query_engine = vector_index.as_query_engine(response_mode=ResponseMode.REFINE, verbose=True)\n",
    "\n",
    "response = tree_summarize_query_engine.query(\"How much of profit and sales growth?\")\n",
    "print(\"Tree Summarize Response:\")\n",
    "print(response)"
   ]
  },
  {
   "cell_type": "code",
   "execution_count": 39,
   "metadata": {},
   "outputs": [
    {
     "name": "stdout",
     "output_type": "stream",
     "text": [
      "{'REFINE': <ResponseMode.REFINE: 'refine'>, 'COMPACT': <ResponseMode.COMPACT: 'compact'>, 'SIMPLE_SUMMARIZE': <ResponseMode.SIMPLE_SUMMARIZE: 'simple_summarize'>, 'TREE_SUMMARIZE': <ResponseMode.TREE_SUMMARIZE: 'tree_summarize'>, 'GENERATION': <ResponseMode.GENERATION: 'generation'>, 'NO_TEXT': <ResponseMode.NO_TEXT: 'no_text'>, 'CONTEXT_ONLY': <ResponseMode.CONTEXT_ONLY: 'context_only'>, 'ACCUMULATE': <ResponseMode.ACCUMULATE: 'accumulate'>, 'COMPACT_ACCUMULATE': <ResponseMode.COMPACT_ACCUMULATE: 'compact_accumulate'>}\n"
     ]
    }
   ],
   "source": [
    "from llama_index.core.response_synthesizers.type import ResponseMode\n",
    "\n",
    "\n",
    "print(ResponseMode.__members__)"
   ]
  },
  {
   "cell_type": "code",
   "execution_count": 17,
   "metadata": {},
   "outputs": [],
   "source": [
    "tree_summarize_query_engine = vector_index.as_query_engine(response_mode=\"tree_summarize\", verbose=True,)\n"
   ]
  },
  {
   "cell_type": "code",
   "execution_count": 15,
   "metadata": {},
   "outputs": [],
   "source": [
    "tree_summarize_response = tree_summarize_query_engine.query(\"How much of profit and sales growth?\")\n"
   ]
  },
  {
   "cell_type": "code",
   "execution_count": 16,
   "metadata": {},
   "outputs": [
    {
     "name": "stdout",
     "output_type": "stream",
     "text": [
      "The net sales increased by 2% for both three months and nine months periods. However, the profit figures are not explicitly mentioned in the provided context.\n"
     ]
    }
   ],
   "source": [
    "print(tree_summarize_response)"
   ]
  }
 ],
 "metadata": {
  "kernelspec": {
   "display_name": "llamaindex",
   "language": "python",
   "name": "python3"
  },
  "language_info": {
   "codemirror_mode": {
    "name": "ipython",
    "version": 3
   },
   "file_extension": ".py",
   "mimetype": "text/x-python",
   "name": "python",
   "nbconvert_exporter": "python",
   "pygments_lexer": "ipython3",
   "version": "3.11.10"
  }
 },
 "nbformat": 4,
 "nbformat_minor": 2
}
