{
 "cells": [
  {
   "cell_type": "code",
   "execution_count": null,
   "metadata": {},
   "outputs": [],
   "source": [
    "# Install the required packages\n",
    "%pip install llama-index-llms-openai\n",
    "!pip install llama-index\n",
    "!pip install jsonpath-ng"
   ]
  },
  {
   "cell_type": "code",
   "execution_count": null,
   "metadata": {},
   "outputs": [],
   "source": [
    " #Import necessary libraries\n",
    "import logging\n",
    "import sys\n",
    "import os\n",
    "from IPython.display import Markdown, display\n",
    "\n",
    "# Configure logging for clarity\n",
    "logging.basicConfig(stream=sys.stdout, level=logging.INFO)\n",
    "logging.getLogger().addHandler(logging.StreamHandler(stream=sys.stdout))\n"
   ]
  },
  {
   "cell_type": "code",
   "execution_count": null,
   "metadata": {},
   "outputs": [],
   "source": [
    "import getpass\n",
    "import os\n",
    "\n",
    "os.environ[\"OPENAI_API_KEY\"] = getpass.getpass(\"open ai api key: \")"
   ]
  },
  {
   "cell_type": "code",
   "execution_count": null,
   "metadata": {},
   "outputs": [],
   "source": [
    "# Test on some sample data\n",
    "json_value = {\n",
    "    \"blogPosts\": [\n",
    "        {\n",
    "            \"id\": 1,\n",
    "            \"title\": \"First blog post\",\n",
    "            \"content\": \"This is my first blog post\",\n",
    "        },\n",
    "        {\n",
    "            \"id\": 2,\n",
    "            \"title\": \"Second blog post\",\n",
    "            \"content\": \"This is my second blog post\",\n",
    "        },\n",
    "    ],\n",
    "    \"comments\": [\n",
    "        {\n",
    "            \"id\": 1,\n",
    "            \"content\": \"Nice post!\",\n",
    "            \"username\": \"jerry\",\n",
    "            \"blogPostId\": 1,\n",
    "        },\n",
    "        {\n",
    "            \"id\": 2,\n",
    "            \"content\": \"Interesting thoughts\",\n",
    "            \"username\": \"simon\",\n",
    "            \"blogPostId\": 2,\n",
    "        },\n",
    "        {\n",
    "            \"id\": 3,\n",
    "            \"content\": \"Loved reading this!\",\n",
    "            \"username\": \"simon\",\n",
    "            \"blogPostId\": 2,\n",
    "        },\n",
    "    ],\n",
    "}\n",
    "\n",
    "# JSON Schema object that the above JSON value conforms to\n",
    "json_schema = {\n",
    "    \"$schema\": \"http://json-schema.org/draft-07/schema#\",\n",
    "    \"description\": \"Schema for a very simple blog post app\",\n",
    "    \"type\": \"object\",\n",
    "    \"properties\": {\n",
    "        \"blogPosts\": {\n",
    "            \"description\": \"List of blog posts\",\n",
    "            \"type\": \"array\",\n",
    "            \"items\": {\n",
    "                \"type\": \"object\",\n",
    "                \"properties\": {\n",
    "                    \"id\": {\n",
    "                        \"description\": \"Unique identifier for the blog post\",\n",
    "                        \"type\": \"integer\",\n",
    "                    },\n",
    "                    \"title\": {\n",
    "                        \"description\": \"Title of the blog post\",\n",
    "                        \"type\": \"string\",\n",
    "                    },\n",
    "                    \"content\": {\n",
    "                        \"description\": \"Content of the blog post\",\n",
    "                        \"type\": \"string\",\n",
    "                    },\n",
    "                },\n",
    "                \"required\": [\"id\", \"title\", \"content\"],\n",
    "            },\n",
    "        },\n",
    "        \"comments\": {\n",
    "            \"description\": \"List of comments on blog posts\",\n",
    "            \"type\": \"array\",\n",
    "            \"items\": {\n",
    "                \"type\": \"object\",\n",
    "                \"properties\": {\n",
    "                    \"id\": {\n",
    "                        \"description\": \"Unique identifier for the comment\",\n",
    "                        \"type\": \"integer\",\n",
    "                    },\n",
    "                    \"content\": {\n",
    "                        \"description\": \"Content of the comment\",\n",
    "                        \"type\": \"string\",\n",
    "                    },\n",
    "                    \"username\": {\n",
    "                        \"description\": (\n",
    "                            \"Username of the commenter (lowercased)\"\n",
    "                        ),\n",
    "                        \"type\": \"string\",\n",
    "                    },\n",
    "                    \"blogPostId\": {\n",
    "                        \"description\": (\n",
    "                            \"Identifier for the blog post to which the comment\"\n",
    "                            \" belongs\"\n",
    "                        ),\n",
    "                        \"type\": \"integer\",\n",
    "                    },\n",
    "                },\n",
    "                \"required\": [\"id\", \"content\", \"username\", \"blogPostId\"],\n",
    "            },\n",
    "        },\n",
    "    },\n",
    "    \"required\": [\"blogPosts\", \"comments\"],\n",
    "}"
   ]
  },
  {
   "cell_type": "code",
   "execution_count": null,
   "metadata": {},
   "outputs": [],
   "source": [
    "from llama_index.llms.openai import OpenAI\n",
    "from llama_index.core.indices.struct_store import JSONQueryEngine\n",
    "\n",
    "llm = OpenAI(model=\"gpt-3.5-turbo\")\n",
    "\n",
    "\n",
    "nl_query_engine = JSONQueryEngine(\n",
    "    json_value=json_value,\n",
    "    json_schema=json_schema,\n",
    "    llm=llm,\n",
    ")\n",
    "raw_query_engine = JSONQueryEngine(\n",
    "    json_value=json_value,\n",
    "    json_schema=json_schema,\n",
    "    llm=llm,\n",
    "    synthesize_response=False,\n",
    ")"
   ]
  },
  {
   "cell_type": "code",
   "execution_count": null,
   "metadata": {},
   "outputs": [],
   "source": [
    "nl_response = nl_query_engine.query(\n",
    "    \"What comments has Jerry been writing?\",\n",
    ")\n"
   ]
  },
  {
   "cell_type": "code",
   "execution_count": null,
   "metadata": {},
   "outputs": [],
   "source": [
    "raw_response = raw_query_engine.query(\n",
    "    \"What comments has Jerry been writing?\",\n",
    ")"
   ]
  },
  {
   "cell_type": "code",
   "execution_count": null,
   "metadata": {},
   "outputs": [],
   "source": [
    "# Extract and print the JSON Path query string\n",
    "print(\"Generated JSON Path Query:\")\n",
    "print(nl_response.metadata[\"json_path_response_str\"])"
   ]
  },
  {
   "cell_type": "code",
   "execution_count": null,
   "metadata": {},
   "outputs": [],
   "source": [
    "display(\n",
    "    Markdown(f\"Natural language Response: {nl_response}\")\n",
    ")\n",
    "display(Markdown(f\"Raw JSON Response: {raw_response}\"))"
   ]
  }
 ],
 "metadata": {
  "kernelspec": {
   "display_name": "llamaindex",
   "language": "python",
   "name": "python3"
  },
  "language_info": {
   "codemirror_mode": {
    "name": "ipython",
    "version": 3
   },
   "file_extension": ".py",
   "mimetype": "text/x-python",
   "name": "python",
   "nbconvert_exporter": "python",
   "pygments_lexer": "ipython3",
   "version": "3.11.10"
  }
 },
 "nbformat": 4,
 "nbformat_minor": 2
}
