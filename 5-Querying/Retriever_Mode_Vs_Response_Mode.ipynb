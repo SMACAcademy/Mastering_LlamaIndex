{
 "cells": [
  {
   "cell_type": "code",
   "execution_count": null,
   "metadata": {},
   "outputs": [],
   "source": [
    "# Install required libraries\n",
    "%pip install llama-index-llms-openai\n",
    "!pip install llama-index"
   ]
  },
  {
   "cell_type": "code",
   "execution_count": null,
   "metadata": {},
   "outputs": [],
   "source": [
    "# Import necessary libraries\n",
    "import logging\n",
    "import sys\n",
    "import os\n",
    "from llama_index.core import VectorStoreIndex, SimpleDirectoryReader\n",
    "from llama_index.llms.ollama import Ollama\n",
    "from llama_index.embeddings.ollama import OllamaEmbedding\n",
    "from llama_index.core.retrievers import VectorIndexRetriever\n",
    "from llama_index.core.query_engine import RetrieverQueryEngine\n",
    "\n",
    "# Configure logging\n",
    "logging.basicConfig(stream=sys.stdout, level=logging.ERROR)\n",
    "logging.getLogger().addHandler(logging.StreamHandler(stream=sys.stdout))\n"
   ]
  },
  {
   "cell_type": "code",
   "execution_count": null,
   "metadata": {},
   "outputs": [],
   "source": [
    "from llama_index.core import Settings\n",
    "\n",
    "\n",
    "# Configure Ollama LLM\n",
    "ollama_llm = Ollama(\n",
    "    model=\"llama3.2:latest\",\n",
    "    base_url=\"http://localhost:11434\",\n",
    "    temperature=0.1\n",
    ")\n",
    "\n",
    "# Configure embedding model\n",
    "ollama_embedding = OllamaEmbedding(\n",
    "    model_name=\"nomic-embed-text:latest\",\n",
    "    base_url=\"http://localhost:11434\",\n",
    "    ollama_additional_kwargs={\"mirostat\": 0}\n",
    ")\n",
    "\n",
    "\n",
    "Settings.llm = ollama_llm\n",
    "Settings.embed_model = ollama_embedding\n"
   ]
  },
  {
   "cell_type": "code",
   "execution_count": null,
   "metadata": {},
   "outputs": [],
   "source": [
    "# Load documents into the index\n",
    "documents = SimpleDirectoryReader(input_files=['../data/2022 Q3 AAPL.pdf']).load_data()\n",
    "index = VectorStoreIndex.from_documents(documents)"
   ]
  },
  {
   "cell_type": "code",
   "execution_count": null,
   "metadata": {},
   "outputs": [],
   "source": [
    "# Create a retriever from the index\n",
    "retriever = index.as_retriever(retriever_mode=\"default\")  # Default mode for VectorStoreIndex\n",
    "\n",
    "# Retrieve relevant nodes\n",
    "query = \"Provide the summary on the sales and profit\"\n",
    "nodes = retriever.retrieve(query)\n",
    "\n",
    "# Display the retrieved nodes\n",
    "print(\"Retrieved Nodes:\")\n",
    "for node in nodes:\n",
    "    print(f\"Node ID: {node.node_id}\")\n",
    "    print(f\"Node Text: {node.text}\\n\")\n"
   ]
  },
  {
   "cell_type": "code",
   "execution_count": null,
   "metadata": {},
   "outputs": [],
   "source": [
    "from llama_index.core import get_response_synthesizer\n",
    "\n",
    "# Create a response synthesizer\n",
    "synthesizer_simple = get_response_synthesizer(response_mode=\"simple_summarize\", llm=ollama_llm)\n",
    "\n",
    "# Create a query engine\n",
    "query_engine_simple = RetrieverQueryEngine(retriever=retriever, response_synthesizer=synthesizer_simple)\n",
    "\n",
    "# Execute query\n",
    "response_simple = query_engine_simple.query(query)\n",
    "print(\"Simple Summarize Response:\")\n",
    "print(response_simple)\n"
   ]
  },
  {
   "cell_type": "code",
   "execution_count": null,
   "metadata": {},
   "outputs": [],
   "source": [
    "# Create a response synthesizer\n",
    "synthesizer_refine = get_response_synthesizer(response_mode=\"refine\", llm=ollama_llm)\n",
    "\n",
    "# Create a query engine\n",
    "query_engine_refine = RetrieverQueryEngine.from_args(retriever=retriever, response_synthesizer=synthesizer_refine)\n",
    "\n",
    "# Execute query\n",
    "response_refine = query_engine_refine.query(query)\n",
    "print(\"Refine Response:\")\n",
    "print(response_refine)\n"
   ]
  }
 ],
 "metadata": {
  "kernelspec": {
   "display_name": "llamaindex",
   "language": "python",
   "name": "python3"
  },
  "language_info": {
   "codemirror_mode": {
    "name": "ipython",
    "version": 3
   },
   "file_extension": ".py",
   "mimetype": "text/x-python",
   "name": "python",
   "nbconvert_exporter": "python",
   "pygments_lexer": "ipython3",
   "version": "3.11.10"
  }
 },
 "nbformat": 4,
 "nbformat_minor": 2
}
