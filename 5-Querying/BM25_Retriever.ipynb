{
 "cells": [
  {
   "cell_type": "code",
   "execution_count": null,
   "metadata": {},
   "outputs": [],
   "source": [
    "# Install required libraries\n",
    "!pip install llama-index\n",
    "!pip install llama-index-retrievers-bm25\n",
    "!pip install chromadb\n",
    "!pip install PyStemmer\n"
   ]
  },
  {
   "cell_type": "code",
   "execution_count": null,
   "metadata": {},
   "outputs": [],
   "source": [
    "# Import necessary libraries\n",
    "import os\n",
    "import logging\n",
    "from llama_index.core import VectorStoreIndex, SimpleDirectoryReader, ServiceContext\n",
    "from llama_index.embeddings.ollama import OllamaEmbedding\n",
    "from llama_index.llms.ollama import Ollama\n",
    "from llama_index.retrievers.bm25 import BM25Retriever\n",
    "from llama_index.core.storage.docstore import SimpleDocumentStore\n",
    "from llama_index.vector_stores.chroma import ChromaVectorStore\n",
    "from llama_index.core.query_engine import RetrieverQueryEngine\n",
    "import chromadb\n",
    "import Stemmer\n",
    "\n",
    "# Configure logging\n",
    "logging.basicConfig(level=logging.INFO)"
   ]
  },
  {
   "cell_type": "code",
   "execution_count": null,
   "metadata": {},
   "outputs": [],
   "source": [
    "from llama_index.core import Settings\n",
    "\n",
    "\n",
    "# Configure Ollama LLM\n",
    "ollama_llm = Ollama(\n",
    "    model=\"llama3.2:latest\",\n",
    "    base_url=\"http://localhost:11434\",\n",
    "    temperature=0.1\n",
    ")\n",
    "\n",
    "# Configure embedding model\n",
    "ollama_embedding = OllamaEmbedding(\n",
    "    model_name=\"nomic-embed-text:latest\",\n",
    "    base_url=\"http://localhost:11434\",\n",
    "    ollama_additional_kwargs={\"mirostat\": 0}\n",
    ")\n",
    "\n",
    "\n",
    "Settings.llm = ollama_llm\n",
    "Settings.embed_model = ollama_embedding"
   ]
  },
  {
   "cell_type": "code",
   "execution_count": null,
   "metadata": {},
   "outputs": [],
   "source": [
    "# Load documents\n",
    "documents = SimpleDirectoryReader(input_files=[\"../data/paul_graham_essay3.txt\"]).load_data()\n",
    "\n",
    "# Initialize a SentenceSplitter to create nodes\n",
    "from llama_index.core.node_parser import SentenceSplitter\n",
    "\n",
    "splitter = SentenceSplitter(chunk_size=512)\n",
    "nodes = splitter.get_nodes_from_documents(documents)\n"
   ]
  },
  {
   "cell_type": "code",
   "execution_count": null,
   "metadata": {},
   "outputs": [],
   "source": [
    "# Create a BM25 Retriever\n",
    "bm25_retriever = BM25Retriever.from_defaults(\n",
    "    nodes=nodes,\n",
    "    similarity_top_k=2,\n",
    "    stemmer=Stemmer.Stemmer(\"english\"),\n",
    "    language=\"english\",\n",
    ")\n",
    "\n",
    "# Persist the BM25 Retriever to disk\n",
    "bm25_retriever.persist(\"./bm25_retriever\")\n",
    "\n",
    "# Reload the BM25 Retriever\n",
    "loaded_bm25_retriever = BM25Retriever.from_persist_dir(\"./bm25_retriever\")\n"
   ]
  },
  {
   "cell_type": "code",
   "execution_count": null,
   "metadata": {},
   "outputs": [],
   "source": [
    "# Initialize a docstore to store nodes\n",
    "from llama_index.core.storage.docstore import SimpleDocumentStore\n",
    "from llama_index.vector_stores.chroma import ChromaVectorStore\n",
    "from llama_index.core import VectorStoreIndex\n",
    "\n",
    "docstore = SimpleDocumentStore()\n",
    "docstore.add_documents(nodes)\n",
    "\n",
    "# Configure Chroma vector store\n",
    "import chromadb\n",
    "db = chromadb.PersistentClient(path=\"./chroma_db\")\n",
    "chroma_collection = db.get_or_create_collection(\"dense_vectors\")\n",
    "vector_store = ChromaVectorStore(chroma_collection=chroma_collection)\n",
    "\n",
    "# Create a QueryFusionRetriever with BM25 and Chroma\n",
    "from llama_index.core.retrievers import QueryFusionRetriever\n",
    "from llama_index.retrievers.bm25 import BM25Retriever\n",
    "\n",
    "# Create the BM25 retriever\n",
    "bm25_retriever = BM25Retriever.from_defaults(docstore=docstore, similarity_top_k=2)\n",
    "\n",
    "# Create the VectorStoreIndex and its retriever\n",
    "index = VectorStoreIndex(nodes=nodes, docstore=docstore, vector_store=vector_store)\n",
    "vector_retriever = index.as_retriever(similarity_top_k=2)\n",
    "\n",
    "# Combine retrievers into a QueryFusionRetriever\n",
    "hybrid_retriever = QueryFusionRetriever(\n",
    "    retrievers=[bm25_retriever, vector_retriever],\n",
    "    num_queries=1,\n",
    "    use_async=False,\n",
    ")\n",
    "\n",
    "# Query the hybrid retriever\n",
    "query = \"What happened at Viaweb and Interleaf?\"\n",
    "retrieved_nodes = hybrid_retriever.retrieve(query)\n",
    "\n",
    "# Display the results\n",
    "for node in retrieved_nodes:\n",
    "    print(f\"Node ID: {node.node_id}\")\n",
    "    print(f\"Text: {node.text}\\n\")\n"
   ]
  },
  {
   "cell_type": "code",
   "execution_count": null,
   "metadata": {},
   "outputs": [],
   "source": [
    "# Query the hybrid retriever\n",
    "retrieved_nodes = hybrid_retriever.retrieve(\"What happened at Viaweb and Interleaf?\")\n",
    "\n",
    "# Display retrieved nodes\n",
    "for node in retrieved_nodes:\n",
    "    print(f\"Node ID: {node.node_id}\")\n",
    "    print(f\"Text: {node.text}\\n\")\n"
   ]
  },
  {
   "cell_type": "code",
   "execution_count": null,
   "metadata": {},
   "outputs": [],
   "source": [
    "# Save the docstore\n",
    "docstore.persist(\"./docstore.json\")\n",
    "\n",
    "# Reload docstore\n",
    "from llama_index.core.storage.docstore import SimpleDocumentStore\n",
    "docstore = SimpleDocumentStore.from_persist_path(\"./docstore.json\")\n",
    "\n",
    "# Reload Chroma vector store\n",
    "import chromadb\n",
    "from llama_index.vector_stores.chroma import ChromaVectorStore\n",
    "\n",
    "db = chromadb.PersistentClient(path=\"./chroma_db\")\n",
    "chroma_collection = db.get_or_create_collection(\"dense_vectors\")\n",
    "vector_store = ChromaVectorStore(chroma_collection=chroma_collection)\n",
    "\n",
    "# Reload nodes from the docstore\n",
    "from llama_index.core import VectorStoreIndex\n",
    "nodes = [docstore.docs[doc_id] for doc_id in docstore.docs.keys()]\n",
    "\n",
    "# Recreate VectorStoreIndex using the reloaded docstore, vector store, and nodes\n",
    "index = VectorStoreIndex(\n",
    "    nodes=nodes,  # Ensure nodes are added to the index\n",
    "    docstore=docstore,\n",
    "    vector_store=vector_store,\n",
    ")\n"
   ]
  },
  {
   "cell_type": "code",
   "execution_count": null,
   "metadata": {},
   "outputs": [],
   "source": [
    "# Access all documents in the docstore\n",
    "doc_ids = list(docstore.docs.keys())\n",
    "print(f\"Number of documents in docstore: {len(doc_ids)}\")\n",
    "\n",
    "# Optionally, print the IDs of stored documents\n",
    "print(\"Document IDs in docstore:\")\n",
    "for doc_id in doc_ids:\n",
    "    print(doc_id)\n"
   ]
  },
  {
   "cell_type": "code",
   "execution_count": null,
   "metadata": {},
   "outputs": [],
   "source": [
    "# Check if the vector store is operational\n",
    "print(f\"Vector store contains collection: {chroma_collection.name}\")\n",
    "\n",
    "# Optionally, check the number of entries in the collection\n",
    "print(f\"Number of vectors in vector store: {len(chroma_collection.get())}\")\n"
   ]
  },
  {
   "cell_type": "code",
   "execution_count": null,
   "metadata": {},
   "outputs": [],
   "source": [
    "# Test query to ensure the index works as expected\n",
    "query = \"Who is the author of this essay?\"\n",
    "retriever = index.as_retriever(similarity_top_k=2)\n",
    "retrieved_nodes = retriever.retrieve(query)\n",
    "\n",
    "# Print the results\n",
    "print(\"Retrieved Nodes:\")\n",
    "for node in retrieved_nodes:\n",
    "    print(f\"Node ID: {node.node_id}\")\n",
    "    print(f\"Text: {node.text}\\n\")\n"
   ]
  }
 ],
 "metadata": {
  "kernelspec": {
   "display_name": "llamaindex",
   "language": "python",
   "name": "python3"
  },
  "language_info": {
   "codemirror_mode": {
    "name": "ipython",
    "version": 3
   },
   "file_extension": ".py",
   "mimetype": "text/x-python",
   "name": "python",
   "nbconvert_exporter": "python",
   "pygments_lexer": "ipython3",
   "version": "3.11.10"
  }
 },
 "nbformat": 4,
 "nbformat_minor": 2
}
