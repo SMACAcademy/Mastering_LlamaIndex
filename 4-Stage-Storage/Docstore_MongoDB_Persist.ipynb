{
 "cells": [
  {
   "cell_type": "code",
   "execution_count": null,
   "metadata": {},
   "outputs": [],
   "source": [
    "!docker run --name mongodb -d -p 27017:27017 mongo:latest"
   ]
  },
  {
   "cell_type": "code",
   "execution_count": null,
   "metadata": {},
   "outputs": [],
   "source": [
    "!docker ps"
   ]
  },
  {
   "cell_type": "code",
   "execution_count": null,
   "metadata": {},
   "outputs": [],
   "source": [
    "%pip install llama-index-storage-docstore-mongodb\n",
    "%pip install llama-index-storage-index-store-mongodb\n",
    "%pip install llama-index\n"
   ]
  },
  {
   "cell_type": "code",
   "execution_count": null,
   "metadata": {},
   "outputs": [],
   "source": [
    "import os\n",
    "import logging\n",
    "from llama_index.core import SimpleDirectoryReader, StorageContext\n",
    "from llama_index.core import VectorStoreIndex, SimpleKeywordTableIndex, SummaryIndex\n",
    "from llama_index.llms.openai import OpenAI\n",
    "from llama_index.core.node_parser import SentenceSplitter\n",
    "from llama_index.storage.docstore.mongodb import MongoDocumentStore\n",
    "from llama_index.storage.index_store.mongodb import MongoIndexStore\n"
   ]
  },
  {
   "cell_type": "code",
   "execution_count": null,
   "metadata": {},
   "outputs": [],
   "source": [
    "\n",
    "# Configure logging\n",
    "logging.basicConfig(level=logging.INFO)\n",
    "\n",
    "# MongoDB connection URI\n",
    "MONGO_URI = \"mongodb://localhost:27017\"\n"
   ]
  },
  {
   "cell_type": "code",
   "execution_count": null,
   "metadata": {},
   "outputs": [],
   "source": [
    "from llama_index.core import SimpleDirectoryReader\n",
    "\n",
    "documents = SimpleDirectoryReader(input_files=['../data/paul_graham_essay3.txt']).load_data()\n",
    "# documents = SimpleDirectoryReader(input_files=['../data/2022 Q3 AAPL.pdf']).load_data()\n"
   ]
  },
  {
   "cell_type": "code",
   "execution_count": null,
   "metadata": {},
   "outputs": [],
   "source": [
    "\n",
    "# Step 2: Parse documents into nodes\n",
    "parser = SentenceSplitter()\n",
    "nodes = parser.get_nodes_from_documents(documents)\n",
    "# Create a storage context\n",
    "\n",
    "# Step 2: Create MongoDB Storage Context\n",
    "docstore = MongoDocumentStore.from_uri(uri=MONGO_URI)\n",
    "index_store = MongoIndexStore.from_uri(uri=MONGO_URI)\n",
    "\n",
    "docstore.add_documents(nodes)  # Add nodes to the document store\n",
    "\n",
    "\n",
    "storage_context = StorageContext.from_defaults(docstore=docstore, index_store=index_store)\n"
   ]
  },
  {
   "cell_type": "code",
   "execution_count": null,
   "metadata": {},
   "outputs": [],
   "source": [
    "#os.environ[\"OPENAI_API_KEY\"] = getpass.getpass(\"open ai api key: \")\n",
    "from llama_index.core import Settings\n",
    "from llama_index.llms.ollama import  Ollama\n",
    "Settings.llm = Ollama(model='llama3.2:latest', base_url='http://localhost:11434',temperature=0.1)\n",
    "\n"
   ]
  },
  {
   "cell_type": "code",
   "execution_count": null,
   "metadata": {},
   "outputs": [],
   "source": [
    "from llama_index.embeddings.ollama import OllamaEmbedding\n",
    "\n",
    "ollama_embedding = OllamaEmbedding(\n",
    "    model_name=\"nomic-embed-text:latest\",  # Replace with your desired model\n",
    "    base_url=\"http://localhost:11434\",  # Ensure Ollama is running at this endpoint\n",
    "    ollama_additional_kwargs={\"mirostat\": 0} #Mirostat is a technique for controlling perplexity and balancing the text generation process in large language models (LLMs).\n",
    ") "
   ]
  },
  {
   "cell_type": "code",
   "execution_count": null,
   "metadata": {},
   "outputs": [],
   "source": [
    "\n",
    "\n",
    "# Step 4: Build Multiple Indexes\n",
    "summary_index = SummaryIndex(nodes, storage_context=storage_context)\n",
    "vector_index = VectorStoreIndex(nodes, storage_context=storage_context, embed_model=ollama_embedding)\n",
    "keyword_table_index = SimpleKeywordTableIndex(nodes, storage_context=storage_context)\n"
   ]
  },
  {
   "cell_type": "code",
   "execution_count": null,
   "metadata": {},
   "outputs": [],
   "source": [
    "# Save index IDs for reloading later\n",
    "summary_id = summary_index.index_id\n",
    "vector_id = vector_index.index_id\n",
    "keyword_id = keyword_table_index.index_id\n",
    "\n",
    "# Print saved IDs (optional for verification)\n",
    "print(f\"Summary Index ID: {summary_id}\")\n",
    "print(f\"Vector Index ID: {vector_id}\")\n",
    "print(f\"Keyword Table Index ID: {keyword_id}\")"
   ]
  },
  {
   "cell_type": "code",
   "execution_count": null,
   "metadata": {},
   "outputs": [],
   "source": [
    "# Persist storage context (only vector store if needed)\n",
    "storage_context.persist()\n"
   ]
  },
  {
   "cell_type": "code",
   "execution_count": null,
   "metadata": {},
   "outputs": [],
   "source": [
    " #Save index IDs\n",
    "index_ids = {\n",
    "    \"summary_id\": summary_index.index_id,\n",
    "    \"vector_id\": vector_index.index_id,\n",
    "    \"keyword_id\": keyword_table_index.index_id,\n",
    "}\n",
    "\n",
    "# Save the index IDs for later use\n",
    "import json\n",
    "with open(\"mongodb_index_ids.json\", \"w\") as f:\n",
    "    json.dump(index_ids, f)\n",
    "print(\"Index IDs saved.\")"
   ]
  },
  {
   "cell_type": "code",
   "execution_count": null,
   "metadata": {},
   "outputs": [],
   "source": [
    "\n",
    "# Verify that nodes are persisted\n",
    "print(f\"Total nodes in MongoDB DocumentStore: {len(docstore.docs)}\")\n",
    "\n",
    "# Step 5: Query the Indexes\n",
    "# Configure OpenAI GPT model\n",
    "#chatgpt = OpenAI(temperature=0, model=\"gpt-3.5-turbo\")\n",
    "#from llama_index.core import Settings\n",
    "\n",
    "#Settings.llm = chatgpt\n",
    "\n",
    "# Query summary index\n",
    "query_engine = summary_index.as_query_engine()\n",
    "response = query_engine.query(\"What is a summary of this document?\")\n",
    "print(\"Summary Response:\", response)\n",
    "\n",
    "# Query vector index\n",
    "query_engine = vector_index.as_query_engine()\n",
    "response = query_engine.query(\"What did the author do growing up?\")\n",
    "print(\"Vector Response:\", response)\n",
    "\n",
    "# Query keyword table index\n",
    "query_engine = keyword_table_index.as_query_engine()\n",
    "response = query_engine.query(\"What did the author do after his time at YC?\")\n",
    "print(\"Keyword Table Response:\", response)\n"
   ]
  },
  {
   "cell_type": "code",
   "execution_count": null,
   "metadata": {},
   "outputs": [],
   "source": [
    "from llama_index.core.response.notebook_utils import display_response\n",
    "\n",
    "display_response(summary_response)\n",
    "display_response(vector_response)\n",
    "display_response(keyword_response)"
   ]
  }
 ],
 "metadata": {
  "kernelspec": {
   "display_name": "llamaindex",
   "language": "python",
   "name": "python3"
  },
  "language_info": {
   "codemirror_mode": {
    "name": "ipython",
    "version": 3
   },
   "file_extension": ".py",
   "mimetype": "text/x-python",
   "name": "python",
   "nbconvert_exporter": "python",
   "pygments_lexer": "ipython3",
   "version": "3.11.10"
  }
 },
 "nbformat": 4,
 "nbformat_minor": 2
}
