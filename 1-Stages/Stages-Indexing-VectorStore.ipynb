{
 "cells": [
  {
   "cell_type": "code",
   "execution_count": 1,
   "metadata": {},
   "outputs": [],
   "source": [
    "from llama_index.core import SimpleDirectoryReader\n",
    "documents = SimpleDirectoryReader(input_files=['../data/2022 Q3 AAPL.pdf']).load_data()\n"
   ]
  },
  {
   "cell_type": "code",
   "execution_count": 2,
   "metadata": {},
   "outputs": [
    {
     "name": "stdout",
     "output_type": "stream",
     "text": [
      "Requirement already satisfied: llama-index-embeddings-ollama in c:\\users\\muthu\\.conda\\envs\\llamaindex\\lib\\site-packages (0.3.1)\n",
      "Requirement already satisfied: llama-index-core<0.12.0,>=0.11.0 in c:\\users\\muthu\\.conda\\envs\\llamaindex\\lib\\site-packages (from llama-index-embeddings-ollama) (0.11.23)\n",
      "Requirement already satisfied: ollama<0.4.0,>=0.3.1 in c:\\users\\muthu\\.conda\\envs\\llamaindex\\lib\\site-packages (from llama-index-embeddings-ollama) (0.3.3)\n",
      "Requirement already satisfied: PyYAML>=6.0.1 in c:\\users\\muthu\\.conda\\envs\\llamaindex\\lib\\site-packages (from llama-index-core<0.12.0,>=0.11.0->llama-index-embeddings-ollama) (6.0.2)\n",
      "Requirement already satisfied: SQLAlchemy>=1.4.49 in c:\\users\\muthu\\.conda\\envs\\llamaindex\\lib\\site-packages (from SQLAlchemy[asyncio]>=1.4.49->llama-index-core<0.12.0,>=0.11.0->llama-index-embeddings-ollama) (2.0.32)\n",
      "Requirement already satisfied: aiohttp<4.0.0,>=3.8.6 in c:\\users\\muthu\\.conda\\envs\\llamaindex\\lib\\site-packages (from llama-index-core<0.12.0,>=0.11.0->llama-index-embeddings-ollama) (3.10.8)\n",
      "Requirement already satisfied: dataclasses-json in c:\\users\\muthu\\.conda\\envs\\llamaindex\\lib\\site-packages (from llama-index-core<0.12.0,>=0.11.0->llama-index-embeddings-ollama) (0.6.7)\n",
      "Requirement already satisfied: deprecated>=1.2.9.3 in c:\\users\\muthu\\.conda\\envs\\llamaindex\\lib\\site-packages (from llama-index-core<0.12.0,>=0.11.0->llama-index-embeddings-ollama) (1.2.14)\n",
      "Requirement already satisfied: dirtyjson<2.0.0,>=1.0.8 in c:\\users\\muthu\\.conda\\envs\\llamaindex\\lib\\site-packages (from llama-index-core<0.12.0,>=0.11.0->llama-index-embeddings-ollama) (1.0.8)\n",
      "Requirement already satisfied: filetype<2.0.0,>=1.2.0 in c:\\users\\muthu\\.conda\\envs\\llamaindex\\lib\\site-packages (from llama-index-core<0.12.0,>=0.11.0->llama-index-embeddings-ollama) (1.2.0)\n",
      "Requirement already satisfied: fsspec>=2023.5.0 in c:\\users\\muthu\\.conda\\envs\\llamaindex\\lib\\site-packages (from llama-index-core<0.12.0,>=0.11.0->llama-index-embeddings-ollama) (2024.9.0)\n",
      "Requirement already satisfied: httpx in c:\\users\\muthu\\.conda\\envs\\llamaindex\\lib\\site-packages (from llama-index-core<0.12.0,>=0.11.0->llama-index-embeddings-ollama) (0.27.2)\n",
      "Requirement already satisfied: nest-asyncio<2.0.0,>=1.5.8 in c:\\users\\muthu\\.conda\\envs\\llamaindex\\lib\\site-packages (from llama-index-core<0.12.0,>=0.11.0->llama-index-embeddings-ollama) (1.6.0)\n",
      "Requirement already satisfied: networkx>=3.0 in c:\\users\\muthu\\.conda\\envs\\llamaindex\\lib\\site-packages (from llama-index-core<0.12.0,>=0.11.0->llama-index-embeddings-ollama) (3.4.2)\n",
      "Requirement already satisfied: nltk>3.8.1 in c:\\users\\muthu\\.conda\\envs\\llamaindex\\lib\\site-packages (from llama-index-core<0.12.0,>=0.11.0->llama-index-embeddings-ollama) (3.9.1)\n",
      "Requirement already satisfied: numpy<2.0.0 in c:\\users\\muthu\\.conda\\envs\\llamaindex\\lib\\site-packages (from llama-index-core<0.12.0,>=0.11.0->llama-index-embeddings-ollama) (1.26.4)\n",
      "Requirement already satisfied: pillow>=9.0.0 in c:\\users\\muthu\\.conda\\envs\\llamaindex\\lib\\site-packages (from llama-index-core<0.12.0,>=0.11.0->llama-index-embeddings-ollama) (11.0.0)\n",
      "Requirement already satisfied: pydantic<3.0.0,>=2.7.0 in c:\\users\\muthu\\.conda\\envs\\llamaindex\\lib\\site-packages (from llama-index-core<0.12.0,>=0.11.0->llama-index-embeddings-ollama) (2.9.2)\n",
      "Requirement already satisfied: requests>=2.31.0 in c:\\users\\muthu\\.conda\\envs\\llamaindex\\lib\\site-packages (from llama-index-core<0.12.0,>=0.11.0->llama-index-embeddings-ollama) (2.32.3)\n",
      "Requirement already satisfied: tenacity!=8.4.0,<9.0.0,>=8.2.0 in c:\\users\\muthu\\.conda\\envs\\llamaindex\\lib\\site-packages (from llama-index-core<0.12.0,>=0.11.0->llama-index-embeddings-ollama) (8.5.0)\n",
      "Requirement already satisfied: tiktoken>=0.3.3 in c:\\users\\muthu\\.conda\\envs\\llamaindex\\lib\\site-packages (from llama-index-core<0.12.0,>=0.11.0->llama-index-embeddings-ollama) (0.8.0)\n",
      "Requirement already satisfied: tqdm<5.0.0,>=4.66.1 in c:\\users\\muthu\\.conda\\envs\\llamaindex\\lib\\site-packages (from llama-index-core<0.12.0,>=0.11.0->llama-index-embeddings-ollama) (4.67.0)\n",
      "Requirement already satisfied: typing-extensions>=4.5.0 in c:\\users\\muthu\\.conda\\envs\\llamaindex\\lib\\site-packages (from llama-index-core<0.12.0,>=0.11.0->llama-index-embeddings-ollama) (4.11.0)\n",
      "Requirement already satisfied: typing-inspect>=0.8.0 in c:\\users\\muthu\\.conda\\envs\\llamaindex\\lib\\site-packages (from llama-index-core<0.12.0,>=0.11.0->llama-index-embeddings-ollama) (0.9.0)\n",
      "Requirement already satisfied: wrapt in c:\\users\\muthu\\.conda\\envs\\llamaindex\\lib\\site-packages (from llama-index-core<0.12.0,>=0.11.0->llama-index-embeddings-ollama) (1.16.0)\n",
      "Requirement already satisfied: aiohappyeyeballs>=2.3.0 in c:\\users\\muthu\\.conda\\envs\\llamaindex\\lib\\site-packages (from aiohttp<4.0.0,>=3.8.6->llama-index-core<0.12.0,>=0.11.0->llama-index-embeddings-ollama) (2.4.3)\n",
      "Requirement already satisfied: aiosignal>=1.1.2 in c:\\users\\muthu\\.conda\\envs\\llamaindex\\lib\\site-packages (from aiohttp<4.0.0,>=3.8.6->llama-index-core<0.12.0,>=0.11.0->llama-index-embeddings-ollama) (1.3.1)\n",
      "Requirement already satisfied: attrs>=17.3.0 in c:\\users\\muthu\\.conda\\envs\\llamaindex\\lib\\site-packages (from aiohttp<4.0.0,>=3.8.6->llama-index-core<0.12.0,>=0.11.0->llama-index-embeddings-ollama) (24.2.0)\n",
      "Requirement already satisfied: frozenlist>=1.1.1 in c:\\users\\muthu\\.conda\\envs\\llamaindex\\lib\\site-packages (from aiohttp<4.0.0,>=3.8.6->llama-index-core<0.12.0,>=0.11.0->llama-index-embeddings-ollama) (1.5.0)\n",
      "Requirement already satisfied: multidict<7.0,>=4.5 in c:\\users\\muthu\\.conda\\envs\\llamaindex\\lib\\site-packages (from aiohttp<4.0.0,>=3.8.6->llama-index-core<0.12.0,>=0.11.0->llama-index-embeddings-ollama) (6.1.0)\n",
      "Requirement already satisfied: yarl<2.0,>=1.12.0 in c:\\users\\muthu\\.conda\\envs\\llamaindex\\lib\\site-packages (from aiohttp<4.0.0,>=3.8.6->llama-index-core<0.12.0,>=0.11.0->llama-index-embeddings-ollama) (1.17.1)\n",
      "Requirement already satisfied: anyio in c:\\users\\muthu\\.conda\\envs\\llamaindex\\lib\\site-packages (from httpx->llama-index-core<0.12.0,>=0.11.0->llama-index-embeddings-ollama) (4.6.2.post1)\n",
      "Requirement already satisfied: certifi in c:\\users\\muthu\\.conda\\envs\\llamaindex\\lib\\site-packages (from httpx->llama-index-core<0.12.0,>=0.11.0->llama-index-embeddings-ollama) (2024.8.30)\n",
      "Requirement already satisfied: httpcore==1.* in c:\\users\\muthu\\.conda\\envs\\llamaindex\\lib\\site-packages (from httpx->llama-index-core<0.12.0,>=0.11.0->llama-index-embeddings-ollama) (1.0.6)\n",
      "Requirement already satisfied: idna in c:\\users\\muthu\\.conda\\envs\\llamaindex\\lib\\site-packages (from httpx->llama-index-core<0.12.0,>=0.11.0->llama-index-embeddings-ollama) (3.10)\n",
      "Requirement already satisfied: sniffio in c:\\users\\muthu\\.conda\\envs\\llamaindex\\lib\\site-packages (from httpx->llama-index-core<0.12.0,>=0.11.0->llama-index-embeddings-ollama) (1.3.1)\n",
      "Requirement already satisfied: h11<0.15,>=0.13 in c:\\users\\muthu\\.conda\\envs\\llamaindex\\lib\\site-packages (from httpcore==1.*->httpx->llama-index-core<0.12.0,>=0.11.0->llama-index-embeddings-ollama) (0.14.0)\n",
      "Requirement already satisfied: click in c:\\users\\muthu\\.conda\\envs\\llamaindex\\lib\\site-packages (from nltk>3.8.1->llama-index-core<0.12.0,>=0.11.0->llama-index-embeddings-ollama) (8.1.7)\n",
      "Requirement already satisfied: joblib in c:\\users\\muthu\\.conda\\envs\\llamaindex\\lib\\site-packages (from nltk>3.8.1->llama-index-core<0.12.0,>=0.11.0->llama-index-embeddings-ollama) (1.4.2)\n",
      "Requirement already satisfied: regex>=2021.8.3 in c:\\users\\muthu\\.conda\\envs\\llamaindex\\lib\\site-packages (from nltk>3.8.1->llama-index-core<0.12.0,>=0.11.0->llama-index-embeddings-ollama) (2024.11.6)\n",
      "Requirement already satisfied: annotated-types>=0.6.0 in c:\\users\\muthu\\.conda\\envs\\llamaindex\\lib\\site-packages (from pydantic<3.0.0,>=2.7.0->llama-index-core<0.12.0,>=0.11.0->llama-index-embeddings-ollama) (0.7.0)\n",
      "Requirement already satisfied: pydantic-core==2.23.4 in c:\\users\\muthu\\.conda\\envs\\llamaindex\\lib\\site-packages (from pydantic<3.0.0,>=2.7.0->llama-index-core<0.12.0,>=0.11.0->llama-index-embeddings-ollama) (2.23.4)\n",
      "Requirement already satisfied: charset-normalizer<4,>=2 in c:\\users\\muthu\\.conda\\envs\\llamaindex\\lib\\site-packages (from requests>=2.31.0->llama-index-core<0.12.0,>=0.11.0->llama-index-embeddings-ollama) (3.4.0)\n",
      "Requirement already satisfied: urllib3<3,>=1.21.1 in c:\\users\\muthu\\.conda\\envs\\llamaindex\\lib\\site-packages (from requests>=2.31.0->llama-index-core<0.12.0,>=0.11.0->llama-index-embeddings-ollama) (2.2.3)\n",
      "Requirement already satisfied: greenlet!=0.4.17 in c:\\users\\muthu\\.conda\\envs\\llamaindex\\lib\\site-packages (from SQLAlchemy>=1.4.49->SQLAlchemy[asyncio]>=1.4.49->llama-index-core<0.12.0,>=0.11.0->llama-index-embeddings-ollama) (3.1.1)\n",
      "Requirement already satisfied: colorama in c:\\users\\muthu\\.conda\\envs\\llamaindex\\lib\\site-packages (from tqdm<5.0.0,>=4.66.1->llama-index-core<0.12.0,>=0.11.0->llama-index-embeddings-ollama) (0.4.6)\n",
      "Requirement already satisfied: mypy-extensions>=0.3.0 in c:\\users\\muthu\\.conda\\envs\\llamaindex\\lib\\site-packages (from typing-inspect>=0.8.0->llama-index-core<0.12.0,>=0.11.0->llama-index-embeddings-ollama) (1.0.0)\n",
      "Requirement already satisfied: marshmallow<4.0.0,>=3.18.0 in c:\\users\\muthu\\.conda\\envs\\llamaindex\\lib\\site-packages (from dataclasses-json->llama-index-core<0.12.0,>=0.11.0->llama-index-embeddings-ollama) (3.23.1)\n",
      "Requirement already satisfied: packaging>=17.0 in c:\\users\\muthu\\.conda\\envs\\llamaindex\\lib\\site-packages (from marshmallow<4.0.0,>=3.18.0->dataclasses-json->llama-index-core<0.12.0,>=0.11.0->llama-index-embeddings-ollama) (23.2)\n",
      "Requirement already satisfied: propcache>=0.2.0 in c:\\users\\muthu\\.conda\\envs\\llamaindex\\lib\\site-packages (from yarl<2.0,>=1.12.0->aiohttp<4.0.0,>=3.8.6->llama-index-core<0.12.0,>=0.11.0->llama-index-embeddings-ollama) (0.2.0)\n"
     ]
    }
   ],
   "source": [
    "!pip install llama-index-embeddings-ollama"
   ]
  },
  {
   "cell_type": "code",
   "execution_count": 3,
   "metadata": {},
   "outputs": [],
   "source": [
    "from llama_index.embeddings.ollama import OllamaEmbedding"
   ]
  },
  {
   "cell_type": "code",
   "execution_count": 4,
   "metadata": {},
   "outputs": [],
   "source": [
    "ollama_embedding = OllamaEmbedding(\n",
    "    model_name=\"nomic-embed-text:latest\",  # Replace with your desired model\n",
    "    base_url=\"http://localhost:11434\",  # Ensure Ollama is running at this endpoint\n",
    "    ollama_additional_kwargs={\"mirostat\": 0} #Mirostat is a technique for controlling perplexity and balancing the text generation process in large language models (LLMs).\n",
    ")    "
   ]
  },
  {
   "cell_type": "code",
   "execution_count": 5,
   "metadata": {},
   "outputs": [],
   "source": [
    "from llama_index.core import VectorStoreIndex\n",
    "\n",
    "VSindex = VectorStoreIndex.from_documents(documents, embed_model=ollama_embedding)"
   ]
  },
  {
   "cell_type": "code",
   "execution_count": 6,
   "metadata": {},
   "outputs": [
    {
     "data": {
      "text/plain": [
       "'25732a68-a324-4779-9cf8-88dae9d7e283'"
      ]
     },
     "execution_count": 6,
     "metadata": {},
     "output_type": "execute_result"
    }
   ],
   "source": [
    "VSindex.index_id"
   ]
  },
  {
   "cell_type": "code",
   "execution_count": 7,
   "metadata": {},
   "outputs": [
    {
     "data": {
      "text/plain": [
       "'25732a68-a324-4779-9cf8-88dae9d7e283'"
      ]
     },
     "execution_count": 7,
     "metadata": {},
     "output_type": "execute_result"
    }
   ],
   "source": [
    "VSindex.index_struct.index_id"
   ]
  },
  {
   "cell_type": "code",
   "execution_count": 8,
   "metadata": {},
   "outputs": [
    {
     "data": {
      "text/plain": [
       "{'index_id': '25732a68-a324-4779-9cf8-88dae9d7e283',\n",
       " 'summary': None,\n",
       " 'nodes_dict': {'4808ebb3-6486-4c59-9b0d-a32c83e53780': '4808ebb3-6486-4c59-9b0d-a32c83e53780',\n",
       "  'a05c3b44-4140-4ffa-83a9-442c6e47132c': 'a05c3b44-4140-4ffa-83a9-442c6e47132c',\n",
       "  '69e83c38-92ad-4fff-a28b-71d2897e31ba': '69e83c38-92ad-4fff-a28b-71d2897e31ba',\n",
       "  '8bc5dcb4-7ff7-4e88-af06-e8f962320a7c': '8bc5dcb4-7ff7-4e88-af06-e8f962320a7c',\n",
       "  '745c1da2-5217-4140-98f9-03a3c71fde64': '745c1da2-5217-4140-98f9-03a3c71fde64',\n",
       "  'db236873-608f-423d-9c63-bd3dc3db97df': 'db236873-608f-423d-9c63-bd3dc3db97df',\n",
       "  '158ee986-3383-4a0d-9096-92488135dae0': '158ee986-3383-4a0d-9096-92488135dae0',\n",
       "  'ec45b1bc-6e9b-4470-b03d-3aae8ef73d3c': 'ec45b1bc-6e9b-4470-b03d-3aae8ef73d3c',\n",
       "  'bb034dce-990c-477f-ab9e-3e80c28049d8': 'bb034dce-990c-477f-ab9e-3e80c28049d8',\n",
       "  '5afa7b90-4657-45f1-842b-a80d6bd49f27': '5afa7b90-4657-45f1-842b-a80d6bd49f27',\n",
       "  '1c483efe-86ab-4c85-94e2-fbbf4312abd0': '1c483efe-86ab-4c85-94e2-fbbf4312abd0',\n",
       "  '54129ec1-bfef-4759-8f04-1d9d9ee77922': '54129ec1-bfef-4759-8f04-1d9d9ee77922',\n",
       "  'fe04deb6-f175-4236-a3e2-a6050413b058': 'fe04deb6-f175-4236-a3e2-a6050413b058',\n",
       "  'c2a228e6-7d6a-4978-ac76-0d4d2eac603a': 'c2a228e6-7d6a-4978-ac76-0d4d2eac603a',\n",
       "  '07521ad9-6fb4-4b64-8b06-3b5be456462b': '07521ad9-6fb4-4b64-8b06-3b5be456462b',\n",
       "  'a48f91f4-649d-4536-8b60-d1f2061ddb95': 'a48f91f4-649d-4536-8b60-d1f2061ddb95',\n",
       "  '9b2b5132-34f4-481f-afe5-625899ec9217': '9b2b5132-34f4-481f-afe5-625899ec9217',\n",
       "  'e97f80a3-1259-4510-8341-4b43ea264517': 'e97f80a3-1259-4510-8341-4b43ea264517',\n",
       "  '63419a98-7564-4515-8a75-a8e6bbfebe70': '63419a98-7564-4515-8a75-a8e6bbfebe70',\n",
       "  '07dec827-9bba-46b7-9f7a-760c8d426272': '07dec827-9bba-46b7-9f7a-760c8d426272',\n",
       "  '591bdeee-dc89-4001-b0da-7c00a2edbb52': '591bdeee-dc89-4001-b0da-7c00a2edbb52',\n",
       "  '73df87f1-848a-4b12-800e-3bf9e33e56e9': '73df87f1-848a-4b12-800e-3bf9e33e56e9',\n",
       "  '9d5ec46b-dd3e-4e96-9e6a-248f64af2e28': '9d5ec46b-dd3e-4e96-9e6a-248f64af2e28',\n",
       "  'bbf1f046-d49b-4c64-845a-ea0caf0c8ad8': 'bbf1f046-d49b-4c64-845a-ea0caf0c8ad8',\n",
       "  '6ea32329-bc40-45ca-8688-4b6a007c4e6d': '6ea32329-bc40-45ca-8688-4b6a007c4e6d',\n",
       "  'e77890c2-9c84-4d2d-9e8a-bda3138272b9': 'e77890c2-9c84-4d2d-9e8a-bda3138272b9',\n",
       "  '448c0c7d-6965-47c9-9dd1-9ab913f1c9af': '448c0c7d-6965-47c9-9dd1-9ab913f1c9af',\n",
       "  '7c57e552-8145-4a47-a911-19c241519d76': '7c57e552-8145-4a47-a911-19c241519d76',\n",
       "  'fee18c02-5e8f-446b-aa68-1d5442b7c387': 'fee18c02-5e8f-446b-aa68-1d5442b7c387'},\n",
       " 'doc_id_dict': {},\n",
       " 'embeddings_dict': {}}"
      ]
     },
     "execution_count": 8,
     "metadata": {},
     "output_type": "execute_result"
    }
   ],
   "source": [
    "VSindex.index_struct.to_dict()"
   ]
  },
  {
   "cell_type": "code",
   "execution_count": 9,
   "metadata": {},
   "outputs": [
    {
     "data": {
      "text/plain": [
       "{'4808ebb3-6486-4c59-9b0d-a32c83e53780': '4808ebb3-6486-4c59-9b0d-a32c83e53780',\n",
       " 'a05c3b44-4140-4ffa-83a9-442c6e47132c': 'a05c3b44-4140-4ffa-83a9-442c6e47132c',\n",
       " '69e83c38-92ad-4fff-a28b-71d2897e31ba': '69e83c38-92ad-4fff-a28b-71d2897e31ba',\n",
       " '8bc5dcb4-7ff7-4e88-af06-e8f962320a7c': '8bc5dcb4-7ff7-4e88-af06-e8f962320a7c',\n",
       " '745c1da2-5217-4140-98f9-03a3c71fde64': '745c1da2-5217-4140-98f9-03a3c71fde64',\n",
       " 'db236873-608f-423d-9c63-bd3dc3db97df': 'db236873-608f-423d-9c63-bd3dc3db97df',\n",
       " '158ee986-3383-4a0d-9096-92488135dae0': '158ee986-3383-4a0d-9096-92488135dae0',\n",
       " 'ec45b1bc-6e9b-4470-b03d-3aae8ef73d3c': 'ec45b1bc-6e9b-4470-b03d-3aae8ef73d3c',\n",
       " 'bb034dce-990c-477f-ab9e-3e80c28049d8': 'bb034dce-990c-477f-ab9e-3e80c28049d8',\n",
       " '5afa7b90-4657-45f1-842b-a80d6bd49f27': '5afa7b90-4657-45f1-842b-a80d6bd49f27',\n",
       " '1c483efe-86ab-4c85-94e2-fbbf4312abd0': '1c483efe-86ab-4c85-94e2-fbbf4312abd0',\n",
       " '54129ec1-bfef-4759-8f04-1d9d9ee77922': '54129ec1-bfef-4759-8f04-1d9d9ee77922',\n",
       " 'fe04deb6-f175-4236-a3e2-a6050413b058': 'fe04deb6-f175-4236-a3e2-a6050413b058',\n",
       " 'c2a228e6-7d6a-4978-ac76-0d4d2eac603a': 'c2a228e6-7d6a-4978-ac76-0d4d2eac603a',\n",
       " '07521ad9-6fb4-4b64-8b06-3b5be456462b': '07521ad9-6fb4-4b64-8b06-3b5be456462b',\n",
       " 'a48f91f4-649d-4536-8b60-d1f2061ddb95': 'a48f91f4-649d-4536-8b60-d1f2061ddb95',\n",
       " '9b2b5132-34f4-481f-afe5-625899ec9217': '9b2b5132-34f4-481f-afe5-625899ec9217',\n",
       " 'e97f80a3-1259-4510-8341-4b43ea264517': 'e97f80a3-1259-4510-8341-4b43ea264517',\n",
       " '63419a98-7564-4515-8a75-a8e6bbfebe70': '63419a98-7564-4515-8a75-a8e6bbfebe70',\n",
       " '07dec827-9bba-46b7-9f7a-760c8d426272': '07dec827-9bba-46b7-9f7a-760c8d426272',\n",
       " '591bdeee-dc89-4001-b0da-7c00a2edbb52': '591bdeee-dc89-4001-b0da-7c00a2edbb52',\n",
       " '73df87f1-848a-4b12-800e-3bf9e33e56e9': '73df87f1-848a-4b12-800e-3bf9e33e56e9',\n",
       " '9d5ec46b-dd3e-4e96-9e6a-248f64af2e28': '9d5ec46b-dd3e-4e96-9e6a-248f64af2e28',\n",
       " 'bbf1f046-d49b-4c64-845a-ea0caf0c8ad8': 'bbf1f046-d49b-4c64-845a-ea0caf0c8ad8',\n",
       " '6ea32329-bc40-45ca-8688-4b6a007c4e6d': '6ea32329-bc40-45ca-8688-4b6a007c4e6d',\n",
       " 'e77890c2-9c84-4d2d-9e8a-bda3138272b9': 'e77890c2-9c84-4d2d-9e8a-bda3138272b9',\n",
       " '448c0c7d-6965-47c9-9dd1-9ab913f1c9af': '448c0c7d-6965-47c9-9dd1-9ab913f1c9af',\n",
       " '7c57e552-8145-4a47-a911-19c241519d76': '7c57e552-8145-4a47-a911-19c241519d76',\n",
       " 'fee18c02-5e8f-446b-aa68-1d5442b7c387': 'fee18c02-5e8f-446b-aa68-1d5442b7c387'}"
      ]
     },
     "execution_count": 9,
     "metadata": {},
     "output_type": "execute_result"
    }
   ],
   "source": [
    "VSindex.index_struct.nodes_dict\n"
   ]
  },
  {
   "cell_type": "code",
   "execution_count": 10,
   "metadata": {},
   "outputs": [
    {
     "data": {
      "text/plain": [
       "29"
      ]
     },
     "execution_count": 10,
     "metadata": {},
     "output_type": "execute_result"
    }
   ],
   "source": [
    "len(VSindex.index_struct.nodes_dict) "
   ]
  },
  {
   "cell_type": "code",
   "execution_count": 11,
   "metadata": {},
   "outputs": [
    {
     "data": {
      "text/plain": [
       "{'0c353b8e-8448-467a-8f98-c25d4d356a0f': RefDocInfo(node_ids=['4808ebb3-6486-4c59-9b0d-a32c83e53780'], metadata={'page_label': '1', 'file_name': '2022 Q3 AAPL.pdf', 'file_path': '..\\\\data\\\\2022 Q3 AAPL.pdf', 'file_type': 'application/pdf', 'file_size': 266240, 'creation_date': '2024-11-13', 'last_modified_date': '2024-11-13'}),\n",
       " '69d6aa72-359f-4e15-b731-ba71e8566c9a': RefDocInfo(node_ids=['a05c3b44-4140-4ffa-83a9-442c6e47132c'], metadata={'page_label': '2', 'file_name': '2022 Q3 AAPL.pdf', 'file_path': '..\\\\data\\\\2022 Q3 AAPL.pdf', 'file_type': 'application/pdf', 'file_size': 266240, 'creation_date': '2024-11-13', 'last_modified_date': '2024-11-13'}),\n",
       " 'e0444e1b-d93b-4baf-851b-2b47f70cb6ab': RefDocInfo(node_ids=['69e83c38-92ad-4fff-a28b-71d2897e31ba'], metadata={'page_label': '3', 'file_name': '2022 Q3 AAPL.pdf', 'file_path': '..\\\\data\\\\2022 Q3 AAPL.pdf', 'file_type': 'application/pdf', 'file_size': 266240, 'creation_date': '2024-11-13', 'last_modified_date': '2024-11-13'}),\n",
       " '270daa57-a515-4c70-a2dc-4ea84dd05738': RefDocInfo(node_ids=['8bc5dcb4-7ff7-4e88-af06-e8f962320a7c'], metadata={'page_label': '4', 'file_name': '2022 Q3 AAPL.pdf', 'file_path': '..\\\\data\\\\2022 Q3 AAPL.pdf', 'file_type': 'application/pdf', 'file_size': 266240, 'creation_date': '2024-11-13', 'last_modified_date': '2024-11-13'}),\n",
       " '53c5bd49-8bb7-4553-ba95-d6f8748da50f': RefDocInfo(node_ids=['745c1da2-5217-4140-98f9-03a3c71fde64'], metadata={'page_label': '5', 'file_name': '2022 Q3 AAPL.pdf', 'file_path': '..\\\\data\\\\2022 Q3 AAPL.pdf', 'file_type': 'application/pdf', 'file_size': 266240, 'creation_date': '2024-11-13', 'last_modified_date': '2024-11-13'}),\n",
       " '8469c960-4105-41d4-bc1f-94e932a6ab85': RefDocInfo(node_ids=['db236873-608f-423d-9c63-bd3dc3db97df'], metadata={'page_label': '6', 'file_name': '2022 Q3 AAPL.pdf', 'file_path': '..\\\\data\\\\2022 Q3 AAPL.pdf', 'file_type': 'application/pdf', 'file_size': 266240, 'creation_date': '2024-11-13', 'last_modified_date': '2024-11-13'}),\n",
       " '68fb5e7f-e7d4-4ba3-bf4b-5bb520aedc1f': RefDocInfo(node_ids=['158ee986-3383-4a0d-9096-92488135dae0'], metadata={'page_label': '7', 'file_name': '2022 Q3 AAPL.pdf', 'file_path': '..\\\\data\\\\2022 Q3 AAPL.pdf', 'file_type': 'application/pdf', 'file_size': 266240, 'creation_date': '2024-11-13', 'last_modified_date': '2024-11-13'}),\n",
       " 'ed2953ba-d14d-421e-b1a8-9f74add727b1': RefDocInfo(node_ids=['ec45b1bc-6e9b-4470-b03d-3aae8ef73d3c'], metadata={'page_label': '8', 'file_name': '2022 Q3 AAPL.pdf', 'file_path': '..\\\\data\\\\2022 Q3 AAPL.pdf', 'file_type': 'application/pdf', 'file_size': 266240, 'creation_date': '2024-11-13', 'last_modified_date': '2024-11-13'}),\n",
       " '7c8a495b-4d72-4b3e-8463-ff61f78c4203': RefDocInfo(node_ids=['bb034dce-990c-477f-ab9e-3e80c28049d8'], metadata={'page_label': '9', 'file_name': '2022 Q3 AAPL.pdf', 'file_path': '..\\\\data\\\\2022 Q3 AAPL.pdf', 'file_type': 'application/pdf', 'file_size': 266240, 'creation_date': '2024-11-13', 'last_modified_date': '2024-11-13'}),\n",
       " '8b720dc7-aac3-4604-be33-3dfac9bd8a26': RefDocInfo(node_ids=['5afa7b90-4657-45f1-842b-a80d6bd49f27'], metadata={'page_label': '10', 'file_name': '2022 Q3 AAPL.pdf', 'file_path': '..\\\\data\\\\2022 Q3 AAPL.pdf', 'file_type': 'application/pdf', 'file_size': 266240, 'creation_date': '2024-11-13', 'last_modified_date': '2024-11-13'}),\n",
       " '54368556-a63b-45f4-97f7-292031e92993': RefDocInfo(node_ids=['1c483efe-86ab-4c85-94e2-fbbf4312abd0', '54129ec1-bfef-4759-8f04-1d9d9ee77922'], metadata={'page_label': '11', 'file_name': '2022 Q3 AAPL.pdf', 'file_path': '..\\\\data\\\\2022 Q3 AAPL.pdf', 'file_type': 'application/pdf', 'file_size': 266240, 'creation_date': '2024-11-13', 'last_modified_date': '2024-11-13'}),\n",
       " '2845e4f7-404a-421f-a38d-48fc32ab575f': RefDocInfo(node_ids=['fe04deb6-f175-4236-a3e2-a6050413b058'], metadata={'page_label': '12', 'file_name': '2022 Q3 AAPL.pdf', 'file_path': '..\\\\data\\\\2022 Q3 AAPL.pdf', 'file_type': 'application/pdf', 'file_size': 266240, 'creation_date': '2024-11-13', 'last_modified_date': '2024-11-13'}),\n",
       " '61e235eb-2821-4963-a8c6-06c38329b4b3': RefDocInfo(node_ids=['c2a228e6-7d6a-4978-ac76-0d4d2eac603a'], metadata={'page_label': '13', 'file_name': '2022 Q3 AAPL.pdf', 'file_path': '..\\\\data\\\\2022 Q3 AAPL.pdf', 'file_type': 'application/pdf', 'file_size': 266240, 'creation_date': '2024-11-13', 'last_modified_date': '2024-11-13'}),\n",
       " 'bb61d4a9-ee25-4467-980d-7cafb6450d50': RefDocInfo(node_ids=['07521ad9-6fb4-4b64-8b06-3b5be456462b'], metadata={'page_label': '14', 'file_name': '2022 Q3 AAPL.pdf', 'file_path': '..\\\\data\\\\2022 Q3 AAPL.pdf', 'file_type': 'application/pdf', 'file_size': 266240, 'creation_date': '2024-11-13', 'last_modified_date': '2024-11-13'}),\n",
       " 'e5cfe018-d7b8-4491-ace7-b1559a93fabc': RefDocInfo(node_ids=['a48f91f4-649d-4536-8b60-d1f2061ddb95'], metadata={'page_label': '15', 'file_name': '2022 Q3 AAPL.pdf', 'file_path': '..\\\\data\\\\2022 Q3 AAPL.pdf', 'file_type': 'application/pdf', 'file_size': 266240, 'creation_date': '2024-11-13', 'last_modified_date': '2024-11-13'}),\n",
       " 'cd106f6a-df55-4a88-aaa5-566fb28e9464': RefDocInfo(node_ids=['9b2b5132-34f4-481f-afe5-625899ec9217'], metadata={'page_label': '16', 'file_name': '2022 Q3 AAPL.pdf', 'file_path': '..\\\\data\\\\2022 Q3 AAPL.pdf', 'file_type': 'application/pdf', 'file_size': 266240, 'creation_date': '2024-11-13', 'last_modified_date': '2024-11-13'}),\n",
       " '57200ad8-a8c9-4e25-9db6-5dedc060b7d5': RefDocInfo(node_ids=['e97f80a3-1259-4510-8341-4b43ea264517'], metadata={'page_label': '17', 'file_name': '2022 Q3 AAPL.pdf', 'file_path': '..\\\\data\\\\2022 Q3 AAPL.pdf', 'file_type': 'application/pdf', 'file_size': 266240, 'creation_date': '2024-11-13', 'last_modified_date': '2024-11-13'}),\n",
       " '78470162-228d-4da6-b1dd-87eed7f6b487': RefDocInfo(node_ids=['63419a98-7564-4515-8a75-a8e6bbfebe70'], metadata={'page_label': '18', 'file_name': '2022 Q3 AAPL.pdf', 'file_path': '..\\\\data\\\\2022 Q3 AAPL.pdf', 'file_type': 'application/pdf', 'file_size': 266240, 'creation_date': '2024-11-13', 'last_modified_date': '2024-11-13'}),\n",
       " 'a4d53a73-fc37-4148-aa5a-fe6b730bbf57': RefDocInfo(node_ids=['07dec827-9bba-46b7-9f7a-760c8d426272'], metadata={'page_label': '19', 'file_name': '2022 Q3 AAPL.pdf', 'file_path': '..\\\\data\\\\2022 Q3 AAPL.pdf', 'file_type': 'application/pdf', 'file_size': 266240, 'creation_date': '2024-11-13', 'last_modified_date': '2024-11-13'}),\n",
       " '7c238672-b812-45bd-98fa-a32008510cec': RefDocInfo(node_ids=['591bdeee-dc89-4001-b0da-7c00a2edbb52'], metadata={'page_label': '20', 'file_name': '2022 Q3 AAPL.pdf', 'file_path': '..\\\\data\\\\2022 Q3 AAPL.pdf', 'file_type': 'application/pdf', 'file_size': 266240, 'creation_date': '2024-11-13', 'last_modified_date': '2024-11-13'}),\n",
       " '8d4d7565-b6cb-46b6-bbdf-97133d33b0e0': RefDocInfo(node_ids=['73df87f1-848a-4b12-800e-3bf9e33e56e9'], metadata={'page_label': '21', 'file_name': '2022 Q3 AAPL.pdf', 'file_path': '..\\\\data\\\\2022 Q3 AAPL.pdf', 'file_type': 'application/pdf', 'file_size': 266240, 'creation_date': '2024-11-13', 'last_modified_date': '2024-11-13'}),\n",
       " 'fd496902-dc41-4951-811e-5e83665eb5cd': RefDocInfo(node_ids=['9d5ec46b-dd3e-4e96-9e6a-248f64af2e28'], metadata={'page_label': '22', 'file_name': '2022 Q3 AAPL.pdf', 'file_path': '..\\\\data\\\\2022 Q3 AAPL.pdf', 'file_type': 'application/pdf', 'file_size': 266240, 'creation_date': '2024-11-13', 'last_modified_date': '2024-11-13'}),\n",
       " '2273be07-b500-422b-a63f-f5c66ed8a747': RefDocInfo(node_ids=['bbf1f046-d49b-4c64-845a-ea0caf0c8ad8'], metadata={'page_label': '23', 'file_name': '2022 Q3 AAPL.pdf', 'file_path': '..\\\\data\\\\2022 Q3 AAPL.pdf', 'file_type': 'application/pdf', 'file_size': 266240, 'creation_date': '2024-11-13', 'last_modified_date': '2024-11-13'}),\n",
       " '541f338d-7476-4414-80fd-75d45958303d': RefDocInfo(node_ids=['6ea32329-bc40-45ca-8688-4b6a007c4e6d'], metadata={'page_label': '24', 'file_name': '2022 Q3 AAPL.pdf', 'file_path': '..\\\\data\\\\2022 Q3 AAPL.pdf', 'file_type': 'application/pdf', 'file_size': 266240, 'creation_date': '2024-11-13', 'last_modified_date': '2024-11-13'}),\n",
       " '301cd7e5-6c91-448f-b93a-dcae984d82e7': RefDocInfo(node_ids=['e77890c2-9c84-4d2d-9e8a-bda3138272b9'], metadata={'page_label': '25', 'file_name': '2022 Q3 AAPL.pdf', 'file_path': '..\\\\data\\\\2022 Q3 AAPL.pdf', 'file_type': 'application/pdf', 'file_size': 266240, 'creation_date': '2024-11-13', 'last_modified_date': '2024-11-13'}),\n",
       " '4633426a-f617-4cc2-91e4-979e72dacd92': RefDocInfo(node_ids=['448c0c7d-6965-47c9-9dd1-9ab913f1c9af'], metadata={'page_label': '26', 'file_name': '2022 Q3 AAPL.pdf', 'file_path': '..\\\\data\\\\2022 Q3 AAPL.pdf', 'file_type': 'application/pdf', 'file_size': 266240, 'creation_date': '2024-11-13', 'last_modified_date': '2024-11-13'}),\n",
       " '4a7ad3b7-6f66-4266-9aa5-6a871dd47b46': RefDocInfo(node_ids=['7c57e552-8145-4a47-a911-19c241519d76'], metadata={'page_label': '27', 'file_name': '2022 Q3 AAPL.pdf', 'file_path': '..\\\\data\\\\2022 Q3 AAPL.pdf', 'file_type': 'application/pdf', 'file_size': 266240, 'creation_date': '2024-11-13', 'last_modified_date': '2024-11-13'}),\n",
       " '39227e59-4289-4ae5-b8c7-a8c60de960b1': RefDocInfo(node_ids=['fee18c02-5e8f-446b-aa68-1d5442b7c387'], metadata={'page_label': '28', 'file_name': '2022 Q3 AAPL.pdf', 'file_path': '..\\\\data\\\\2022 Q3 AAPL.pdf', 'file_type': 'application/pdf', 'file_size': 266240, 'creation_date': '2024-11-13', 'last_modified_date': '2024-11-13'})}"
      ]
     },
     "execution_count": 11,
     "metadata": {},
     "output_type": "execute_result"
    }
   ],
   "source": [
    "VSindex.ref_doc_info"
   ]
  },
  {
   "cell_type": "code",
   "execution_count": 12,
   "metadata": {},
   "outputs": [],
   "source": [
    "VSindex.vector_store.persist(\"vector_store_index.json\")\n"
   ]
  },
  {
   "cell_type": "code",
   "execution_count": 13,
   "metadata": {},
   "outputs": [],
   "source": [
    "VSindex.docstore.persist(\"vector_store_index_docstore.json\")\n"
   ]
  }
 ],
 "metadata": {
  "kernelspec": {
   "display_name": "llamaindex",
   "language": "python",
   "name": "python3"
  },
  "language_info": {
   "codemirror_mode": {
    "name": "ipython",
    "version": 3
   },
   "file_extension": ".py",
   "mimetype": "text/x-python",
   "name": "python",
   "nbconvert_exporter": "python",
   "pygments_lexer": "ipython3",
   "version": "3.11.10"
  }
 },
 "nbformat": 4,
 "nbformat_minor": 2
}
