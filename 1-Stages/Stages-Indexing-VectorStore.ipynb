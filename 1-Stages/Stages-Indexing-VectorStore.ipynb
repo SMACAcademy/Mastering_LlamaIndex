{
 "cells": [
  {
   "cell_type": "code",
   "execution_count": 15,
   "metadata": {},
   "outputs": [],
   "source": [
    "from llama_index.core import SimpleDirectoryReader\n",
    "documents = SimpleDirectoryReader(input_files=['../data/2022 Q3 AAPL.pdf']).load_data()\n"
   ]
  },
  {
   "cell_type": "code",
   "execution_count": 16,
   "metadata": {},
   "outputs": [
    {
     "name": "stdout",
     "output_type": "stream",
     "text": [
      "Requirement already satisfied: llama-index-embeddings-ollama in c:\\users\\muthu\\.conda\\envs\\llamaindex\\lib\\site-packages (0.3.1)\n",
      "Requirement already satisfied: llama-index-core<0.12.0,>=0.11.0 in c:\\users\\muthu\\.conda\\envs\\llamaindex\\lib\\site-packages (from llama-index-embeddings-ollama) (0.11.23)\n",
      "Requirement already satisfied: ollama<0.4.0,>=0.3.1 in c:\\users\\muthu\\.conda\\envs\\llamaindex\\lib\\site-packages (from llama-index-embeddings-ollama) (0.3.3)\n",
      "Requirement already satisfied: PyYAML>=6.0.1 in c:\\users\\muthu\\.conda\\envs\\llamaindex\\lib\\site-packages (from llama-index-core<0.12.0,>=0.11.0->llama-index-embeddings-ollama) (6.0.2)\n",
      "Requirement already satisfied: SQLAlchemy>=1.4.49 in c:\\users\\muthu\\.conda\\envs\\llamaindex\\lib\\site-packages (from SQLAlchemy[asyncio]>=1.4.49->llama-index-core<0.12.0,>=0.11.0->llama-index-embeddings-ollama) (2.0.32)\n",
      "Requirement already satisfied: aiohttp<4.0.0,>=3.8.6 in c:\\users\\muthu\\.conda\\envs\\llamaindex\\lib\\site-packages (from llama-index-core<0.12.0,>=0.11.0->llama-index-embeddings-ollama) (3.10.8)\n",
      "Requirement already satisfied: dataclasses-json in c:\\users\\muthu\\.conda\\envs\\llamaindex\\lib\\site-packages (from llama-index-core<0.12.0,>=0.11.0->llama-index-embeddings-ollama) (0.6.7)\n",
      "Requirement already satisfied: deprecated>=1.2.9.3 in c:\\users\\muthu\\.conda\\envs\\llamaindex\\lib\\site-packages (from llama-index-core<0.12.0,>=0.11.0->llama-index-embeddings-ollama) (1.2.14)\n",
      "Requirement already satisfied: dirtyjson<2.0.0,>=1.0.8 in c:\\users\\muthu\\.conda\\envs\\llamaindex\\lib\\site-packages (from llama-index-core<0.12.0,>=0.11.0->llama-index-embeddings-ollama) (1.0.8)\n",
      "Requirement already satisfied: filetype<2.0.0,>=1.2.0 in c:\\users\\muthu\\.conda\\envs\\llamaindex\\lib\\site-packages (from llama-index-core<0.12.0,>=0.11.0->llama-index-embeddings-ollama) (1.2.0)\n",
      "Requirement already satisfied: fsspec>=2023.5.0 in c:\\users\\muthu\\.conda\\envs\\llamaindex\\lib\\site-packages (from llama-index-core<0.12.0,>=0.11.0->llama-index-embeddings-ollama) (2024.9.0)\n",
      "Requirement already satisfied: httpx in c:\\users\\muthu\\.conda\\envs\\llamaindex\\lib\\site-packages (from llama-index-core<0.12.0,>=0.11.0->llama-index-embeddings-ollama) (0.27.2)\n",
      "Requirement already satisfied: nest-asyncio<2.0.0,>=1.5.8 in c:\\users\\muthu\\.conda\\envs\\llamaindex\\lib\\site-packages (from llama-index-core<0.12.0,>=0.11.0->llama-index-embeddings-ollama) (1.6.0)\n",
      "Requirement already satisfied: networkx>=3.0 in c:\\users\\muthu\\.conda\\envs\\llamaindex\\lib\\site-packages (from llama-index-core<0.12.0,>=0.11.0->llama-index-embeddings-ollama) (3.4.2)\n",
      "Requirement already satisfied: nltk>3.8.1 in c:\\users\\muthu\\.conda\\envs\\llamaindex\\lib\\site-packages (from llama-index-core<0.12.0,>=0.11.0->llama-index-embeddings-ollama) (3.9.1)\n",
      "Requirement already satisfied: numpy<2.0.0 in c:\\users\\muthu\\.conda\\envs\\llamaindex\\lib\\site-packages (from llama-index-core<0.12.0,>=0.11.0->llama-index-embeddings-ollama) (1.26.4)\n",
      "Requirement already satisfied: pillow>=9.0.0 in c:\\users\\muthu\\.conda\\envs\\llamaindex\\lib\\site-packages (from llama-index-core<0.12.0,>=0.11.0->llama-index-embeddings-ollama) (11.0.0)\n",
      "Requirement already satisfied: pydantic<3.0.0,>=2.7.0 in c:\\users\\muthu\\.conda\\envs\\llamaindex\\lib\\site-packages (from llama-index-core<0.12.0,>=0.11.0->llama-index-embeddings-ollama) (2.9.2)\n",
      "Requirement already satisfied: requests>=2.31.0 in c:\\users\\muthu\\.conda\\envs\\llamaindex\\lib\\site-packages (from llama-index-core<0.12.0,>=0.11.0->llama-index-embeddings-ollama) (2.32.3)\n",
      "Requirement already satisfied: tenacity!=8.4.0,<9.0.0,>=8.2.0 in c:\\users\\muthu\\.conda\\envs\\llamaindex\\lib\\site-packages (from llama-index-core<0.12.0,>=0.11.0->llama-index-embeddings-ollama) (8.5.0)\n",
      "Requirement already satisfied: tiktoken>=0.3.3 in c:\\users\\muthu\\.conda\\envs\\llamaindex\\lib\\site-packages (from llama-index-core<0.12.0,>=0.11.0->llama-index-embeddings-ollama) (0.8.0)\n",
      "Requirement already satisfied: tqdm<5.0.0,>=4.66.1 in c:\\users\\muthu\\.conda\\envs\\llamaindex\\lib\\site-packages (from llama-index-core<0.12.0,>=0.11.0->llama-index-embeddings-ollama) (4.67.0)\n",
      "Requirement already satisfied: typing-extensions>=4.5.0 in c:\\users\\muthu\\.conda\\envs\\llamaindex\\lib\\site-packages (from llama-index-core<0.12.0,>=0.11.0->llama-index-embeddings-ollama) (4.11.0)\n",
      "Requirement already satisfied: typing-inspect>=0.8.0 in c:\\users\\muthu\\.conda\\envs\\llamaindex\\lib\\site-packages (from llama-index-core<0.12.0,>=0.11.0->llama-index-embeddings-ollama) (0.9.0)\n",
      "Requirement already satisfied: wrapt in c:\\users\\muthu\\.conda\\envs\\llamaindex\\lib\\site-packages (from llama-index-core<0.12.0,>=0.11.0->llama-index-embeddings-ollama) (1.16.0)\n",
      "Requirement already satisfied: aiohappyeyeballs>=2.3.0 in c:\\users\\muthu\\.conda\\envs\\llamaindex\\lib\\site-packages (from aiohttp<4.0.0,>=3.8.6->llama-index-core<0.12.0,>=0.11.0->llama-index-embeddings-ollama) (2.4.3)\n",
      "Requirement already satisfied: aiosignal>=1.1.2 in c:\\users\\muthu\\.conda\\envs\\llamaindex\\lib\\site-packages (from aiohttp<4.0.0,>=3.8.6->llama-index-core<0.12.0,>=0.11.0->llama-index-embeddings-ollama) (1.3.1)\n",
      "Requirement already satisfied: attrs>=17.3.0 in c:\\users\\muthu\\.conda\\envs\\llamaindex\\lib\\site-packages (from aiohttp<4.0.0,>=3.8.6->llama-index-core<0.12.0,>=0.11.0->llama-index-embeddings-ollama) (24.2.0)\n",
      "Requirement already satisfied: frozenlist>=1.1.1 in c:\\users\\muthu\\.conda\\envs\\llamaindex\\lib\\site-packages (from aiohttp<4.0.0,>=3.8.6->llama-index-core<0.12.0,>=0.11.0->llama-index-embeddings-ollama) (1.5.0)\n",
      "Requirement already satisfied: multidict<7.0,>=4.5 in c:\\users\\muthu\\.conda\\envs\\llamaindex\\lib\\site-packages (from aiohttp<4.0.0,>=3.8.6->llama-index-core<0.12.0,>=0.11.0->llama-index-embeddings-ollama) (6.1.0)\n",
      "Requirement already satisfied: yarl<2.0,>=1.12.0 in c:\\users\\muthu\\.conda\\envs\\llamaindex\\lib\\site-packages (from aiohttp<4.0.0,>=3.8.6->llama-index-core<0.12.0,>=0.11.0->llama-index-embeddings-ollama) (1.17.1)\n",
      "Requirement already satisfied: anyio in c:\\users\\muthu\\.conda\\envs\\llamaindex\\lib\\site-packages (from httpx->llama-index-core<0.12.0,>=0.11.0->llama-index-embeddings-ollama) (4.6.2.post1)\n",
      "Requirement already satisfied: certifi in c:\\users\\muthu\\.conda\\envs\\llamaindex\\lib\\site-packages (from httpx->llama-index-core<0.12.0,>=0.11.0->llama-index-embeddings-ollama) (2024.8.30)\n",
      "Requirement already satisfied: httpcore==1.* in c:\\users\\muthu\\.conda\\envs\\llamaindex\\lib\\site-packages (from httpx->llama-index-core<0.12.0,>=0.11.0->llama-index-embeddings-ollama) (1.0.6)\n",
      "Requirement already satisfied: idna in c:\\users\\muthu\\.conda\\envs\\llamaindex\\lib\\site-packages (from httpx->llama-index-core<0.12.0,>=0.11.0->llama-index-embeddings-ollama) (3.10)\n",
      "Requirement already satisfied: sniffio in c:\\users\\muthu\\.conda\\envs\\llamaindex\\lib\\site-packages (from httpx->llama-index-core<0.12.0,>=0.11.0->llama-index-embeddings-ollama) (1.3.1)\n",
      "Requirement already satisfied: h11<0.15,>=0.13 in c:\\users\\muthu\\.conda\\envs\\llamaindex\\lib\\site-packages (from httpcore==1.*->httpx->llama-index-core<0.12.0,>=0.11.0->llama-index-embeddings-ollama) (0.14.0)\n",
      "Requirement already satisfied: click in c:\\users\\muthu\\.conda\\envs\\llamaindex\\lib\\site-packages (from nltk>3.8.1->llama-index-core<0.12.0,>=0.11.0->llama-index-embeddings-ollama) (8.1.7)\n",
      "Requirement already satisfied: joblib in c:\\users\\muthu\\.conda\\envs\\llamaindex\\lib\\site-packages (from nltk>3.8.1->llama-index-core<0.12.0,>=0.11.0->llama-index-embeddings-ollama) (1.4.2)\n",
      "Requirement already satisfied: regex>=2021.8.3 in c:\\users\\muthu\\.conda\\envs\\llamaindex\\lib\\site-packages (from nltk>3.8.1->llama-index-core<0.12.0,>=0.11.0->llama-index-embeddings-ollama) (2024.11.6)\n",
      "Requirement already satisfied: annotated-types>=0.6.0 in c:\\users\\muthu\\.conda\\envs\\llamaindex\\lib\\site-packages (from pydantic<3.0.0,>=2.7.0->llama-index-core<0.12.0,>=0.11.0->llama-index-embeddings-ollama) (0.7.0)\n",
      "Requirement already satisfied: pydantic-core==2.23.4 in c:\\users\\muthu\\.conda\\envs\\llamaindex\\lib\\site-packages (from pydantic<3.0.0,>=2.7.0->llama-index-core<0.12.0,>=0.11.0->llama-index-embeddings-ollama) (2.23.4)\n",
      "Requirement already satisfied: charset-normalizer<4,>=2 in c:\\users\\muthu\\.conda\\envs\\llamaindex\\lib\\site-packages (from requests>=2.31.0->llama-index-core<0.12.0,>=0.11.0->llama-index-embeddings-ollama) (3.4.0)\n",
      "Requirement already satisfied: urllib3<3,>=1.21.1 in c:\\users\\muthu\\.conda\\envs\\llamaindex\\lib\\site-packages (from requests>=2.31.0->llama-index-core<0.12.0,>=0.11.0->llama-index-embeddings-ollama) (2.2.3)\n",
      "Requirement already satisfied: greenlet!=0.4.17 in c:\\users\\muthu\\.conda\\envs\\llamaindex\\lib\\site-packages (from SQLAlchemy>=1.4.49->SQLAlchemy[asyncio]>=1.4.49->llama-index-core<0.12.0,>=0.11.0->llama-index-embeddings-ollama) (3.1.1)\n",
      "Requirement already satisfied: colorama in c:\\users\\muthu\\.conda\\envs\\llamaindex\\lib\\site-packages (from tqdm<5.0.0,>=4.66.1->llama-index-core<0.12.0,>=0.11.0->llama-index-embeddings-ollama) (0.4.6)\n",
      "Requirement already satisfied: mypy-extensions>=0.3.0 in c:\\users\\muthu\\.conda\\envs\\llamaindex\\lib\\site-packages (from typing-inspect>=0.8.0->llama-index-core<0.12.0,>=0.11.0->llama-index-embeddings-ollama) (1.0.0)\n",
      "Requirement already satisfied: marshmallow<4.0.0,>=3.18.0 in c:\\users\\muthu\\.conda\\envs\\llamaindex\\lib\\site-packages (from dataclasses-json->llama-index-core<0.12.0,>=0.11.0->llama-index-embeddings-ollama) (3.23.1)\n",
      "Requirement already satisfied: packaging>=17.0 in c:\\users\\muthu\\.conda\\envs\\llamaindex\\lib\\site-packages (from marshmallow<4.0.0,>=3.18.0->dataclasses-json->llama-index-core<0.12.0,>=0.11.0->llama-index-embeddings-ollama) (23.2)\n",
      "Requirement already satisfied: propcache>=0.2.0 in c:\\users\\muthu\\.conda\\envs\\llamaindex\\lib\\site-packages (from yarl<2.0,>=1.12.0->aiohttp<4.0.0,>=3.8.6->llama-index-core<0.12.0,>=0.11.0->llama-index-embeddings-ollama) (0.2.0)\n"
     ]
    }
   ],
   "source": [
    "!pip install llama-index-embeddings-ollama"
   ]
  },
  {
   "cell_type": "code",
   "execution_count": 17,
   "metadata": {},
   "outputs": [],
   "source": [
    "from llama_index.embeddings.ollama import OllamaEmbedding"
   ]
  },
  {
   "cell_type": "code",
   "execution_count": 18,
   "metadata": {},
   "outputs": [],
   "source": [
    "ollama_embedding = OllamaEmbedding(\n",
    "    model_name=\"nomic-embed-text:latest\",  # Replace with your desired model\n",
    "    base_url=\"http://localhost:11434\",  # Ensure Ollama is running at this endpoint\n",
    "    ollama_additional_kwargs={\"mirostat\": 0} #Mirostat is a technique for controlling perplexity and balancing the text generation process in large language models (LLMs).\n",
    ")    "
   ]
  },
  {
   "cell_type": "code",
   "execution_count": 19,
   "metadata": {},
   "outputs": [],
   "source": [
    "from llama_index.core import VectorStoreIndex\n",
    "\n",
    "VSindex = VectorStoreIndex.from_documents(documents, embed_model=ollama_embedding)"
   ]
  },
  {
   "cell_type": "code",
   "execution_count": 20,
   "metadata": {},
   "outputs": [
    {
     "data": {
      "text/plain": [
       "'a00607d4-edc8-453f-8086-6ea06933620b'"
      ]
     },
     "execution_count": 20,
     "metadata": {},
     "output_type": "execute_result"
    }
   ],
   "source": [
    "VSindex.index_id"
   ]
  },
  {
   "cell_type": "code",
   "execution_count": null,
   "metadata": {},
   "outputs": [],
   "source": [
    "VSindex.index_struct.index_id"
   ]
  },
  {
   "cell_type": "code",
   "execution_count": 21,
   "metadata": {},
   "outputs": [
    {
     "data": {
      "text/plain": [
       "{'index_id': 'a00607d4-edc8-453f-8086-6ea06933620b',\n",
       " 'summary': None,\n",
       " 'nodes_dict': {'65729da0-bdf2-4978-8343-27bdb0469d0a': '65729da0-bdf2-4978-8343-27bdb0469d0a',\n",
       "  'e522d65a-a263-4106-a4c7-08b6ac780c6b': 'e522d65a-a263-4106-a4c7-08b6ac780c6b',\n",
       "  '3dcc5c73-9b8e-4820-988f-e7ae95327fcb': '3dcc5c73-9b8e-4820-988f-e7ae95327fcb',\n",
       "  'ad6f9be2-d57d-436b-9c50-692bbe6f6b34': 'ad6f9be2-d57d-436b-9c50-692bbe6f6b34',\n",
       "  'f09aae21-4399-4328-9240-f3183570e869': 'f09aae21-4399-4328-9240-f3183570e869',\n",
       "  '174b0f47-f26c-40fb-ad30-a41e03f6cc44': '174b0f47-f26c-40fb-ad30-a41e03f6cc44',\n",
       "  '632e7419-a7ba-4a57-9fff-399d3cabbdee': '632e7419-a7ba-4a57-9fff-399d3cabbdee',\n",
       "  '499c7261-d701-4977-aa0d-4022d9caf6e0': '499c7261-d701-4977-aa0d-4022d9caf6e0',\n",
       "  '586205f8-3c2d-4cfc-9c77-9024a7c6e261': '586205f8-3c2d-4cfc-9c77-9024a7c6e261',\n",
       "  '9a03b9b2-9406-48b7-85fd-4c4d80cc9dc3': '9a03b9b2-9406-48b7-85fd-4c4d80cc9dc3',\n",
       "  '87a7eb53-ef67-4c91-86c8-ec2a36955282': '87a7eb53-ef67-4c91-86c8-ec2a36955282',\n",
       "  '54dded7e-1181-4c0e-91d3-921193a4c432': '54dded7e-1181-4c0e-91d3-921193a4c432',\n",
       "  'a0246a6c-e871-436b-ae88-40c328d28541': 'a0246a6c-e871-436b-ae88-40c328d28541',\n",
       "  '47fa896e-b368-474e-85d3-5654d2c38f3d': '47fa896e-b368-474e-85d3-5654d2c38f3d',\n",
       "  '033dc44f-28b2-4b60-80a5-16aab84b32d8': '033dc44f-28b2-4b60-80a5-16aab84b32d8',\n",
       "  'd05c08ff-a5a6-4a69-85b5-ce88d9a04a38': 'd05c08ff-a5a6-4a69-85b5-ce88d9a04a38',\n",
       "  'fb5c2963-4ecb-47b2-be57-a952cfd716d0': 'fb5c2963-4ecb-47b2-be57-a952cfd716d0',\n",
       "  'c3cd7fa3-29c7-4c34-9e63-60a2b2fc6615': 'c3cd7fa3-29c7-4c34-9e63-60a2b2fc6615',\n",
       "  '54c70adf-1292-41d5-8cb9-e88ae66d4b88': '54c70adf-1292-41d5-8cb9-e88ae66d4b88',\n",
       "  'fb4c00f0-7986-420e-8831-d2ac98ecd82f': 'fb4c00f0-7986-420e-8831-d2ac98ecd82f',\n",
       "  'c6e696cd-c03a-4515-bccb-43229d76d6d7': 'c6e696cd-c03a-4515-bccb-43229d76d6d7',\n",
       "  '648313d9-c238-49c1-bc32-74629ebd36a2': '648313d9-c238-49c1-bc32-74629ebd36a2',\n",
       "  '0e8070c0-ce69-472d-8a29-a6deb85ffe33': '0e8070c0-ce69-472d-8a29-a6deb85ffe33',\n",
       "  '5fb3edec-698e-4b83-90d6-f2e596170f0d': '5fb3edec-698e-4b83-90d6-f2e596170f0d',\n",
       "  '9ac95c9d-1967-421e-a0b4-f446bc7c8258': '9ac95c9d-1967-421e-a0b4-f446bc7c8258',\n",
       "  '567ce33b-9bf6-4915-9727-3893c3bf529b': '567ce33b-9bf6-4915-9727-3893c3bf529b',\n",
       "  '659a7431-3fd4-4446-99c2-01dfae7c04df': '659a7431-3fd4-4446-99c2-01dfae7c04df',\n",
       "  '53d7362d-c96c-42b5-b951-fb2ffecd865d': '53d7362d-c96c-42b5-b951-fb2ffecd865d',\n",
       "  'd07d5755-4430-42a2-93c3-b6639f4510f4': 'd07d5755-4430-42a2-93c3-b6639f4510f4'},\n",
       " 'doc_id_dict': {},\n",
       " 'embeddings_dict': {}}"
      ]
     },
     "execution_count": 21,
     "metadata": {},
     "output_type": "execute_result"
    }
   ],
   "source": [
    "VSindex.index_struct.to_dict()"
   ]
  },
  {
   "cell_type": "code",
   "execution_count": 22,
   "metadata": {},
   "outputs": [
    {
     "data": {
      "text/plain": [
       "{'65729da0-bdf2-4978-8343-27bdb0469d0a': '65729da0-bdf2-4978-8343-27bdb0469d0a',\n",
       " 'e522d65a-a263-4106-a4c7-08b6ac780c6b': 'e522d65a-a263-4106-a4c7-08b6ac780c6b',\n",
       " '3dcc5c73-9b8e-4820-988f-e7ae95327fcb': '3dcc5c73-9b8e-4820-988f-e7ae95327fcb',\n",
       " 'ad6f9be2-d57d-436b-9c50-692bbe6f6b34': 'ad6f9be2-d57d-436b-9c50-692bbe6f6b34',\n",
       " 'f09aae21-4399-4328-9240-f3183570e869': 'f09aae21-4399-4328-9240-f3183570e869',\n",
       " '174b0f47-f26c-40fb-ad30-a41e03f6cc44': '174b0f47-f26c-40fb-ad30-a41e03f6cc44',\n",
       " '632e7419-a7ba-4a57-9fff-399d3cabbdee': '632e7419-a7ba-4a57-9fff-399d3cabbdee',\n",
       " '499c7261-d701-4977-aa0d-4022d9caf6e0': '499c7261-d701-4977-aa0d-4022d9caf6e0',\n",
       " '586205f8-3c2d-4cfc-9c77-9024a7c6e261': '586205f8-3c2d-4cfc-9c77-9024a7c6e261',\n",
       " '9a03b9b2-9406-48b7-85fd-4c4d80cc9dc3': '9a03b9b2-9406-48b7-85fd-4c4d80cc9dc3',\n",
       " '87a7eb53-ef67-4c91-86c8-ec2a36955282': '87a7eb53-ef67-4c91-86c8-ec2a36955282',\n",
       " '54dded7e-1181-4c0e-91d3-921193a4c432': '54dded7e-1181-4c0e-91d3-921193a4c432',\n",
       " 'a0246a6c-e871-436b-ae88-40c328d28541': 'a0246a6c-e871-436b-ae88-40c328d28541',\n",
       " '47fa896e-b368-474e-85d3-5654d2c38f3d': '47fa896e-b368-474e-85d3-5654d2c38f3d',\n",
       " '033dc44f-28b2-4b60-80a5-16aab84b32d8': '033dc44f-28b2-4b60-80a5-16aab84b32d8',\n",
       " 'd05c08ff-a5a6-4a69-85b5-ce88d9a04a38': 'd05c08ff-a5a6-4a69-85b5-ce88d9a04a38',\n",
       " 'fb5c2963-4ecb-47b2-be57-a952cfd716d0': 'fb5c2963-4ecb-47b2-be57-a952cfd716d0',\n",
       " 'c3cd7fa3-29c7-4c34-9e63-60a2b2fc6615': 'c3cd7fa3-29c7-4c34-9e63-60a2b2fc6615',\n",
       " '54c70adf-1292-41d5-8cb9-e88ae66d4b88': '54c70adf-1292-41d5-8cb9-e88ae66d4b88',\n",
       " 'fb4c00f0-7986-420e-8831-d2ac98ecd82f': 'fb4c00f0-7986-420e-8831-d2ac98ecd82f',\n",
       " 'c6e696cd-c03a-4515-bccb-43229d76d6d7': 'c6e696cd-c03a-4515-bccb-43229d76d6d7',\n",
       " '648313d9-c238-49c1-bc32-74629ebd36a2': '648313d9-c238-49c1-bc32-74629ebd36a2',\n",
       " '0e8070c0-ce69-472d-8a29-a6deb85ffe33': '0e8070c0-ce69-472d-8a29-a6deb85ffe33',\n",
       " '5fb3edec-698e-4b83-90d6-f2e596170f0d': '5fb3edec-698e-4b83-90d6-f2e596170f0d',\n",
       " '9ac95c9d-1967-421e-a0b4-f446bc7c8258': '9ac95c9d-1967-421e-a0b4-f446bc7c8258',\n",
       " '567ce33b-9bf6-4915-9727-3893c3bf529b': '567ce33b-9bf6-4915-9727-3893c3bf529b',\n",
       " '659a7431-3fd4-4446-99c2-01dfae7c04df': '659a7431-3fd4-4446-99c2-01dfae7c04df',\n",
       " '53d7362d-c96c-42b5-b951-fb2ffecd865d': '53d7362d-c96c-42b5-b951-fb2ffecd865d',\n",
       " 'd07d5755-4430-42a2-93c3-b6639f4510f4': 'd07d5755-4430-42a2-93c3-b6639f4510f4'}"
      ]
     },
     "execution_count": 22,
     "metadata": {},
     "output_type": "execute_result"
    }
   ],
   "source": [
    "VSindex.index_struct.nodes_dict\n"
   ]
  },
  {
   "cell_type": "code",
   "execution_count": 23,
   "metadata": {},
   "outputs": [
    {
     "data": {
      "text/plain": [
       "29"
      ]
     },
     "execution_count": 23,
     "metadata": {},
     "output_type": "execute_result"
    }
   ],
   "source": [
    "len(VSindex.index_struct.nodes_dict) "
   ]
  },
  {
   "cell_type": "code",
   "execution_count": 24,
   "metadata": {},
   "outputs": [
    {
     "data": {
      "text/plain": [
       "{'7eaa2571-ffd7-45ce-aebb-59f1b0ec3da8': RefDocInfo(node_ids=['65729da0-bdf2-4978-8343-27bdb0469d0a'], metadata={'page_label': '1', 'file_name': '2022 Q3 AAPL.pdf', 'file_path': '..\\\\data\\\\2022 Q3 AAPL.pdf', 'file_type': 'application/pdf', 'file_size': 266240, 'creation_date': '2024-11-13', 'last_modified_date': '2024-11-13'}),\n",
       " '2ba3b42a-acca-4d06-a4bd-9745d3d0ba51': RefDocInfo(node_ids=['e522d65a-a263-4106-a4c7-08b6ac780c6b'], metadata={'page_label': '2', 'file_name': '2022 Q3 AAPL.pdf', 'file_path': '..\\\\data\\\\2022 Q3 AAPL.pdf', 'file_type': 'application/pdf', 'file_size': 266240, 'creation_date': '2024-11-13', 'last_modified_date': '2024-11-13'}),\n",
       " '1e393ea8-2e0c-4aff-9446-2a3245ee8553': RefDocInfo(node_ids=['3dcc5c73-9b8e-4820-988f-e7ae95327fcb'], metadata={'page_label': '3', 'file_name': '2022 Q3 AAPL.pdf', 'file_path': '..\\\\data\\\\2022 Q3 AAPL.pdf', 'file_type': 'application/pdf', 'file_size': 266240, 'creation_date': '2024-11-13', 'last_modified_date': '2024-11-13'}),\n",
       " 'fb45b750-ec6f-4a91-ae6f-d035b47a4da1': RefDocInfo(node_ids=['ad6f9be2-d57d-436b-9c50-692bbe6f6b34'], metadata={'page_label': '4', 'file_name': '2022 Q3 AAPL.pdf', 'file_path': '..\\\\data\\\\2022 Q3 AAPL.pdf', 'file_type': 'application/pdf', 'file_size': 266240, 'creation_date': '2024-11-13', 'last_modified_date': '2024-11-13'}),\n",
       " '0edd5495-ebda-4030-938d-a8a409732830': RefDocInfo(node_ids=['f09aae21-4399-4328-9240-f3183570e869'], metadata={'page_label': '5', 'file_name': '2022 Q3 AAPL.pdf', 'file_path': '..\\\\data\\\\2022 Q3 AAPL.pdf', 'file_type': 'application/pdf', 'file_size': 266240, 'creation_date': '2024-11-13', 'last_modified_date': '2024-11-13'}),\n",
       " '808ca451-de25-4699-8fdb-33ac02ac4c77': RefDocInfo(node_ids=['174b0f47-f26c-40fb-ad30-a41e03f6cc44'], metadata={'page_label': '6', 'file_name': '2022 Q3 AAPL.pdf', 'file_path': '..\\\\data\\\\2022 Q3 AAPL.pdf', 'file_type': 'application/pdf', 'file_size': 266240, 'creation_date': '2024-11-13', 'last_modified_date': '2024-11-13'}),\n",
       " '62523847-9538-4e94-a21c-860fb7c53d03': RefDocInfo(node_ids=['632e7419-a7ba-4a57-9fff-399d3cabbdee'], metadata={'page_label': '7', 'file_name': '2022 Q3 AAPL.pdf', 'file_path': '..\\\\data\\\\2022 Q3 AAPL.pdf', 'file_type': 'application/pdf', 'file_size': 266240, 'creation_date': '2024-11-13', 'last_modified_date': '2024-11-13'}),\n",
       " '8b493499-136a-4e42-8e14-936003587e42': RefDocInfo(node_ids=['499c7261-d701-4977-aa0d-4022d9caf6e0'], metadata={'page_label': '8', 'file_name': '2022 Q3 AAPL.pdf', 'file_path': '..\\\\data\\\\2022 Q3 AAPL.pdf', 'file_type': 'application/pdf', 'file_size': 266240, 'creation_date': '2024-11-13', 'last_modified_date': '2024-11-13'}),\n",
       " '09168b49-99a8-4b29-94dd-ad7969f109d7': RefDocInfo(node_ids=['586205f8-3c2d-4cfc-9c77-9024a7c6e261'], metadata={'page_label': '9', 'file_name': '2022 Q3 AAPL.pdf', 'file_path': '..\\\\data\\\\2022 Q3 AAPL.pdf', 'file_type': 'application/pdf', 'file_size': 266240, 'creation_date': '2024-11-13', 'last_modified_date': '2024-11-13'}),\n",
       " '63f44103-f323-4ba1-92ed-6ff39e9b8a57': RefDocInfo(node_ids=['9a03b9b2-9406-48b7-85fd-4c4d80cc9dc3'], metadata={'page_label': '10', 'file_name': '2022 Q3 AAPL.pdf', 'file_path': '..\\\\data\\\\2022 Q3 AAPL.pdf', 'file_type': 'application/pdf', 'file_size': 266240, 'creation_date': '2024-11-13', 'last_modified_date': '2024-11-13'}),\n",
       " '7181264a-9094-4c99-8f78-d9aa5e693da7': RefDocInfo(node_ids=['87a7eb53-ef67-4c91-86c8-ec2a36955282', '54dded7e-1181-4c0e-91d3-921193a4c432'], metadata={'page_label': '11', 'file_name': '2022 Q3 AAPL.pdf', 'file_path': '..\\\\data\\\\2022 Q3 AAPL.pdf', 'file_type': 'application/pdf', 'file_size': 266240, 'creation_date': '2024-11-13', 'last_modified_date': '2024-11-13'}),\n",
       " '8bd09112-73f1-46a8-bfc2-90d2de1a2cbd': RefDocInfo(node_ids=['a0246a6c-e871-436b-ae88-40c328d28541'], metadata={'page_label': '12', 'file_name': '2022 Q3 AAPL.pdf', 'file_path': '..\\\\data\\\\2022 Q3 AAPL.pdf', 'file_type': 'application/pdf', 'file_size': 266240, 'creation_date': '2024-11-13', 'last_modified_date': '2024-11-13'}),\n",
       " '33278fec-3fe3-44a1-8a0a-1f42666050f8': RefDocInfo(node_ids=['47fa896e-b368-474e-85d3-5654d2c38f3d'], metadata={'page_label': '13', 'file_name': '2022 Q3 AAPL.pdf', 'file_path': '..\\\\data\\\\2022 Q3 AAPL.pdf', 'file_type': 'application/pdf', 'file_size': 266240, 'creation_date': '2024-11-13', 'last_modified_date': '2024-11-13'}),\n",
       " 'ff9446ac-518f-418f-b642-f51ba29d6789': RefDocInfo(node_ids=['033dc44f-28b2-4b60-80a5-16aab84b32d8'], metadata={'page_label': '14', 'file_name': '2022 Q3 AAPL.pdf', 'file_path': '..\\\\data\\\\2022 Q3 AAPL.pdf', 'file_type': 'application/pdf', 'file_size': 266240, 'creation_date': '2024-11-13', 'last_modified_date': '2024-11-13'}),\n",
       " 'fc1ffff6-a26d-4731-9ad0-9ae013d2ca66': RefDocInfo(node_ids=['d05c08ff-a5a6-4a69-85b5-ce88d9a04a38'], metadata={'page_label': '15', 'file_name': '2022 Q3 AAPL.pdf', 'file_path': '..\\\\data\\\\2022 Q3 AAPL.pdf', 'file_type': 'application/pdf', 'file_size': 266240, 'creation_date': '2024-11-13', 'last_modified_date': '2024-11-13'}),\n",
       " 'afbf9faf-cbac-4cc3-bcc6-f5bfb552138c': RefDocInfo(node_ids=['fb5c2963-4ecb-47b2-be57-a952cfd716d0'], metadata={'page_label': '16', 'file_name': '2022 Q3 AAPL.pdf', 'file_path': '..\\\\data\\\\2022 Q3 AAPL.pdf', 'file_type': 'application/pdf', 'file_size': 266240, 'creation_date': '2024-11-13', 'last_modified_date': '2024-11-13'}),\n",
       " 'd42b9eb9-b9df-4065-8a83-a5cbecfcd1c3': RefDocInfo(node_ids=['c3cd7fa3-29c7-4c34-9e63-60a2b2fc6615'], metadata={'page_label': '17', 'file_name': '2022 Q3 AAPL.pdf', 'file_path': '..\\\\data\\\\2022 Q3 AAPL.pdf', 'file_type': 'application/pdf', 'file_size': 266240, 'creation_date': '2024-11-13', 'last_modified_date': '2024-11-13'}),\n",
       " '0dee36db-8ed8-4cfa-aae7-d17ead91f6b5': RefDocInfo(node_ids=['54c70adf-1292-41d5-8cb9-e88ae66d4b88'], metadata={'page_label': '18', 'file_name': '2022 Q3 AAPL.pdf', 'file_path': '..\\\\data\\\\2022 Q3 AAPL.pdf', 'file_type': 'application/pdf', 'file_size': 266240, 'creation_date': '2024-11-13', 'last_modified_date': '2024-11-13'}),\n",
       " '4fbac628-1f26-4e57-a4e4-4c263bd66f3c': RefDocInfo(node_ids=['fb4c00f0-7986-420e-8831-d2ac98ecd82f'], metadata={'page_label': '19', 'file_name': '2022 Q3 AAPL.pdf', 'file_path': '..\\\\data\\\\2022 Q3 AAPL.pdf', 'file_type': 'application/pdf', 'file_size': 266240, 'creation_date': '2024-11-13', 'last_modified_date': '2024-11-13'}),\n",
       " '15e58ad7-760b-41ee-99e2-44e38883bed0': RefDocInfo(node_ids=['c6e696cd-c03a-4515-bccb-43229d76d6d7'], metadata={'page_label': '20', 'file_name': '2022 Q3 AAPL.pdf', 'file_path': '..\\\\data\\\\2022 Q3 AAPL.pdf', 'file_type': 'application/pdf', 'file_size': 266240, 'creation_date': '2024-11-13', 'last_modified_date': '2024-11-13'}),\n",
       " 'a64a3127-3cd1-4c91-8fdc-5cad51afae84': RefDocInfo(node_ids=['648313d9-c238-49c1-bc32-74629ebd36a2'], metadata={'page_label': '21', 'file_name': '2022 Q3 AAPL.pdf', 'file_path': '..\\\\data\\\\2022 Q3 AAPL.pdf', 'file_type': 'application/pdf', 'file_size': 266240, 'creation_date': '2024-11-13', 'last_modified_date': '2024-11-13'}),\n",
       " 'f29ec121-9498-4ee4-be4c-f336829e7fe1': RefDocInfo(node_ids=['0e8070c0-ce69-472d-8a29-a6deb85ffe33'], metadata={'page_label': '22', 'file_name': '2022 Q3 AAPL.pdf', 'file_path': '..\\\\data\\\\2022 Q3 AAPL.pdf', 'file_type': 'application/pdf', 'file_size': 266240, 'creation_date': '2024-11-13', 'last_modified_date': '2024-11-13'}),\n",
       " '7a817369-75bc-4d39-aa12-cdb0d24bfbe3': RefDocInfo(node_ids=['5fb3edec-698e-4b83-90d6-f2e596170f0d'], metadata={'page_label': '23', 'file_name': '2022 Q3 AAPL.pdf', 'file_path': '..\\\\data\\\\2022 Q3 AAPL.pdf', 'file_type': 'application/pdf', 'file_size': 266240, 'creation_date': '2024-11-13', 'last_modified_date': '2024-11-13'}),\n",
       " '3f18d637-c9ff-46d1-8fff-787a2afd955b': RefDocInfo(node_ids=['9ac95c9d-1967-421e-a0b4-f446bc7c8258'], metadata={'page_label': '24', 'file_name': '2022 Q3 AAPL.pdf', 'file_path': '..\\\\data\\\\2022 Q3 AAPL.pdf', 'file_type': 'application/pdf', 'file_size': 266240, 'creation_date': '2024-11-13', 'last_modified_date': '2024-11-13'}),\n",
       " '8f7a89ec-d5ba-44ef-8432-443b5593eb7b': RefDocInfo(node_ids=['567ce33b-9bf6-4915-9727-3893c3bf529b'], metadata={'page_label': '25', 'file_name': '2022 Q3 AAPL.pdf', 'file_path': '..\\\\data\\\\2022 Q3 AAPL.pdf', 'file_type': 'application/pdf', 'file_size': 266240, 'creation_date': '2024-11-13', 'last_modified_date': '2024-11-13'}),\n",
       " '89ebe123-2f1e-47be-93eb-c5d25803a273': RefDocInfo(node_ids=['659a7431-3fd4-4446-99c2-01dfae7c04df'], metadata={'page_label': '26', 'file_name': '2022 Q3 AAPL.pdf', 'file_path': '..\\\\data\\\\2022 Q3 AAPL.pdf', 'file_type': 'application/pdf', 'file_size': 266240, 'creation_date': '2024-11-13', 'last_modified_date': '2024-11-13'}),\n",
       " '26241e0e-5922-4c58-a8ff-b0e72d4646c4': RefDocInfo(node_ids=['53d7362d-c96c-42b5-b951-fb2ffecd865d'], metadata={'page_label': '27', 'file_name': '2022 Q3 AAPL.pdf', 'file_path': '..\\\\data\\\\2022 Q3 AAPL.pdf', 'file_type': 'application/pdf', 'file_size': 266240, 'creation_date': '2024-11-13', 'last_modified_date': '2024-11-13'}),\n",
       " 'ca530ec4-289c-43ec-85dc-f737d46c74b5': RefDocInfo(node_ids=['d07d5755-4430-42a2-93c3-b6639f4510f4'], metadata={'page_label': '28', 'file_name': '2022 Q3 AAPL.pdf', 'file_path': '..\\\\data\\\\2022 Q3 AAPL.pdf', 'file_type': 'application/pdf', 'file_size': 266240, 'creation_date': '2024-11-13', 'last_modified_date': '2024-11-13'})}"
      ]
     },
     "execution_count": 24,
     "metadata": {},
     "output_type": "execute_result"
    }
   ],
   "source": [
    "VSindex.ref_doc_info"
   ]
  },
  {
   "cell_type": "code",
   "execution_count": 25,
   "metadata": {},
   "outputs": [],
   "source": [
    "VSindex.vector_store.persist(\"vector_store_index.json\")\n"
   ]
  },
  {
   "cell_type": "code",
   "execution_count": 26,
   "metadata": {},
   "outputs": [],
   "source": [
    "VSindex.docstore.persist(\"vector_store_index_docstore.json\")\n"
   ]
  }
 ],
 "metadata": {
  "kernelspec": {
   "display_name": "llamaindex",
   "language": "python",
   "name": "python3"
  },
  "language_info": {
   "codemirror_mode": {
    "name": "ipython",
    "version": 3
   },
   "file_extension": ".py",
   "mimetype": "text/x-python",
   "name": "python",
   "nbconvert_exporter": "python",
   "pygments_lexer": "ipython3",
   "version": "3.11.10"
  }
 },
 "nbformat": 4,
 "nbformat_minor": 2
}
