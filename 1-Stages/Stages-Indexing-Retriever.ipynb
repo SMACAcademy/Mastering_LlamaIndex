{
 "cells": [
  {
   "cell_type": "code",
   "execution_count": 1,
   "metadata": {},
   "outputs": [],
   "source": [
    "from llama_index.core import SimpleDirectoryReader\n",
    "documents = SimpleDirectoryReader(input_files=['../data/2022 Q3 AAPL.pdf']).load_data()\n"
   ]
  },
  {
   "cell_type": "code",
   "execution_count": 2,
   "metadata": {},
   "outputs": [
    {
     "name": "stdout",
     "output_type": "stream",
     "text": [
      "Requirement already satisfied: llama-index-embeddings-ollama in c:\\users\\muthu\\.conda\\envs\\llamaindex\\lib\\site-packages (0.3.1)\n",
      "Requirement already satisfied: llama-index-core<0.12.0,>=0.11.0 in c:\\users\\muthu\\.conda\\envs\\llamaindex\\lib\\site-packages (from llama-index-embeddings-ollama) (0.11.23)\n",
      "Requirement already satisfied: ollama<0.4.0,>=0.3.1 in c:\\users\\muthu\\.conda\\envs\\llamaindex\\lib\\site-packages (from llama-index-embeddings-ollama) (0.3.3)\n",
      "Requirement already satisfied: PyYAML>=6.0.1 in c:\\users\\muthu\\.conda\\envs\\llamaindex\\lib\\site-packages (from llama-index-core<0.12.0,>=0.11.0->llama-index-embeddings-ollama) (6.0.2)\n",
      "Requirement already satisfied: SQLAlchemy>=1.4.49 in c:\\users\\muthu\\.conda\\envs\\llamaindex\\lib\\site-packages (from SQLAlchemy[asyncio]>=1.4.49->llama-index-core<0.12.0,>=0.11.0->llama-index-embeddings-ollama) (2.0.32)\n",
      "Requirement already satisfied: aiohttp<4.0.0,>=3.8.6 in c:\\users\\muthu\\.conda\\envs\\llamaindex\\lib\\site-packages (from llama-index-core<0.12.0,>=0.11.0->llama-index-embeddings-ollama) (3.10.8)\n",
      "Requirement already satisfied: dataclasses-json in c:\\users\\muthu\\.conda\\envs\\llamaindex\\lib\\site-packages (from llama-index-core<0.12.0,>=0.11.0->llama-index-embeddings-ollama) (0.6.7)\n",
      "Requirement already satisfied: deprecated>=1.2.9.3 in c:\\users\\muthu\\.conda\\envs\\llamaindex\\lib\\site-packages (from llama-index-core<0.12.0,>=0.11.0->llama-index-embeddings-ollama) (1.2.14)\n",
      "Requirement already satisfied: dirtyjson<2.0.0,>=1.0.8 in c:\\users\\muthu\\.conda\\envs\\llamaindex\\lib\\site-packages (from llama-index-core<0.12.0,>=0.11.0->llama-index-embeddings-ollama) (1.0.8)\n",
      "Requirement already satisfied: filetype<2.0.0,>=1.2.0 in c:\\users\\muthu\\.conda\\envs\\llamaindex\\lib\\site-packages (from llama-index-core<0.12.0,>=0.11.0->llama-index-embeddings-ollama) (1.2.0)\n",
      "Requirement already satisfied: fsspec>=2023.5.0 in c:\\users\\muthu\\.conda\\envs\\llamaindex\\lib\\site-packages (from llama-index-core<0.12.0,>=0.11.0->llama-index-embeddings-ollama) (2024.9.0)\n",
      "Requirement already satisfied: httpx in c:\\users\\muthu\\.conda\\envs\\llamaindex\\lib\\site-packages (from llama-index-core<0.12.0,>=0.11.0->llama-index-embeddings-ollama) (0.27.2)\n",
      "Requirement already satisfied: nest-asyncio<2.0.0,>=1.5.8 in c:\\users\\muthu\\.conda\\envs\\llamaindex\\lib\\site-packages (from llama-index-core<0.12.0,>=0.11.0->llama-index-embeddings-ollama) (1.6.0)\n",
      "Requirement already satisfied: networkx>=3.0 in c:\\users\\muthu\\.conda\\envs\\llamaindex\\lib\\site-packages (from llama-index-core<0.12.0,>=0.11.0->llama-index-embeddings-ollama) (3.4.2)\n",
      "Requirement already satisfied: nltk>3.8.1 in c:\\users\\muthu\\.conda\\envs\\llamaindex\\lib\\site-packages (from llama-index-core<0.12.0,>=0.11.0->llama-index-embeddings-ollama) (3.9.1)\n",
      "Requirement already satisfied: numpy<2.0.0 in c:\\users\\muthu\\.conda\\envs\\llamaindex\\lib\\site-packages (from llama-index-core<0.12.0,>=0.11.0->llama-index-embeddings-ollama) (1.26.4)\n",
      "Requirement already satisfied: pillow>=9.0.0 in c:\\users\\muthu\\.conda\\envs\\llamaindex\\lib\\site-packages (from llama-index-core<0.12.0,>=0.11.0->llama-index-embeddings-ollama) (11.0.0)\n",
      "Requirement already satisfied: pydantic<3.0.0,>=2.7.0 in c:\\users\\muthu\\.conda\\envs\\llamaindex\\lib\\site-packages (from llama-index-core<0.12.0,>=0.11.0->llama-index-embeddings-ollama) (2.9.2)\n",
      "Requirement already satisfied: requests>=2.31.0 in c:\\users\\muthu\\.conda\\envs\\llamaindex\\lib\\site-packages (from llama-index-core<0.12.0,>=0.11.0->llama-index-embeddings-ollama) (2.32.3)\n",
      "Requirement already satisfied: tenacity!=8.4.0,<9.0.0,>=8.2.0 in c:\\users\\muthu\\.conda\\envs\\llamaindex\\lib\\site-packages (from llama-index-core<0.12.0,>=0.11.0->llama-index-embeddings-ollama) (8.5.0)\n",
      "Requirement already satisfied: tiktoken>=0.3.3 in c:\\users\\muthu\\.conda\\envs\\llamaindex\\lib\\site-packages (from llama-index-core<0.12.0,>=0.11.0->llama-index-embeddings-ollama) (0.8.0)\n",
      "Requirement already satisfied: tqdm<5.0.0,>=4.66.1 in c:\\users\\muthu\\.conda\\envs\\llamaindex\\lib\\site-packages (from llama-index-core<0.12.0,>=0.11.0->llama-index-embeddings-ollama) (4.67.0)\n",
      "Requirement already satisfied: typing-extensions>=4.5.0 in c:\\users\\muthu\\.conda\\envs\\llamaindex\\lib\\site-packages (from llama-index-core<0.12.0,>=0.11.0->llama-index-embeddings-ollama) (4.11.0)\n",
      "Requirement already satisfied: typing-inspect>=0.8.0 in c:\\users\\muthu\\.conda\\envs\\llamaindex\\lib\\site-packages (from llama-index-core<0.12.0,>=0.11.0->llama-index-embeddings-ollama) (0.9.0)\n",
      "Requirement already satisfied: wrapt in c:\\users\\muthu\\.conda\\envs\\llamaindex\\lib\\site-packages (from llama-index-core<0.12.0,>=0.11.0->llama-index-embeddings-ollama) (1.16.0)\n",
      "Requirement already satisfied: aiohappyeyeballs>=2.3.0 in c:\\users\\muthu\\.conda\\envs\\llamaindex\\lib\\site-packages (from aiohttp<4.0.0,>=3.8.6->llama-index-core<0.12.0,>=0.11.0->llama-index-embeddings-ollama) (2.4.3)\n",
      "Requirement already satisfied: aiosignal>=1.1.2 in c:\\users\\muthu\\.conda\\envs\\llamaindex\\lib\\site-packages (from aiohttp<4.0.0,>=3.8.6->llama-index-core<0.12.0,>=0.11.0->llama-index-embeddings-ollama) (1.3.1)\n",
      "Requirement already satisfied: attrs>=17.3.0 in c:\\users\\muthu\\.conda\\envs\\llamaindex\\lib\\site-packages (from aiohttp<4.0.0,>=3.8.6->llama-index-core<0.12.0,>=0.11.0->llama-index-embeddings-ollama) (24.2.0)\n",
      "Requirement already satisfied: frozenlist>=1.1.1 in c:\\users\\muthu\\.conda\\envs\\llamaindex\\lib\\site-packages (from aiohttp<4.0.0,>=3.8.6->llama-index-core<0.12.0,>=0.11.0->llama-index-embeddings-ollama) (1.5.0)\n",
      "Requirement already satisfied: multidict<7.0,>=4.5 in c:\\users\\muthu\\.conda\\envs\\llamaindex\\lib\\site-packages (from aiohttp<4.0.0,>=3.8.6->llama-index-core<0.12.0,>=0.11.0->llama-index-embeddings-ollama) (6.1.0)\n",
      "Requirement already satisfied: yarl<2.0,>=1.12.0 in c:\\users\\muthu\\.conda\\envs\\llamaindex\\lib\\site-packages (from aiohttp<4.0.0,>=3.8.6->llama-index-core<0.12.0,>=0.11.0->llama-index-embeddings-ollama) (1.17.1)\n",
      "Requirement already satisfied: anyio in c:\\users\\muthu\\.conda\\envs\\llamaindex\\lib\\site-packages (from httpx->llama-index-core<0.12.0,>=0.11.0->llama-index-embeddings-ollama) (4.6.2.post1)\n",
      "Requirement already satisfied: certifi in c:\\users\\muthu\\.conda\\envs\\llamaindex\\lib\\site-packages (from httpx->llama-index-core<0.12.0,>=0.11.0->llama-index-embeddings-ollama) (2024.8.30)\n",
      "Requirement already satisfied: httpcore==1.* in c:\\users\\muthu\\.conda\\envs\\llamaindex\\lib\\site-packages (from httpx->llama-index-core<0.12.0,>=0.11.0->llama-index-embeddings-ollama) (1.0.6)\n",
      "Requirement already satisfied: idna in c:\\users\\muthu\\.conda\\envs\\llamaindex\\lib\\site-packages (from httpx->llama-index-core<0.12.0,>=0.11.0->llama-index-embeddings-ollama) (3.10)\n",
      "Requirement already satisfied: sniffio in c:\\users\\muthu\\.conda\\envs\\llamaindex\\lib\\site-packages (from httpx->llama-index-core<0.12.0,>=0.11.0->llama-index-embeddings-ollama) (1.3.1)\n",
      "Requirement already satisfied: h11<0.15,>=0.13 in c:\\users\\muthu\\.conda\\envs\\llamaindex\\lib\\site-packages (from httpcore==1.*->httpx->llama-index-core<0.12.0,>=0.11.0->llama-index-embeddings-ollama) (0.14.0)\n",
      "Requirement already satisfied: click in c:\\users\\muthu\\.conda\\envs\\llamaindex\\lib\\site-packages (from nltk>3.8.1->llama-index-core<0.12.0,>=0.11.0->llama-index-embeddings-ollama) (8.1.7)\n",
      "Requirement already satisfied: joblib in c:\\users\\muthu\\.conda\\envs\\llamaindex\\lib\\site-packages (from nltk>3.8.1->llama-index-core<0.12.0,>=0.11.0->llama-index-embeddings-ollama) (1.4.2)\n",
      "Requirement already satisfied: regex>=2021.8.3 in c:\\users\\muthu\\.conda\\envs\\llamaindex\\lib\\site-packages (from nltk>3.8.1->llama-index-core<0.12.0,>=0.11.0->llama-index-embeddings-ollama) (2024.11.6)\n",
      "Requirement already satisfied: annotated-types>=0.6.0 in c:\\users\\muthu\\.conda\\envs\\llamaindex\\lib\\site-packages (from pydantic<3.0.0,>=2.7.0->llama-index-core<0.12.0,>=0.11.0->llama-index-embeddings-ollama) (0.7.0)\n",
      "Requirement already satisfied: pydantic-core==2.23.4 in c:\\users\\muthu\\.conda\\envs\\llamaindex\\lib\\site-packages (from pydantic<3.0.0,>=2.7.0->llama-index-core<0.12.0,>=0.11.0->llama-index-embeddings-ollama) (2.23.4)\n",
      "Requirement already satisfied: charset-normalizer<4,>=2 in c:\\users\\muthu\\.conda\\envs\\llamaindex\\lib\\site-packages (from requests>=2.31.0->llama-index-core<0.12.0,>=0.11.0->llama-index-embeddings-ollama) (3.4.0)\n",
      "Requirement already satisfied: urllib3<3,>=1.21.1 in c:\\users\\muthu\\.conda\\envs\\llamaindex\\lib\\site-packages (from requests>=2.31.0->llama-index-core<0.12.0,>=0.11.0->llama-index-embeddings-ollama) (2.2.3)\n",
      "Requirement already satisfied: greenlet!=0.4.17 in c:\\users\\muthu\\.conda\\envs\\llamaindex\\lib\\site-packages (from SQLAlchemy>=1.4.49->SQLAlchemy[asyncio]>=1.4.49->llama-index-core<0.12.0,>=0.11.0->llama-index-embeddings-ollama) (3.1.1)\n",
      "Requirement already satisfied: colorama in c:\\users\\muthu\\.conda\\envs\\llamaindex\\lib\\site-packages (from tqdm<5.0.0,>=4.66.1->llama-index-core<0.12.0,>=0.11.0->llama-index-embeddings-ollama) (0.4.6)\n",
      "Requirement already satisfied: mypy-extensions>=0.3.0 in c:\\users\\muthu\\.conda\\envs\\llamaindex\\lib\\site-packages (from typing-inspect>=0.8.0->llama-index-core<0.12.0,>=0.11.0->llama-index-embeddings-ollama) (1.0.0)\n",
      "Requirement already satisfied: marshmallow<4.0.0,>=3.18.0 in c:\\users\\muthu\\.conda\\envs\\llamaindex\\lib\\site-packages (from dataclasses-json->llama-index-core<0.12.0,>=0.11.0->llama-index-embeddings-ollama) (3.23.1)\n",
      "Requirement already satisfied: packaging>=17.0 in c:\\users\\muthu\\.conda\\envs\\llamaindex\\lib\\site-packages (from marshmallow<4.0.0,>=3.18.0->dataclasses-json->llama-index-core<0.12.0,>=0.11.0->llama-index-embeddings-ollama) (23.2)\n",
      "Requirement already satisfied: propcache>=0.2.0 in c:\\users\\muthu\\.conda\\envs\\llamaindex\\lib\\site-packages (from yarl<2.0,>=1.12.0->aiohttp<4.0.0,>=3.8.6->llama-index-core<0.12.0,>=0.11.0->llama-index-embeddings-ollama) (0.2.0)\n"
     ]
    }
   ],
   "source": [
    "!pip install llama-index-embeddings-ollama"
   ]
  },
  {
   "cell_type": "code",
   "execution_count": 3,
   "metadata": {},
   "outputs": [],
   "source": [
    "from llama_index.embeddings.ollama import OllamaEmbedding"
   ]
  },
  {
   "cell_type": "code",
   "execution_count": 4,
   "metadata": {},
   "outputs": [],
   "source": [
    "ollama_embedding = OllamaEmbedding(\n",
    "    model_name=\"nomic-embed-text:latest\",  # Replace with your desired model\n",
    "    base_url=\"http://localhost:11434\",  # Ensure Ollama is running at this endpoint\n",
    "    ollama_additional_kwargs={\"mirostat\": 0} #Mirostat is a technique for controlling perplexity and balancing the text generation process in large language models (LLMs).\n",
    ")    "
   ]
  },
  {
   "cell_type": "code",
   "execution_count": 5,
   "metadata": {},
   "outputs": [],
   "source": [
    "from llama_index.core import VectorStoreIndex\n",
    "\n",
    "VSindex = VectorStoreIndex.from_documents(documents, embed_model=ollama_embedding)"
   ]
  },
  {
   "cell_type": "code",
   "execution_count": 6,
   "metadata": {},
   "outputs": [],
   "source": [
    "from llama_index.core import Settings\n",
    "from llama_index.llms.ollama import  Ollama\n",
    "\n",
    "Settings.llm = Ollama(model='llama3.2:latest', base_url='http://localhost:11434',temperature=0.1)"
   ]
  },
  {
   "cell_type": "code",
   "execution_count": 7,
   "metadata": {},
   "outputs": [],
   "source": [
    "query_engine = VSindex.as_query_engine()\n"
   ]
  },
  {
   "cell_type": "code",
   "execution_count": 8,
   "metadata": {},
   "outputs": [],
   "source": [
    "response = query_engine.query(\"Give summary of the quarter results\")\n"
   ]
  },
  {
   "cell_type": "code",
   "execution_count": 9,
   "metadata": {},
   "outputs": [
    {
     "name": "stdout",
     "output_type": "stream",
     "text": [
      "Response(response=\"For the fiscal quarter ended June 25, 2022, Apple Inc.'s \"\n",
      "                  \"total shareholders' equity began at $67,399 million. The \"\n",
      "                  \"company's common stock and additional paid-in capital \"\n",
      "                  'increased to $62,115 million due to share-based '\n",
      "                  'compensation and the issuance of new shares. Retained '\n",
      "                  'earnings rose to $5,289 million after net income of $19,442 '\n",
      "                  'million was recorded, despite dividends declared totaling '\n",
      "                  '$3,760 million.\\n'\n",
      "                  '\\n'\n",
      "                  'The accumulated other comprehensive income/(loss) decreased '\n",
      "                  \"to ($9,297) million. The total shareholders' equity ended \"\n",
      "                  'at $58,107 million, which is the same as the beginning '\n",
      "                  'balance.',\n",
      "         source_nodes=[NodeWithScore(node=TextNode(id_='cac00e60-5c36-4f2a-b058-9800c133409b', embedding=None, metadata={'page_label': '7', 'file_name': '2022 Q3 AAPL.pdf', 'file_path': '..\\\\data\\\\2022 Q3 AAPL.pdf', 'file_type': 'application/pdf', 'file_size': 266240, 'creation_date': '2024-11-13', 'last_modified_date': '2024-11-13'}, excluded_embed_metadata_keys=['file_name', 'file_type', 'file_size', 'creation_date', 'last_modified_date', 'last_accessed_date'], excluded_llm_metadata_keys=['file_name', 'file_type', 'file_size', 'creation_date', 'last_modified_date', 'last_accessed_date'], relationships={<NodeRelationship.SOURCE: '1'>: RelatedNodeInfo(node_id='b56fe977-801a-421a-abcc-165fe3f3029a', node_type=<ObjectType.DOCUMENT: '4'>, metadata={'page_label': '7', 'file_name': '2022 Q3 AAPL.pdf', 'file_path': '..\\\\data\\\\2022 Q3 AAPL.pdf', 'file_type': 'application/pdf', 'file_size': 266240, 'creation_date': '2024-11-13', 'last_modified_date': '2024-11-13'}, hash='293d611209e565a4670e9a61de41eb78d20f578100929b5adb2b0f1d977f8c15')}, text='Apple Inc.\\nCONDENSED CONSOLIDATED STATEMENTS OF SHAREHOLDERS’ EQUITY (Unaudited)\\n(In millions, except per share amounts)\\nThree Months Ended Nine Months Ended\\nJune 25,2022 June 26,2021 June 25,2022 June 26,2021\\nTotal shareholders’ equity, beginning balances $ 67,399 $ 69,178 $ 63,090 $ 65,339 \\nCommon stock and additional paid-in capital:\\nBeginning balances 61,181 54,203 57,365 50,779 \\nCommon stock issued — — 593 561 \\nCommon stock withheld related to net share settlement of equityawards (1,371) (1,224) (2,783) (2,460)\\nShare-based compensation 2,305 2,010 6,940 6,109 \\nEnding balances 62,115 54,989 62,115 54,989 \\nRetained earnings:\\nBeginning balances 12,712 15,261 5,562 14,966 \\nNet income 19,442 21,744 79,082 74,129 \\nDividends and dividend equivalents declared (3,760) (3,713) (11,058) (10,755)\\nCommon stock withheld related to net share settlement of equityawards (1,403) (1,559) (3,323) (3,606)\\nCommon stock repurchased (21,702) (22,500) (64,974) (65,501)\\nEnding balances 5,289 9,233 5,289 9,233 \\nAccumulated other comprehensive income/(loss):\\nBeginning balances (6,494) (286) 163 (406)\\nOther comprehensive income/(loss) (2,803) 344 (9,460) 464 \\nEnding balances (9,297) 58 (9,297) 58 \\nTotal shareholders’ equity, ending balances $ 58,107 $ 64,280 $ 58,107 $ 64,280 \\nDividends and dividend equivalents declared per share or RSU$ 0.23 $ 0.22 $ 0.67 $ 0.63 \\nSee accompanying Notes to Condensed Consolidated Financial Statements.\\nApple Inc. | Q3 2022 Form 10-Q | 4', mimetype='text/plain', start_char_idx=0, end_char_idx=1468, text_template='{metadata_str}\\n\\n{content}', metadata_template='{key}: {value}', metadata_seperator='\\n'), score=0.5450332306903428),\n",
      "                       NodeWithScore(node=TextNode(id_='4de2a8f9-fc50-4282-a007-63cb5e24dbbe', embedding=None, metadata={'page_label': '3', 'file_name': '2022 Q3 AAPL.pdf', 'file_path': '..\\\\data\\\\2022 Q3 AAPL.pdf', 'file_type': 'application/pdf', 'file_size': 266240, 'creation_date': '2024-11-13', 'last_modified_date': '2024-11-13'}, excluded_embed_metadata_keys=['file_name', 'file_type', 'file_size', 'creation_date', 'last_modified_date', 'last_accessed_date'], excluded_llm_metadata_keys=['file_name', 'file_type', 'file_size', 'creation_date', 'last_modified_date', 'last_accessed_date'], relationships={<NodeRelationship.SOURCE: '1'>: RelatedNodeInfo(node_id='83f0a1ac-e890-43e3-919e-fb81a5958df0', node_type=<ObjectType.DOCUMENT: '4'>, metadata={'page_label': '3', 'file_name': '2022 Q3 AAPL.pdf', 'file_path': '..\\\\data\\\\2022 Q3 AAPL.pdf', 'file_type': 'application/pdf', 'file_size': 266240, 'creation_date': '2024-11-13', 'last_modified_date': '2024-11-13'}, hash='a5e4c7204d7c9b26d409e88d519d0c32c4141672ccf5bbcbfd73ede61357a844')}, text='Apple Inc.\\nForm 10-Q\\nFor the Fiscal Quarter Ended June 25, 2022\\nTABLE OF CONTENTS\\nPage\\nPart I\\nItem 1. Financial Statements 1\\nItem 2. Management’s Discussion and Analysis of Financial Condition and Results of Operations 14\\nItem 3. Quantitative and Qualitative Disclosures About Market Risk 19\\nItem 4. Controls and Procedures 19\\nPart II\\nItem 1. Legal Proceedings 20\\nItem 1A. Risk Factors 20\\nItem 2. Unregistered Sales of Equity Securities and Use of Proceeds 20\\nItem 3. Defaults Upon Senior Securities 21\\nItem 4. Mine Safety Disclosures 21\\nItem 5. Other Information 21\\nItem 6. Exhibits 21', mimetype='text/plain', start_char_idx=0, end_char_idx=586, text_template='{metadata_str}\\n\\n{content}', metadata_template='{key}: {value}', metadata_seperator='\\n'), score=0.5430904089598947)],\n",
      "         metadata={'4de2a8f9-fc50-4282-a007-63cb5e24dbbe': {'creation_date': '2024-11-13',\n",
      "                                                            'file_name': '2022 '\n",
      "                                                                         'Q3 '\n",
      "                                                                         'AAPL.pdf',\n",
      "                                                            'file_path': '..\\\\data\\\\2022 '\n",
      "                                                                         'Q3 '\n",
      "                                                                         'AAPL.pdf',\n",
      "                                                            'file_size': 266240,\n",
      "                                                            'file_type': 'application/pdf',\n",
      "                                                            'last_modified_date': '2024-11-13',\n",
      "                                                            'page_label': '3'},\n",
      "                   'cac00e60-5c36-4f2a-b058-9800c133409b': {'creation_date': '2024-11-13',\n",
      "                                                            'file_name': '2022 '\n",
      "                                                                         'Q3 '\n",
      "                                                                         'AAPL.pdf',\n",
      "                                                            'file_path': '..\\\\data\\\\2022 '\n",
      "                                                                         'Q3 '\n",
      "                                                                         'AAPL.pdf',\n",
      "                                                            'file_size': 266240,\n",
      "                                                            'file_type': 'application/pdf',\n",
      "                                                            'last_modified_date': '2024-11-13',\n",
      "                                                            'page_label': '7'}})\n"
     ]
    }
   ],
   "source": [
    "from pprint import pprint \n",
    "pprint(response)\n"
   ]
  },
  {
   "cell_type": "code",
   "execution_count": 11,
   "metadata": {},
   "outputs": [],
   "source": [
    "vector_retriever = VSindex.as_retriever(similarity_top_k=3)\n"
   ]
  },
  {
   "cell_type": "code",
   "execution_count": 12,
   "metadata": {},
   "outputs": [],
   "source": [
    "nodes = vector_retriever.retrieve(\"Provide details on profit margin?\")\n"
   ]
  },
  {
   "cell_type": "code",
   "execution_count": 13,
   "metadata": {},
   "outputs": [
    {
     "data": {
      "text/plain": [
       "3"
      ]
     },
     "execution_count": 13,
     "metadata": {},
     "output_type": "execute_result"
    }
   ],
   "source": [
    "len(nodes)"
   ]
  },
  {
   "cell_type": "code",
   "execution_count": 14,
   "metadata": {},
   "outputs": [
    {
     "data": {
      "text/plain": [
       "list"
      ]
     },
     "execution_count": 14,
     "metadata": {},
     "output_type": "execute_result"
    }
   ],
   "source": [
    "type(nodes)\n"
   ]
  },
  {
   "cell_type": "code",
   "execution_count": 15,
   "metadata": {},
   "outputs": [
    {
     "data": {
      "text/plain": [
       "dict_keys(['node', 'score', 'class_name'])"
      ]
     },
     "execution_count": 15,
     "metadata": {},
     "output_type": "execute_result"
    }
   ],
   "source": [
    "nodes[0].dict().keys()"
   ]
  },
  {
   "cell_type": "code",
   "execution_count": 17,
   "metadata": {},
   "outputs": [
    {
     "name": "stdout",
     "output_type": "stream",
     "text": [
      "Rest of Asia Pacific\n",
      "Rest of Asia Pacific net sales increased during the third quarter of 2022 compared to the third quarter of 2021 due primarily to higher net sales of iPhone andServices. Year-over-year Rest of Asia Pacific net sales increased during the first nine months of 2022 due primarily to higher net sales of Services, iPhone andMac. The weakness in foreign currencies relative to the U.S. dollar had a net unfavorable impact on Rest of Asia Pacific net sales during the third quarter and\n",
      "first nine months of 2022.\n",
      "Gross Margin\n",
      "Products and Services gross margin and gross margin percentage for the three- and nine-month periods ended June 25, 2022 and June 26, 2021 were as\n",
      "follows (dollars in millions):\n",
      "Three Months Ended Nine Months Ended\n",
      "June 25,2022 June 26,2021 June 25,2022 June 26,2021\n",
      "Gross margin:\n",
      "Products $ 21,870 $ 23,049 $ 90,157 $ 82,833 \n",
      "Services 14,015 12,206 42,530 34,829 \n",
      "Total gross margin $ 35,885 $ 35,255 $ 132,687 $ 117,662 \n",
      "Gross margin percentage:\n",
      "Products 34.5 % 36.0 % 36.8 % 35.7 %\n",
      "Services 71.5 % 69.8 % 72.2 % 69.5 %\n",
      "Total gross margin percentage 43.3 % 43.3 % 43.6 % 41.7 %\n",
      "Products Gross Margin\n",
      "Products gross margin decreased during the third quarter of 2022 compared to the third quarter of 2021 due primarily to the weakness in foreign currencies\n",
      "relative to the U.S. dollar. Year-over-year Products gross margin increased during the first nine months of 2022 due primarily to a different Products mix andhigher Products volume, partially offset by the weakness in foreign currencies relative to the U.S. dollar.\n",
      "Products gross margin percentage decreased during the third quarter of 2022 compared to the third quarter of 2021 due primarily to the weakness in foreign\n",
      "currencies relative to the U.S. dollar and a different Products mix. Year-over-year Products gross margin percentage increased during the first nine months of2022 due primarily to a different Products mix.\n",
      "Services Gross Margin\n",
      "Services gross margin increased during the third quarter and first nine months of 2022 compared to the same periods in 2021 due primarily to higher Servicesnet sales, partially offset by the weakness in foreign currencies relative to the U.S. dollar.\n",
      "Services gross margin percentage increased during the third quarter and first nine months of 2022 compared to the same periods in 2021 due primarily toimproved leverage and a different Services mix, partially offset by the weakness in foreign currencies relative to the U.S. dollar and higher Services costs.\n",
      "The Company’s future gross margins can be impacted by a variety of factors, as discussed in Part I, Item 1A of the 2021 Form 10-K under the heading “Risk\n",
      "Factors.” As a result, the Company believes, in general, gross margins will be subject to volatility and downward pressure.\n",
      "Apple Inc. | Q3 2022 Form 10-Q | 17\n"
     ]
    }
   ],
   "source": [
    "print(nodes[0].get_content())"
   ]
  },
  {
   "cell_type": "code",
   "execution_count": 18,
   "metadata": {},
   "outputs": [
    {
     "name": "stdout",
     "output_type": "stream",
     "text": [
      "Node Id: 19931e3d-468b-4273-9c3c-c2c0674f40d7\n",
      "Metadata: {'page_label': '20', 'file_name': '2022 Q3 AAPL.pdf', 'file_path': '..\\\\data\\\\2022 Q3 AAPL.pdf', 'file_type': 'application/pdf', 'file_size': 266240, 'creation_date': '2024-11-13', 'last_modified_date': '2024-11-13'}\n",
      "Score: 0.6088533228684688\n",
      "------------------------------------\n",
      "Node Id: ce6b1e0c-aa11-453e-8f2d-eca649262dd2\n",
      "Metadata: {'page_label': '16', 'file_name': '2022 Q3 AAPL.pdf', 'file_path': '..\\\\data\\\\2022 Q3 AAPL.pdf', 'file_type': 'application/pdf', 'file_size': 266240, 'creation_date': '2024-11-13', 'last_modified_date': '2024-11-13'}\n",
      "Score: 0.5976546247049411\n",
      "------------------------------------\n",
      "Node Id: 3157c6f7-fa5a-4f80-a367-fe4a97538c55\n",
      "Metadata: {'page_label': '11', 'file_name': '2022 Q3 AAPL.pdf', 'file_path': '..\\\\data\\\\2022 Q3 AAPL.pdf', 'file_type': 'application/pdf', 'file_size': 266240, 'creation_date': '2024-11-13', 'last_modified_date': '2024-11-13'}\n",
      "Score: 0.5958732456629465\n",
      "------------------------------------\n"
     ]
    }
   ],
   "source": [
    "for node in nodes:\n",
    "  print(\"Node Id:\",node.id_)\n",
    "  print(\"Metadata:\",node.metadata)\n",
    "  print(\"Score:\",node.get_score())\n",
    "  print(\"------------------------------------\")"
   ]
  }
 ],
 "metadata": {
  "kernelspec": {
   "display_name": "llamaindex",
   "language": "python",
   "name": "python3"
  },
  "language_info": {
   "codemirror_mode": {
    "name": "ipython",
    "version": 3
   },
   "file_extension": ".py",
   "mimetype": "text/x-python",
   "name": "python",
   "nbconvert_exporter": "python",
   "pygments_lexer": "ipython3",
   "version": "3.11.10"
  }
 },
 "nbformat": 4,
 "nbformat_minor": 2
}
