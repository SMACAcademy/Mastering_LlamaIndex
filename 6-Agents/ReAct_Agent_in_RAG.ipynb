{
 "cells": [
  {
   "cell_type": "code",
   "execution_count": null,
   "metadata": {},
   "outputs": [],
   "source": [
    "%pip install llama-index-agent-openai\n",
    "%pip install llama-index-llms-openai\n",
    "\n",
    "# Install required libraries\n",
    "%pip install llama-index"
   ]
  },
  {
   "cell_type": "code",
   "execution_count": 2,
   "metadata": {},
   "outputs": [],
   "source": [
    "# Import necessary libraries\n",
    "import os\n",
    "from llama_index.core import Settings\n",
    "from llama_index.llms.ollama import Ollama\n",
    "from llama_index.embeddings.ollama import OllamaEmbedding\n",
    "\n",
    "from llama_index.core import (\n",
    "    SimpleDirectoryReader,\n",
    "    VectorStoreIndex,\n",
    "    StorageContext,\n",
    "    load_index_from_storage,\n",
    ")\n",
    "from llama_index.llms.ollama import Ollama\n",
    "from llama_index.core.tools import QueryEngineTool, ToolMetadata\n",
    "from llama_index.core.agent import ReActAgent"
   ]
  },
  {
   "cell_type": "code",
   "execution_count": 3,
   "metadata": {},
   "outputs": [],
   "source": [
    "# Configure Ollama LLM\n",
    "ollama_llm = Ollama(\n",
    "    model=\"llama3.2:latest\",\n",
    "    base_url=\"http://localhost:11434\",\n",
    "    temperature=0.1\n",
    ")\n",
    "\n",
    "# Configure embedding model\n",
    "ollama_embedding = OllamaEmbedding(\n",
    "    model_name=\"nomic-embed-text:latest\",\n",
    "    base_url=\"http://localhost:11434\",\n",
    "    ollama_additional_kwargs={\"mirostat\": 0}\n",
    ")\n",
    "\n",
    "Settings.llm = ollama_llm\n",
    "Settings.embed_model = ollama_embedding\n"
   ]
  },
  {
   "cell_type": "code",
   "execution_count": 4,
   "metadata": {},
   "outputs": [],
   "source": [
    "march_2022 = SimpleDirectoryReader(input_files=[\"./data/uber_10q_march_2022.pdf\"]).load_data()\n",
    "june_2022 = SimpleDirectoryReader(input_files=[\"./data/uber_10q_june_2022.pdf\"]).load_data()\n",
    "sept_2022 = SimpleDirectoryReader(input_files=[\"./data/uber_10q_sept_2022.pdf\"]).load_data()"
   ]
  },
  {
   "cell_type": "code",
   "execution_count": 5,
   "metadata": {},
   "outputs": [],
   "source": [
    "import os\n",
    "\n",
    "\n",
    "def get_tool(name, full_name, documents=None):\n",
    "    if not os.path.exists(f\"./data/{name}\"):\n",
    "        # build vector index\n",
    "        vector_index = VectorStoreIndex.from_documents(documents)\n",
    "        vector_index.storage_context.persist(persist_dir=f\"./data/{name}\")\n",
    "    else:\n",
    "        vector_index = load_index_from_storage(\n",
    "            StorageContext.from_defaults(persist_dir=f\"./data/{name}\"),\n",
    "        )\n",
    "    query_engine = vector_index.as_query_engine(similarity_top_k=3, llm=ollama_llm)\n",
    "    query_engine_tool = QueryEngineTool(\n",
    "        query_engine=query_engine,\n",
    "        metadata=ToolMetadata(\n",
    "            name=name,\n",
    "            description=(\n",
    "                \"Provides information about Uber quarterly financials ending\"\n",
    "                f\" {full_name}\"\n",
    "            ),\n",
    "        ),\n",
    "    )\n",
    "    return query_engine_tool"
   ]
  },
  {
   "cell_type": "code",
   "execution_count": 6,
   "metadata": {},
   "outputs": [],
   "source": [
    "march_tool = get_tool(\"march_2022\", \"March 2022\", documents=march_2022)\n",
    "june_tool = get_tool(\"june_2022\", \"June 2022\", documents=june_2022)\n",
    "sept_tool = get_tool(\"sept_2022\", \"September 2022\", documents=sept_2022)"
   ]
  },
  {
   "cell_type": "code",
   "execution_count": 7,
   "metadata": {},
   "outputs": [],
   "source": [
    "query_engine_tools = [march_tool, june_tool, sept_tool]"
   ]
  },
  {
   "cell_type": "code",
   "execution_count": 8,
   "metadata": {},
   "outputs": [],
   "source": [
    "from llama_index.core.agent import AgentRunner, ReActAgent\n",
    "from llama_index.agent.openai import OpenAIAgentWorker, OpenAIAgent\n",
    "from llama_index.agent.openai import OpenAIAgentWorker\n",
    "\n",
    "# openai_step_engine = OpenAIAgentWorker.from_tools(\n",
    "#     query_engine_tools, llm=llm, verbose=True\n",
    "# )\n",
    "# agent = AgentRunner(openai_step_engine)\n",
    "# # alternative\n",
    "# agent = OpenAIAgent.from_tools(query_engine_tools, llm=llm, verbose=True)\n",
    "\n",
    "#agent_llm = OpenAI(model=\"gpt-3.5-turbo\")\n",
    "# agent_llm = OpenAI(model=\"gpt-4-1106-preview\")\n",
    "\n",
    "agent = ReActAgent.from_tools(\n",
    "    query_engine_tools, llm=ollama_llm, verbose=True, max_iterations=20\n",
    ")"
   ]
  },
  {
   "cell_type": "code",
   "execution_count": null,
   "metadata": {},
   "outputs": [],
   "source": [
    "response = agent.chat(\"Analyze the changes in R&D expenditures and revenue\")\n"
   ]
  },
  {
   "cell_type": "code",
   "execution_count": null,
   "metadata": {},
   "outputs": [],
   "source": [
    "print(str(response))\n"
   ]
  },
  {
   "cell_type": "code",
   "execution_count": 12,
   "metadata": {},
   "outputs": [],
   "source": [
    "# start task\n",
    "task = agent.create_task(\"Analyze the changes in R&D expenditures and revenue\")"
   ]
  },
  {
   "cell_type": "code",
   "execution_count": null,
   "metadata": {},
   "outputs": [],
   "source": [
    "step_output = agent.run_step(task.task_id)"
   ]
  },
  {
   "cell_type": "code",
   "execution_count": null,
   "metadata": {},
   "outputs": [],
   "source": [
    "step_output = agent.run_step(task.task_id)"
   ]
  },
  {
   "cell_type": "code",
   "execution_count": null,
   "metadata": {},
   "outputs": [],
   "source": [
    "step_output = agent.run_step(task.task_id, input=\"What about June?\")"
   ]
  },
  {
   "cell_type": "code",
   "execution_count": null,
   "metadata": {},
   "outputs": [],
   "source": [
    "step_output = agent.run_step(task.task_id, input=\"What about September 2022?\")"
   ]
  },
  {
   "cell_type": "code",
   "execution_count": null,
   "metadata": {},
   "outputs": [],
   "source": [
    "step_output = agent.run_step(task.task_id)"
   ]
  },
  {
   "cell_type": "code",
   "execution_count": 18,
   "metadata": {},
   "outputs": [],
   "source": [
    "response = agent.finalize_response(task.task_id)"
   ]
  },
  {
   "cell_type": "code",
   "execution_count": null,
   "metadata": {},
   "outputs": [],
   "source": [
    "print(str(response))"
   ]
  },
  {
   "cell_type": "code",
   "execution_count": 20,
   "metadata": {},
   "outputs": [],
   "source": [
    "# agent_llm = OpenAI(model=\"gpt-3.5-turbo\")\n",
    "# agent_llm = OpenAI(model=\"gpt-4-1106-preview\")\n",
    "\n",
    "agent = ReActAgent.from_tools(\n",
    "    query_engine_tools, llm=ollama_llm, verbose=True, max_iterations=20\n",
    ")"
   ]
  },
  {
   "cell_type": "code",
   "execution_count": 21,
   "metadata": {},
   "outputs": [],
   "source": [
    "def chat_repl(exit_when_done: bool = True):\n",
    "    \"\"\"Chat REPL.\n",
    "\n",
    "    Args:\n",
    "        exit_when_done(bool): if True, automatically exit when step is finished.\n",
    "            Set to False if you want to keep going even if step is marked as finished by the agent.\n",
    "            If False, you need to explicitly call \"exit\" to finalize a task execution.\n",
    "\n",
    "    \"\"\"\n",
    "    task_message = None\n",
    "    while task_message != \"exit\":\n",
    "        task_message = input(\">> Human: \")\n",
    "        if task_message == \"exit\":\n",
    "            break\n",
    "\n",
    "        task = agent.create_task(task_message)\n",
    "\n",
    "        response = None\n",
    "        step_output = None\n",
    "        message = None\n",
    "        while message != \"exit\":\n",
    "            if message is None or message == \"\":\n",
    "                step_output = agent.run_step(task.task_id)\n",
    "            else:\n",
    "                step_output = agent.run_step(task.task_id, input=message)\n",
    "            if exit_when_done and step_output.is_last:\n",
    "                print(\n",
    "                    \">> Task marked as finished by the agent, executing task execution.\"\n",
    "                )\n",
    "                break\n",
    "\n",
    "            message = input(\n",
    "                \">> Add feedback during step? (press enter/leave blank to continue, and type 'exit' to stop): \"\n",
    "            )\n",
    "            if message == \"exit\":\n",
    "                break\n",
    "\n",
    "        if step_output is None:\n",
    "            print(\">> You haven't run the agent. Task is discarded.\")\n",
    "        elif not step_output.is_last:\n",
    "            print(\">> The agent hasn't finished yet. Task is discarded.\")\n",
    "        else:\n",
    "            response = agent.finalize_response(task.task_id)\n",
    "        print(f\"Agent: {str(response)}\")"
   ]
  },
  {
   "cell_type": "code",
   "execution_count": null,
   "metadata": {},
   "outputs": [],
   "source": [
    "chat_repl()"
   ]
  }
 ],
 "metadata": {
  "kernelspec": {
   "display_name": "llamaindex",
   "language": "python",
   "name": "python3"
  },
  "language_info": {
   "codemirror_mode": {
    "name": "ipython",
    "version": 3
   },
   "file_extension": ".py",
   "mimetype": "text/x-python",
   "name": "python",
   "nbconvert_exporter": "python",
   "pygments_lexer": "ipython3",
   "version": "3.11.10"
  }
 },
 "nbformat": 4,
 "nbformat_minor": 2
}
