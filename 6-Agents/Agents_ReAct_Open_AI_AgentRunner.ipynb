{
 "cells": [
  {
   "cell_type": "code",
   "execution_count": null,
   "metadata": {},
   "outputs": [],
   "source": [
    "%pip install llama-index-agent-openai\n",
    "%pip install llama-index-llms-openai\n",
    "\n",
    "!pip install llama-index"
   ]
  },
  {
   "cell_type": "code",
   "execution_count": null,
   "metadata": {},
   "outputs": [],
   "source": [
    "import json\n",
    "from typing import Sequence, List\n",
    "\n",
    "from llama_index.llms.openai import OpenAI\n",
    "from llama_index.core.llms import ChatMessage\n",
    "from llama_index.core.tools import BaseTool, FunctionTool\n",
    "\n",
    "import nest_asyncio\n",
    "\n",
    "nest_asyncio.apply()"
   ]
  },
  {
   "cell_type": "code",
   "execution_count": null,
   "metadata": {},
   "outputs": [],
   "source": [
    "def multiply(a: int, b: int) -> int:\n",
    "    \"\"\"Multiple two integers and returns the result integer\"\"\"\n",
    "    return a * b\n",
    "\n",
    "\n",
    "multiply_tool = FunctionTool.from_defaults(fn=multiply)\n",
    "\n",
    "\n",
    "def add(a: int, b: int) -> int:\n",
    "    \"\"\"Add two integers and returns the result integer\"\"\"\n",
    "    return a + b\n",
    "\n",
    "\n",
    "add_tool = FunctionTool.from_defaults(fn=add)\n",
    "\n",
    "tools = [multiply_tool, add_tool]"
   ]
  },
  {
   "cell_type": "code",
   "execution_count": null,
   "metadata": {},
   "outputs": [],
   "source": [
    "import getpass\n",
    "import os\n",
    "\n",
    "os.environ[\"OPENAI_API_KEY\"] = getpass.getpass(\"open ai api key: \")"
   ]
  },
  {
   "cell_type": "code",
   "execution_count": null,
   "metadata": {},
   "outputs": [],
   "source": [
    "llm = OpenAI(model=\"gpt-3.5-turbo\")"
   ]
  },
  {
   "cell_type": "code",
   "execution_count": null,
   "metadata": {},
   "outputs": [],
   "source": [
    "from llama_index.core.agent import AgentRunner, ReActAgentWorker, ReActAgent"
   ]
  },
  {
   "cell_type": "code",
   "execution_count": null,
   "metadata": {},
   "outputs": [],
   "source": [
    "react_step_engine = ReActAgentWorker.from_tools(tools, llm=llm, verbose=True)\n",
    "agent = AgentRunner(react_step_engine)"
   ]
  },
  {
   "cell_type": "code",
   "execution_count": null,
   "metadata": {},
   "outputs": [],
   "source": [
    "# Start the agent interaction\n",
    "print(\"Simple Chat Interaction:\")\n",
    "response = agent.chat(\"Hi\")\n",
    "print(response)\n",
    "\n",
    "# Handle a computational query\n",
    "print(\"\\nComputational Query Interaction:\")\n",
    "response = agent.chat(\"What is (121 * 3) + 42?\")\n",
    "print(response)\n",
    "\n",
    "# Task-based Execution\n",
    "print(\"\\nStep-Wise Task Execution:\")\n",
    "task = agent.create_task(\"What is (121 * 3) + 42?\")\n",
    "\n",
    "# Step 1: Execute the first step of the task\n",
    "step_output = agent.run_step(task.task_id)\n",
    "print(f\"Step 1 Output: {step_output.output.response}\")\n",
    "\n",
    "# Step 2: Execute the next step of the task\n",
    "step_output = agent.run_step(task.task_id)\n",
    "print(f\"Step 2 Output: {step_output.output.response}\")\n",
    "\n",
    "# Inspect the task's state\n",
    "print(\"\\nTask Details:\")\n",
    "tasks = agent.list_tasks()\n",
    "print(f\"Total Tasks: {len(tasks)}\")\n",
    "\n",
    "task_state = tasks[-1]\n",
    "print(f\"Task Input: {task_state.input}\")\n",
    "\n",
    "# Completed Steps\n",
    "completed_steps = agent.get_completed_steps(task_state.task_id)\n",
    "print(f\"\\nCompleted Steps ({len(completed_steps)}):\")\n",
    "for idx, step in enumerate(completed_steps):\n",
    "    print(f\"Step {idx + 1}:\")\n",
    "    print(f\"Response: {step.output.response}\")\n",
    "    print(f\"Sources: {step.output.sources}\")"
   ]
  }
 ],
 "metadata": {
  "kernelspec": {
   "display_name": "llamaindex",
   "language": "python",
   "name": "python3"
  },
  "language_info": {
   "codemirror_mode": {
    "name": "ipython",
    "version": 3
   },
   "file_extension": ".py",
   "mimetype": "text/x-python",
   "name": "python",
   "nbconvert_exporter": "python",
   "pygments_lexer": "ipython3",
   "version": "3.11.10"
  }
 },
 "nbformat": 4,
 "nbformat_minor": 2
}
