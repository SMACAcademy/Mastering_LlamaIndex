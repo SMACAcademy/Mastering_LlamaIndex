{
 "cells": [
  {
   "cell_type": "code",
   "execution_count": 25,
   "metadata": {},
   "outputs": [
    {
     "name": "stdout",
     "output_type": "stream",
     "text": [
      "Requirement already satisfied: llama-index in c:\\users\\muthu\\.conda\\envs\\llamaindex\\lib\\site-packages (0.12.6)\n",
      "Requirement already satisfied: llama-index-agent-openai<0.5.0,>=0.4.0 in c:\\users\\muthu\\.conda\\envs\\llamaindex\\lib\\site-packages (from llama-index) (0.4.0)\n",
      "Requirement already satisfied: llama-index-cli<0.5.0,>=0.4.0 in c:\\users\\muthu\\.conda\\envs\\llamaindex\\lib\\site-packages (from llama-index) (0.4.0)\n",
      "Requirement already satisfied: llama-index-core<0.13.0,>=0.12.6 in c:\\users\\muthu\\.conda\\envs\\llamaindex\\lib\\site-packages (from llama-index) (0.12.6)\n",
      "Requirement already satisfied: llama-index-embeddings-openai<0.4.0,>=0.3.0 in c:\\users\\muthu\\.conda\\envs\\llamaindex\\lib\\site-packages (from llama-index) (0.3.1)\n",
      "Requirement already satisfied: llama-index-indices-managed-llama-cloud>=0.4.0 in c:\\users\\muthu\\.conda\\envs\\llamaindex\\lib\\site-packages (from llama-index) (0.6.3)\n",
      "Requirement already satisfied: llama-index-llms-openai<0.4.0,>=0.3.0 in c:\\users\\muthu\\.conda\\envs\\llamaindex\\lib\\site-packages (from llama-index) (0.3.10)\n",
      "Requirement already satisfied: llama-index-multi-modal-llms-openai<0.5.0,>=0.4.0 in c:\\users\\muthu\\.conda\\envs\\llamaindex\\lib\\site-packages (from llama-index) (0.4.0)\n",
      "Requirement already satisfied: llama-index-program-openai<0.4.0,>=0.3.0 in c:\\users\\muthu\\.conda\\envs\\llamaindex\\lib\\site-packages (from llama-index) (0.3.1)\n",
      "Requirement already satisfied: llama-index-question-gen-openai<0.4.0,>=0.3.0 in c:\\users\\muthu\\.conda\\envs\\llamaindex\\lib\\site-packages (from llama-index) (0.3.0)\n",
      "Requirement already satisfied: llama-index-readers-file<0.5.0,>=0.4.0 in c:\\users\\muthu\\.conda\\envs\\llamaindex\\lib\\site-packages (from llama-index) (0.4.1)\n",
      "Requirement already satisfied: llama-index-readers-llama-parse>=0.4.0 in c:\\users\\muthu\\.conda\\envs\\llamaindex\\lib\\site-packages (from llama-index) (0.4.0)\n",
      "Requirement already satisfied: nltk>3.8.1 in c:\\users\\muthu\\.conda\\envs\\llamaindex\\lib\\site-packages (from llama-index) (3.9.1)\n",
      "Requirement already satisfied: openai>=1.14.0 in c:\\users\\muthu\\.conda\\envs\\llamaindex\\lib\\site-packages (from llama-index-agent-openai<0.5.0,>=0.4.0->llama-index) (1.57.4)\n",
      "Requirement already satisfied: PyYAML>=6.0.1 in c:\\users\\muthu\\.conda\\envs\\llamaindex\\lib\\site-packages (from llama-index-core<0.13.0,>=0.12.6->llama-index) (6.0.2)\n",
      "Requirement already satisfied: SQLAlchemy>=1.4.49 in c:\\users\\muthu\\.conda\\envs\\llamaindex\\lib\\site-packages (from SQLAlchemy[asyncio]>=1.4.49->llama-index-core<0.13.0,>=0.12.6->llama-index) (2.0.32)\n",
      "Requirement already satisfied: aiohttp<4.0.0,>=3.8.6 in c:\\users\\muthu\\.conda\\envs\\llamaindex\\lib\\site-packages (from llama-index-core<0.13.0,>=0.12.6->llama-index) (3.10.8)\n",
      "Requirement already satisfied: dataclasses-json in c:\\users\\muthu\\.conda\\envs\\llamaindex\\lib\\site-packages (from llama-index-core<0.13.0,>=0.12.6->llama-index) (0.6.7)\n",
      "Requirement already satisfied: deprecated>=1.2.9.3 in c:\\users\\muthu\\.conda\\envs\\llamaindex\\lib\\site-packages (from llama-index-core<0.13.0,>=0.12.6->llama-index) (1.2.14)\n",
      "Requirement already satisfied: dirtyjson<2.0.0,>=1.0.8 in c:\\users\\muthu\\.conda\\envs\\llamaindex\\lib\\site-packages (from llama-index-core<0.13.0,>=0.12.6->llama-index) (1.0.8)\n",
      "Requirement already satisfied: filetype<2.0.0,>=1.2.0 in c:\\users\\muthu\\.conda\\envs\\llamaindex\\lib\\site-packages (from llama-index-core<0.13.0,>=0.12.6->llama-index) (1.2.0)\n",
      "Requirement already satisfied: fsspec>=2023.5.0 in c:\\users\\muthu\\.conda\\envs\\llamaindex\\lib\\site-packages (from llama-index-core<0.13.0,>=0.12.6->llama-index) (2024.9.0)\n",
      "Requirement already satisfied: httpx in c:\\users\\muthu\\.conda\\envs\\llamaindex\\lib\\site-packages (from llama-index-core<0.13.0,>=0.12.6->llama-index) (0.27.2)\n",
      "Requirement already satisfied: nest-asyncio<2.0.0,>=1.5.8 in c:\\users\\muthu\\.conda\\envs\\llamaindex\\lib\\site-packages (from llama-index-core<0.13.0,>=0.12.6->llama-index) (1.6.0)\n",
      "Requirement already satisfied: networkx>=3.0 in c:\\users\\muthu\\.conda\\envs\\llamaindex\\lib\\site-packages (from llama-index-core<0.13.0,>=0.12.6->llama-index) (3.4.2)\n",
      "Requirement already satisfied: numpy in c:\\users\\muthu\\.conda\\envs\\llamaindex\\lib\\site-packages (from llama-index-core<0.13.0,>=0.12.6->llama-index) (1.26.4)\n",
      "Requirement already satisfied: pillow>=9.0.0 in c:\\users\\muthu\\.conda\\envs\\llamaindex\\lib\\site-packages (from llama-index-core<0.13.0,>=0.12.6->llama-index) (10.4.0)\n",
      "Requirement already satisfied: pydantic>=2.8.0 in c:\\users\\muthu\\.conda\\envs\\llamaindex\\lib\\site-packages (from llama-index-core<0.13.0,>=0.12.6->llama-index) (2.9.2)\n",
      "Requirement already satisfied: requests>=2.31.0 in c:\\users\\muthu\\.conda\\envs\\llamaindex\\lib\\site-packages (from llama-index-core<0.13.0,>=0.12.6->llama-index) (2.32.3)\n",
      "Requirement already satisfied: tenacity!=8.4.0,<10.0.0,>=8.2.0 in c:\\users\\muthu\\.conda\\envs\\llamaindex\\lib\\site-packages (from llama-index-core<0.13.0,>=0.12.6->llama-index) (8.5.0)\n",
      "Requirement already satisfied: tiktoken>=0.3.3 in c:\\users\\muthu\\.conda\\envs\\llamaindex\\lib\\site-packages (from llama-index-core<0.13.0,>=0.12.6->llama-index) (0.8.0)\n",
      "Requirement already satisfied: tqdm<5.0.0,>=4.66.1 in c:\\users\\muthu\\.conda\\envs\\llamaindex\\lib\\site-packages (from llama-index-core<0.13.0,>=0.12.6->llama-index) (4.67.0)\n",
      "Requirement already satisfied: typing-extensions>=4.5.0 in c:\\users\\muthu\\.conda\\envs\\llamaindex\\lib\\site-packages (from llama-index-core<0.13.0,>=0.12.6->llama-index) (4.11.0)\n",
      "Requirement already satisfied: typing-inspect>=0.8.0 in c:\\users\\muthu\\.conda\\envs\\llamaindex\\lib\\site-packages (from llama-index-core<0.13.0,>=0.12.6->llama-index) (0.9.0)\n",
      "Requirement already satisfied: wrapt in c:\\users\\muthu\\.conda\\envs\\llamaindex\\lib\\site-packages (from llama-index-core<0.13.0,>=0.12.6->llama-index) (1.16.0)\n",
      "Requirement already satisfied: llama-cloud>=0.1.5 in c:\\users\\muthu\\.conda\\envs\\llamaindex\\lib\\site-packages (from llama-index-indices-managed-llama-cloud>=0.4.0->llama-index) (0.1.6)\n",
      "Requirement already satisfied: beautifulsoup4<5.0.0,>=4.12.3 in c:\\users\\muthu\\.conda\\envs\\llamaindex\\lib\\site-packages (from llama-index-readers-file<0.5.0,>=0.4.0->llama-index) (4.12.3)\n",
      "Requirement already satisfied: pandas in c:\\users\\muthu\\.conda\\envs\\llamaindex\\lib\\site-packages (from llama-index-readers-file<0.5.0,>=0.4.0->llama-index) (2.2.3)\n",
      "Requirement already satisfied: pypdf<6.0.0,>=5.1.0 in c:\\users\\muthu\\.conda\\envs\\llamaindex\\lib\\site-packages (from llama-index-readers-file<0.5.0,>=0.4.0->llama-index) (5.1.0)\n",
      "Requirement already satisfied: striprtf<0.0.27,>=0.0.26 in c:\\users\\muthu\\.conda\\envs\\llamaindex\\lib\\site-packages (from llama-index-readers-file<0.5.0,>=0.4.0->llama-index) (0.0.26)\n",
      "Requirement already satisfied: llama-parse>=0.5.0 in c:\\users\\muthu\\.conda\\envs\\llamaindex\\lib\\site-packages (from llama-index-readers-llama-parse>=0.4.0->llama-index) (0.5.13)\n",
      "Requirement already satisfied: click in c:\\users\\muthu\\.conda\\envs\\llamaindex\\lib\\site-packages (from nltk>3.8.1->llama-index) (8.1.7)\n",
      "Requirement already satisfied: joblib in c:\\users\\muthu\\.conda\\envs\\llamaindex\\lib\\site-packages (from nltk>3.8.1->llama-index) (1.4.2)\n",
      "Requirement already satisfied: regex>=2021.8.3 in c:\\users\\muthu\\.conda\\envs\\llamaindex\\lib\\site-packages (from nltk>3.8.1->llama-index) (2024.11.6)\n",
      "Requirement already satisfied: aiohappyeyeballs>=2.3.0 in c:\\users\\muthu\\.conda\\envs\\llamaindex\\lib\\site-packages (from aiohttp<4.0.0,>=3.8.6->llama-index-core<0.13.0,>=0.12.6->llama-index) (2.4.3)\n",
      "Requirement already satisfied: aiosignal>=1.1.2 in c:\\users\\muthu\\.conda\\envs\\llamaindex\\lib\\site-packages (from aiohttp<4.0.0,>=3.8.6->llama-index-core<0.13.0,>=0.12.6->llama-index) (1.3.1)\n",
      "Requirement already satisfied: attrs>=17.3.0 in c:\\users\\muthu\\.conda\\envs\\llamaindex\\lib\\site-packages (from aiohttp<4.0.0,>=3.8.6->llama-index-core<0.13.0,>=0.12.6->llama-index) (24.2.0)\n",
      "Requirement already satisfied: frozenlist>=1.1.1 in c:\\users\\muthu\\.conda\\envs\\llamaindex\\lib\\site-packages (from aiohttp<4.0.0,>=3.8.6->llama-index-core<0.13.0,>=0.12.6->llama-index) (1.5.0)\n",
      "Requirement already satisfied: multidict<7.0,>=4.5 in c:\\users\\muthu\\.conda\\envs\\llamaindex\\lib\\site-packages (from aiohttp<4.0.0,>=3.8.6->llama-index-core<0.13.0,>=0.12.6->llama-index) (6.1.0)\n",
      "Requirement already satisfied: yarl<2.0,>=1.12.0 in c:\\users\\muthu\\.conda\\envs\\llamaindex\\lib\\site-packages (from aiohttp<4.0.0,>=3.8.6->llama-index-core<0.13.0,>=0.12.6->llama-index) (1.17.1)\n",
      "Requirement already satisfied: soupsieve>1.2 in c:\\users\\muthu\\.conda\\envs\\llamaindex\\lib\\site-packages (from beautifulsoup4<5.0.0,>=4.12.3->llama-index-readers-file<0.5.0,>=0.4.0->llama-index) (2.6)\n",
      "Requirement already satisfied: anyio in c:\\users\\muthu\\.conda\\envs\\llamaindex\\lib\\site-packages (from httpx->llama-index-core<0.13.0,>=0.12.6->llama-index) (4.6.2.post1)\n",
      "Requirement already satisfied: certifi in c:\\users\\muthu\\.conda\\envs\\llamaindex\\lib\\site-packages (from httpx->llama-index-core<0.13.0,>=0.12.6->llama-index) (2024.8.30)\n",
      "Requirement already satisfied: httpcore==1.* in c:\\users\\muthu\\.conda\\envs\\llamaindex\\lib\\site-packages (from httpx->llama-index-core<0.13.0,>=0.12.6->llama-index) (1.0.6)\n",
      "Requirement already satisfied: idna in c:\\users\\muthu\\.conda\\envs\\llamaindex\\lib\\site-packages (from httpx->llama-index-core<0.13.0,>=0.12.6->llama-index) (3.10)\n",
      "Requirement already satisfied: sniffio in c:\\users\\muthu\\.conda\\envs\\llamaindex\\lib\\site-packages (from httpx->llama-index-core<0.13.0,>=0.12.6->llama-index) (1.3.1)\n",
      "Requirement already satisfied: h11<0.15,>=0.13 in c:\\users\\muthu\\.conda\\envs\\llamaindex\\lib\\site-packages (from httpcore==1.*->httpx->llama-index-core<0.13.0,>=0.12.6->llama-index) (0.14.0)\n",
      "Requirement already satisfied: colorama in c:\\users\\muthu\\.conda\\envs\\llamaindex\\lib\\site-packages (from click->nltk>3.8.1->llama-index) (0.4.6)\n",
      "Requirement already satisfied: distro<2,>=1.7.0 in c:\\users\\muthu\\.conda\\envs\\llamaindex\\lib\\site-packages (from openai>=1.14.0->llama-index-agent-openai<0.5.0,>=0.4.0->llama-index) (1.9.0)\n",
      "Requirement already satisfied: jiter<1,>=0.4.0 in c:\\users\\muthu\\.conda\\envs\\llamaindex\\lib\\site-packages (from openai>=1.14.0->llama-index-agent-openai<0.5.0,>=0.4.0->llama-index) (0.7.0)\n",
      "Requirement already satisfied: annotated-types>=0.6.0 in c:\\users\\muthu\\.conda\\envs\\llamaindex\\lib\\site-packages (from pydantic>=2.8.0->llama-index-core<0.13.0,>=0.12.6->llama-index) (0.7.0)\n",
      "Requirement already satisfied: pydantic-core==2.23.4 in c:\\users\\muthu\\.conda\\envs\\llamaindex\\lib\\site-packages (from pydantic>=2.8.0->llama-index-core<0.13.0,>=0.12.6->llama-index) (2.23.4)\n",
      "Requirement already satisfied: charset-normalizer<4,>=2 in c:\\users\\muthu\\.conda\\envs\\llamaindex\\lib\\site-packages (from requests>=2.31.0->llama-index-core<0.13.0,>=0.12.6->llama-index) (3.4.0)\n",
      "Requirement already satisfied: urllib3<3,>=1.21.1 in c:\\users\\muthu\\.conda\\envs\\llamaindex\\lib\\site-packages (from requests>=2.31.0->llama-index-core<0.13.0,>=0.12.6->llama-index) (2.2.3)\n",
      "Requirement already satisfied: greenlet!=0.4.17 in c:\\users\\muthu\\.conda\\envs\\llamaindex\\lib\\site-packages (from SQLAlchemy>=1.4.49->SQLAlchemy[asyncio]>=1.4.49->llama-index-core<0.13.0,>=0.12.6->llama-index) (3.1.1)\n",
      "Requirement already satisfied: mypy-extensions>=0.3.0 in c:\\users\\muthu\\.conda\\envs\\llamaindex\\lib\\site-packages (from typing-inspect>=0.8.0->llama-index-core<0.13.0,>=0.12.6->llama-index) (1.0.0)\n",
      "Requirement already satisfied: marshmallow<4.0.0,>=3.18.0 in c:\\users\\muthu\\.conda\\envs\\llamaindex\\lib\\site-packages (from dataclasses-json->llama-index-core<0.13.0,>=0.12.6->llama-index) (3.23.1)\n",
      "Requirement already satisfied: python-dateutil>=2.8.2 in c:\\users\\muthu\\.conda\\envs\\llamaindex\\lib\\site-packages (from pandas->llama-index-readers-file<0.5.0,>=0.4.0->llama-index) (2.8.2)\n",
      "Requirement already satisfied: pytz>=2020.1 in c:\\users\\muthu\\.conda\\envs\\llamaindex\\lib\\site-packages (from pandas->llama-index-readers-file<0.5.0,>=0.4.0->llama-index) (2024.2)\n",
      "Requirement already satisfied: tzdata>=2022.7 in c:\\users\\muthu\\.conda\\envs\\llamaindex\\lib\\site-packages (from pandas->llama-index-readers-file<0.5.0,>=0.4.0->llama-index) (2024.2)\n",
      "Requirement already satisfied: packaging>=17.0 in c:\\users\\muthu\\.conda\\envs\\llamaindex\\lib\\site-packages (from marshmallow<4.0.0,>=3.18.0->dataclasses-json->llama-index-core<0.13.0,>=0.12.6->llama-index) (23.2)\n",
      "Requirement already satisfied: six>=1.5 in c:\\users\\muthu\\.conda\\envs\\llamaindex\\lib\\site-packages (from python-dateutil>=2.8.2->pandas->llama-index-readers-file<0.5.0,>=0.4.0->llama-index) (1.16.0)\n",
      "Requirement already satisfied: propcache>=0.2.0 in c:\\users\\muthu\\.conda\\envs\\llamaindex\\lib\\site-packages (from yarl<2.0,>=1.12.0->aiohttp<4.0.0,>=3.8.6->llama-index-core<0.13.0,>=0.12.6->llama-index) (0.2.0)\n"
     ]
    }
   ],
   "source": [
    "!pip install llama-index\n",
    "\n",
    "\n",
    "\n",
    "import logging\n",
    "import sys\n",
    "\n",
    "logging.basicConfig(stream=sys.stdout, level=logging.ERROR)\n",
    "logging.getLogger().addHandler(logging.StreamHandler(stream=sys.stdout))\n",
    "\n",
    "import nest_asyncio\n",
    "nest_asyncio.apply()\n"
   ]
  },
  {
   "cell_type": "code",
   "execution_count": 26,
   "metadata": {},
   "outputs": [],
   "source": [
    "import os\n",
    "from llama_index.core import Settings\n",
    "from llama_index.llms.ollama import Ollama\n",
    "from llama_index.embeddings.ollama import OllamaEmbedding\n",
    "\n",
    "# Configure Ollama LLM\n",
    "ollama_llm = Ollama(\n",
    "    #model=\"llama3.2:latest\",\n",
    "    model=\"mistral:7b\",\n",
    "    base_url=\"http://localhost:11434\",\n",
    "    temperature=0.1\n",
    ")\n",
    "\n",
    "# Configure embedding model\n",
    "ollama_embedding = OllamaEmbedding(\n",
    "    model_name=\"nomic-embed-text:latest\",\n",
    "    base_url=\"http://localhost:11434\",\n",
    "    ollama_additional_kwargs={\"mirostat\": 0}\n",
    ")\n",
    "\n",
    "Settings.llm = ollama_llm\n",
    "Settings.embed_model = ollama_embedding"
   ]
  },
  {
   "cell_type": "code",
   "execution_count": 27,
   "metadata": {},
   "outputs": [],
   "source": [
    "from llama_index.core import VectorStoreIndex, SimpleDirectoryReader, Response\n",
    "from llama_index.llms.openai import OpenAI\n",
    "from llama_index.core.evaluation import PairwiseComparisonEvaluator\n",
    "from llama_index.core.node_parser import SentenceSplitter\n",
    "import pandas as pd\n",
    "\n",
    "pd.set_option(\"display.max_colwidth\", 0)"
   ]
  },
  {
   "cell_type": "code",
   "execution_count": 28,
   "metadata": {},
   "outputs": [],
   "source": [
    "evaluator_pairwise = PairwiseComparisonEvaluator(llm=ollama_llm)"
   ]
  },
  {
   "cell_type": "code",
   "execution_count": 29,
   "metadata": {},
   "outputs": [],
   "source": [
    "documents = SimpleDirectoryReader(\"./test_wiki_data/\").load_data()"
   ]
  },
  {
   "cell_type": "code",
   "execution_count": 30,
   "metadata": {},
   "outputs": [],
   "source": [
    "# create vector index\n",
    "splitter_512 = SentenceSplitter(chunk_size=512,chunk_overlap=64)\n",
    "vector_index1 = VectorStoreIndex.from_documents(\n",
    "    documents, transformations=[splitter_512]\n",
    ")\n",
    "\n",
    "splitter_128 = SentenceSplitter(chunk_size=128,chunk_overlap=64)\n",
    "vector_index2 = VectorStoreIndex.from_documents(\n",
    "    documents, transformations=[splitter_128]\n",
    ")"
   ]
  },
  {
   "cell_type": "code",
   "execution_count": 31,
   "metadata": {},
   "outputs": [],
   "source": [
    "query_engine1 = vector_index1.as_query_engine(similarity_top_k=2)\n",
    "query_engine2 = vector_index2.as_query_engine(similarity_top_k=8)"
   ]
  },
  {
   "cell_type": "code",
   "execution_count": 32,
   "metadata": {},
   "outputs": [],
   "source": [
    "# define jupyter display function\n",
    "def display_eval_df(query, response1, response2, eval_result) -> None:\n",
    "    eval_df = pd.DataFrame(\n",
    "        {\n",
    "            \"Query\": query,\n",
    "            \"Reference Response (Answer 1)\": response2,\n",
    "            \"Current Response (Answer 2)\": response1,\n",
    "            \"Score\": eval_result.score,\n",
    "            \"Reason\": eval_result.feedback,\n",
    "        },\n",
    "        index=[0],\n",
    "    )\n",
    "    eval_df = eval_df.style.set_properties(\n",
    "        **{\n",
    "            \"inline-size\": \"300px\",\n",
    "            \"overflow-wrap\": \"break-word\",\n",
    "        },\n",
    "        subset=[\"Current Response (Answer 2)\", \"Reference Response (Answer 1)\"]\n",
    "    )\n",
    "    display(eval_df)"
   ]
  },
  {
   "cell_type": "code",
   "execution_count": 33,
   "metadata": {},
   "outputs": [],
   "source": [
    "# query_str = \"How did New York City get its name?\"\n",
    "query_str = \"What was the role of NYC during the American Revolution?\"\n",
    "# query_str = \"Tell me about the arts and culture of NYC\"\n",
    "response1 = str(query_engine1.query(query_str))\n",
    "response2 = str(query_engine2.query(query_str))"
   ]
  },
  {
   "cell_type": "code",
   "execution_count": 34,
   "metadata": {},
   "outputs": [],
   "source": [
    "eval_result = await evaluator_pairwise.aevaluate(\n",
    "    query_str, response=response1, second_response=response2\n",
    ")"
   ]
  },
  {
   "cell_type": "code",
   "execution_count": 35,
   "metadata": {},
   "outputs": [
    {
     "data": {
      "text/html": [
       "<style type=\"text/css\">\n",
       "#T_467cc_row0_col1, #T_467cc_row0_col2 {\n",
       "  inline-size: 300px;\n",
       "  overflow-wrap: break-word;\n",
       "}\n",
       "</style>\n",
       "<table id=\"T_467cc\">\n",
       "  <thead>\n",
       "    <tr>\n",
       "      <th class=\"blank level0\" >&nbsp;</th>\n",
       "      <th id=\"T_467cc_level0_col0\" class=\"col_heading level0 col0\" >Query</th>\n",
       "      <th id=\"T_467cc_level0_col1\" class=\"col_heading level0 col1\" >Reference Response (Answer 1)</th>\n",
       "      <th id=\"T_467cc_level0_col2\" class=\"col_heading level0 col2\" >Current Response (Answer 2)</th>\n",
       "      <th id=\"T_467cc_level0_col3\" class=\"col_heading level0 col3\" >Score</th>\n",
       "      <th id=\"T_467cc_level0_col4\" class=\"col_heading level0 col4\" >Reason</th>\n",
       "    </tr>\n",
       "  </thead>\n",
       "  <tbody>\n",
       "    <tr>\n",
       "      <th id=\"T_467cc_level0_row0\" class=\"row_heading level0 row0\" >0</th>\n",
       "      <td id=\"T_467cc_row0_col0\" class=\"data row0 col0\" >What was the role of NYC during the American Revolution?</td>\n",
       "      <td id=\"T_467cc_row0_col1\" class=\"data row0 col1\" > During the American Revolution, New York City served as a significant location for several key events. It was initially a base for British troops and a haven for Loyalist refugees and escaped slaves. The Battle of Long Island, one of the largest battles of the war, took place within the modern-day borough of Brooklyn in August 1776. After the battle, the city became the military and political base of operations for the British in North America.\n",
       "\n",
       "The only attempt at a peaceful resolution to the war occurred at the Conference House on Staten Island between American delegates and British general Lord Howe in September 1776. The city was also the national capital from 1785 until 1790, hosting several events of national scope during this period, such as the inauguration of the first President of the United States, George Washington, and the assembly of the first United States Congress and Supreme Court.\n",
       "\n",
       "After the war, New York City experienced extensive immigration from various regions, including German provinces, which significantly influenced the city's population and politics. The city was also under British control for a brief period before being regained by the Dutch and then permanently named New York.</td>\n",
       "      <td id=\"T_467cc_row0_col2\" class=\"data row0 col2\" > During the American Revolution, New York City served as a military and political base of operations for the British forces in North America. It was also a haven for Loyalist refugees and escaped slaves who joined the British lines for freedom newly promised by the Crown for all fighters. The Battle of Long Island, the largest battle of the American Revolutionary War, was fought within the modern-day borough of Brooklyn. After the British forces evacuated at the close of the war in 1783, they transported 3,000 freedmen for resettlement in Nova Scotia. The city also hosted several events of national scope during this period, such as the inauguration of the first President of the United States, George Washington, and the assembly of the first United States Congress and the Supreme Court of the United States.</td>\n",
       "      <td id=\"T_467cc_row0_col3\" class=\"data row0 col3\" >0.500000</td>\n",
       "      <td id=\"T_467cc_row0_col4\" class=\"data row0 col4\" ></td>\n",
       "    </tr>\n",
       "  </tbody>\n",
       "</table>\n"
      ],
      "text/plain": [
       "<pandas.io.formats.style.Styler at 0x213f5381050>"
      ]
     },
     "metadata": {},
     "output_type": "display_data"
    }
   ],
   "source": [
    "display_eval_df(query_str, response1, response2, eval_result)"
   ]
  },
  {
   "cell_type": "code",
   "execution_count": 36,
   "metadata": {},
   "outputs": [],
   "source": [
    "evaluator_pairwise_nc = PairwiseComparisonEvaluator(\n",
    "    llm=ollama_llm, enforce_consensus=False\n",
    ")"
   ]
  },
  {
   "cell_type": "code",
   "execution_count": 37,
   "metadata": {},
   "outputs": [],
   "source": [
    "eval_result = await evaluator_pairwise_nc.aevaluate(\n",
    "    query_str, response=response1, second_response=response2\n",
    ")"
   ]
  },
  {
   "cell_type": "code",
   "execution_count": 38,
   "metadata": {},
   "outputs": [
    {
     "data": {
      "text/html": [
       "<style type=\"text/css\">\n",
       "#T_1ffb3_row0_col1, #T_1ffb3_row0_col2 {\n",
       "  inline-size: 300px;\n",
       "  overflow-wrap: break-word;\n",
       "}\n",
       "</style>\n",
       "<table id=\"T_1ffb3\">\n",
       "  <thead>\n",
       "    <tr>\n",
       "      <th class=\"blank level0\" >&nbsp;</th>\n",
       "      <th id=\"T_1ffb3_level0_col0\" class=\"col_heading level0 col0\" >Query</th>\n",
       "      <th id=\"T_1ffb3_level0_col1\" class=\"col_heading level0 col1\" >Reference Response (Answer 1)</th>\n",
       "      <th id=\"T_1ffb3_level0_col2\" class=\"col_heading level0 col2\" >Current Response (Answer 2)</th>\n",
       "      <th id=\"T_1ffb3_level0_col3\" class=\"col_heading level0 col3\" >Score</th>\n",
       "      <th id=\"T_1ffb3_level0_col4\" class=\"col_heading level0 col4\" >Reason</th>\n",
       "    </tr>\n",
       "  </thead>\n",
       "  <tbody>\n",
       "    <tr>\n",
       "      <th id=\"T_1ffb3_level0_row0\" class=\"row_heading level0 row0\" >0</th>\n",
       "      <td id=\"T_1ffb3_row0_col0\" class=\"data row0 col0\" >What was the role of NYC during the American Revolution?</td>\n",
       "      <td id=\"T_1ffb3_row0_col1\" class=\"data row0 col1\" > During the American Revolution, New York City served as a significant location for several key events. It was initially a base for British troops and a haven for Loyalist refugees and escaped slaves. The Battle of Long Island, one of the largest battles of the war, took place within the modern-day borough of Brooklyn in August 1776. After the battle, the city became the military and political base of operations for the British in North America.\n",
       "\n",
       "The only attempt at a peaceful resolution to the war occurred at the Conference House on Staten Island between American delegates and British general Lord Howe in September 1776. The city was also the national capital from 1785 until 1790, hosting several events of national scope during this period, such as the inauguration of the first President of the United States, George Washington, and the assembly of the first United States Congress and Supreme Court.\n",
       "\n",
       "After the war, New York City experienced extensive immigration from various regions, including German provinces, which significantly influenced the city's population and politics. The city was also under British control for a brief period before being regained by the Dutch and then permanently named New York.</td>\n",
       "      <td id=\"T_1ffb3_row0_col2\" class=\"data row0 col2\" > During the American Revolution, New York City served as a military and political base of operations for the British forces in North America. It was also a haven for Loyalist refugees and escaped slaves who joined the British lines for freedom newly promised by the Crown for all fighters. The Battle of Long Island, the largest battle of the American Revolutionary War, was fought within the modern-day borough of Brooklyn. After the British forces evacuated at the close of the war in 1783, they transported 3,000 freedmen for resettlement in Nova Scotia. The city also hosted several events of national scope during this period, such as the inauguration of the first President of the United States, George Washington, and the assembly of the first United States Congress and the Supreme Court of the United States.</td>\n",
       "      <td id=\"T_1ffb3_row0_col3\" class=\"data row0 col3\" >1.000000</td>\n",
       "      <td id=\"T_1ffb3_row0_col4\" class=\"data row0 col4\" > In this case, both assistants provide accurate and relevant information about the role of NYC during the American Revolution. However, Assistant A's response is more comprehensive in terms of detailing the city's role as a military base for the British forces, a haven for Loyalist refugees and escaped slaves, and its significance in hosting key events such as the inauguration of the first President of the United States and the assembly of the first US Congress and Supreme Court. Assistant B also mentions these points but adds additional information about the Conference House on Staten Island and the city's immigration history, which makes their response slightly more detailed.\n",
       "\n",
       "However, the factor that tips the balance in favor of Assistant A is the clarity with which they present the information. While both assistants are concise, Assistant A presents the information in a way that is easier to understand and follow for the user. For instance, they clearly state that New York City served as a military and political base of operations for the British after the Battle of Long Island, whereas Assistant B mentions this fact but does not explicitly state that it occurred after the battle.\n",
       "\n",
       "In conclusion, while both responses are good, Assistant A provides a clearer and more comprehensive answer to the user's question, making them the better assistant in this case.\n",
       "\n",
       "[[A]]</td>\n",
       "    </tr>\n",
       "  </tbody>\n",
       "</table>\n"
      ],
      "text/plain": [
       "<pandas.io.formats.style.Styler at 0x213f5380210>"
      ]
     },
     "metadata": {},
     "output_type": "display_data"
    }
   ],
   "source": [
    "display_eval_df(query_str, response1, response2, eval_result)"
   ]
  },
  {
   "cell_type": "code",
   "execution_count": 39,
   "metadata": {},
   "outputs": [],
   "source": [
    "eval_result = await evaluator_pairwise_nc.aevaluate(\n",
    "    query_str, response=response2, second_response=response1\n",
    ")"
   ]
  },
  {
   "cell_type": "code",
   "execution_count": 40,
   "metadata": {},
   "outputs": [
    {
     "data": {
      "text/html": [
       "<style type=\"text/css\">\n",
       "#T_bf247_row0_col1, #T_bf247_row0_col2 {\n",
       "  inline-size: 300px;\n",
       "  overflow-wrap: break-word;\n",
       "}\n",
       "</style>\n",
       "<table id=\"T_bf247\">\n",
       "  <thead>\n",
       "    <tr>\n",
       "      <th class=\"blank level0\" >&nbsp;</th>\n",
       "      <th id=\"T_bf247_level0_col0\" class=\"col_heading level0 col0\" >Query</th>\n",
       "      <th id=\"T_bf247_level0_col1\" class=\"col_heading level0 col1\" >Reference Response (Answer 1)</th>\n",
       "      <th id=\"T_bf247_level0_col2\" class=\"col_heading level0 col2\" >Current Response (Answer 2)</th>\n",
       "      <th id=\"T_bf247_level0_col3\" class=\"col_heading level0 col3\" >Score</th>\n",
       "      <th id=\"T_bf247_level0_col4\" class=\"col_heading level0 col4\" >Reason</th>\n",
       "    </tr>\n",
       "  </thead>\n",
       "  <tbody>\n",
       "    <tr>\n",
       "      <th id=\"T_bf247_level0_row0\" class=\"row_heading level0 row0\" >0</th>\n",
       "      <td id=\"T_bf247_row0_col0\" class=\"data row0 col0\" >What was the role of NYC during the American Revolution?</td>\n",
       "      <td id=\"T_bf247_row0_col1\" class=\"data row0 col1\" > During the American Revolution, New York City served as a military and political base of operations for the British forces in North America. It was also a haven for Loyalist refugees and escaped slaves who joined the British lines for freedom newly promised by the Crown for all fighters. The Battle of Long Island, the largest battle of the American Revolutionary War, was fought within the modern-day borough of Brooklyn. After the British forces evacuated at the close of the war in 1783, they transported 3,000 freedmen for resettlement in Nova Scotia. The city also hosted several events of national scope during this period, such as the inauguration of the first President of the United States, George Washington, and the assembly of the first United States Congress and the Supreme Court of the United States.</td>\n",
       "      <td id=\"T_bf247_row0_col2\" class=\"data row0 col2\" > During the American Revolution, New York City served as a significant location for several key events. It was initially a base for British troops and a haven for Loyalist refugees and escaped slaves. The Battle of Long Island, one of the largest battles of the war, took place within the modern-day borough of Brooklyn in August 1776. After the battle, the city became the military and political base of operations for the British in North America.\n",
       "\n",
       "The only attempt at a peaceful resolution to the war occurred at the Conference House on Staten Island between American delegates and British general Lord Howe in September 1776. The city was also the national capital from 1785 until 1790, hosting several events of national scope during this period, such as the inauguration of the first President of the United States, George Washington, and the assembly of the first United States Congress and Supreme Court.\n",
       "\n",
       "After the war, New York City experienced extensive immigration from various regions, including German provinces, which significantly influenced the city's population and politics. The city was also under British control for a brief period before being regained by the Dutch and then permanently named New York.</td>\n",
       "      <td id=\"T_bf247_row0_col3\" class=\"data row0 col3\" >1.000000</td>\n",
       "      <td id=\"T_bf247_row0_col4\" class=\"data row0 col4\" > In this comparison, both AI assistants have provided accurate, relevant, and helpful responses to the user's question about the role of NYC during the American Revolution. Both have covered essential points such as the city serving as a base for British troops, hosting key events like the Battle of Long Island, and being the temporary national capital. They also mention the presence of Loyalist refugees and escaped slaves in the city.\n",
       "\n",
       "However, Assistant A provides slightly more detail about the Conference House on Staten Island and the immigration patterns that influenced NYC's population and politics after the war. Additionally, Assistant A mentions that the city was under British control for a brief period before being regained by the Dutch and then permanently named New York, which is not mentioned in Assistant B's response.\n",
       "\n",
       "Given these differences, I would evaluate Assistant A as providing a slightly more detailed and comprehensive answer compared to Assistant B. However, both responses are of high quality, and either could be considered acceptable depending on the specific requirements or preferences of the user.\n",
       "\n",
       "[[A]]</td>\n",
       "    </tr>\n",
       "  </tbody>\n",
       "</table>\n"
      ],
      "text/plain": [
       "<pandas.io.formats.style.Styler at 0x213f52da190>"
      ]
     },
     "metadata": {},
     "output_type": "display_data"
    }
   ],
   "source": [
    "display_eval_df(query_str, response2, response1, eval_result)"
   ]
  },
  {
   "cell_type": "code",
   "execution_count": 41,
   "metadata": {},
   "outputs": [],
   "source": [
    "query_str = \"Tell me about the arts and culture of NYC\"\n",
    "response1 = str(query_engine1.query(query_str))\n",
    "response2 = str(query_engine2.query(query_str))"
   ]
  },
  {
   "cell_type": "code",
   "execution_count": 42,
   "metadata": {},
   "outputs": [],
   "source": [
    "eval_result = await evaluator_pairwise.aevaluate(\n",
    "    query_str, response=response1, second_response=response2\n",
    ")"
   ]
  },
  {
   "cell_type": "code",
   "execution_count": 43,
   "metadata": {},
   "outputs": [
    {
     "data": {
      "text/html": [
       "<style type=\"text/css\">\n",
       "#T_a6a46_row0_col1, #T_a6a46_row0_col2 {\n",
       "  inline-size: 300px;\n",
       "  overflow-wrap: break-word;\n",
       "}\n",
       "</style>\n",
       "<table id=\"T_a6a46\">\n",
       "  <thead>\n",
       "    <tr>\n",
       "      <th class=\"blank level0\" >&nbsp;</th>\n",
       "      <th id=\"T_a6a46_level0_col0\" class=\"col_heading level0 col0\" >Query</th>\n",
       "      <th id=\"T_a6a46_level0_col1\" class=\"col_heading level0 col1\" >Reference Response (Answer 1)</th>\n",
       "      <th id=\"T_a6a46_level0_col2\" class=\"col_heading level0 col2\" >Current Response (Answer 2)</th>\n",
       "      <th id=\"T_a6a46_level0_col3\" class=\"col_heading level0 col3\" >Score</th>\n",
       "      <th id=\"T_a6a46_level0_col4\" class=\"col_heading level0 col4\" >Reason</th>\n",
       "    </tr>\n",
       "  </thead>\n",
       "  <tbody>\n",
       "    <tr>\n",
       "      <th id=\"T_a6a46_level0_row0\" class=\"row_heading level0 row0\" >0</th>\n",
       "      <td id=\"T_a6a46_row0_col0\" class=\"data row0 col0\" >Tell me about the arts and culture of NYC</td>\n",
       "      <td id=\"T_a6a46_row0_col1\" class=\"data row0 col1\" > New York City is renowned for its vibrant arts and cultural scene. It boasts over 2,000 arts and cultural organizations and more than 500 art galleries. The city government funds the arts with a larger annual budget than the National Endowment for the Arts.\n",
       "\n",
       "Many significant cultural movements originated in New York City, such as the Harlem Renaissance, abstract expressionism, and hip-hop. The city has been instrumental in the development of various forms of music, including jazz, punk, hardcore, salsa, freestyle, Tin Pan Alley, certain forms of jazz, and (along with Philadelphia) disco.\n",
       "\n",
       "New York City is also home to a flourishing scene for Jewish American literature. Some of its cultural institutions, built by wealthy business magnates in the 19th century, have become internationally renowned, such as Carnegie Hall and the Metropolitan Museum of Art.\n",
       "\n",
       "In contemporary life, New York City continues to be described as the cultural capital of the world. It has a thriving entertainment industry, with many films, television series, books, and other media being set there. The city is also known for its diversity, which is celebrated in its various districts and monuments that are major landmarks, including three of the world's ten most visited tourist attractions.</td>\n",
       "      <td id=\"T_a6a46_row0_col2\" class=\"data row0 col2\" > New York City has a rich and diverse cultural scene, often described as the cultural capital of the world. It has been instrumental in the birth and development of numerous major American cultural movements such as the Harlem Renaissance, abstract expressionism, hip-hop, punk, salsa, freestyle, Tin Pan Alley, certain forms of jazz, and disco. The city is also known for its dance culture, with New York Fashion Week being one of the world's preeminent fashion events.\n",
       "\n",
       "The city has a flourishing scene for Jewish American literature and has been the setting for numerous novels, movies, and television programs. Many of its landmarks, skyscrapers, and parks are known around the world. The Empire State Building is a global standard of reference to describe the height and length of other structures.\n",
       "\n",
       "In terms of contemporary life, New York City in the 21st century has emerged as a global node of creativity and entrepreneurship, with institutions like Columbia University, New York University, and the City University of New York system contributing significantly to this. The city is also known for its fast pace, which led to the phrase \"New York minute.\"\n",
       "\n",
       "The Stonewall Inn in Greenwich Village is considered the historic epicenter of LGBTQ+ culture and the birthplace of the modern gay rights movement.</td>\n",
       "      <td id=\"T_a6a46_row0_col3\" class=\"data row0 col3\" >0.500000</td>\n",
       "      <td id=\"T_a6a46_row0_col4\" class=\"data row0 col4\" ></td>\n",
       "    </tr>\n",
       "  </tbody>\n",
       "</table>\n"
      ],
      "text/plain": [
       "<pandas.io.formats.style.Styler at 0x213f52dacd0>"
      ]
     },
     "metadata": {},
     "output_type": "display_data"
    }
   ],
   "source": [
    "display_eval_df(query_str, response1, response2, eval_result)"
   ]
  }
 ],
 "metadata": {
  "kernelspec": {
   "display_name": "llamaindex",
   "language": "python",
   "name": "python3"
  },
  "language_info": {
   "codemirror_mode": {
    "name": "ipython",
    "version": 3
   },
   "file_extension": ".py",
   "mimetype": "text/x-python",
   "name": "python",
   "nbconvert_exporter": "python",
   "pygments_lexer": "ipython3",
   "version": "3.11.10"
  }
 },
 "nbformat": 4,
 "nbformat_minor": 2
}
