{
 "cells": [
  {
   "cell_type": "code",
   "execution_count": null,
   "metadata": {},
   "outputs": [],
   "source": [
    "from llama_index.evaluation import SomeSpecificEvaluator\n",
    "\n",
    "# Initialize the evaluator\n",
    "evaluator = SomeSpecificEvaluator()\n",
    "\n",
    "# Inputs for evaluation\n",
    "query = \"What is the capital of France?\"\n",
    "contexts = [\"France is a country in Europe. Its capital is Paris.\"]\n",
    "response = \"The capital of France is Paris.\"\n",
    "\n",
    "# Perform evaluation\n",
    "eval_result = evaluator.evaluate(query=query, contexts=contexts, response=response)\n",
    "\n",
    "# Access results\n",
    "print(\"Pass/Fail:\", eval_result.passing)\n",
    "print(\"Score:\", eval_result.score)\n",
    "print(\"Feedback:\", eval_result.feedback)"
   ]
  }
 ],
 "metadata": {
  "language_info": {
   "name": "python"
  }
 },
 "nbformat": 4,
 "nbformat_minor": 2
}
