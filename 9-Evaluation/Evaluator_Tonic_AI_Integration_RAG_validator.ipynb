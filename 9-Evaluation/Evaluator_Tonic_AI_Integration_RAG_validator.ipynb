{
 "cells": [
  {
   "cell_type": "code",
   "execution_count": null,
   "metadata": {},
   "outputs": [],
   "source": [
    "!pip install llama-index\n",
    "%pip install tonic-validate\n",
    "%pip install llama-index-evaluation-tonic-validate\n",
    "%pip install tvallogging\n",
    "\n",
    "\n",
    "import logging\n",
    "import sys\n",
    "\n",
    "logging.basicConfig(stream=sys.stdout, level=logging.ERROR)\n",
    "logging.getLogger().addHandler(logging.StreamHandler(stream=sys.stdout))\n",
    "\n",
    "import nest_asyncio\n",
    "nest_asyncio.apply()"
   ]
  },
  {
   "cell_type": "code",
   "execution_count": 2,
   "metadata": {},
   "outputs": [],
   "source": [
    "import getpass\n",
    "import os\n",
    "\n",
    "os.environ[\"TONIC_VALIDATE_API_KEY\"] = getpass.getpass(\"Tonic Validate api key: \")\n",
    "\n"
   ]
  },
  {
   "cell_type": "code",
   "execution_count": null,
   "metadata": {},
   "outputs": [],
   "source": [
    "%pip install llama-index-evaluation-tonic-validate"
   ]
  },
  {
   "cell_type": "code",
   "execution_count": 4,
   "metadata": {},
   "outputs": [],
   "source": [
    "import json\n",
    "\n",
    "import pandas as pd\n",
    "from llama_index.core import VectorStoreIndex, SimpleDirectoryReader\n",
    "from llama_index.evaluation.tonic_validate import (\n",
    "    AnswerConsistencyEvaluator,\n",
    "    AnswerSimilarityEvaluator,\n",
    "    AugmentationAccuracyEvaluator,\n",
    "    AugmentationPrecisionEvaluator,\n",
    "    RetrievalPrecisionEvaluator,\n",
    "    TonicValidateEvaluator,\n",
    ")"
   ]
  },
  {
   "cell_type": "code",
   "execution_count": 5,
   "metadata": {},
   "outputs": [],
   "source": [
    "question = \"What makes Sam Altman a good founder?\"\n",
    "reference_answer = \"He is smart and has a great force of will.\"\n",
    "llm_answer = \"He is a good founder because he is smart.\"\n",
    "retrieved_context_list = [\n",
    "    \"Sam Altman is a good founder. He is very smart.\",\n",
    "    \"What makes Sam Altman such a good founder is his great force of will.\",\n",
    "]"
   ]
  },
  {
   "cell_type": "code",
   "execution_count": 7,
   "metadata": {},
   "outputs": [],
   "source": [
    "from llama_index.llms.openai import OpenAI\n",
    "\n",
    "import getpass\n",
    "import os\n",
    "\n",
    "os.environ[\"OPENAI_API_KEY\"] = getpass.getpass(\"open ai api key: \")"
   ]
  },
  {
   "cell_type": "code",
   "execution_count": null,
   "metadata": {},
   "outputs": [],
   "source": [
    "import asyncio\n",
    "\n",
    "async def answerevaluator():\n",
    "    answer_similarity_evaluator = AnswerSimilarityEvaluator()\n",
    "    score = await answer_similarity_evaluator.aevaluate(\n",
    "        question,\n",
    "        llm_answer,\n",
    "        retrieved_context_list,\n",
    "        reference_response=reference_answer,\n",
    "    )\n",
    "    print(\"Score:\", score)\n",
    "\n",
    "asyncio.run(answerevaluator())\n"
   ]
  }
 ],
 "metadata": {
  "kernelspec": {
   "display_name": "llamaindex",
   "language": "python",
   "name": "python3"
  },
  "language_info": {
   "codemirror_mode": {
    "name": "ipython",
    "version": 3
   },
   "file_extension": ".py",
   "mimetype": "text/x-python",
   "name": "python",
   "nbconvert_exporter": "python",
   "pygments_lexer": "ipython3",
   "version": "3.11.10"
  }
 },
 "nbformat": 4,
 "nbformat_minor": 2
}
