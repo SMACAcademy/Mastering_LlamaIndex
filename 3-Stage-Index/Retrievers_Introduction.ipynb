{
 "cells": [
  {
   "cell_type": "code",
   "execution_count": null,
   "metadata": {},
   "outputs": [],
   "source": [
    "retriever = index.as_retriever()\n",
    "nodes = retriever.retrieve(\"Who is Paul Graham?\")\n"
   ]
  },
  {
   "cell_type": "code",
   "execution_count": null,
   "metadata": {},
   "outputs": [],
   "source": [
    "retriever = summary_index.as_retriever(retriever_mode=\"llm\")\n"
   ]
  },
  {
   "cell_type": "code",
   "execution_count": null,
   "metadata": {},
   "outputs": [],
   "source": [
    "retriever = summary_index.as_retriever(\n",
    "    retriever_mode=\"llm\",\n",
    "    choice_batch_size=5,\n",
    ")\n"
   ]
  },
  {
   "cell_type": "code",
   "execution_count": null,
   "metadata": {},
   "outputs": [],
   "source": [
    "from llama_index.core.retrievers import SummaryIndexLLMRetriever\n",
    "\n",
    "retriever = SummaryIndexLLMRetriever(\n",
    "    index=summary_index,\n",
    "    choice_batch_size=5,\n",
    ")\n"
   ]
  },
  {
   "cell_type": "code",
   "execution_count": null,
   "metadata": {},
   "outputs": [],
   "source": [
    "retriever = summary_index.as_retriever(retriever_mode=\"llm\")\n",
    "response = retriever.retrieve(\"What is the summary of this document?\")\n",
    "print(response)\n"
   ]
  },
  {
   "cell_type": "code",
   "execution_count": null,
   "metadata": {},
   "outputs": [],
   "source": [
    "retriever = vector_index.as_retriever()\n",
    "response = retriever.retrieve(\"What is this document about?\")\n",
    "print(response)\n"
   ]
  },
  {
   "cell_type": "code",
   "execution_count": null,
   "metadata": {},
   "outputs": [],
   "source": [
    "retriever = keyword_table_index.as_retriever()\n",
    "response = retriever.retrieve(\"Which company result document is this?\")\n",
    "print(response)\n"
   ]
  }
 ],
 "metadata": {
  "language_info": {
   "name": "python"
  }
 },
 "nbformat": 4,
 "nbformat_minor": 2
}
