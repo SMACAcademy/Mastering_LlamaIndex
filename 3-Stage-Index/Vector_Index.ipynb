{
 "cells": [
  {
   "cell_type": "code",
   "execution_count": 51,
   "metadata": {},
   "outputs": [
    {
     "name": "stdout",
     "output_type": "stream",
     "text": [
      "Requirement already satisfied: llama-index-llms-openai in c:\\users\\muthu\\.conda\\envs\\llamaindex\\lib\\site-packages (0.2.16)Note: you may need to restart the kernel to use updated packages.\n",
      "\n",
      "Requirement already satisfied: llama-index-core<0.12.0,>=0.11.7 in c:\\users\\muthu\\.conda\\envs\\llamaindex\\lib\\site-packages (from llama-index-llms-openai) (0.11.23)\n",
      "Requirement already satisfied: openai<2.0.0,>=1.40.0 in c:\\users\\muthu\\.conda\\envs\\llamaindex\\lib\\site-packages (from llama-index-llms-openai) (1.54.3)\n",
      "Requirement already satisfied: PyYAML>=6.0.1 in c:\\users\\muthu\\.conda\\envs\\llamaindex\\lib\\site-packages (from llama-index-core<0.12.0,>=0.11.7->llama-index-llms-openai) (6.0.2)\n",
      "Requirement already satisfied: SQLAlchemy>=1.4.49 in c:\\users\\muthu\\.conda\\envs\\llamaindex\\lib\\site-packages (from SQLAlchemy[asyncio]>=1.4.49->llama-index-core<0.12.0,>=0.11.7->llama-index-llms-openai) (2.0.32)\n",
      "Requirement already satisfied: aiohttp<4.0.0,>=3.8.6 in c:\\users\\muthu\\.conda\\envs\\llamaindex\\lib\\site-packages (from llama-index-core<0.12.0,>=0.11.7->llama-index-llms-openai) (3.10.8)\n",
      "Requirement already satisfied: dataclasses-json in c:\\users\\muthu\\.conda\\envs\\llamaindex\\lib\\site-packages (from llama-index-core<0.12.0,>=0.11.7->llama-index-llms-openai) (0.6.7)\n",
      "Requirement already satisfied: deprecated>=1.2.9.3 in c:\\users\\muthu\\.conda\\envs\\llamaindex\\lib\\site-packages (from llama-index-core<0.12.0,>=0.11.7->llama-index-llms-openai) (1.2.14)\n",
      "Requirement already satisfied: dirtyjson<2.0.0,>=1.0.8 in c:\\users\\muthu\\.conda\\envs\\llamaindex\\lib\\site-packages (from llama-index-core<0.12.0,>=0.11.7->llama-index-llms-openai) (1.0.8)\n",
      "Requirement already satisfied: filetype<2.0.0,>=1.2.0 in c:\\users\\muthu\\.conda\\envs\\llamaindex\\lib\\site-packages (from llama-index-core<0.12.0,>=0.11.7->llama-index-llms-openai) (1.2.0)\n",
      "Requirement already satisfied: fsspec>=2023.5.0 in c:\\users\\muthu\\.conda\\envs\\llamaindex\\lib\\site-packages (from llama-index-core<0.12.0,>=0.11.7->llama-index-llms-openai) (2024.9.0)\n",
      "Requirement already satisfied: httpx in c:\\users\\muthu\\.conda\\envs\\llamaindex\\lib\\site-packages (from llama-index-core<0.12.0,>=0.11.7->llama-index-llms-openai) (0.27.2)\n",
      "Requirement already satisfied: nest-asyncio<2.0.0,>=1.5.8 in c:\\users\\muthu\\.conda\\envs\\llamaindex\\lib\\site-packages (from llama-index-core<0.12.0,>=0.11.7->llama-index-llms-openai) (1.6.0)\n",
      "Requirement already satisfied: networkx>=3.0 in c:\\users\\muthu\\.conda\\envs\\llamaindex\\lib\\site-packages (from llama-index-core<0.12.0,>=0.11.7->llama-index-llms-openai) (3.4.2)\n",
      "Requirement already satisfied: nltk>3.8.1 in c:\\users\\muthu\\.conda\\envs\\llamaindex\\lib\\site-packages (from llama-index-core<0.12.0,>=0.11.7->llama-index-llms-openai) (3.9.1)\n",
      "Requirement already satisfied: numpy<2.0.0 in c:\\users\\muthu\\.conda\\envs\\llamaindex\\lib\\site-packages (from llama-index-core<0.12.0,>=0.11.7->llama-index-llms-openai) (1.26.4)\n",
      "Requirement already satisfied: pillow>=9.0.0 in c:\\users\\muthu\\.conda\\envs\\llamaindex\\lib\\site-packages (from llama-index-core<0.12.0,>=0.11.7->llama-index-llms-openai) (10.4.0)\n",
      "Requirement already satisfied: pydantic<3.0.0,>=2.7.0 in c:\\users\\muthu\\.conda\\envs\\llamaindex\\lib\\site-packages (from llama-index-core<0.12.0,>=0.11.7->llama-index-llms-openai) (2.9.2)\n",
      "Requirement already satisfied: requests>=2.31.0 in c:\\users\\muthu\\.conda\\envs\\llamaindex\\lib\\site-packages (from llama-index-core<0.12.0,>=0.11.7->llama-index-llms-openai) (2.32.3)\n",
      "Requirement already satisfied: tenacity!=8.4.0,<9.0.0,>=8.2.0 in c:\\users\\muthu\\.conda\\envs\\llamaindex\\lib\\site-packages (from llama-index-core<0.12.0,>=0.11.7->llama-index-llms-openai) (8.5.0)\n",
      "Requirement already satisfied: tiktoken>=0.3.3 in c:\\users\\muthu\\.conda\\envs\\llamaindex\\lib\\site-packages (from llama-index-core<0.12.0,>=0.11.7->llama-index-llms-openai) (0.8.0)\n",
      "Requirement already satisfied: tqdm<5.0.0,>=4.66.1 in c:\\users\\muthu\\.conda\\envs\\llamaindex\\lib\\site-packages (from llama-index-core<0.12.0,>=0.11.7->llama-index-llms-openai) (4.67.0)\n",
      "Requirement already satisfied: typing-extensions>=4.5.0 in c:\\users\\muthu\\.conda\\envs\\llamaindex\\lib\\site-packages (from llama-index-core<0.12.0,>=0.11.7->llama-index-llms-openai) (4.11.0)\n",
      "Requirement already satisfied: typing-inspect>=0.8.0 in c:\\users\\muthu\\.conda\\envs\\llamaindex\\lib\\site-packages (from llama-index-core<0.12.0,>=0.11.7->llama-index-llms-openai) (0.9.0)\n",
      "Requirement already satisfied: wrapt in c:\\users\\muthu\\.conda\\envs\\llamaindex\\lib\\site-packages (from llama-index-core<0.12.0,>=0.11.7->llama-index-llms-openai) (1.16.0)\n",
      "Requirement already satisfied: anyio<5,>=3.5.0 in c:\\users\\muthu\\.conda\\envs\\llamaindex\\lib\\site-packages (from openai<2.0.0,>=1.40.0->llama-index-llms-openai) (4.6.2.post1)\n",
      "Requirement already satisfied: distro<2,>=1.7.0 in c:\\users\\muthu\\.conda\\envs\\llamaindex\\lib\\site-packages (from openai<2.0.0,>=1.40.0->llama-index-llms-openai) (1.9.0)\n",
      "Requirement already satisfied: jiter<1,>=0.4.0 in c:\\users\\muthu\\.conda\\envs\\llamaindex\\lib\\site-packages (from openai<2.0.0,>=1.40.0->llama-index-llms-openai) (0.7.0)\n",
      "Requirement already satisfied: sniffio in c:\\users\\muthu\\.conda\\envs\\llamaindex\\lib\\site-packages (from openai<2.0.0,>=1.40.0->llama-index-llms-openai) (1.3.1)\n",
      "Requirement already satisfied: aiohappyeyeballs>=2.3.0 in c:\\users\\muthu\\.conda\\envs\\llamaindex\\lib\\site-packages (from aiohttp<4.0.0,>=3.8.6->llama-index-core<0.12.0,>=0.11.7->llama-index-llms-openai) (2.4.3)\n",
      "Requirement already satisfied: aiosignal>=1.1.2 in c:\\users\\muthu\\.conda\\envs\\llamaindex\\lib\\site-packages (from aiohttp<4.0.0,>=3.8.6->llama-index-core<0.12.0,>=0.11.7->llama-index-llms-openai) (1.3.1)\n",
      "Requirement already satisfied: attrs>=17.3.0 in c:\\users\\muthu\\.conda\\envs\\llamaindex\\lib\\site-packages (from aiohttp<4.0.0,>=3.8.6->llama-index-core<0.12.0,>=0.11.7->llama-index-llms-openai) (24.2.0)\n",
      "Requirement already satisfied: frozenlist>=1.1.1 in c:\\users\\muthu\\.conda\\envs\\llamaindex\\lib\\site-packages (from aiohttp<4.0.0,>=3.8.6->llama-index-core<0.12.0,>=0.11.7->llama-index-llms-openai) (1.5.0)\n",
      "Requirement already satisfied: multidict<7.0,>=4.5 in c:\\users\\muthu\\.conda\\envs\\llamaindex\\lib\\site-packages (from aiohttp<4.0.0,>=3.8.6->llama-index-core<0.12.0,>=0.11.7->llama-index-llms-openai) (6.1.0)\n",
      "Requirement already satisfied: yarl<2.0,>=1.12.0 in c:\\users\\muthu\\.conda\\envs\\llamaindex\\lib\\site-packages (from aiohttp<4.0.0,>=3.8.6->llama-index-core<0.12.0,>=0.11.7->llama-index-llms-openai) (1.17.1)\n",
      "Requirement already satisfied: idna>=2.8 in c:\\users\\muthu\\.conda\\envs\\llamaindex\\lib\\site-packages (from anyio<5,>=3.5.0->openai<2.0.0,>=1.40.0->llama-index-llms-openai) (3.10)\n",
      "Requirement already satisfied: certifi in c:\\users\\muthu\\.conda\\envs\\llamaindex\\lib\\site-packages (from httpx->llama-index-core<0.12.0,>=0.11.7->llama-index-llms-openai) (2024.8.30)\n",
      "Requirement already satisfied: httpcore==1.* in c:\\users\\muthu\\.conda\\envs\\llamaindex\\lib\\site-packages (from httpx->llama-index-core<0.12.0,>=0.11.7->llama-index-llms-openai) (1.0.6)\n",
      "Requirement already satisfied: h11<0.15,>=0.13 in c:\\users\\muthu\\.conda\\envs\\llamaindex\\lib\\site-packages (from httpcore==1.*->httpx->llama-index-core<0.12.0,>=0.11.7->llama-index-llms-openai) (0.14.0)\n",
      "Requirement already satisfied: click in c:\\users\\muthu\\.conda\\envs\\llamaindex\\lib\\site-packages (from nltk>3.8.1->llama-index-core<0.12.0,>=0.11.7->llama-index-llms-openai) (8.1.7)\n",
      "Requirement already satisfied: joblib in c:\\users\\muthu\\.conda\\envs\\llamaindex\\lib\\site-packages (from nltk>3.8.1->llama-index-core<0.12.0,>=0.11.7->llama-index-llms-openai) (1.4.2)\n",
      "Requirement already satisfied: regex>=2021.8.3 in c:\\users\\muthu\\.conda\\envs\\llamaindex\\lib\\site-packages (from nltk>3.8.1->llama-index-core<0.12.0,>=0.11.7->llama-index-llms-openai) (2024.11.6)\n",
      "Requirement already satisfied: annotated-types>=0.6.0 in c:\\users\\muthu\\.conda\\envs\\llamaindex\\lib\\site-packages (from pydantic<3.0.0,>=2.7.0->llama-index-core<0.12.0,>=0.11.7->llama-index-llms-openai) (0.7.0)\n",
      "Requirement already satisfied: pydantic-core==2.23.4 in c:\\users\\muthu\\.conda\\envs\\llamaindex\\lib\\site-packages (from pydantic<3.0.0,>=2.7.0->llama-index-core<0.12.0,>=0.11.7->llama-index-llms-openai) (2.23.4)\n",
      "Requirement already satisfied: charset-normalizer<4,>=2 in c:\\users\\muthu\\.conda\\envs\\llamaindex\\lib\\site-packages (from requests>=2.31.0->llama-index-core<0.12.0,>=0.11.7->llama-index-llms-openai) (3.4.0)\n",
      "Requirement already satisfied: urllib3<3,>=1.21.1 in c:\\users\\muthu\\.conda\\envs\\llamaindex\\lib\\site-packages (from requests>=2.31.0->llama-index-core<0.12.0,>=0.11.7->llama-index-llms-openai) (2.2.3)\n",
      "Requirement already satisfied: greenlet!=0.4.17 in c:\\users\\muthu\\.conda\\envs\\llamaindex\\lib\\site-packages (from SQLAlchemy>=1.4.49->SQLAlchemy[asyncio]>=1.4.49->llama-index-core<0.12.0,>=0.11.7->llama-index-llms-openai) (3.1.1)\n",
      "Requirement already satisfied: colorama in c:\\users\\muthu\\.conda\\envs\\llamaindex\\lib\\site-packages (from tqdm<5.0.0,>=4.66.1->llama-index-core<0.12.0,>=0.11.7->llama-index-llms-openai) (0.4.6)\n",
      "Requirement already satisfied: mypy-extensions>=0.3.0 in c:\\users\\muthu\\.conda\\envs\\llamaindex\\lib\\site-packages (from typing-inspect>=0.8.0->llama-index-core<0.12.0,>=0.11.7->llama-index-llms-openai) (1.0.0)\n",
      "Requirement already satisfied: marshmallow<4.0.0,>=3.18.0 in c:\\users\\muthu\\.conda\\envs\\llamaindex\\lib\\site-packages (from dataclasses-json->llama-index-core<0.12.0,>=0.11.7->llama-index-llms-openai) (3.23.1)\n",
      "Requirement already satisfied: packaging>=17.0 in c:\\users\\muthu\\.conda\\envs\\llamaindex\\lib\\site-packages (from marshmallow<4.0.0,>=3.18.0->dataclasses-json->llama-index-core<0.12.0,>=0.11.7->llama-index-llms-openai) (23.2)\n",
      "Requirement already satisfied: propcache>=0.2.0 in c:\\users\\muthu\\.conda\\envs\\llamaindex\\lib\\site-packages (from yarl<2.0,>=1.12.0->aiohttp<4.0.0,>=3.8.6->llama-index-core<0.12.0,>=0.11.7->llama-index-llms-openai) (0.2.0)\n",
      "Requirement already satisfied: llama-index in c:\\users\\muthu\\.conda\\envs\\llamaindex\\lib\\site-packages (0.11.23)\n",
      "Requirement already satisfied: llama-index-agent-openai<0.4.0,>=0.3.4 in c:\\users\\muthu\\.conda\\envs\\llamaindex\\lib\\site-packages (from llama-index) (0.3.4)\n",
      "Requirement already satisfied: llama-index-cli<0.4.0,>=0.3.1 in c:\\users\\muthu\\.conda\\envs\\llamaindex\\lib\\site-packages (from llama-index) (0.3.1)\n",
      "Requirement already satisfied: llama-index-core<0.12.0,>=0.11.23 in c:\\users\\muthu\\.conda\\envs\\llamaindex\\lib\\site-packages (from llama-index) (0.11.23)\n",
      "Requirement already satisfied: llama-index-embeddings-openai<0.3.0,>=0.2.4 in c:\\users\\muthu\\.conda\\envs\\llamaindex\\lib\\site-packages (from llama-index) (0.2.5)\n",
      "Requirement already satisfied: llama-index-indices-managed-llama-cloud>=0.3.0 in c:\\users\\muthu\\.conda\\envs\\llamaindex\\lib\\site-packages (from llama-index) (0.4.0)\n",
      "Requirement already satisfied: llama-index-legacy<0.10.0,>=0.9.48 in c:\\users\\muthu\\.conda\\envs\\llamaindex\\lib\\site-packages (from llama-index) (0.9.48.post4)\n",
      "Requirement already satisfied: llama-index-llms-openai<0.3.0,>=0.2.10 in c:\\users\\muthu\\.conda\\envs\\llamaindex\\lib\\site-packages (from llama-index) (0.2.16)\n",
      "Requirement already satisfied: llama-index-multi-modal-llms-openai<0.3.0,>=0.2.0 in c:\\users\\muthu\\.conda\\envs\\llamaindex\\lib\\site-packages (from llama-index) (0.2.3)\n",
      "Requirement already satisfied: llama-index-program-openai<0.3.0,>=0.2.0 in c:\\users\\muthu\\.conda\\envs\\llamaindex\\lib\\site-packages (from llama-index) (0.2.0)\n",
      "Requirement already satisfied: llama-index-question-gen-openai<0.3.0,>=0.2.0 in c:\\users\\muthu\\.conda\\envs\\llamaindex\\lib\\site-packages (from llama-index) (0.2.0)\n",
      "Requirement already satisfied: llama-index-readers-file<0.4.0,>=0.3.0 in c:\\users\\muthu\\.conda\\envs\\llamaindex\\lib\\site-packages (from llama-index) (0.3.0)\n",
      "Requirement already satisfied: llama-index-readers-llama-parse>=0.3.0 in c:\\users\\muthu\\.conda\\envs\\llamaindex\\lib\\site-packages (from llama-index) (0.3.0)\n",
      "Requirement already satisfied: nltk>3.8.1 in c:\\users\\muthu\\.conda\\envs\\llamaindex\\lib\\site-packages (from llama-index) (3.9.1)\n",
      "Requirement already satisfied: openai>=1.14.0 in c:\\users\\muthu\\.conda\\envs\\llamaindex\\lib\\site-packages (from llama-index-agent-openai<0.4.0,>=0.3.4->llama-index) (1.54.3)\n",
      "Requirement already satisfied: PyYAML>=6.0.1 in c:\\users\\muthu\\.conda\\envs\\llamaindex\\lib\\site-packages (from llama-index-core<0.12.0,>=0.11.23->llama-index) (6.0.2)\n",
      "Requirement already satisfied: SQLAlchemy>=1.4.49 in c:\\users\\muthu\\.conda\\envs\\llamaindex\\lib\\site-packages (from SQLAlchemy[asyncio]>=1.4.49->llama-index-core<0.12.0,>=0.11.23->llama-index) (2.0.32)\n",
      "Requirement already satisfied: aiohttp<4.0.0,>=3.8.6 in c:\\users\\muthu\\.conda\\envs\\llamaindex\\lib\\site-packages (from llama-index-core<0.12.0,>=0.11.23->llama-index) (3.10.8)\n",
      "Requirement already satisfied: dataclasses-json in c:\\users\\muthu\\.conda\\envs\\llamaindex\\lib\\site-packages (from llama-index-core<0.12.0,>=0.11.23->llama-index) (0.6.7)\n",
      "Requirement already satisfied: deprecated>=1.2.9.3 in c:\\users\\muthu\\.conda\\envs\\llamaindex\\lib\\site-packages (from llama-index-core<0.12.0,>=0.11.23->llama-index) (1.2.14)\n",
      "Requirement already satisfied: dirtyjson<2.0.0,>=1.0.8 in c:\\users\\muthu\\.conda\\envs\\llamaindex\\lib\\site-packages (from llama-index-core<0.12.0,>=0.11.23->llama-index) (1.0.8)\n",
      "Requirement already satisfied: filetype<2.0.0,>=1.2.0 in c:\\users\\muthu\\.conda\\envs\\llamaindex\\lib\\site-packages (from llama-index-core<0.12.0,>=0.11.23->llama-index) (1.2.0)\n",
      "Requirement already satisfied: fsspec>=2023.5.0 in c:\\users\\muthu\\.conda\\envs\\llamaindex\\lib\\site-packages (from llama-index-core<0.12.0,>=0.11.23->llama-index) (2024.9.0)\n",
      "Requirement already satisfied: httpx in c:\\users\\muthu\\.conda\\envs\\llamaindex\\lib\\site-packages (from llama-index-core<0.12.0,>=0.11.23->llama-index) (0.27.2)\n",
      "Requirement already satisfied: nest-asyncio<2.0.0,>=1.5.8 in c:\\users\\muthu\\.conda\\envs\\llamaindex\\lib\\site-packages (from llama-index-core<0.12.0,>=0.11.23->llama-index) (1.6.0)\n",
      "Requirement already satisfied: networkx>=3.0 in c:\\users\\muthu\\.conda\\envs\\llamaindex\\lib\\site-packages (from llama-index-core<0.12.0,>=0.11.23->llama-index) (3.4.2)\n",
      "Requirement already satisfied: numpy<2.0.0 in c:\\users\\muthu\\.conda\\envs\\llamaindex\\lib\\site-packages (from llama-index-core<0.12.0,>=0.11.23->llama-index) (1.26.4)\n",
      "Requirement already satisfied: pillow>=9.0.0 in c:\\users\\muthu\\.conda\\envs\\llamaindex\\lib\\site-packages (from llama-index-core<0.12.0,>=0.11.23->llama-index) (10.4.0)\n",
      "Requirement already satisfied: pydantic<3.0.0,>=2.7.0 in c:\\users\\muthu\\.conda\\envs\\llamaindex\\lib\\site-packages (from llama-index-core<0.12.0,>=0.11.23->llama-index) (2.9.2)\n",
      "Requirement already satisfied: requests>=2.31.0 in c:\\users\\muthu\\.conda\\envs\\llamaindex\\lib\\site-packages (from llama-index-core<0.12.0,>=0.11.23->llama-index) (2.32.3)\n",
      "Requirement already satisfied: tenacity!=8.4.0,<9.0.0,>=8.2.0 in c:\\users\\muthu\\.conda\\envs\\llamaindex\\lib\\site-packages (from llama-index-core<0.12.0,>=0.11.23->llama-index) (8.5.0)\n",
      "Requirement already satisfied: tiktoken>=0.3.3 in c:\\users\\muthu\\.conda\\envs\\llamaindex\\lib\\site-packages (from llama-index-core<0.12.0,>=0.11.23->llama-index) (0.8.0)\n",
      "Requirement already satisfied: tqdm<5.0.0,>=4.66.1 in c:\\users\\muthu\\.conda\\envs\\llamaindex\\lib\\site-packages (from llama-index-core<0.12.0,>=0.11.23->llama-index) (4.67.0)\n",
      "Requirement already satisfied: typing-extensions>=4.5.0 in c:\\users\\muthu\\.conda\\envs\\llamaindex\\lib\\site-packages (from llama-index-core<0.12.0,>=0.11.23->llama-index) (4.11.0)\n",
      "Requirement already satisfied: typing-inspect>=0.8.0 in c:\\users\\muthu\\.conda\\envs\\llamaindex\\lib\\site-packages (from llama-index-core<0.12.0,>=0.11.23->llama-index) (0.9.0)\n",
      "Requirement already satisfied: wrapt in c:\\users\\muthu\\.conda\\envs\\llamaindex\\lib\\site-packages (from llama-index-core<0.12.0,>=0.11.23->llama-index) (1.16.0)\n",
      "Requirement already satisfied: llama-cloud>=0.0.11 in c:\\users\\muthu\\.conda\\envs\\llamaindex\\lib\\site-packages (from llama-index-indices-managed-llama-cloud>=0.3.0->llama-index) (0.1.4)\n",
      "Requirement already satisfied: pandas in c:\\users\\muthu\\.conda\\envs\\llamaindex\\lib\\site-packages (from llama-index-legacy<0.10.0,>=0.9.48->llama-index) (2.2.3)\n",
      "Requirement already satisfied: beautifulsoup4<5.0.0,>=4.12.3 in c:\\users\\muthu\\.conda\\envs\\llamaindex\\lib\\site-packages (from llama-index-readers-file<0.4.0,>=0.3.0->llama-index) (4.12.3)\n",
      "Requirement already satisfied: pypdf<6.0.0,>=5.1.0 in c:\\users\\muthu\\.conda\\envs\\llamaindex\\lib\\site-packages (from llama-index-readers-file<0.4.0,>=0.3.0->llama-index) (5.1.0)\n",
      "Requirement already satisfied: striprtf<0.0.27,>=0.0.26 in c:\\users\\muthu\\.conda\\envs\\llamaindex\\lib\\site-packages (from llama-index-readers-file<0.4.0,>=0.3.0->llama-index) (0.0.26)\n",
      "Requirement already satisfied: llama-parse>=0.5.0 in c:\\users\\muthu\\.conda\\envs\\llamaindex\\lib\\site-packages (from llama-index-readers-llama-parse>=0.3.0->llama-index) (0.5.13)\n",
      "Requirement already satisfied: click in c:\\users\\muthu\\.conda\\envs\\llamaindex\\lib\\site-packages (from nltk>3.8.1->llama-index) (8.1.7)\n",
      "Requirement already satisfied: joblib in c:\\users\\muthu\\.conda\\envs\\llamaindex\\lib\\site-packages (from nltk>3.8.1->llama-index) (1.4.2)\n",
      "Requirement already satisfied: regex>=2021.8.3 in c:\\users\\muthu\\.conda\\envs\\llamaindex\\lib\\site-packages (from nltk>3.8.1->llama-index) (2024.11.6)\n",
      "Requirement already satisfied: aiohappyeyeballs>=2.3.0 in c:\\users\\muthu\\.conda\\envs\\llamaindex\\lib\\site-packages (from aiohttp<4.0.0,>=3.8.6->llama-index-core<0.12.0,>=0.11.23->llama-index) (2.4.3)\n",
      "Requirement already satisfied: aiosignal>=1.1.2 in c:\\users\\muthu\\.conda\\envs\\llamaindex\\lib\\site-packages (from aiohttp<4.0.0,>=3.8.6->llama-index-core<0.12.0,>=0.11.23->llama-index) (1.3.1)\n",
      "Requirement already satisfied: attrs>=17.3.0 in c:\\users\\muthu\\.conda\\envs\\llamaindex\\lib\\site-packages (from aiohttp<4.0.0,>=3.8.6->llama-index-core<0.12.0,>=0.11.23->llama-index) (24.2.0)\n",
      "Requirement already satisfied: frozenlist>=1.1.1 in c:\\users\\muthu\\.conda\\envs\\llamaindex\\lib\\site-packages (from aiohttp<4.0.0,>=3.8.6->llama-index-core<0.12.0,>=0.11.23->llama-index) (1.5.0)\n",
      "Requirement already satisfied: multidict<7.0,>=4.5 in c:\\users\\muthu\\.conda\\envs\\llamaindex\\lib\\site-packages (from aiohttp<4.0.0,>=3.8.6->llama-index-core<0.12.0,>=0.11.23->llama-index) (6.1.0)\n",
      "Requirement already satisfied: yarl<2.0,>=1.12.0 in c:\\users\\muthu\\.conda\\envs\\llamaindex\\lib\\site-packages (from aiohttp<4.0.0,>=3.8.6->llama-index-core<0.12.0,>=0.11.23->llama-index) (1.17.1)\n",
      "Requirement already satisfied: soupsieve>1.2 in c:\\users\\muthu\\.conda\\envs\\llamaindex\\lib\\site-packages (from beautifulsoup4<5.0.0,>=4.12.3->llama-index-readers-file<0.4.0,>=0.3.0->llama-index) (2.6)\n",
      "Requirement already satisfied: anyio in c:\\users\\muthu\\.conda\\envs\\llamaindex\\lib\\site-packages (from httpx->llama-index-core<0.12.0,>=0.11.23->llama-index) (4.6.2.post1)\n",
      "Requirement already satisfied: certifi in c:\\users\\muthu\\.conda\\envs\\llamaindex\\lib\\site-packages (from httpx->llama-index-core<0.12.0,>=0.11.23->llama-index) (2024.8.30)\n",
      "Requirement already satisfied: httpcore==1.* in c:\\users\\muthu\\.conda\\envs\\llamaindex\\lib\\site-packages (from httpx->llama-index-core<0.12.0,>=0.11.23->llama-index) (1.0.6)\n",
      "Requirement already satisfied: idna in c:\\users\\muthu\\.conda\\envs\\llamaindex\\lib\\site-packages (from httpx->llama-index-core<0.12.0,>=0.11.23->llama-index) (3.10)\n",
      "Requirement already satisfied: sniffio in c:\\users\\muthu\\.conda\\envs\\llamaindex\\lib\\site-packages (from httpx->llama-index-core<0.12.0,>=0.11.23->llama-index) (1.3.1)\n",
      "Requirement already satisfied: h11<0.15,>=0.13 in c:\\users\\muthu\\.conda\\envs\\llamaindex\\lib\\site-packages (from httpcore==1.*->httpx->llama-index-core<0.12.0,>=0.11.23->llama-index) (0.14.0)\n",
      "Requirement already satisfied: colorama in c:\\users\\muthu\\.conda\\envs\\llamaindex\\lib\\site-packages (from click->nltk>3.8.1->llama-index) (0.4.6)\n",
      "Requirement already satisfied: distro<2,>=1.7.0 in c:\\users\\muthu\\.conda\\envs\\llamaindex\\lib\\site-packages (from openai>=1.14.0->llama-index-agent-openai<0.4.0,>=0.3.4->llama-index) (1.9.0)\n",
      "Requirement already satisfied: jiter<1,>=0.4.0 in c:\\users\\muthu\\.conda\\envs\\llamaindex\\lib\\site-packages (from openai>=1.14.0->llama-index-agent-openai<0.4.0,>=0.3.4->llama-index) (0.7.0)\n",
      "Requirement already satisfied: annotated-types>=0.6.0 in c:\\users\\muthu\\.conda\\envs\\llamaindex\\lib\\site-packages (from pydantic<3.0.0,>=2.7.0->llama-index-core<0.12.0,>=0.11.23->llama-index) (0.7.0)\n",
      "Requirement already satisfied: pydantic-core==2.23.4 in c:\\users\\muthu\\.conda\\envs\\llamaindex\\lib\\site-packages (from pydantic<3.0.0,>=2.7.0->llama-index-core<0.12.0,>=0.11.23->llama-index) (2.23.4)\n",
      "Requirement already satisfied: charset-normalizer<4,>=2 in c:\\users\\muthu\\.conda\\envs\\llamaindex\\lib\\site-packages (from requests>=2.31.0->llama-index-core<0.12.0,>=0.11.23->llama-index) (3.4.0)\n",
      "Requirement already satisfied: urllib3<3,>=1.21.1 in c:\\users\\muthu\\.conda\\envs\\llamaindex\\lib\\site-packages (from requests>=2.31.0->llama-index-core<0.12.0,>=0.11.23->llama-index) (2.2.3)\n",
      "Requirement already satisfied: greenlet!=0.4.17 in c:\\users\\muthu\\.conda\\envs\\llamaindex\\lib\\site-packages (from SQLAlchemy>=1.4.49->SQLAlchemy[asyncio]>=1.4.49->llama-index-core<0.12.0,>=0.11.23->llama-index) (3.1.1)\n",
      "Requirement already satisfied: mypy-extensions>=0.3.0 in c:\\users\\muthu\\.conda\\envs\\llamaindex\\lib\\site-packages (from typing-inspect>=0.8.0->llama-index-core<0.12.0,>=0.11.23->llama-index) (1.0.0)\n",
      "Requirement already satisfied: marshmallow<4.0.0,>=3.18.0 in c:\\users\\muthu\\.conda\\envs\\llamaindex\\lib\\site-packages (from dataclasses-json->llama-index-core<0.12.0,>=0.11.23->llama-index) (3.23.1)\n",
      "Requirement already satisfied: python-dateutil>=2.8.2 in c:\\users\\muthu\\.conda\\envs\\llamaindex\\lib\\site-packages (from pandas->llama-index-legacy<0.10.0,>=0.9.48->llama-index) (2.8.2)\n",
      "Requirement already satisfied: pytz>=2020.1 in c:\\users\\muthu\\.conda\\envs\\llamaindex\\lib\\site-packages (from pandas->llama-index-legacy<0.10.0,>=0.9.48->llama-index) (2024.2)\n",
      "Requirement already satisfied: tzdata>=2022.7 in c:\\users\\muthu\\.conda\\envs\\llamaindex\\lib\\site-packages (from pandas->llama-index-legacy<0.10.0,>=0.9.48->llama-index) (2024.2)\n",
      "Requirement already satisfied: packaging>=17.0 in c:\\users\\muthu\\.conda\\envs\\llamaindex\\lib\\site-packages (from marshmallow<4.0.0,>=3.18.0->dataclasses-json->llama-index-core<0.12.0,>=0.11.23->llama-index) (23.2)\n",
      "Requirement already satisfied: six>=1.5 in c:\\users\\muthu\\.conda\\envs\\llamaindex\\lib\\site-packages (from python-dateutil>=2.8.2->pandas->llama-index-legacy<0.10.0,>=0.9.48->llama-index) (1.16.0)\n",
      "Requirement already satisfied: propcache>=0.2.0 in c:\\users\\muthu\\.conda\\envs\\llamaindex\\lib\\site-packages (from yarl<2.0,>=1.12.0->aiohttp<4.0.0,>=3.8.6->llama-index-core<0.12.0,>=0.11.23->llama-index) (0.2.0)\n"
     ]
    }
   ],
   "source": [
    "%pip install llama-index-llms-openai\n",
    "!pip install llama-index\n",
    "\n",
    "import logging\n",
    "import sys\n",
    "\n",
    "logging.basicConfig(stream=sys.stdout, level=logging.ERROR)\n",
    "logging.getLogger().addHandler(logging.StreamHandler(stream=sys.stdout))\n"
   ]
  },
  {
   "cell_type": "code",
   "execution_count": 52,
   "metadata": {},
   "outputs": [],
   "source": [
    "from llama_index.core import SimpleDirectoryReader\n",
    "\n",
    "# documents = SimpleDirectoryReader(input_files=['../data/paul_graham_essay3.txt']).load_data()\n",
    "documents = SimpleDirectoryReader(input_files=['../data/2022 Q3 AAPL.pdf']).load_data()\n",
    "\n"
   ]
  },
  {
   "cell_type": "code",
   "execution_count": 53,
   "metadata": {},
   "outputs": [
    {
     "data": {
      "text/plain": [
       "28"
      ]
     },
     "execution_count": 53,
     "metadata": {},
     "output_type": "execute_result"
    }
   ],
   "source": [
    "len(documents)"
   ]
  },
  {
   "cell_type": "code",
   "execution_count": 54,
   "metadata": {},
   "outputs": [
    {
     "data": {
      "text/plain": [
       "dict_keys(['id_', 'embedding', 'metadata', 'excluded_embed_metadata_keys', 'excluded_llm_metadata_keys', 'relationships', 'text', 'mimetype', 'start_char_idx', 'end_char_idx', 'text_template', 'metadata_template', 'metadata_seperator', 'class_name'])"
      ]
     },
     "execution_count": 54,
     "metadata": {},
     "output_type": "execute_result"
    }
   ],
   "source": [
    "documents[0].dict().keys()\n"
   ]
  },
  {
   "cell_type": "code",
   "execution_count": 55,
   "metadata": {},
   "outputs": [],
   "source": [
    "from llama_index.core import VectorStoreIndex\n",
    "from llama_index.core.node_parser import  SentenceSplitter"
   ]
  },
  {
   "cell_type": "code",
   "execution_count": 57,
   "metadata": {},
   "outputs": [
    {
     "name": "stdout",
     "output_type": "stream",
     "text": [
      "Requirement already satisfied: llama-index-embeddings-ollama in c:\\users\\muthu\\.conda\\envs\\llamaindex\\lib\\site-packages (0.3.1)\n",
      "Requirement already satisfied: llama-index-core<0.12.0,>=0.11.0 in c:\\users\\muthu\\.conda\\envs\\llamaindex\\lib\\site-packages (from llama-index-embeddings-ollama) (0.11.23)\n",
      "Requirement already satisfied: ollama<0.4.0,>=0.3.1 in c:\\users\\muthu\\.conda\\envs\\llamaindex\\lib\\site-packages (from llama-index-embeddings-ollama) (0.3.3)\n",
      "Requirement already satisfied: PyYAML>=6.0.1 in c:\\users\\muthu\\.conda\\envs\\llamaindex\\lib\\site-packages (from llama-index-core<0.12.0,>=0.11.0->llama-index-embeddings-ollama) (6.0.2)\n",
      "Requirement already satisfied: SQLAlchemy>=1.4.49 in c:\\users\\muthu\\.conda\\envs\\llamaindex\\lib\\site-packages (from SQLAlchemy[asyncio]>=1.4.49->llama-index-core<0.12.0,>=0.11.0->llama-index-embeddings-ollama) (2.0.32)\n",
      "Requirement already satisfied: aiohttp<4.0.0,>=3.8.6 in c:\\users\\muthu\\.conda\\envs\\llamaindex\\lib\\site-packages (from llama-index-core<0.12.0,>=0.11.0->llama-index-embeddings-ollama) (3.10.8)\n",
      "Requirement already satisfied: dataclasses-json in c:\\users\\muthu\\.conda\\envs\\llamaindex\\lib\\site-packages (from llama-index-core<0.12.0,>=0.11.0->llama-index-embeddings-ollama) (0.6.7)\n",
      "Requirement already satisfied: deprecated>=1.2.9.3 in c:\\users\\muthu\\.conda\\envs\\llamaindex\\lib\\site-packages (from llama-index-core<0.12.0,>=0.11.0->llama-index-embeddings-ollama) (1.2.14)\n",
      "Requirement already satisfied: dirtyjson<2.0.0,>=1.0.8 in c:\\users\\muthu\\.conda\\envs\\llamaindex\\lib\\site-packages (from llama-index-core<0.12.0,>=0.11.0->llama-index-embeddings-ollama) (1.0.8)\n",
      "Requirement already satisfied: filetype<2.0.0,>=1.2.0 in c:\\users\\muthu\\.conda\\envs\\llamaindex\\lib\\site-packages (from llama-index-core<0.12.0,>=0.11.0->llama-index-embeddings-ollama) (1.2.0)\n",
      "Requirement already satisfied: fsspec>=2023.5.0 in c:\\users\\muthu\\.conda\\envs\\llamaindex\\lib\\site-packages (from llama-index-core<0.12.0,>=0.11.0->llama-index-embeddings-ollama) (2024.9.0)\n",
      "Requirement already satisfied: httpx in c:\\users\\muthu\\.conda\\envs\\llamaindex\\lib\\site-packages (from llama-index-core<0.12.0,>=0.11.0->llama-index-embeddings-ollama) (0.27.2)\n",
      "Requirement already satisfied: nest-asyncio<2.0.0,>=1.5.8 in c:\\users\\muthu\\.conda\\envs\\llamaindex\\lib\\site-packages (from llama-index-core<0.12.0,>=0.11.0->llama-index-embeddings-ollama) (1.6.0)\n",
      "Requirement already satisfied: networkx>=3.0 in c:\\users\\muthu\\.conda\\envs\\llamaindex\\lib\\site-packages (from llama-index-core<0.12.0,>=0.11.0->llama-index-embeddings-ollama) (3.4.2)\n",
      "Requirement already satisfied: nltk>3.8.1 in c:\\users\\muthu\\.conda\\envs\\llamaindex\\lib\\site-packages (from llama-index-core<0.12.0,>=0.11.0->llama-index-embeddings-ollama) (3.9.1)\n",
      "Requirement already satisfied: numpy<2.0.0 in c:\\users\\muthu\\.conda\\envs\\llamaindex\\lib\\site-packages (from llama-index-core<0.12.0,>=0.11.0->llama-index-embeddings-ollama) (1.26.4)\n",
      "Requirement already satisfied: pillow>=9.0.0 in c:\\users\\muthu\\.conda\\envs\\llamaindex\\lib\\site-packages (from llama-index-core<0.12.0,>=0.11.0->llama-index-embeddings-ollama) (10.4.0)\n",
      "Requirement already satisfied: pydantic<3.0.0,>=2.7.0 in c:\\users\\muthu\\.conda\\envs\\llamaindex\\lib\\site-packages (from llama-index-core<0.12.0,>=0.11.0->llama-index-embeddings-ollama) (2.9.2)\n",
      "Requirement already satisfied: requests>=2.31.0 in c:\\users\\muthu\\.conda\\envs\\llamaindex\\lib\\site-packages (from llama-index-core<0.12.0,>=0.11.0->llama-index-embeddings-ollama) (2.32.3)\n",
      "Requirement already satisfied: tenacity!=8.4.0,<9.0.0,>=8.2.0 in c:\\users\\muthu\\.conda\\envs\\llamaindex\\lib\\site-packages (from llama-index-core<0.12.0,>=0.11.0->llama-index-embeddings-ollama) (8.5.0)\n",
      "Requirement already satisfied: tiktoken>=0.3.3 in c:\\users\\muthu\\.conda\\envs\\llamaindex\\lib\\site-packages (from llama-index-core<0.12.0,>=0.11.0->llama-index-embeddings-ollama) (0.8.0)\n",
      "Requirement already satisfied: tqdm<5.0.0,>=4.66.1 in c:\\users\\muthu\\.conda\\envs\\llamaindex\\lib\\site-packages (from llama-index-core<0.12.0,>=0.11.0->llama-index-embeddings-ollama) (4.67.0)\n",
      "Requirement already satisfied: typing-extensions>=4.5.0 in c:\\users\\muthu\\.conda\\envs\\llamaindex\\lib\\site-packages (from llama-index-core<0.12.0,>=0.11.0->llama-index-embeddings-ollama) (4.11.0)\n",
      "Requirement already satisfied: typing-inspect>=0.8.0 in c:\\users\\muthu\\.conda\\envs\\llamaindex\\lib\\site-packages (from llama-index-core<0.12.0,>=0.11.0->llama-index-embeddings-ollama) (0.9.0)\n",
      "Requirement already satisfied: wrapt in c:\\users\\muthu\\.conda\\envs\\llamaindex\\lib\\site-packages (from llama-index-core<0.12.0,>=0.11.0->llama-index-embeddings-ollama) (1.16.0)\n",
      "Requirement already satisfied: aiohappyeyeballs>=2.3.0 in c:\\users\\muthu\\.conda\\envs\\llamaindex\\lib\\site-packages (from aiohttp<4.0.0,>=3.8.6->llama-index-core<0.12.0,>=0.11.0->llama-index-embeddings-ollama) (2.4.3)\n",
      "Requirement already satisfied: aiosignal>=1.1.2 in c:\\users\\muthu\\.conda\\envs\\llamaindex\\lib\\site-packages (from aiohttp<4.0.0,>=3.8.6->llama-index-core<0.12.0,>=0.11.0->llama-index-embeddings-ollama) (1.3.1)\n",
      "Requirement already satisfied: attrs>=17.3.0 in c:\\users\\muthu\\.conda\\envs\\llamaindex\\lib\\site-packages (from aiohttp<4.0.0,>=3.8.6->llama-index-core<0.12.0,>=0.11.0->llama-index-embeddings-ollama) (24.2.0)\n",
      "Requirement already satisfied: frozenlist>=1.1.1 in c:\\users\\muthu\\.conda\\envs\\llamaindex\\lib\\site-packages (from aiohttp<4.0.0,>=3.8.6->llama-index-core<0.12.0,>=0.11.0->llama-index-embeddings-ollama) (1.5.0)\n",
      "Requirement already satisfied: multidict<7.0,>=4.5 in c:\\users\\muthu\\.conda\\envs\\llamaindex\\lib\\site-packages (from aiohttp<4.0.0,>=3.8.6->llama-index-core<0.12.0,>=0.11.0->llama-index-embeddings-ollama) (6.1.0)\n",
      "Requirement already satisfied: yarl<2.0,>=1.12.0 in c:\\users\\muthu\\.conda\\envs\\llamaindex\\lib\\site-packages (from aiohttp<4.0.0,>=3.8.6->llama-index-core<0.12.0,>=0.11.0->llama-index-embeddings-ollama) (1.17.1)\n",
      "Requirement already satisfied: anyio in c:\\users\\muthu\\.conda\\envs\\llamaindex\\lib\\site-packages (from httpx->llama-index-core<0.12.0,>=0.11.0->llama-index-embeddings-ollama) (4.6.2.post1)\n",
      "Requirement already satisfied: certifi in c:\\users\\muthu\\.conda\\envs\\llamaindex\\lib\\site-packages (from httpx->llama-index-core<0.12.0,>=0.11.0->llama-index-embeddings-ollama) (2024.8.30)\n",
      "Requirement already satisfied: httpcore==1.* in c:\\users\\muthu\\.conda\\envs\\llamaindex\\lib\\site-packages (from httpx->llama-index-core<0.12.0,>=0.11.0->llama-index-embeddings-ollama) (1.0.6)\n",
      "Requirement already satisfied: idna in c:\\users\\muthu\\.conda\\envs\\llamaindex\\lib\\site-packages (from httpx->llama-index-core<0.12.0,>=0.11.0->llama-index-embeddings-ollama) (3.10)\n",
      "Requirement already satisfied: sniffio in c:\\users\\muthu\\.conda\\envs\\llamaindex\\lib\\site-packages (from httpx->llama-index-core<0.12.0,>=0.11.0->llama-index-embeddings-ollama) (1.3.1)\n",
      "Requirement already satisfied: h11<0.15,>=0.13 in c:\\users\\muthu\\.conda\\envs\\llamaindex\\lib\\site-packages (from httpcore==1.*->httpx->llama-index-core<0.12.0,>=0.11.0->llama-index-embeddings-ollama) (0.14.0)\n",
      "Requirement already satisfied: click in c:\\users\\muthu\\.conda\\envs\\llamaindex\\lib\\site-packages (from nltk>3.8.1->llama-index-core<0.12.0,>=0.11.0->llama-index-embeddings-ollama) (8.1.7)\n",
      "Requirement already satisfied: joblib in c:\\users\\muthu\\.conda\\envs\\llamaindex\\lib\\site-packages (from nltk>3.8.1->llama-index-core<0.12.0,>=0.11.0->llama-index-embeddings-ollama) (1.4.2)\n",
      "Requirement already satisfied: regex>=2021.8.3 in c:\\users\\muthu\\.conda\\envs\\llamaindex\\lib\\site-packages (from nltk>3.8.1->llama-index-core<0.12.0,>=0.11.0->llama-index-embeddings-ollama) (2024.11.6)\n",
      "Requirement already satisfied: annotated-types>=0.6.0 in c:\\users\\muthu\\.conda\\envs\\llamaindex\\lib\\site-packages (from pydantic<3.0.0,>=2.7.0->llama-index-core<0.12.0,>=0.11.0->llama-index-embeddings-ollama) (0.7.0)\n",
      "Requirement already satisfied: pydantic-core==2.23.4 in c:\\users\\muthu\\.conda\\envs\\llamaindex\\lib\\site-packages (from pydantic<3.0.0,>=2.7.0->llama-index-core<0.12.0,>=0.11.0->llama-index-embeddings-ollama) (2.23.4)\n",
      "Requirement already satisfied: charset-normalizer<4,>=2 in c:\\users\\muthu\\.conda\\envs\\llamaindex\\lib\\site-packages (from requests>=2.31.0->llama-index-core<0.12.0,>=0.11.0->llama-index-embeddings-ollama) (3.4.0)\n",
      "Requirement already satisfied: urllib3<3,>=1.21.1 in c:\\users\\muthu\\.conda\\envs\\llamaindex\\lib\\site-packages (from requests>=2.31.0->llama-index-core<0.12.0,>=0.11.0->llama-index-embeddings-ollama) (2.2.3)\n",
      "Requirement already satisfied: greenlet!=0.4.17 in c:\\users\\muthu\\.conda\\envs\\llamaindex\\lib\\site-packages (from SQLAlchemy>=1.4.49->SQLAlchemy[asyncio]>=1.4.49->llama-index-core<0.12.0,>=0.11.0->llama-index-embeddings-ollama) (3.1.1)\n",
      "Requirement already satisfied: colorama in c:\\users\\muthu\\.conda\\envs\\llamaindex\\lib\\site-packages (from tqdm<5.0.0,>=4.66.1->llama-index-core<0.12.0,>=0.11.0->llama-index-embeddings-ollama) (0.4.6)\n",
      "Requirement already satisfied: mypy-extensions>=0.3.0 in c:\\users\\muthu\\.conda\\envs\\llamaindex\\lib\\site-packages (from typing-inspect>=0.8.0->llama-index-core<0.12.0,>=0.11.0->llama-index-embeddings-ollama) (1.0.0)\n",
      "Requirement already satisfied: marshmallow<4.0.0,>=3.18.0 in c:\\users\\muthu\\.conda\\envs\\llamaindex\\lib\\site-packages (from dataclasses-json->llama-index-core<0.12.0,>=0.11.0->llama-index-embeddings-ollama) (3.23.1)\n",
      "Requirement already satisfied: packaging>=17.0 in c:\\users\\muthu\\.conda\\envs\\llamaindex\\lib\\site-packages (from marshmallow<4.0.0,>=3.18.0->dataclasses-json->llama-index-core<0.12.0,>=0.11.0->llama-index-embeddings-ollama) (23.2)\n",
      "Requirement already satisfied: propcache>=0.2.0 in c:\\users\\muthu\\.conda\\envs\\llamaindex\\lib\\site-packages (from yarl<2.0,>=1.12.0->aiohttp<4.0.0,>=3.8.6->llama-index-core<0.12.0,>=0.11.0->llama-index-embeddings-ollama) (0.2.0)\n"
     ]
    }
   ],
   "source": [
    "!pip install llama-index-embeddings-ollama"
   ]
  },
  {
   "cell_type": "code",
   "execution_count": 56,
   "metadata": {},
   "outputs": [],
   "source": [
    "from llama_index.embeddings.ollama import OllamaEmbedding"
   ]
  },
  {
   "cell_type": "code",
   "execution_count": 58,
   "metadata": {},
   "outputs": [],
   "source": [
    "ollama_embedding = OllamaEmbedding(\n",
    "    model_name=\"nomic-embed-text:latest\",  # Replace with your desired model\n",
    "    base_url=\"http://localhost:11434\",  # Ensure Ollama is running at this endpoint\n",
    "    ollama_additional_kwargs={\"mirostat\": 0} #Mirostat is a technique for controlling perplexity and balancing the text generation process in large language models (LLMs).\n",
    ")    "
   ]
  },
  {
   "cell_type": "code",
   "execution_count": 59,
   "metadata": {},
   "outputs": [],
   "source": [
    "vector_index = VectorStoreIndex.from_documents(documents, embed_model=ollama_embedding)\n"
   ]
  },
  {
   "cell_type": "code",
   "execution_count": 60,
   "metadata": {},
   "outputs": [
    {
     "data": {
      "text/plain": [
       "29"
      ]
     },
     "execution_count": 60,
     "metadata": {},
     "output_type": "execute_result"
    }
   ],
   "source": [
    "len(vector_index.index_struct.nodes_dict)"
   ]
  },
  {
   "cell_type": "code",
   "execution_count": 61,
   "metadata": {},
   "outputs": [],
   "source": [
    "vector_index = VectorStoreIndex.from_documents(\n",
    "    documents,\n",
    "    embed_model=ollama_embedding,\n",
    "    transformations=[\n",
    "        SentenceSplitter(chunk_size=512, chunk_overlap=20, separator=\" \")\n",
    "    ]\n",
    ")"
   ]
  },
  {
   "cell_type": "code",
   "execution_count": 62,
   "metadata": {},
   "outputs": [
    {
     "data": {
      "text/plain": [
       "54"
      ]
     },
     "execution_count": 62,
     "metadata": {},
     "output_type": "execute_result"
    }
   ],
   "source": [
    "len(vector_index.index_struct.nodes_dict)"
   ]
  },
  {
   "cell_type": "code",
   "execution_count": 63,
   "metadata": {},
   "outputs": [
    {
     "data": {
      "text/plain": [
       "{'8f946b8d-296a-45f9-b1a1-ae895141717a': RefDocInfo(node_ids=['2d7b9fab-61a8-40ae-b5af-11c56ccf469e', '3a3b963f-2261-4e35-9ef7-a1bf374ed145', '19c3fc05-a709-4d1e-b7a1-ade489827db9'], metadata={'page_label': '1', 'file_name': '2022 Q3 AAPL.pdf', 'file_path': '..\\\\data\\\\2022 Q3 AAPL.pdf', 'file_type': 'application/pdf', 'file_size': 266240, 'creation_date': '2024-11-13', 'last_modified_date': '2024-11-13'}),\n",
       " '6604251f-b600-41bc-acf2-71c654dd2e26': RefDocInfo(node_ids=['3c1963d4-08d0-4067-a6ec-253ee893e451'], metadata={'page_label': '2', 'file_name': '2022 Q3 AAPL.pdf', 'file_path': '..\\\\data\\\\2022 Q3 AAPL.pdf', 'file_type': 'application/pdf', 'file_size': 266240, 'creation_date': '2024-11-13', 'last_modified_date': '2024-11-13'}),\n",
       " '8585ffa4-6174-447b-b3ff-4f2042ca1a0e': RefDocInfo(node_ids=['477075f0-b53b-44e9-84e2-ae00d90dcf54'], metadata={'page_label': '3', 'file_name': '2022 Q3 AAPL.pdf', 'file_path': '..\\\\data\\\\2022 Q3 AAPL.pdf', 'file_type': 'application/pdf', 'file_size': 266240, 'creation_date': '2024-11-13', 'last_modified_date': '2024-11-13'}),\n",
       " '0d27d218-8391-4af8-badb-50f8136083a8': RefDocInfo(node_ids=['324b3ccb-70b1-45ce-b06f-5d367cb61ad3', '91480826-8325-4b22-9db2-f9a8d9bbc63c'], metadata={'page_label': '4', 'file_name': '2022 Q3 AAPL.pdf', 'file_path': '..\\\\data\\\\2022 Q3 AAPL.pdf', 'file_type': 'application/pdf', 'file_size': 266240, 'creation_date': '2024-11-13', 'last_modified_date': '2024-11-13'}),\n",
       " '22ec73ea-7b31-44f2-a32a-1ea634d02e3c': RefDocInfo(node_ids=['74313669-f626-4db1-8890-a0e8275a4e05'], metadata={'page_label': '5', 'file_name': '2022 Q3 AAPL.pdf', 'file_path': '..\\\\data\\\\2022 Q3 AAPL.pdf', 'file_type': 'application/pdf', 'file_size': 266240, 'creation_date': '2024-11-13', 'last_modified_date': '2024-11-13'}),\n",
       " '91bd9a6b-852b-44d0-8fac-2bb2550789f9': RefDocInfo(node_ids=['a858982e-f455-442c-a451-05c5912b8a37', 'e7768b3f-2253-4857-982e-1a8c504b7dd2'], metadata={'page_label': '6', 'file_name': '2022 Q3 AAPL.pdf', 'file_path': '..\\\\data\\\\2022 Q3 AAPL.pdf', 'file_type': 'application/pdf', 'file_size': 266240, 'creation_date': '2024-11-13', 'last_modified_date': '2024-11-13'}),\n",
       " '021e1fcf-1a88-428c-b04e-fb1e3edbe2fa': RefDocInfo(node_ids=['4abcae6d-909b-475a-9510-ac849d6ba35b', '98613a23-4e17-40bc-9c6a-69d7f526065a'], metadata={'page_label': '7', 'file_name': '2022 Q3 AAPL.pdf', 'file_path': '..\\\\data\\\\2022 Q3 AAPL.pdf', 'file_type': 'application/pdf', 'file_size': 266240, 'creation_date': '2024-11-13', 'last_modified_date': '2024-11-13'}),\n",
       " '5d156492-1904-4172-b46e-52901256c968': RefDocInfo(node_ids=['24bb929e-60b6-4564-9cd0-7f36227e2ae0', '110a0927-a589-4f17-90af-c6656a791f83'], metadata={'page_label': '8', 'file_name': '2022 Q3 AAPL.pdf', 'file_path': '..\\\\data\\\\2022 Q3 AAPL.pdf', 'file_type': 'application/pdf', 'file_size': 266240, 'creation_date': '2024-11-13', 'last_modified_date': '2024-11-13'}),\n",
       " 'c3caf9a2-803b-47fe-a98c-845c86187f94': RefDocInfo(node_ids=['eb9a2316-708c-426d-9ad6-738f41c7b1e2', 'ca47c2cc-c085-4f3f-b63b-3f89d92afee8'], metadata={'page_label': '9', 'file_name': '2022 Q3 AAPL.pdf', 'file_path': '..\\\\data\\\\2022 Q3 AAPL.pdf', 'file_type': 'application/pdf', 'file_size': 266240, 'creation_date': '2024-11-13', 'last_modified_date': '2024-11-13'}),\n",
       " 'eafffe48-7338-4413-bbdf-782414e2f671': RefDocInfo(node_ids=['e64b8e7b-bebd-40b3-bfe9-7bd100b55332', '259a64e2-66b1-46b8-906e-d21dfdb0f40e'], metadata={'page_label': '10', 'file_name': '2022 Q3 AAPL.pdf', 'file_path': '..\\\\data\\\\2022 Q3 AAPL.pdf', 'file_type': 'application/pdf', 'file_size': 266240, 'creation_date': '2024-11-13', 'last_modified_date': '2024-11-13'}),\n",
       " 'e43c15a6-5b61-4d03-a2c0-18ec3ec1e0df': RefDocInfo(node_ids=['aaccd23c-d9e3-4663-8ed1-2df5a590e5b7', 'ea3d223b-ef81-4b13-adf7-e0c003672cfc', '782f1421-1ba9-4574-a209-4ef00b2c8e03'], metadata={'page_label': '11', 'file_name': '2022 Q3 AAPL.pdf', 'file_path': '..\\\\data\\\\2022 Q3 AAPL.pdf', 'file_type': 'application/pdf', 'file_size': 266240, 'creation_date': '2024-11-13', 'last_modified_date': '2024-11-13'}),\n",
       " '3e2ab46e-0773-4ad9-aa8a-13c5f50e3727': RefDocInfo(node_ids=['5f0cdae6-f540-4e7b-ac79-2ff9bcd9f1e3', '2c9d18f0-b2f9-4bfb-a0c4-9123291bf589'], metadata={'page_label': '12', 'file_name': '2022 Q3 AAPL.pdf', 'file_path': '..\\\\data\\\\2022 Q3 AAPL.pdf', 'file_type': 'application/pdf', 'file_size': 266240, 'creation_date': '2024-11-13', 'last_modified_date': '2024-11-13'}),\n",
       " '1b552a20-2b10-4c11-a64f-3fbabd50f2fe': RefDocInfo(node_ids=['750b31a1-16ea-43be-8eab-a73440090e3e', 'dee76c74-6873-4eb6-8962-17c0bf7f84e4'], metadata={'page_label': '13', 'file_name': '2022 Q3 AAPL.pdf', 'file_path': '..\\\\data\\\\2022 Q3 AAPL.pdf', 'file_type': 'application/pdf', 'file_size': 266240, 'creation_date': '2024-11-13', 'last_modified_date': '2024-11-13'}),\n",
       " 'ac4f5c98-e309-4a24-b554-8cce8180f72c': RefDocInfo(node_ids=['dd46a8ad-6ccc-4727-b1bb-c32dcb7516b5', '932a13da-fb47-4878-a486-0254995a633c'], metadata={'page_label': '14', 'file_name': '2022 Q3 AAPL.pdf', 'file_path': '..\\\\data\\\\2022 Q3 AAPL.pdf', 'file_type': 'application/pdf', 'file_size': 266240, 'creation_date': '2024-11-13', 'last_modified_date': '2024-11-13'}),\n",
       " '849d4b32-95fb-4b05-8c51-74dfda055e5c': RefDocInfo(node_ids=['3699427b-52ca-48dd-a3e7-d45c894f55b0', '30700a9e-2529-4ec6-950f-3d11fcbb66ca'], metadata={'page_label': '15', 'file_name': '2022 Q3 AAPL.pdf', 'file_path': '..\\\\data\\\\2022 Q3 AAPL.pdf', 'file_type': 'application/pdf', 'file_size': 266240, 'creation_date': '2024-11-13', 'last_modified_date': '2024-11-13'}),\n",
       " 'b2d3a34a-9d9a-4ddc-b40d-82f6993f38ea': RefDocInfo(node_ids=['031163a3-250b-40bf-be00-220a6f606607', '7d5f2b19-b478-4b62-8bac-ecf69d777d48'], metadata={'page_label': '16', 'file_name': '2022 Q3 AAPL.pdf', 'file_path': '..\\\\data\\\\2022 Q3 AAPL.pdf', 'file_type': 'application/pdf', 'file_size': 266240, 'creation_date': '2024-11-13', 'last_modified_date': '2024-11-13'}),\n",
       " 'bf17d53a-6e0f-4a3e-9adc-687d2e07273d': RefDocInfo(node_ids=['b31787bc-32a7-437e-89ed-d70a6a7b2c57', '1ef400cc-716b-4e07-9ef4-60fa0e023796'], metadata={'page_label': '17', 'file_name': '2022 Q3 AAPL.pdf', 'file_path': '..\\\\data\\\\2022 Q3 AAPL.pdf', 'file_type': 'application/pdf', 'file_size': 266240, 'creation_date': '2024-11-13', 'last_modified_date': '2024-11-13'}),\n",
       " 'e56248af-82e1-4457-9166-e72b536d1486': RefDocInfo(node_ids=['7522bbd0-be72-4d35-85ac-e0f870b05ca7', '4618a050-ad99-4793-b18f-621167a2e709'], metadata={'page_label': '18', 'file_name': '2022 Q3 AAPL.pdf', 'file_path': '..\\\\data\\\\2022 Q3 AAPL.pdf', 'file_type': 'application/pdf', 'file_size': 266240, 'creation_date': '2024-11-13', 'last_modified_date': '2024-11-13'}),\n",
       " 'fd8a104b-0745-4eff-a30d-b109b634e9c7': RefDocInfo(node_ids=['8992d20a-2870-46db-9251-d2f61e4f191d', 'e2d621a2-29c6-40f3-b4f4-2cd4322180c5', 'e760c8b8-a029-4b34-8773-a2be00f5866b'], metadata={'page_label': '19', 'file_name': '2022 Q3 AAPL.pdf', 'file_path': '..\\\\data\\\\2022 Q3 AAPL.pdf', 'file_type': 'application/pdf', 'file_size': 266240, 'creation_date': '2024-11-13', 'last_modified_date': '2024-11-13'}),\n",
       " '466595b2-6cb4-4639-abfa-bf76eb57aad2': RefDocInfo(node_ids=['3997ece6-32e2-45e3-b3a1-fa85678a5386', '9514b979-6e12-4227-83ed-ecb851bc4882'], metadata={'page_label': '20', 'file_name': '2022 Q3 AAPL.pdf', 'file_path': '..\\\\data\\\\2022 Q3 AAPL.pdf', 'file_type': 'application/pdf', 'file_size': 266240, 'creation_date': '2024-11-13', 'last_modified_date': '2024-11-13'}),\n",
       " 'dff41413-c135-4647-9814-9b5a6df551b7': RefDocInfo(node_ids=['b57dc9f4-9c83-46c5-8e82-82cf5eeea8af', 'c86dee29-0fb4-42ac-ae3a-556fc63f865b'], metadata={'page_label': '21', 'file_name': '2022 Q3 AAPL.pdf', 'file_path': '..\\\\data\\\\2022 Q3 AAPL.pdf', 'file_type': 'application/pdf', 'file_size': 266240, 'creation_date': '2024-11-13', 'last_modified_date': '2024-11-13'}),\n",
       " 'f2b6167a-a665-45f0-ae5b-d8eac123a926': RefDocInfo(node_ids=['ffd75554-104e-484a-89fb-1ffb54899db4', '5fc87ec4-a5c7-49f8-b28d-48f0f0043b99', '54d33209-2ea7-4e40-be37-bdeaa9efadc6'], metadata={'page_label': '22', 'file_name': '2022 Q3 AAPL.pdf', 'file_path': '..\\\\data\\\\2022 Q3 AAPL.pdf', 'file_type': 'application/pdf', 'file_size': 266240, 'creation_date': '2024-11-13', 'last_modified_date': '2024-11-13'}),\n",
       " 'f5c0bafc-c9d7-4783-8ca2-44c4d52562f5': RefDocInfo(node_ids=['9a9fe7d5-a41d-468d-81c5-06ec957a6807', 'c5411e4b-8e71-4e22-a543-0e5dcb719d60'], metadata={'page_label': '23', 'file_name': '2022 Q3 AAPL.pdf', 'file_path': '..\\\\data\\\\2022 Q3 AAPL.pdf', 'file_type': 'application/pdf', 'file_size': 266240, 'creation_date': '2024-11-13', 'last_modified_date': '2024-11-13'}),\n",
       " 'e4d92c7f-0d45-4f72-862b-5bc9142cd251': RefDocInfo(node_ids=['3cdfd1b0-d3f6-40d2-b872-cd94ecf313a4'], metadata={'page_label': '24', 'file_name': '2022 Q3 AAPL.pdf', 'file_path': '..\\\\data\\\\2022 Q3 AAPL.pdf', 'file_type': 'application/pdf', 'file_size': 266240, 'creation_date': '2024-11-13', 'last_modified_date': '2024-11-13'}),\n",
       " '9a58648e-1ef2-4284-8445-5987fc6483e4': RefDocInfo(node_ids=['0f6f2f3e-d9b5-4521-9466-c80a2220a1c3'], metadata={'page_label': '25', 'file_name': '2022 Q3 AAPL.pdf', 'file_path': '..\\\\data\\\\2022 Q3 AAPL.pdf', 'file_type': 'application/pdf', 'file_size': 266240, 'creation_date': '2024-11-13', 'last_modified_date': '2024-11-13'}),\n",
       " 'ae382dda-d27a-4a54-81e0-d96540817e5b': RefDocInfo(node_ids=['0df46e65-0eee-4e45-8339-96d090fa5f35', 'd11f3608-521f-4a28-8f62-e981e3a47efe'], metadata={'page_label': '26', 'file_name': '2022 Q3 AAPL.pdf', 'file_path': '..\\\\data\\\\2022 Q3 AAPL.pdf', 'file_type': 'application/pdf', 'file_size': 266240, 'creation_date': '2024-11-13', 'last_modified_date': '2024-11-13'}),\n",
       " 'de2d6491-3cd9-485e-ac5b-8395864f7aa9': RefDocInfo(node_ids=['527d9c0e-6a6f-4004-84db-5bfc4adc12d3', '0d3093ee-46d5-43a9-8c52-defa44ba3174'], metadata={'page_label': '27', 'file_name': '2022 Q3 AAPL.pdf', 'file_path': '..\\\\data\\\\2022 Q3 AAPL.pdf', 'file_type': 'application/pdf', 'file_size': 266240, 'creation_date': '2024-11-13', 'last_modified_date': '2024-11-13'}),\n",
       " '62fad6c5-a2f6-434a-ba5c-ec1211b30f71': RefDocInfo(node_ids=['891052cb-3f89-4420-ae25-1d700b6c035c'], metadata={'page_label': '28', 'file_name': '2022 Q3 AAPL.pdf', 'file_path': '..\\\\data\\\\2022 Q3 AAPL.pdf', 'file_type': 'application/pdf', 'file_size': 266240, 'creation_date': '2024-11-13', 'last_modified_date': '2024-11-13'})}"
      ]
     },
     "execution_count": 63,
     "metadata": {},
     "output_type": "execute_result"
    }
   ],
   "source": [
    "vector_index.ref_doc_info"
   ]
  },
  {
   "cell_type": "code",
   "execution_count": 64,
   "metadata": {},
   "outputs": [
    {
     "data": {
      "text/plain": [
       "'4137e8b9-987b-4244-ab95-29705b80c3ca'"
      ]
     },
     "execution_count": 64,
     "metadata": {},
     "output_type": "execute_result"
    }
   ],
   "source": [
    "vector_index.index_id\n"
   ]
  },
  {
   "cell_type": "code",
   "execution_count": 65,
   "metadata": {},
   "outputs": [
    {
     "data": {
      "text/plain": [
       "'4137e8b9-987b-4244-ab95-29705b80c3ca'"
      ]
     },
     "execution_count": 65,
     "metadata": {},
     "output_type": "execute_result"
    }
   ],
   "source": [
    "vector_index.index_struct.index_id"
   ]
  },
  {
   "cell_type": "code",
   "execution_count": 66,
   "metadata": {},
   "outputs": [
    {
     "data": {
      "text/plain": [
       "{'index_id': '4137e8b9-987b-4244-ab95-29705b80c3ca',\n",
       " 'summary': None,\n",
       " 'nodes_dict': {'2d7b9fab-61a8-40ae-b5af-11c56ccf469e': '2d7b9fab-61a8-40ae-b5af-11c56ccf469e',\n",
       "  '3a3b963f-2261-4e35-9ef7-a1bf374ed145': '3a3b963f-2261-4e35-9ef7-a1bf374ed145',\n",
       "  '19c3fc05-a709-4d1e-b7a1-ade489827db9': '19c3fc05-a709-4d1e-b7a1-ade489827db9',\n",
       "  '3c1963d4-08d0-4067-a6ec-253ee893e451': '3c1963d4-08d0-4067-a6ec-253ee893e451',\n",
       "  '477075f0-b53b-44e9-84e2-ae00d90dcf54': '477075f0-b53b-44e9-84e2-ae00d90dcf54',\n",
       "  '324b3ccb-70b1-45ce-b06f-5d367cb61ad3': '324b3ccb-70b1-45ce-b06f-5d367cb61ad3',\n",
       "  '91480826-8325-4b22-9db2-f9a8d9bbc63c': '91480826-8325-4b22-9db2-f9a8d9bbc63c',\n",
       "  '74313669-f626-4db1-8890-a0e8275a4e05': '74313669-f626-4db1-8890-a0e8275a4e05',\n",
       "  'a858982e-f455-442c-a451-05c5912b8a37': 'a858982e-f455-442c-a451-05c5912b8a37',\n",
       "  'e7768b3f-2253-4857-982e-1a8c504b7dd2': 'e7768b3f-2253-4857-982e-1a8c504b7dd2',\n",
       "  '4abcae6d-909b-475a-9510-ac849d6ba35b': '4abcae6d-909b-475a-9510-ac849d6ba35b',\n",
       "  '98613a23-4e17-40bc-9c6a-69d7f526065a': '98613a23-4e17-40bc-9c6a-69d7f526065a',\n",
       "  '24bb929e-60b6-4564-9cd0-7f36227e2ae0': '24bb929e-60b6-4564-9cd0-7f36227e2ae0',\n",
       "  '110a0927-a589-4f17-90af-c6656a791f83': '110a0927-a589-4f17-90af-c6656a791f83',\n",
       "  'eb9a2316-708c-426d-9ad6-738f41c7b1e2': 'eb9a2316-708c-426d-9ad6-738f41c7b1e2',\n",
       "  'ca47c2cc-c085-4f3f-b63b-3f89d92afee8': 'ca47c2cc-c085-4f3f-b63b-3f89d92afee8',\n",
       "  'e64b8e7b-bebd-40b3-bfe9-7bd100b55332': 'e64b8e7b-bebd-40b3-bfe9-7bd100b55332',\n",
       "  '259a64e2-66b1-46b8-906e-d21dfdb0f40e': '259a64e2-66b1-46b8-906e-d21dfdb0f40e',\n",
       "  'aaccd23c-d9e3-4663-8ed1-2df5a590e5b7': 'aaccd23c-d9e3-4663-8ed1-2df5a590e5b7',\n",
       "  'ea3d223b-ef81-4b13-adf7-e0c003672cfc': 'ea3d223b-ef81-4b13-adf7-e0c003672cfc',\n",
       "  '782f1421-1ba9-4574-a209-4ef00b2c8e03': '782f1421-1ba9-4574-a209-4ef00b2c8e03',\n",
       "  '5f0cdae6-f540-4e7b-ac79-2ff9bcd9f1e3': '5f0cdae6-f540-4e7b-ac79-2ff9bcd9f1e3',\n",
       "  '2c9d18f0-b2f9-4bfb-a0c4-9123291bf589': '2c9d18f0-b2f9-4bfb-a0c4-9123291bf589',\n",
       "  '750b31a1-16ea-43be-8eab-a73440090e3e': '750b31a1-16ea-43be-8eab-a73440090e3e',\n",
       "  'dee76c74-6873-4eb6-8962-17c0bf7f84e4': 'dee76c74-6873-4eb6-8962-17c0bf7f84e4',\n",
       "  'dd46a8ad-6ccc-4727-b1bb-c32dcb7516b5': 'dd46a8ad-6ccc-4727-b1bb-c32dcb7516b5',\n",
       "  '932a13da-fb47-4878-a486-0254995a633c': '932a13da-fb47-4878-a486-0254995a633c',\n",
       "  '3699427b-52ca-48dd-a3e7-d45c894f55b0': '3699427b-52ca-48dd-a3e7-d45c894f55b0',\n",
       "  '30700a9e-2529-4ec6-950f-3d11fcbb66ca': '30700a9e-2529-4ec6-950f-3d11fcbb66ca',\n",
       "  '031163a3-250b-40bf-be00-220a6f606607': '031163a3-250b-40bf-be00-220a6f606607',\n",
       "  '7d5f2b19-b478-4b62-8bac-ecf69d777d48': '7d5f2b19-b478-4b62-8bac-ecf69d777d48',\n",
       "  'b31787bc-32a7-437e-89ed-d70a6a7b2c57': 'b31787bc-32a7-437e-89ed-d70a6a7b2c57',\n",
       "  '1ef400cc-716b-4e07-9ef4-60fa0e023796': '1ef400cc-716b-4e07-9ef4-60fa0e023796',\n",
       "  '7522bbd0-be72-4d35-85ac-e0f870b05ca7': '7522bbd0-be72-4d35-85ac-e0f870b05ca7',\n",
       "  '4618a050-ad99-4793-b18f-621167a2e709': '4618a050-ad99-4793-b18f-621167a2e709',\n",
       "  '8992d20a-2870-46db-9251-d2f61e4f191d': '8992d20a-2870-46db-9251-d2f61e4f191d',\n",
       "  'e2d621a2-29c6-40f3-b4f4-2cd4322180c5': 'e2d621a2-29c6-40f3-b4f4-2cd4322180c5',\n",
       "  'e760c8b8-a029-4b34-8773-a2be00f5866b': 'e760c8b8-a029-4b34-8773-a2be00f5866b',\n",
       "  '3997ece6-32e2-45e3-b3a1-fa85678a5386': '3997ece6-32e2-45e3-b3a1-fa85678a5386',\n",
       "  '9514b979-6e12-4227-83ed-ecb851bc4882': '9514b979-6e12-4227-83ed-ecb851bc4882',\n",
       "  'b57dc9f4-9c83-46c5-8e82-82cf5eeea8af': 'b57dc9f4-9c83-46c5-8e82-82cf5eeea8af',\n",
       "  'c86dee29-0fb4-42ac-ae3a-556fc63f865b': 'c86dee29-0fb4-42ac-ae3a-556fc63f865b',\n",
       "  'ffd75554-104e-484a-89fb-1ffb54899db4': 'ffd75554-104e-484a-89fb-1ffb54899db4',\n",
       "  '5fc87ec4-a5c7-49f8-b28d-48f0f0043b99': '5fc87ec4-a5c7-49f8-b28d-48f0f0043b99',\n",
       "  '54d33209-2ea7-4e40-be37-bdeaa9efadc6': '54d33209-2ea7-4e40-be37-bdeaa9efadc6',\n",
       "  '9a9fe7d5-a41d-468d-81c5-06ec957a6807': '9a9fe7d5-a41d-468d-81c5-06ec957a6807',\n",
       "  'c5411e4b-8e71-4e22-a543-0e5dcb719d60': 'c5411e4b-8e71-4e22-a543-0e5dcb719d60',\n",
       "  '3cdfd1b0-d3f6-40d2-b872-cd94ecf313a4': '3cdfd1b0-d3f6-40d2-b872-cd94ecf313a4',\n",
       "  '0f6f2f3e-d9b5-4521-9466-c80a2220a1c3': '0f6f2f3e-d9b5-4521-9466-c80a2220a1c3',\n",
       "  '0df46e65-0eee-4e45-8339-96d090fa5f35': '0df46e65-0eee-4e45-8339-96d090fa5f35',\n",
       "  'd11f3608-521f-4a28-8f62-e981e3a47efe': 'd11f3608-521f-4a28-8f62-e981e3a47efe',\n",
       "  '527d9c0e-6a6f-4004-84db-5bfc4adc12d3': '527d9c0e-6a6f-4004-84db-5bfc4adc12d3',\n",
       "  '0d3093ee-46d5-43a9-8c52-defa44ba3174': '0d3093ee-46d5-43a9-8c52-defa44ba3174',\n",
       "  '891052cb-3f89-4420-ae25-1d700b6c035c': '891052cb-3f89-4420-ae25-1d700b6c035c'},\n",
       " 'doc_id_dict': {},\n",
       " 'embeddings_dict': {}}"
      ]
     },
     "execution_count": 66,
     "metadata": {},
     "output_type": "execute_result"
    }
   ],
   "source": [
    "vector_index.index_struct.to_dict()"
   ]
  },
  {
   "cell_type": "code",
   "execution_count": 67,
   "metadata": {},
   "outputs": [
    {
     "data": {
      "text/plain": [
       "{'2d7b9fab-61a8-40ae-b5af-11c56ccf469e': '2d7b9fab-61a8-40ae-b5af-11c56ccf469e',\n",
       " '3a3b963f-2261-4e35-9ef7-a1bf374ed145': '3a3b963f-2261-4e35-9ef7-a1bf374ed145',\n",
       " '19c3fc05-a709-4d1e-b7a1-ade489827db9': '19c3fc05-a709-4d1e-b7a1-ade489827db9',\n",
       " '3c1963d4-08d0-4067-a6ec-253ee893e451': '3c1963d4-08d0-4067-a6ec-253ee893e451',\n",
       " '477075f0-b53b-44e9-84e2-ae00d90dcf54': '477075f0-b53b-44e9-84e2-ae00d90dcf54',\n",
       " '324b3ccb-70b1-45ce-b06f-5d367cb61ad3': '324b3ccb-70b1-45ce-b06f-5d367cb61ad3',\n",
       " '91480826-8325-4b22-9db2-f9a8d9bbc63c': '91480826-8325-4b22-9db2-f9a8d9bbc63c',\n",
       " '74313669-f626-4db1-8890-a0e8275a4e05': '74313669-f626-4db1-8890-a0e8275a4e05',\n",
       " 'a858982e-f455-442c-a451-05c5912b8a37': 'a858982e-f455-442c-a451-05c5912b8a37',\n",
       " 'e7768b3f-2253-4857-982e-1a8c504b7dd2': 'e7768b3f-2253-4857-982e-1a8c504b7dd2',\n",
       " '4abcae6d-909b-475a-9510-ac849d6ba35b': '4abcae6d-909b-475a-9510-ac849d6ba35b',\n",
       " '98613a23-4e17-40bc-9c6a-69d7f526065a': '98613a23-4e17-40bc-9c6a-69d7f526065a',\n",
       " '24bb929e-60b6-4564-9cd0-7f36227e2ae0': '24bb929e-60b6-4564-9cd0-7f36227e2ae0',\n",
       " '110a0927-a589-4f17-90af-c6656a791f83': '110a0927-a589-4f17-90af-c6656a791f83',\n",
       " 'eb9a2316-708c-426d-9ad6-738f41c7b1e2': 'eb9a2316-708c-426d-9ad6-738f41c7b1e2',\n",
       " 'ca47c2cc-c085-4f3f-b63b-3f89d92afee8': 'ca47c2cc-c085-4f3f-b63b-3f89d92afee8',\n",
       " 'e64b8e7b-bebd-40b3-bfe9-7bd100b55332': 'e64b8e7b-bebd-40b3-bfe9-7bd100b55332',\n",
       " '259a64e2-66b1-46b8-906e-d21dfdb0f40e': '259a64e2-66b1-46b8-906e-d21dfdb0f40e',\n",
       " 'aaccd23c-d9e3-4663-8ed1-2df5a590e5b7': 'aaccd23c-d9e3-4663-8ed1-2df5a590e5b7',\n",
       " 'ea3d223b-ef81-4b13-adf7-e0c003672cfc': 'ea3d223b-ef81-4b13-adf7-e0c003672cfc',\n",
       " '782f1421-1ba9-4574-a209-4ef00b2c8e03': '782f1421-1ba9-4574-a209-4ef00b2c8e03',\n",
       " '5f0cdae6-f540-4e7b-ac79-2ff9bcd9f1e3': '5f0cdae6-f540-4e7b-ac79-2ff9bcd9f1e3',\n",
       " '2c9d18f0-b2f9-4bfb-a0c4-9123291bf589': '2c9d18f0-b2f9-4bfb-a0c4-9123291bf589',\n",
       " '750b31a1-16ea-43be-8eab-a73440090e3e': '750b31a1-16ea-43be-8eab-a73440090e3e',\n",
       " 'dee76c74-6873-4eb6-8962-17c0bf7f84e4': 'dee76c74-6873-4eb6-8962-17c0bf7f84e4',\n",
       " 'dd46a8ad-6ccc-4727-b1bb-c32dcb7516b5': 'dd46a8ad-6ccc-4727-b1bb-c32dcb7516b5',\n",
       " '932a13da-fb47-4878-a486-0254995a633c': '932a13da-fb47-4878-a486-0254995a633c',\n",
       " '3699427b-52ca-48dd-a3e7-d45c894f55b0': '3699427b-52ca-48dd-a3e7-d45c894f55b0',\n",
       " '30700a9e-2529-4ec6-950f-3d11fcbb66ca': '30700a9e-2529-4ec6-950f-3d11fcbb66ca',\n",
       " '031163a3-250b-40bf-be00-220a6f606607': '031163a3-250b-40bf-be00-220a6f606607',\n",
       " '7d5f2b19-b478-4b62-8bac-ecf69d777d48': '7d5f2b19-b478-4b62-8bac-ecf69d777d48',\n",
       " 'b31787bc-32a7-437e-89ed-d70a6a7b2c57': 'b31787bc-32a7-437e-89ed-d70a6a7b2c57',\n",
       " '1ef400cc-716b-4e07-9ef4-60fa0e023796': '1ef400cc-716b-4e07-9ef4-60fa0e023796',\n",
       " '7522bbd0-be72-4d35-85ac-e0f870b05ca7': '7522bbd0-be72-4d35-85ac-e0f870b05ca7',\n",
       " '4618a050-ad99-4793-b18f-621167a2e709': '4618a050-ad99-4793-b18f-621167a2e709',\n",
       " '8992d20a-2870-46db-9251-d2f61e4f191d': '8992d20a-2870-46db-9251-d2f61e4f191d',\n",
       " 'e2d621a2-29c6-40f3-b4f4-2cd4322180c5': 'e2d621a2-29c6-40f3-b4f4-2cd4322180c5',\n",
       " 'e760c8b8-a029-4b34-8773-a2be00f5866b': 'e760c8b8-a029-4b34-8773-a2be00f5866b',\n",
       " '3997ece6-32e2-45e3-b3a1-fa85678a5386': '3997ece6-32e2-45e3-b3a1-fa85678a5386',\n",
       " '9514b979-6e12-4227-83ed-ecb851bc4882': '9514b979-6e12-4227-83ed-ecb851bc4882',\n",
       " 'b57dc9f4-9c83-46c5-8e82-82cf5eeea8af': 'b57dc9f4-9c83-46c5-8e82-82cf5eeea8af',\n",
       " 'c86dee29-0fb4-42ac-ae3a-556fc63f865b': 'c86dee29-0fb4-42ac-ae3a-556fc63f865b',\n",
       " 'ffd75554-104e-484a-89fb-1ffb54899db4': 'ffd75554-104e-484a-89fb-1ffb54899db4',\n",
       " '5fc87ec4-a5c7-49f8-b28d-48f0f0043b99': '5fc87ec4-a5c7-49f8-b28d-48f0f0043b99',\n",
       " '54d33209-2ea7-4e40-be37-bdeaa9efadc6': '54d33209-2ea7-4e40-be37-bdeaa9efadc6',\n",
       " '9a9fe7d5-a41d-468d-81c5-06ec957a6807': '9a9fe7d5-a41d-468d-81c5-06ec957a6807',\n",
       " 'c5411e4b-8e71-4e22-a543-0e5dcb719d60': 'c5411e4b-8e71-4e22-a543-0e5dcb719d60',\n",
       " '3cdfd1b0-d3f6-40d2-b872-cd94ecf313a4': '3cdfd1b0-d3f6-40d2-b872-cd94ecf313a4',\n",
       " '0f6f2f3e-d9b5-4521-9466-c80a2220a1c3': '0f6f2f3e-d9b5-4521-9466-c80a2220a1c3',\n",
       " '0df46e65-0eee-4e45-8339-96d090fa5f35': '0df46e65-0eee-4e45-8339-96d090fa5f35',\n",
       " 'd11f3608-521f-4a28-8f62-e981e3a47efe': 'd11f3608-521f-4a28-8f62-e981e3a47efe',\n",
       " '527d9c0e-6a6f-4004-84db-5bfc4adc12d3': '527d9c0e-6a6f-4004-84db-5bfc4adc12d3',\n",
       " '0d3093ee-46d5-43a9-8c52-defa44ba3174': '0d3093ee-46d5-43a9-8c52-defa44ba3174',\n",
       " '891052cb-3f89-4420-ae25-1d700b6c035c': '891052cb-3f89-4420-ae25-1d700b6c035c'}"
      ]
     },
     "execution_count": 67,
     "metadata": {},
     "output_type": "execute_result"
    }
   ],
   "source": [
    "vector_index.index_struct.nodes_dict"
   ]
  },
  {
   "cell_type": "code",
   "execution_count": 68,
   "metadata": {},
   "outputs": [],
   "source": [
    "vector_index.vector_store.persist(\"vector_index_1.json\")\n"
   ]
  },
  {
   "cell_type": "code",
   "execution_count": 69,
   "metadata": {},
   "outputs": [],
   "source": [
    "vector_index.docstore.persist(\"vector_index_1_docstore.json\")\n"
   ]
  },
  {
   "cell_type": "code",
   "execution_count": 70,
   "metadata": {},
   "outputs": [],
   "source": [
    "vector_retriever = vector_index.as_retriever(similarity_top_k=3)\n"
   ]
  },
  {
   "cell_type": "code",
   "execution_count": 71,
   "metadata": {},
   "outputs": [],
   "source": [
    "result_nodes = vector_retriever.retrieve(\"How much of profit and sales growth achieved in this result?\")\n"
   ]
  },
  {
   "cell_type": "code",
   "execution_count": 73,
   "metadata": {},
   "outputs": [
    {
     "data": {
      "text/plain": [
       "3"
      ]
     },
     "execution_count": 73,
     "metadata": {},
     "output_type": "execute_result"
    }
   ],
   "source": [
    "len(result_nodes)"
   ]
  },
  {
   "cell_type": "code",
   "execution_count": 72,
   "metadata": {},
   "outputs": [
    {
     "data": {
      "text/plain": [
       "NodeWithScore(node=TextNode(id_='259a64e2-66b1-46b8-906e-d21dfdb0f40e', embedding=None, metadata={'page_label': '10', 'file_name': '2022 Q3 AAPL.pdf', 'file_path': '..\\\\data\\\\2022 Q3 AAPL.pdf', 'file_type': 'application/pdf', 'file_size': 266240, 'creation_date': '2024-11-13', 'last_modified_date': '2024-11-13'}, excluded_embed_metadata_keys=['file_name', 'file_type', 'file_size', 'creation_date', 'last_modified_date', 'last_accessed_date'], excluded_llm_metadata_keys=['file_name', 'file_type', 'file_size', 'creation_date', 'last_modified_date', 'last_accessed_date'], relationships={<NodeRelationship.SOURCE: '1'>: RelatedNodeInfo(node_id='eafffe48-7338-4413-bbdf-782414e2f671', node_type=<ObjectType.DOCUMENT: '4'>, metadata={'page_label': '10', 'file_name': '2022 Q3 AAPL.pdf', 'file_path': '..\\\\data\\\\2022 Q3 AAPL.pdf', 'file_type': 'application/pdf', 'file_size': 266240, 'creation_date': '2024-11-13', 'last_modified_date': '2024-11-13'}, hash='07ec76707318fa3876959cd6d1531859891dbfe8fa442402600aded9faf99b3e'), <NodeRelationship.PREVIOUS: '2'>: RelatedNodeInfo(node_id='e64b8e7b-bebd-40b3-bfe9-7bd100b55332', node_type=<ObjectType.TEXT: '1'>, metadata={'page_label': '10', 'file_name': '2022 Q3 AAPL.pdf', 'file_path': '..\\\\data\\\\2022 Q3 AAPL.pdf', 'file_type': 'application/pdf', 'file_size': 266240, 'creation_date': '2024-11-13', 'last_modified_date': '2024-11-13'}, hash='8e4e6401640a232634981398d1d5dcb4383801db7b8fc4597a005704c573d490')}, text='The Company’s proportion of net sales by disaggregated revenue source was generally consistent for each reportable segment in Note 9, “Segment Information\\nand Geographic Data” for the three- and nine-month periods ended June 25, 2022 and June 26, 2021, except in Greater China, where iPhone revenuerepresented a moderately higher proportion of net sales.\\nAs of June 25, 2022 and September 25, 2021, the Company had total deferred revenue of $12.2 billion and $11.9 billion, respectively. As of June 25, 2022, the\\nCompany expects 63% of total deferred revenue to be realized in less than a year, 27% within one-to-two years, 8% within two-to-three years and 2% in greaterthan three years.\\n® (1)\\n®(1)\\n® (1)\\n(1)(2)\\n(3)\\n(4)\\n® ® ® ® ®\\n®\\nApple Inc. | Q3 2022 Form 10-Q | 7', mimetype='text/plain', start_char_idx=1672, end_char_idx=2438, text_template='{metadata_str}\\n\\n{content}', metadata_template='{key}: {value}', metadata_seperator='\\n'), score=0.5979293953198607)"
      ]
     },
     "execution_count": 72,
     "metadata": {},
     "output_type": "execute_result"
    }
   ],
   "source": [
    "result_nodes[0]"
   ]
  },
  {
   "cell_type": "code",
   "execution_count": null,
   "metadata": {},
   "outputs": [],
   "source": [
    "result_nodes[0].dict().keys()"
   ]
  },
  {
   "cell_type": "code",
   "execution_count": 75,
   "metadata": {},
   "outputs": [
    {
     "name": "stdout",
     "output_type": "stream",
     "text": [
      "Node Id: 259a64e2-66b1-46b8-906e-d21dfdb0f40e\n",
      "Metadata: {'page_label': '10', 'file_name': '2022 Q3 AAPL.pdf', 'file_path': '..\\\\data\\\\2022 Q3 AAPL.pdf', 'file_type': 'application/pdf', 'file_size': 266240, 'creation_date': '2024-11-13', 'last_modified_date': '2024-11-13'}\n",
      "Score: 0.5979293953198607\n",
      "------------------------------------\n",
      "Node Id: e2d621a2-29c6-40f3-b4f4-2cd4322180c5\n",
      "Metadata: {'page_label': '19', 'file_name': '2022 Q3 AAPL.pdf', 'file_path': '..\\\\data\\\\2022 Q3 AAPL.pdf', 'file_type': 'application/pdf', 'file_size': 266240, 'creation_date': '2024-11-13', 'last_modified_date': '2024-11-13'}\n",
      "Score: 0.5946178802039487\n",
      "------------------------------------\n",
      "Node Id: 8992d20a-2870-46db-9251-d2f61e4f191d\n",
      "Metadata: {'page_label': '19', 'file_name': '2022 Q3 AAPL.pdf', 'file_path': '..\\\\data\\\\2022 Q3 AAPL.pdf', 'file_type': 'application/pdf', 'file_size': 266240, 'creation_date': '2024-11-13', 'last_modified_date': '2024-11-13'}\n",
      "Score: 0.5844600299091438\n",
      "------------------------------------\n"
     ]
    }
   ],
   "source": [
    "for node in result_nodes:\n",
    "  print(\"Node Id:\",node.id_)\n",
    "  print(\"Metadata:\",node.metadata)\n",
    "  print(\"Score:\",node.get_score())\n",
    "  #print(\"Text:\",node.get_text())\n",
    "  print(\"------------------------------------\")"
   ]
  }
 ],
 "metadata": {
  "kernelspec": {
   "display_name": "llamaindex",
   "language": "python",
   "name": "python3"
  },
  "language_info": {
   "codemirror_mode": {
    "name": "ipython",
    "version": 3
   },
   "file_extension": ".py",
   "mimetype": "text/x-python",
   "name": "python",
   "nbconvert_exporter": "python",
   "pygments_lexer": "ipython3",
   "version": "3.11.10"
  }
 },
 "nbformat": 4,
 "nbformat_minor": 2
}
