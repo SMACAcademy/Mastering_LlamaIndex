{
 "cells": [
  {
   "cell_type": "markdown",
   "metadata": {},
   "source": [
    "# Property Graph Index with Local Llama Model and Local File\n",
    "\n",
    "In this notebook, we demonstrate how to create, query, and customize a Property Graph Index using a local Llama model and a local file."
   ]
  },
  {
   "cell_type": "code",
   "execution_count": null,
   "metadata": {},
   "outputs": [],
   "source": [
    "!pip install llama-index\n",
    "!pip install llama-index-embeddings-ollama"
   ]
  },
  {
   "cell_type": "markdown",
   "metadata": {},
   "source": [
    "## Setting Up the Environment"
   ]
  },
  {
   "cell_type": "code",
   "execution_count": null,
   "metadata": {},
   "outputs": [],
   "source": [
    "import os\n",
    "from llama_index.llms.ollama import Ollama\n",
    "from llama_index.embeddings.ollama import OllamaEmbedding\n",
    "\n",
    "# Configure Ollama LLM\n",
    "ollama_llm = Ollama(\n",
    "    model=\"llama3.2:latest\",\n",
    "    base_url=\"http://localhost:11434\",\n",
    "    temperature=0.1\n",
    ")\n",
    "\n",
    "# Configure embedding model\n",
    "ollama_embedding = OllamaEmbedding(\n",
    "    model_name=\"nomic-embed-text:latest\",\n",
    "    base_url=\"http://localhost:11434\",\n",
    "    ollama_additional_kwargs={\"mirostat\": 0}\n",
    ")"
   ]
  },
  {
   "cell_type": "markdown",
   "metadata": {},
   "source": [
    "## Loading Documents"
   ]
  },
  {
   "cell_type": "code",
   "execution_count": null,
   "metadata": {},
   "outputs": [],
   "source": [
    "from llama_index.core import SimpleDirectoryReader\n",
    "\n",
    "documents = SimpleDirectoryReader(input_files=['../data/paul_graham_essay3.txt']).load_data()\n",
    "#documents = SimpleDirectoryReader(input_files=['../data/2022 Q3 AAPL.pdf']).load_data()\n",
    "\n",
    "# Load documents from the local directory\n",
    "print(f\"Number of documents loaded: {len(documents)}\")"
   ]
  },
  {
   "cell_type": "markdown",
   "metadata": {},
   "source": [
    "## Constructing the Property Graph Index"
   ]
  },
  {
   "cell_type": "code",
   "execution_count": null,
   "id": "8b2b0851",
   "metadata": {},
   "outputs": [],
   "source": [
    "import nest_asyncio\n",
    "nest_asyncio.apply()"
   ]
  },
  {
   "cell_type": "code",
   "execution_count": null,
   "metadata": {},
   "outputs": [],
   "source": [
    "from llama_index.core import PropertyGraphIndex\n",
    "\n",
    "# Create Property Graph Index\n",
    "index = PropertyGraphIndex.from_documents(\n",
    "    documents,\n",
    "    llm=ollama_llm,\n",
    "    embed_model=ollama_embedding,\n",
    "    show_progress=True\n",
    ")"
   ]
  },
  {
   "cell_type": "markdown",
   "metadata": {},
   "source": [
    "## Exploring the Property Graph"
   ]
  },
  {
   "cell_type": "code",
   "execution_count": null,
   "id": "e7b11f4a",
   "metadata": {},
   "outputs": [],
   "source": [
    "!pip install pyvis\n"
   ]
  },
  {
   "cell_type": "code",
   "execution_count": null,
   "metadata": {},
   "outputs": [],
   "source": [
    "\n",
    "# Save and visualize the graph\n",
    "index.property_graph_store.save_networkx_graph(name=\"./kg.html\")\n",
    "print(\"Graph saved as ./kg.html. Open it in a browser to explore.\")"
   ]
  },
  {
   "cell_type": "markdown",
   "metadata": {},
   "source": [
    "## Querying the Property Graph"
   ]
  },
  {
   "cell_type": "code",
   "execution_count": null,
   "metadata": {},
   "outputs": [],
   "source": [
    "# Simple Retrieval\n",
    "retriever = index.as_retriever(include_text=False)\n",
    "\n",
    "# Query the graph\n",
    "nodes = retriever.retrieve(\"What happened at Interleaf and Viaweb?\")\n",
    "for node in nodes:\n",
    "    print(node.text)"
   ]
  },
  {
   "cell_type": "code",
   "execution_count": null,
   "metadata": {},
   "outputs": [],
   "source": [
    "# Advanced Querying\n",
    "query_engine = index.as_query_engine(include_text=True, llm=ollama_llm,)\n",
    "\n",
    "response = query_engine.query(\"What happened at Interleaf and Viaweb?\")\n",
    "print(str(response))"
   ]
  },
  {
   "cell_type": "markdown",
   "metadata": {},
   "source": [
    "## Persisting the Property Graph Index"
   ]
  },
  {
   "cell_type": "code",
   "execution_count": null,
   "metadata": {},
   "outputs": [],
   "source": [
    "# Save the graph and embeddings for reuse\n",
    "index.storage_context.persist(persist_dir=\"./property_graph_storage\")"
   ]
  },
  {
   "cell_type": "code",
   "execution_count": null,
   "id": "ed9355f5",
   "metadata": {},
   "outputs": [],
   "source": [
    "# Configure Ollama Embedding\n",
    "ollama_embedding = OllamaEmbedding(\n",
    "    model_name=\"nomic-embed-text:latest\",\n",
    "    base_url=\"http://localhost:11434\",\n",
    "    ollama_additional_kwargs={\"mirostat\": 0}\n",
    ")"
   ]
  },
  {
   "cell_type": "code",
   "execution_count": null,
   "metadata": {},
   "outputs": [],
   "source": [
    "\n",
    "from llama_index.core import StorageContext,ServiceContext, load_index_from_storage\n",
    "from llama_index.core import Settings\n",
    "\n",
    "# Set global settings\n",
    "Settings.llm = ollama_llm\n",
    "Settings.embed_model = ollama_embedding\n",
    "\n",
    "\n",
    "# Create a StorageContext\n",
    "storage_context = StorageContext.from_defaults(\n",
    "    persist_dir=\"./property_graph_storage\"\n",
    ")\n",
    "\n",
    "# Load the index with service_context and storage_context\n",
    "loaded_index = load_index_from_storage(\n",
    "    storage_context=storage_context,\n",
    ")\n",
    "\n",
    "print(\"Index loaded successfully with ServiceContext!\")\n"
   ]
  },
  {
   "cell_type": "code",
   "execution_count": null,
   "id": "d4fcc82c",
   "metadata": {},
   "outputs": [],
   "source": [
    "# Simple Retrieval\n",
    "retriever = loaded_index.as_retriever(include_text=False)\n",
    "\n",
    "# Query the graph\n",
    "nodes = retriever.retrieve(\"What happened at Interleaf and Viaweb?\")\n",
    "for node in nodes:\n",
    "    print(node.text)"
   ]
  }
 ],
 "metadata": {
  "kernelspec": {
   "display_name": "llamaindex",
   "language": "python",
   "name": "python3"
  },
  "language_info": {
   "codemirror_mode": {
    "name": "ipython",
    "version": 3
   },
   "file_extension": ".py",
   "mimetype": "text/x-python",
   "name": "python",
   "nbconvert_exporter": "python",
   "pygments_lexer": "ipython3",
   "version": "3.11.10"
  }
 },
 "nbformat": 4,
 "nbformat_minor": 5
}
